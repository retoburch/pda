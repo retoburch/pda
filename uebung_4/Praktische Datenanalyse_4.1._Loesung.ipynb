{
 "cells": [
  {
   "cell_type": "markdown",
   "id": "057cafae-4669-46fe-a45e-24c26c1750b3",
   "metadata": {},
   "source": [
    "# Übung 4"
   ]
  },
  {
   "cell_type": "code",
   "execution_count": 3,
   "id": "af33f65e-1fdf-40a5-a59f-5c7ba233f454",
   "metadata": {},
   "outputs": [],
   "source": [
    "# Import all packages needed\n",
    "import pandas as pd\n",
    "import numpy as np\n",
    "import scipy\n",
    "import matplotlib.pyplot as plt\n",
    "import matplotlib\n",
    "import seaborn as sns\n",
    "from scipy import stats\n",
    "from sklearn import preprocessing"
   ]
  },
  {
   "cell_type": "markdown",
   "id": "658f13b4-d5a9-4e7d-9991-36f5961a955c",
   "metadata": {},
   "source": [
    "![purple-divider](https://user-images.githubusercontent.com/7065401/52071927-c1cd7100-2562-11e9-908a-dde91ba14e59.png)"
   ]
  },
  {
   "cell_type": "markdown",
   "id": "d50d5414-c4c1-476c-bf1d-119eecc50c29",
   "metadata": {},
   "source": [
    "## 1. Categorical Encoding"
   ]
  },
  {
   "cell_type": "markdown",
   "id": "98d1935d-ddde-4ab2-a93f-23c5614af190",
   "metadata": {},
   "source": [
    "Für die erste Aufgabe verwenden wir ein Datenset des [UCI Machine Learning Repositories](https://archive.ics.uci.edu/ml/machine-learning-databases/autos/imports-85.data), welches sich um [Daten von Automobilen](https://archive.ics.uci.edu/ml/datasets/automobile) handelt.\n",
    "\n",
    "Dieses Datenset hat sowohl kategorische als auch nummerische Variablen. Die Aufbereitung und erste Sichtung der Daten ist im folgenden Code-Absatz bereits vorgenommen worden."
   ]
  },
  {
   "cell_type": "code",
   "execution_count": 4,
   "id": "b05deacb-e371-4567-bffc-514b7f2f5cd4",
   "metadata": {},
   "outputs": [
    {
     "data": {
      "text/html": [
       "<div>\n",
       "<style scoped>\n",
       "    .dataframe tbody tr th:only-of-type {\n",
       "        vertical-align: middle;\n",
       "    }\n",
       "\n",
       "    .dataframe tbody tr th {\n",
       "        vertical-align: top;\n",
       "    }\n",
       "\n",
       "    .dataframe thead th {\n",
       "        text-align: right;\n",
       "    }\n",
       "</style>\n",
       "<table border=\"1\" class=\"dataframe\">\n",
       "  <thead>\n",
       "    <tr style=\"text-align: right;\">\n",
       "      <th></th>\n",
       "      <th>symboling</th>\n",
       "      <th>normalized_losses</th>\n",
       "      <th>make</th>\n",
       "      <th>fuel_type</th>\n",
       "      <th>aspiration</th>\n",
       "      <th>num_doors</th>\n",
       "      <th>body_style</th>\n",
       "      <th>drive_wheels</th>\n",
       "      <th>engine_location</th>\n",
       "      <th>wheel_base</th>\n",
       "      <th>...</th>\n",
       "      <th>engine_size</th>\n",
       "      <th>fuel_system</th>\n",
       "      <th>bore</th>\n",
       "      <th>stroke</th>\n",
       "      <th>compression_ratio</th>\n",
       "      <th>horsepower</th>\n",
       "      <th>peak_rpm</th>\n",
       "      <th>city_mpg</th>\n",
       "      <th>highway_mpg</th>\n",
       "      <th>price</th>\n",
       "    </tr>\n",
       "  </thead>\n",
       "  <tbody>\n",
       "    <tr>\n",
       "      <th>0</th>\n",
       "      <td>3</td>\n",
       "      <td>NaN</td>\n",
       "      <td>alfa-romero</td>\n",
       "      <td>gas</td>\n",
       "      <td>std</td>\n",
       "      <td>two</td>\n",
       "      <td>convertible</td>\n",
       "      <td>rwd</td>\n",
       "      <td>front</td>\n",
       "      <td>88.6</td>\n",
       "      <td>...</td>\n",
       "      <td>130</td>\n",
       "      <td>mpfi</td>\n",
       "      <td>3.47</td>\n",
       "      <td>2.68</td>\n",
       "      <td>9.0</td>\n",
       "      <td>111.0</td>\n",
       "      <td>5000.0</td>\n",
       "      <td>21</td>\n",
       "      <td>27</td>\n",
       "      <td>13495.0</td>\n",
       "    </tr>\n",
       "    <tr>\n",
       "      <th>1</th>\n",
       "      <td>3</td>\n",
       "      <td>NaN</td>\n",
       "      <td>alfa-romero</td>\n",
       "      <td>gas</td>\n",
       "      <td>std</td>\n",
       "      <td>two</td>\n",
       "      <td>convertible</td>\n",
       "      <td>rwd</td>\n",
       "      <td>front</td>\n",
       "      <td>88.6</td>\n",
       "      <td>...</td>\n",
       "      <td>130</td>\n",
       "      <td>mpfi</td>\n",
       "      <td>3.47</td>\n",
       "      <td>2.68</td>\n",
       "      <td>9.0</td>\n",
       "      <td>111.0</td>\n",
       "      <td>5000.0</td>\n",
       "      <td>21</td>\n",
       "      <td>27</td>\n",
       "      <td>16500.0</td>\n",
       "    </tr>\n",
       "    <tr>\n",
       "      <th>2</th>\n",
       "      <td>1</td>\n",
       "      <td>NaN</td>\n",
       "      <td>alfa-romero</td>\n",
       "      <td>gas</td>\n",
       "      <td>std</td>\n",
       "      <td>two</td>\n",
       "      <td>hatchback</td>\n",
       "      <td>rwd</td>\n",
       "      <td>front</td>\n",
       "      <td>94.5</td>\n",
       "      <td>...</td>\n",
       "      <td>152</td>\n",
       "      <td>mpfi</td>\n",
       "      <td>2.68</td>\n",
       "      <td>3.47</td>\n",
       "      <td>9.0</td>\n",
       "      <td>154.0</td>\n",
       "      <td>5000.0</td>\n",
       "      <td>19</td>\n",
       "      <td>26</td>\n",
       "      <td>16500.0</td>\n",
       "    </tr>\n",
       "    <tr>\n",
       "      <th>3</th>\n",
       "      <td>2</td>\n",
       "      <td>164.0</td>\n",
       "      <td>audi</td>\n",
       "      <td>gas</td>\n",
       "      <td>std</td>\n",
       "      <td>four</td>\n",
       "      <td>sedan</td>\n",
       "      <td>fwd</td>\n",
       "      <td>front</td>\n",
       "      <td>99.8</td>\n",
       "      <td>...</td>\n",
       "      <td>109</td>\n",
       "      <td>mpfi</td>\n",
       "      <td>3.19</td>\n",
       "      <td>3.40</td>\n",
       "      <td>10.0</td>\n",
       "      <td>102.0</td>\n",
       "      <td>5500.0</td>\n",
       "      <td>24</td>\n",
       "      <td>30</td>\n",
       "      <td>13950.0</td>\n",
       "    </tr>\n",
       "    <tr>\n",
       "      <th>4</th>\n",
       "      <td>2</td>\n",
       "      <td>164.0</td>\n",
       "      <td>audi</td>\n",
       "      <td>gas</td>\n",
       "      <td>std</td>\n",
       "      <td>four</td>\n",
       "      <td>sedan</td>\n",
       "      <td>4wd</td>\n",
       "      <td>front</td>\n",
       "      <td>99.4</td>\n",
       "      <td>...</td>\n",
       "      <td>136</td>\n",
       "      <td>mpfi</td>\n",
       "      <td>3.19</td>\n",
       "      <td>3.40</td>\n",
       "      <td>8.0</td>\n",
       "      <td>115.0</td>\n",
       "      <td>5500.0</td>\n",
       "      <td>18</td>\n",
       "      <td>22</td>\n",
       "      <td>17450.0</td>\n",
       "    </tr>\n",
       "  </tbody>\n",
       "</table>\n",
       "<p>5 rows × 26 columns</p>\n",
       "</div>"
      ],
      "text/plain": [
       "   symboling  normalized_losses         make fuel_type aspiration num_doors  \\\n",
       "0          3                NaN  alfa-romero       gas        std       two   \n",
       "1          3                NaN  alfa-romero       gas        std       two   \n",
       "2          1                NaN  alfa-romero       gas        std       two   \n",
       "3          2              164.0         audi       gas        std      four   \n",
       "4          2              164.0         audi       gas        std      four   \n",
       "\n",
       "    body_style drive_wheels engine_location  wheel_base  ...  engine_size  \\\n",
       "0  convertible          rwd           front        88.6  ...          130   \n",
       "1  convertible          rwd           front        88.6  ...          130   \n",
       "2    hatchback          rwd           front        94.5  ...          152   \n",
       "3        sedan          fwd           front        99.8  ...          109   \n",
       "4        sedan          4wd           front        99.4  ...          136   \n",
       "\n",
       "   fuel_system  bore  stroke compression_ratio horsepower  peak_rpm city_mpg  \\\n",
       "0         mpfi  3.47    2.68               9.0      111.0    5000.0       21   \n",
       "1         mpfi  3.47    2.68               9.0      111.0    5000.0       21   \n",
       "2         mpfi  2.68    3.47               9.0      154.0    5000.0       19   \n",
       "3         mpfi  3.19    3.40              10.0      102.0    5500.0       24   \n",
       "4         mpfi  3.19    3.40               8.0      115.0    5500.0       18   \n",
       "\n",
       "   highway_mpg    price  \n",
       "0           27  13495.0  \n",
       "1           27  16500.0  \n",
       "2           26  16500.0  \n",
       "3           30  13950.0  \n",
       "4           22  17450.0  \n",
       "\n",
       "[5 rows x 26 columns]"
      ]
     },
     "execution_count": 4,
     "metadata": {},
     "output_type": "execute_result"
    }
   ],
   "source": [
    "# Definiere die Spaltennamen als Liste\n",
    "headers = [\"symboling\", \"normalized_losses\", \"make\", \"fuel_type\", \"aspiration\",\n",
    "           \"num_doors\", \"body_style\", \"drive_wheels\", \"engine_location\",\n",
    "           \"wheel_base\", \"length\", \"width\", \"height\", \"curb_weight\",\n",
    "           \"engine_type\", \"num_cylinders\", \"engine_size\", \"fuel_system\",\n",
    "           \"bore\", \"stroke\", \"compression_ratio\", \"horsepower\", \"peak_rpm\",\n",
    "           \"city_mpg\", \"highway_mpg\", \"price\"]\n",
    "\n",
    "# Lese die CSV-Datei ein konvertiere die \"?\" als NaN-Werte\n",
    "auto_df = pd.read_csv(\"./src/imports-85.data\", header = None,\n",
    "                      names = headers, na_values=\"?\")\n",
    "\n",
    "# Erstsichtung der Daten\n",
    "auto_df.head()"
   ]
  },
  {
   "cell_type": "code",
   "execution_count": 5,
   "id": "8c714f80-05a3-41a9-9dee-7e3516d53a71",
   "metadata": {},
   "outputs": [
    {
     "data": {
      "text/plain": [
       "symboling              int64\n",
       "normalized_losses    float64\n",
       "make                  object\n",
       "fuel_type             object\n",
       "aspiration            object\n",
       "num_doors             object\n",
       "body_style            object\n",
       "drive_wheels          object\n",
       "engine_location       object\n",
       "wheel_base           float64\n",
       "length               float64\n",
       "width                float64\n",
       "height               float64\n",
       "curb_weight            int64\n",
       "engine_type           object\n",
       "num_cylinders         object\n",
       "engine_size            int64\n",
       "fuel_system           object\n",
       "bore                 float64\n",
       "stroke               float64\n",
       "compression_ratio    float64\n",
       "horsepower           float64\n",
       "peak_rpm             float64\n",
       "city_mpg               int64\n",
       "highway_mpg            int64\n",
       "price                float64\n",
       "dtype: object"
      ]
     },
     "execution_count": 5,
     "metadata": {},
     "output_type": "execute_result"
    }
   ],
   "source": [
    "# Sichtung der Datentypen\n",
    "auto_df.dtypes"
   ]
  },
  {
   "cell_type": "markdown",
   "id": "4888da08-e180-4540-912f-42c01c7e7d0e",
   "metadata": {},
   "source": [
    "In dieser Aufgabe werden wir uns maßgeblich mit den kategorischen Variablen beschäftigen, also den Spalten, die `object` als Datentyp im Datensatz ausweisen."
   ]
  },
  {
   "cell_type": "markdown",
   "id": "fa97d945-7773-4ec4-9881-bf3c892899af",
   "metadata": {},
   "source": [
    "---"
   ]
  },
  {
   "cell_type": "markdown",
   "id": "49b862a4-b13f-4d67-9509-770b84580f35",
   "metadata": {},
   "source": [
    "**Aufgabe 1**: Erstelle eine Kopie des Datensatzes, welches nur die Spalten mit kategorischen Werten beinhaltet und nenne dieses `cat_df`."
   ]
  },
  {
   "cell_type": "code",
   "execution_count": 6,
   "id": "6f31aeff-979f-494a-9f83-e3102541aed9",
   "metadata": {},
   "outputs": [],
   "source": [
    "### CODE HERE ###\n",
    "cat_df = auto_df.select_dtypes(include=[object]).copy()"
   ]
  },
  {
   "cell_type": "code",
   "execution_count": 7,
   "id": "ee4bab3d-bf31-4bba-bfd3-e94b56e73b7a",
   "metadata": {},
   "outputs": [
    {
     "name": "stdout",
     "output_type": "stream",
     "text": [
      "Test successful\n"
     ]
    }
   ],
   "source": [
    "### TEST HERE ###\n",
    "check = any(item in list(auto_df.select_dtypes(include=['int', 'float']).columns) for item in list(cat_df.columns))\n",
    "\n",
    "if cat_df.shape[0] == auto_df.shape[0] and cat_df.shape[1] == 10 and not check:\n",
    "    print(\"Test successful\")"
   ]
  },
  {
   "cell_type": "markdown",
   "id": "873e2373-504a-437b-9f08-324a1a821924",
   "metadata": {},
   "source": [
    "Bevor wir den Encodierung starten, müssen wir uns vorab noch mit den fehlenden Werten auseinandersetzen."
   ]
  },
  {
   "cell_type": "markdown",
   "id": "34d52ed1-e76a-4fa3-a487-7c2fb3b4feb0",
   "metadata": {},
   "source": [
    "---"
   ]
  },
  {
   "cell_type": "markdown",
   "id": "12bf2568-4ce5-4a7f-a979-9387efc1b78c",
   "metadata": {},
   "source": [
    "**Aufgabe 2:** Weise die Zeilen des Datensatzes aus, die mindestens einen fehlenden Wert vorweisen."
   ]
  },
  {
   "cell_type": "code",
   "execution_count": 8,
   "id": "76ce41f3-d018-4edb-9a23-a90d631242ce",
   "metadata": {},
   "outputs": [
    {
     "data": {
      "text/html": [
       "<div>\n",
       "<style scoped>\n",
       "    .dataframe tbody tr th:only-of-type {\n",
       "        vertical-align: middle;\n",
       "    }\n",
       "\n",
       "    .dataframe tbody tr th {\n",
       "        vertical-align: top;\n",
       "    }\n",
       "\n",
       "    .dataframe thead th {\n",
       "        text-align: right;\n",
       "    }\n",
       "</style>\n",
       "<table border=\"1\" class=\"dataframe\">\n",
       "  <thead>\n",
       "    <tr style=\"text-align: right;\">\n",
       "      <th></th>\n",
       "      <th>make</th>\n",
       "      <th>fuel_type</th>\n",
       "      <th>aspiration</th>\n",
       "      <th>num_doors</th>\n",
       "      <th>body_style</th>\n",
       "      <th>drive_wheels</th>\n",
       "      <th>engine_location</th>\n",
       "      <th>engine_type</th>\n",
       "      <th>num_cylinders</th>\n",
       "      <th>fuel_system</th>\n",
       "    </tr>\n",
       "  </thead>\n",
       "  <tbody>\n",
       "    <tr>\n",
       "      <th>27</th>\n",
       "      <td>dodge</td>\n",
       "      <td>gas</td>\n",
       "      <td>turbo</td>\n",
       "      <td>NaN</td>\n",
       "      <td>sedan</td>\n",
       "      <td>fwd</td>\n",
       "      <td>front</td>\n",
       "      <td>ohc</td>\n",
       "      <td>four</td>\n",
       "      <td>mpfi</td>\n",
       "    </tr>\n",
       "    <tr>\n",
       "      <th>63</th>\n",
       "      <td>mazda</td>\n",
       "      <td>diesel</td>\n",
       "      <td>std</td>\n",
       "      <td>NaN</td>\n",
       "      <td>sedan</td>\n",
       "      <td>fwd</td>\n",
       "      <td>front</td>\n",
       "      <td>ohc</td>\n",
       "      <td>four</td>\n",
       "      <td>idi</td>\n",
       "    </tr>\n",
       "  </tbody>\n",
       "</table>\n",
       "</div>"
      ],
      "text/plain": [
       "     make fuel_type aspiration num_doors body_style drive_wheels  \\\n",
       "27  dodge       gas      turbo       NaN      sedan          fwd   \n",
       "63  mazda    diesel        std       NaN      sedan          fwd   \n",
       "\n",
       "   engine_location engine_type num_cylinders fuel_system  \n",
       "27           front         ohc          four        mpfi  \n",
       "63           front         ohc          four         idi  "
      ]
     },
     "execution_count": 8,
     "metadata": {},
     "output_type": "execute_result"
    }
   ],
   "source": [
    "### CODE HERE ###\n",
    "cat_df[cat_df.isnull().any(axis=1)]"
   ]
  },
  {
   "cell_type": "markdown",
   "id": "38f626d5-e5ac-481c-a635-f2bc8b15176f",
   "metadata": {},
   "source": [
    "---"
   ]
  },
  {
   "cell_type": "markdown",
   "id": "e18b91ee-7611-471b-9e40-93915421dd9f",
   "metadata": {},
   "source": [
    "**Aufgabe 3:** Für die fehlenden Werte der Spalte `num_doors`, finde den Wert der am häufigsten vorkommt und ersetze die fehlenden Werte mit diesen."
   ]
  },
  {
   "cell_type": "code",
   "execution_count": 9,
   "id": "a94cf93b-9ec6-4866-9026-7679a2c919eb",
   "metadata": {},
   "outputs": [],
   "source": [
    "### CODE HERE ###\n",
    "high_count = cat_df['num_doors'].value_counts().index[0]\n",
    "cat_df['num_doors'].replace(np.nan, high_count, inplace=True)"
   ]
  },
  {
   "cell_type": "code",
   "execution_count": 10,
   "id": "d022cd3e-dcb8-4a13-84ff-677a279abc96",
   "metadata": {},
   "outputs": [
    {
     "name": "stdout",
     "output_type": "stream",
     "text": [
      "Test successful\n"
     ]
    }
   ],
   "source": [
    "###  TEST HERE ###\n",
    "if cat_df[cat_df.isnull().any(axis=1)].shape[0] == 0 and cat_df.loc[[27, 63], :]['num_doors'].unique()[0] == 'four':\n",
    "    print(\"Test successful\")"
   ]
  },
  {
   "cell_type": "markdown",
   "id": "33ae0a58-ce01-4b78-881b-4a0f19d8da1e",
   "metadata": {},
   "source": [
    "Nach dem Abschluss der Bereinigung, widmen wir uns im nächsten Schritt der Encodierung des Datensets. Hierfür würden wir die Werte, als ausgeschriebene Zahlen im Datenset sind, in Integer überführen. In diesem Beispiel sind es `[num_doors, num_cylinders]`."
   ]
  },
  {
   "cell_type": "markdown",
   "id": "39169966-591c-45ab-9a44-838a29fa4cc9",
   "metadata": {},
   "source": [
    "---"
   ]
  },
  {
   "cell_type": "markdown",
   "id": "c7eaf9a2-a335-4457-8fb0-7a50534b84de",
   "metadata": {},
   "source": [
    "**Aufgabe 4:** Ersetze die Werte der Spalten `[num_doors, num_cylinders]` durch Integer. Finde im ersten Schritt die jeweiligen Werte heraus und ersetze diese anschließend."
   ]
  },
  {
   "cell_type": "code",
   "execution_count": 11,
   "id": "5dcd856f-3dad-4363-ae8e-37943c1ac430",
   "metadata": {},
   "outputs": [
    {
     "name": "stdout",
     "output_type": "stream",
     "text": [
      "num_doors:\n",
      "four    116\n",
      "two      89\n",
      "Name: num_doors, dtype: int64\n",
      "--------\n",
      "num_doors:\n",
      "four      159\n",
      "six        24\n",
      "five       11\n",
      "eight       5\n",
      "two         4\n",
      "three       1\n",
      "twelve      1\n",
      "Name: num_cylinders, dtype: int64\n"
     ]
    }
   ],
   "source": [
    "### CODE HERE ###\n",
    "print('num_doors:')\n",
    "print(cat_df['num_doors'].value_counts())\n",
    "print('--------')\n",
    "print('num_doors:')\n",
    "print(cat_df['num_cylinders'].value_counts())"
   ]
  },
  {
   "cell_type": "code",
   "execution_count": 12,
   "id": "9dbab0f8-1144-4863-85d1-fa50c9ae48d3",
   "metadata": {},
   "outputs": [],
   "source": [
    "### CODE HERE ###\n",
    "map_num_dic = {'one' : 1, 'two' : 2, 'three' : 3, 'four' : 4, 'five': 5, 'six' : 6, 'seven' : 7, 'eight' : 8,\n",
    "                 'nine' : 9, 'ten' : 10, 'eleven': 11, 'twelve': 12}\n",
    "\n",
    "cat_df['num_doors'] = cat_df['num_doors'].map(map_num_dic)\n",
    "cat_df['num_cylinders'] = cat_df['num_cylinders'].map(map_num_dic)"
   ]
  },
  {
   "cell_type": "code",
   "execution_count": 13,
   "id": "8a06dcb9-692e-4d04-90e1-d129e82f2a98",
   "metadata": {},
   "outputs": [
    {
     "name": "stdout",
     "output_type": "stream",
     "text": [
      "Test successful\n"
     ]
    },
    {
     "data": {
      "text/plain": [
       "make               object\n",
       "fuel_type          object\n",
       "aspiration         object\n",
       "num_doors           int64\n",
       "body_style         object\n",
       "drive_wheels       object\n",
       "engine_location    object\n",
       "engine_type        object\n",
       "num_cylinders       int64\n",
       "fuel_system        object\n",
       "dtype: object"
      ]
     },
     "execution_count": 13,
     "metadata": {},
     "output_type": "execute_result"
    }
   ],
   "source": [
    "### TEST HERE ####\n",
    "num_1 = [116, 89]\n",
    "num_2 = [159, 24, 11, 5, 4, 1, 1]\n",
    " \n",
    "if num_1 == list(cat_df['num_doors'].value_counts()) and num_2 == list(cat_df['num_cylinders'].value_counts()):\n",
    "    if all(list(cat_df.select_dtypes(include=[int]).columns) for item in ['num_doors', 'num_cylinders']):\n",
    "        print(\"Test successful\")\n",
    "    \n",
    "cat_df.dtypes"
   ]
  },
  {
   "cell_type": "markdown",
   "id": "17ffd54b-13f9-4e75-8582-46f544194bf9",
   "metadata": {},
   "source": [
    "Nachdem wir die ersten Werte überführt haben, würde wir gerne auch ein `Label Encoding` auf eine Spalte anwenden, die nicht per se nummerische Werte beinhaltet."
   ]
  },
  {
   "cell_type": "markdown",
   "id": "180b4ffb-0f83-48bb-a7e4-897d81af5587",
   "metadata": {},
   "source": [
    "---"
   ]
  },
  {
   "cell_type": "markdown",
   "id": "f1e1b502-e318-40f2-907f-599b8b11b157",
   "metadata": {},
   "source": [
    "**Aufgabe 5**: Transformiere die folgenden Werte in `body_style` wie folgt:\n",
    "- convertible = 0\n",
    "- hardtop = 1\n",
    "- hatchback = 2\n",
    "- sedan = 3\n",
    "- wagon = 4"
   ]
  },
  {
   "cell_type": "code",
   "execution_count": 14,
   "id": "0cafacbc-0007-4b44-b4ba-edbb79cf95eb",
   "metadata": {},
   "outputs": [],
   "source": [
    "### CODE HERE ###\n",
    "le = preprocessing.LabelEncoder()\n",
    "le.fit(['convertible', 'hardtop', 'hatchback', 'sedan', 'wagon'])\n",
    "cat_df[\"body_style\"] = le.transform(cat_df[\"body_style\"])"
   ]
  },
  {
   "cell_type": "code",
   "execution_count": 15,
   "id": "2d8e4e48-eff5-4ce3-88a9-01c35c39a589",
   "metadata": {},
   "outputs": [
    {
     "name": "stdout",
     "output_type": "stream",
     "text": [
      "Test successful\n"
     ]
    },
    {
     "data": {
      "text/plain": [
       "3    96\n",
       "2    70\n",
       "4    25\n",
       "1     8\n",
       "0     6\n",
       "Name: body_style, dtype: int64"
      ]
     },
     "execution_count": 15,
     "metadata": {},
     "output_type": "execute_result"
    }
   ],
   "source": [
    "## TEST HERE ####\n",
    "style_list = ['convertible', 'hardtop', 'hatchback', 'sedan', 'wagon']\n",
    "if cat_df[\"body_style\"].sum() == 536 and all(list(le.classes_) for item in style_list):\n",
    "    print(\"Test successful\")\n",
    "    \n",
    "cat_df['body_style'].value_counts()"
   ]
  },
  {
   "cell_type": "markdown",
   "id": "1e91d3b8-c16f-4c59-ba4d-7abee0a26455",
   "metadata": {},
   "source": [
    "Nach der erfolgreichen Transformation durch Nutzung des `Label Encoders`, merken wir, dass die Transformation eine implizte Rangfolge vorgibt und dies für unsere Ziele der Datenanalyse nicht hilfreich ist. Deswegen würden wir gerne für die Spalte `drive_wheels` die Methode `One-Hot-Encoding` verwenden."
   ]
  },
  {
   "cell_type": "markdown",
   "id": "eb46ab73-b360-4f3f-b410-9c21dc0cd336",
   "metadata": {},
   "source": [
    "---"
   ]
  },
  {
   "cell_type": "markdown",
   "id": "95c3cb3c-145c-4cc0-928b-e779241dc058",
   "metadata": {},
   "source": [
    "**Aufgabe 6:** Transformiere die Elemente der Spalte `drive_wheels` in separate Spalten mit den Werten 0 und 1 durch Nutzung des `One-Hot-Encodings`. Nehme zum Ende die bisherige `drive_wheels` Sparte aus dem Dataset. Die neuen Spalten sollten in der Benamung den Prefix `drive_wheels_`enthalten. \n",
    "\n",
    "**Tipp:** Wenn `n` die Anzahl der Elemente der Spalte `drive_wheels` ist, sollte die Encodierung sollte in `N-1`Merkmale enthalten. Bitte schreibe auch eine kurze Begründung, warum das sinnvoll ist."
   ]
  },
  {
   "cell_type": "markdown",
   "id": "70427351-c013-42c2-bade-5b54cdbb566e",
   "metadata": {},
   "source": [
    "`### BEGRÜNDUNG HERE ###`"
   ]
  },
  {
   "cell_type": "code",
   "execution_count": 16,
   "id": "ee70e1b7-f6c7-4973-b79c-2b047a2df914",
   "metadata": {},
   "outputs": [],
   "source": [
    "### CODE HERE ###\n",
    "cat_df = pd.get_dummies(data = cat_df, prefix='drive_wheels', columns=['drive_wheels'], drop_first = True)"
   ]
  },
  {
   "cell_type": "code",
   "execution_count": 17,
   "id": "54c7aad0-8998-41af-86ce-48400959e073",
   "metadata": {},
   "outputs": [
    {
     "name": "stdout",
     "output_type": "stream",
     "text": [
      "Test successful\n"
     ]
    },
    {
     "data": {
      "text/html": [
       "<div>\n",
       "<style scoped>\n",
       "    .dataframe tbody tr th:only-of-type {\n",
       "        vertical-align: middle;\n",
       "    }\n",
       "\n",
       "    .dataframe tbody tr th {\n",
       "        vertical-align: top;\n",
       "    }\n",
       "\n",
       "    .dataframe thead th {\n",
       "        text-align: right;\n",
       "    }\n",
       "</style>\n",
       "<table border=\"1\" class=\"dataframe\">\n",
       "  <thead>\n",
       "    <tr style=\"text-align: right;\">\n",
       "      <th></th>\n",
       "      <th>make</th>\n",
       "      <th>fuel_type</th>\n",
       "      <th>aspiration</th>\n",
       "      <th>num_doors</th>\n",
       "      <th>body_style</th>\n",
       "      <th>engine_location</th>\n",
       "      <th>engine_type</th>\n",
       "      <th>num_cylinders</th>\n",
       "      <th>fuel_system</th>\n",
       "      <th>drive_wheels_fwd</th>\n",
       "      <th>drive_wheels_rwd</th>\n",
       "    </tr>\n",
       "  </thead>\n",
       "  <tbody>\n",
       "    <tr>\n",
       "      <th>0</th>\n",
       "      <td>alfa-romero</td>\n",
       "      <td>gas</td>\n",
       "      <td>std</td>\n",
       "      <td>2</td>\n",
       "      <td>0</td>\n",
       "      <td>front</td>\n",
       "      <td>dohc</td>\n",
       "      <td>4</td>\n",
       "      <td>mpfi</td>\n",
       "      <td>0</td>\n",
       "      <td>1</td>\n",
       "    </tr>\n",
       "    <tr>\n",
       "      <th>1</th>\n",
       "      <td>alfa-romero</td>\n",
       "      <td>gas</td>\n",
       "      <td>std</td>\n",
       "      <td>2</td>\n",
       "      <td>0</td>\n",
       "      <td>front</td>\n",
       "      <td>dohc</td>\n",
       "      <td>4</td>\n",
       "      <td>mpfi</td>\n",
       "      <td>0</td>\n",
       "      <td>1</td>\n",
       "    </tr>\n",
       "    <tr>\n",
       "      <th>2</th>\n",
       "      <td>alfa-romero</td>\n",
       "      <td>gas</td>\n",
       "      <td>std</td>\n",
       "      <td>2</td>\n",
       "      <td>2</td>\n",
       "      <td>front</td>\n",
       "      <td>ohcv</td>\n",
       "      <td>6</td>\n",
       "      <td>mpfi</td>\n",
       "      <td>0</td>\n",
       "      <td>1</td>\n",
       "    </tr>\n",
       "    <tr>\n",
       "      <th>3</th>\n",
       "      <td>audi</td>\n",
       "      <td>gas</td>\n",
       "      <td>std</td>\n",
       "      <td>4</td>\n",
       "      <td>3</td>\n",
       "      <td>front</td>\n",
       "      <td>ohc</td>\n",
       "      <td>4</td>\n",
       "      <td>mpfi</td>\n",
       "      <td>1</td>\n",
       "      <td>0</td>\n",
       "    </tr>\n",
       "    <tr>\n",
       "      <th>4</th>\n",
       "      <td>audi</td>\n",
       "      <td>gas</td>\n",
       "      <td>std</td>\n",
       "      <td>4</td>\n",
       "      <td>3</td>\n",
       "      <td>front</td>\n",
       "      <td>ohc</td>\n",
       "      <td>5</td>\n",
       "      <td>mpfi</td>\n",
       "      <td>0</td>\n",
       "      <td>0</td>\n",
       "    </tr>\n",
       "  </tbody>\n",
       "</table>\n",
       "</div>"
      ],
      "text/plain": [
       "          make fuel_type aspiration  num_doors  body_style engine_location  \\\n",
       "0  alfa-romero       gas        std          2           0           front   \n",
       "1  alfa-romero       gas        std          2           0           front   \n",
       "2  alfa-romero       gas        std          2           2           front   \n",
       "3         audi       gas        std          4           3           front   \n",
       "4         audi       gas        std          4           3           front   \n",
       "\n",
       "  engine_type  num_cylinders fuel_system  drive_wheels_fwd  drive_wheels_rwd  \n",
       "0        dohc              4        mpfi                 0                 1  \n",
       "1        dohc              4        mpfi                 0                 1  \n",
       "2        ohcv              6        mpfi                 0                 1  \n",
       "3         ohc              4        mpfi                 1                 0  \n",
       "4         ohc              5        mpfi                 0                 0  "
      ]
     },
     "execution_count": 17,
     "metadata": {},
     "output_type": "execute_result"
    }
   ],
   "source": [
    "### TEST HERE ###\n",
    "if cat_df['drive_wheels_fwd'].sum() + cat_df['drive_wheels_rwd'].sum() == 196 \\\n",
    "    and cat_df.shape[0] * cat_df.shape[1] == 2255:\n",
    "    print(\"Test successful\")\n",
    "    \n",
    "cat_df.head(5)"
   ]
  },
  {
   "cell_type": "markdown",
   "id": "8894164f-c731-42e0-ad93-459f6d0d7e88",
   "metadata": {},
   "source": [
    "Im nächsten Schritt würden wir gerne die Spalte `engine_type` transformieren. Lasst uns zuerst einem Blick auf die Verteilung werden."
   ]
  },
  {
   "cell_type": "code",
   "execution_count": 18,
   "id": "a2bbd664-f7b1-4c53-aa9d-3b03027378e9",
   "metadata": {},
   "outputs": [
    {
     "data": {
      "text/plain": [
       "ohc      148\n",
       "ohcf      15\n",
       "ohcv      13\n",
       "dohc      12\n",
       "l         12\n",
       "rotor      4\n",
       "dohcv      1\n",
       "Name: engine_type, dtype: int64"
      ]
     },
     "execution_count": 18,
     "metadata": {},
     "output_type": "execute_result"
    }
   ],
   "source": [
    "cat_df['engine_type'].value_counts()"
   ]
  },
  {
   "cell_type": "markdown",
   "id": "48d1fd2f-4fac-44d9-88e8-3ab4f928e670",
   "metadata": {},
   "source": [
    "`ohc` als Kategorie der `engine_type` Spalte scheint in unterschiedlichen Ausprägungen vorzukommen. Dies würden wir gerne vereinheitlichen und anschließend alleinig die Unterscheidung machen, ob ein Motor `ohc`ist oder nicht."
   ]
  },
  {
   "cell_type": "markdown",
   "id": "f94a3ea2-95b2-4daf-be7d-7055ccda2731",
   "metadata": {},
   "source": [
    "---"
   ]
  },
  {
   "cell_type": "markdown",
   "id": "2258fb3a-902b-437d-a01e-f0176cd2ed81",
   "metadata": {},
   "source": [
    "**Aufgabe 7**: Gruppiere alle `ohc` Typen und führe anschließend eine Transformation in nummerische Werte durch, sodass alle `ohc` Werte in `1` überführt werden und alle **nicht** `ohc` Werte in 0. Benenne die neue Spalte `ohc_code` und entferne anschließend die bisherige `engine_type` Spalte."
   ]
  },
  {
   "cell_type": "code",
   "execution_count": 19,
   "id": "2904ce08-4575-489f-855a-026a98f70a13",
   "metadata": {},
   "outputs": [],
   "source": [
    "### CODE HERE ###\n",
    "cat_df['ohc_code'] = np.where(cat_df['engine_type'].str.contains(\"ohc\"), 1, 0)"
   ]
  },
  {
   "cell_type": "code",
   "execution_count": 20,
   "id": "fbea5bee-8e03-42af-b0c8-dfd067138037",
   "metadata": {},
   "outputs": [
    {
     "name": "stdout",
     "output_type": "stream",
     "text": [
      "Test successful\n"
     ]
    },
    {
     "data": {
      "text/plain": [
       "177    1\n",
       "36     1\n",
       "124    1\n",
       "202    1\n",
       "134    1\n",
       "87     1\n",
       "7      1\n",
       "168    1\n",
       "83     1\n",
       "44     1\n",
       "Name: ohc_code, dtype: int64"
      ]
     },
     "execution_count": 20,
     "metadata": {},
     "output_type": "execute_result"
    }
   ],
   "source": [
    "### TEST HERE ###\n",
    "if cat_df['ohc_code'].sum() == 189 and cat_df.loc[1:20 ,:]['ohc_code'].sum() == 19:\n",
    "    print(\"Test successful\")\n",
    "    \n",
    "cat_df.sample(10)['ohc_code']"
   ]
  },
  {
   "cell_type": "markdown",
   "id": "bd35a90d-7b6b-4908-a872-7d3573711721",
   "metadata": {},
   "source": [
    "![purple-divider](https://user-images.githubusercontent.com/7065401/52071927-c1cd7100-2562-11e9-908a-dde91ba14e59.png)"
   ]
  },
  {
   "cell_type": "markdown",
   "id": "64647910-9fb0-4a4f-a3af-d4067ba247a5",
   "metadata": {},
   "source": [
    "## 2. Logarithmic, Square-Root und Box-Cox Transformationen"
   ]
  },
  {
   "cell_type": "markdown",
   "id": "54e60d2c-7083-4d1f-a209-5c595b637c5b",
   "metadata": {},
   "source": [
    "Zur Behandlung von rechtsschiefen Verteilungen können wir Methoden wie Logarithmic Transformation verwenden. Diese Methoden helfen uns dabei, die Verteilung in eine Form zu bringen, die sich eher einer Normalverteilung annähert. Dies ist zum Beispiel wichtig für die Verwendung des ML-Algorithmus `Linear Regression`."
   ]
  },
  {
   "cell_type": "markdown",
   "id": "85276ea8-f4c6-47c8-9b5d-b4c8f4d66753",
   "metadata": {},
   "source": [
    "Für die folgenden Aufgaben verwenden wir den [Boston Housing Datensatz](https://www.kaggle.com/c/boston-housing), der 506 Häuserverkäufe darlegt mit wichtigen Informationen über das Haus und deren Umgebung.\n",
    "\n",
    "- `crim`: Pro-Kopf-Verbrechensrate nach Stadt.\n",
    "- `zn`: Anteil der Wohnbauflächen, die für Grundstücke über 25.000 m² ausgewiesen sind\n",
    "- `indus`: Anteil der nicht für den Einzelhandel bestimmten Gewerbeflächen pro Stadt\n",
    "- `chas`: Charles River Dummy-Variable (= 1, wenn das Gebiet an den Fluss grenzt; sonst 0)\n",
    "- `nox`: Konzentration von Stickoxiden (Teile pro 10 Millionen)\n",
    "- `rm`: Durchschnittliche Anzahl der Zimmer pro Wohnung\n",
    "- `age`: Anteil der Eigentumswohnungen, die vor 1940 gebaut wurden\n",
    "- `dis`: Gewichtetes Mittel der Entfernungen zu fünf Bostoner Beschäftigungszentren\n",
    "- `rad`: Index der Erreichbarkeit von Radialautobahnen\n",
    "- `tax`: Vollwertiger Grundsteuersatz pro 10.000 Dollar\n",
    "- `ptratio`: Schüler-Lehrer-Verhältnis nach Stadt\n",
    "- `black`: 1000(Bk - 0.63)^2 wobei Bk der Anteil der Schwarzen in der Stadt ist\n",
    "- `lstat`: Unterer Status der Bevölkerung (Prozent)\n",
    "- `price`: Medianwert der Eigenheime in 1000er-Jahren"
   ]
  },
  {
   "cell_type": "code",
   "execution_count": 26,
   "id": "38de2f0e-60bf-49fb-9e13-ef293d00ad04",
   "metadata": {},
   "outputs": [
    {
     "name": "stderr",
     "output_type": "stream",
     "text": [
      "/Users/pelle-svante.john/opt/anaconda3/lib/python3.9/site-packages/sklearn/utils/deprecation.py:87: FutureWarning: Function load_boston is deprecated; `load_boston` is deprecated in 1.0 and will be removed in 1.2.\n",
      "\n",
      "    The Boston housing prices dataset has an ethical problem. You can refer to\n",
      "    the documentation of this function for further details.\n",
      "\n",
      "    The scikit-learn maintainers therefore strongly discourage the use of this\n",
      "    dataset unless the purpose of the code is to study and educate about\n",
      "    ethical issues in data science and machine learning.\n",
      "\n",
      "    In this special case, you can fetch the dataset from the original\n",
      "    source::\n",
      "\n",
      "        import pandas as pd\n",
      "        import numpy as np\n",
      "\n",
      "\n",
      "        data_url = \"http://lib.stat.cmu.edu/datasets/boston\"\n",
      "        raw_df = pd.read_csv(data_url, sep=\"\\s+\", skiprows=22, header=None)\n",
      "        data = np.hstack([raw_df.values[::2, :], raw_df.values[1::2, :2]])\n",
      "        target = raw_df.values[1::2, 2]\n",
      "\n",
      "    Alternative datasets include the California housing dataset (i.e.\n",
      "    :func:`~sklearn.datasets.fetch_california_housing`) and the Ames housing\n",
      "    dataset. You can load the datasets as follows::\n",
      "\n",
      "        from sklearn.datasets import fetch_california_housing\n",
      "        housing = fetch_california_housing()\n",
      "\n",
      "    for the California housing dataset and::\n",
      "\n",
      "        from sklearn.datasets import fetch_openml\n",
      "        housing = fetch_openml(name=\"house_prices\", as_frame=True)\n",
      "\n",
      "    for the Ames housing dataset.\n",
      "    \n",
      "  warnings.warn(msg, category=FutureWarning)\n"
     ]
    },
    {
     "data": {
      "text/html": [
       "<div>\n",
       "<style scoped>\n",
       "    .dataframe tbody tr th:only-of-type {\n",
       "        vertical-align: middle;\n",
       "    }\n",
       "\n",
       "    .dataframe tbody tr th {\n",
       "        vertical-align: top;\n",
       "    }\n",
       "\n",
       "    .dataframe thead th {\n",
       "        text-align: right;\n",
       "    }\n",
       "</style>\n",
       "<table border=\"1\" class=\"dataframe\">\n",
       "  <thead>\n",
       "    <tr style=\"text-align: right;\">\n",
       "      <th></th>\n",
       "      <th>CRIM</th>\n",
       "      <th>ZN</th>\n",
       "      <th>INDUS</th>\n",
       "      <th>CHAS</th>\n",
       "      <th>NOX</th>\n",
       "      <th>RM</th>\n",
       "      <th>AGE</th>\n",
       "      <th>DIS</th>\n",
       "      <th>RAD</th>\n",
       "      <th>TAX</th>\n",
       "      <th>PTRATIO</th>\n",
       "      <th>B</th>\n",
       "      <th>LSTAT</th>\n",
       "      <th>PRICE</th>\n",
       "    </tr>\n",
       "  </thead>\n",
       "  <tbody>\n",
       "    <tr>\n",
       "      <th>0</th>\n",
       "      <td>0.00632</td>\n",
       "      <td>18.0</td>\n",
       "      <td>2.31</td>\n",
       "      <td>0.0</td>\n",
       "      <td>0.538</td>\n",
       "      <td>6.575</td>\n",
       "      <td>65.2</td>\n",
       "      <td>4.0900</td>\n",
       "      <td>1.0</td>\n",
       "      <td>296.0</td>\n",
       "      <td>15.3</td>\n",
       "      <td>396.90</td>\n",
       "      <td>4.98</td>\n",
       "      <td>24.0</td>\n",
       "    </tr>\n",
       "    <tr>\n",
       "      <th>1</th>\n",
       "      <td>0.02731</td>\n",
       "      <td>0.0</td>\n",
       "      <td>7.07</td>\n",
       "      <td>0.0</td>\n",
       "      <td>0.469</td>\n",
       "      <td>6.421</td>\n",
       "      <td>78.9</td>\n",
       "      <td>4.9671</td>\n",
       "      <td>2.0</td>\n",
       "      <td>242.0</td>\n",
       "      <td>17.8</td>\n",
       "      <td>396.90</td>\n",
       "      <td>9.14</td>\n",
       "      <td>21.6</td>\n",
       "    </tr>\n",
       "    <tr>\n",
       "      <th>2</th>\n",
       "      <td>0.02729</td>\n",
       "      <td>0.0</td>\n",
       "      <td>7.07</td>\n",
       "      <td>0.0</td>\n",
       "      <td>0.469</td>\n",
       "      <td>7.185</td>\n",
       "      <td>61.1</td>\n",
       "      <td>4.9671</td>\n",
       "      <td>2.0</td>\n",
       "      <td>242.0</td>\n",
       "      <td>17.8</td>\n",
       "      <td>392.83</td>\n",
       "      <td>4.03</td>\n",
       "      <td>34.7</td>\n",
       "    </tr>\n",
       "    <tr>\n",
       "      <th>3</th>\n",
       "      <td>0.03237</td>\n",
       "      <td>0.0</td>\n",
       "      <td>2.18</td>\n",
       "      <td>0.0</td>\n",
       "      <td>0.458</td>\n",
       "      <td>6.998</td>\n",
       "      <td>45.8</td>\n",
       "      <td>6.0622</td>\n",
       "      <td>3.0</td>\n",
       "      <td>222.0</td>\n",
       "      <td>18.7</td>\n",
       "      <td>394.63</td>\n",
       "      <td>2.94</td>\n",
       "      <td>33.4</td>\n",
       "    </tr>\n",
       "    <tr>\n",
       "      <th>4</th>\n",
       "      <td>0.06905</td>\n",
       "      <td>0.0</td>\n",
       "      <td>2.18</td>\n",
       "      <td>0.0</td>\n",
       "      <td>0.458</td>\n",
       "      <td>7.147</td>\n",
       "      <td>54.2</td>\n",
       "      <td>6.0622</td>\n",
       "      <td>3.0</td>\n",
       "      <td>222.0</td>\n",
       "      <td>18.7</td>\n",
       "      <td>396.90</td>\n",
       "      <td>5.33</td>\n",
       "      <td>36.2</td>\n",
       "    </tr>\n",
       "  </tbody>\n",
       "</table>\n",
       "</div>"
      ],
      "text/plain": [
       "      CRIM    ZN  INDUS  CHAS    NOX     RM   AGE     DIS  RAD    TAX  \\\n",
       "0  0.00632  18.0   2.31   0.0  0.538  6.575  65.2  4.0900  1.0  296.0   \n",
       "1  0.02731   0.0   7.07   0.0  0.469  6.421  78.9  4.9671  2.0  242.0   \n",
       "2  0.02729   0.0   7.07   0.0  0.469  7.185  61.1  4.9671  2.0  242.0   \n",
       "3  0.03237   0.0   2.18   0.0  0.458  6.998  45.8  6.0622  3.0  222.0   \n",
       "4  0.06905   0.0   2.18   0.0  0.458  7.147  54.2  6.0622  3.0  222.0   \n",
       "\n",
       "   PTRATIO       B  LSTAT  PRICE  \n",
       "0     15.3  396.90   4.98   24.0  \n",
       "1     17.8  396.90   9.14   21.6  \n",
       "2     17.8  392.83   4.03   34.7  \n",
       "3     18.7  394.63   2.94   33.4  \n",
       "4     18.7  396.90   5.33   36.2  "
      ]
     },
     "execution_count": 26,
     "metadata": {},
     "output_type": "execute_result"
    }
   ],
   "source": [
    "# Importiere ein Teilpackage von SKlearn zum Laden des Datensets\n",
    "from sklearn.datasets import load_boston\n",
    "\n",
    "# Lade das Datenset als JSON-Format\n",
    "boston = load_boston()\n",
    "\n",
    "# Überführe den JSON-Datensatz in einen Pandas DataFrame\n",
    "boston_df = pd.DataFrame(data = boston['data'], columns = boston['feature_names'])\n",
    "boston_df['PRICE'] = boston['target']\n",
    "\n",
    "# Erhalte einen ersten Eindruck des DataFrames\n",
    "boston_df.head()"
   ]
  },
  {
   "cell_type": "markdown",
   "id": "02a022d2-9448-4927-95f4-da64de968560",
   "metadata": {},
   "source": [
    "Mit Hilfe der [`.skew()`](https://pandas.pydata.org/docs/reference/api/pandas.DataFrame.skew.html) Funktion von Pandas erhalten wir einen ersten Eindruck der **Schiefe** der Verteilung.\n",
    "\n",
    "Wie sind die Ausgabewerte zu interpretieren:\n",
    "- Ein Schiefe-Wert von 0 bedeutet eine symmetrische Verteilung\n",
    "- Ein negativer Schiefe-Wert weist auf eine asymmetrische Verteilung hin, dessen Ende (Tail) auf der linken Seite der Verteilung größer ist - **left skewed**\n",
    "- Ein positiver Schiefe-Wert weist auf eine asymmetrische Verteilung hin, dessen Ende (Tail) auf der rechten Seite der Verteilung größer ist - **right skewed**"
   ]
  },
  {
   "cell_type": "code",
   "execution_count": 27,
   "id": "b2065225-6455-4e79-83c7-3b2199f18233",
   "metadata": {},
   "outputs": [
    {
     "data": {
      "image/png": "[encoded data removed]",
      "text/plain": [
       "<Figure size 1080x576 with 1 Axes>"
      ]
     },
     "metadata": {
      "needs_background": "light"
     },
     "output_type": "display_data"
    }
   ],
   "source": [
    "boston_skewness = boston_df.skew().sort_values(ascending=False)\n",
    "\n",
    "plt.figure(figsize=(15,8))\n",
    "sns.set_theme(style=\"whitegrid\")\n",
    "sns.barplot(x = list(boston_skewness.index), y = boston_skewness.values, \n",
    "            color = sns.color_palette()[0], alpha=.7)\n",
    "plt.ylabel('Schiefewerte')\n",
    "plt.xlabel('Variablen Boston Housing Datensatz')\n",
    "plt.title('Schiefewerte der Variablen des Boston Housing ')\n",
    "\n",
    "plt.show()"
   ]
  },
  {
   "cell_type": "markdown",
   "id": "e4c01f9b-b1ba-42aa-a4a6-01d465f31513",
   "metadata": {},
   "source": [
    "Die Darstellung gibt wieder, dass `CRIM` einen starken Schiefewert aufweißt und **right skewed** ist. Das können wir uns durch eine separate Darstellung noch einmal anders ausgeben lassen."
   ]
  },
  {
   "cell_type": "code",
   "execution_count": 28,
   "id": "0bf97d96-ad25-4911-8437-f30cb195a012",
   "metadata": {},
   "outputs": [
    {
     "data": {
      "image/png": "[encoded data removed]",
      "text/plain": [
       "<Figure size 1080x576 with 1 Axes>"
      ]
     },
     "metadata": {},
     "output_type": "display_data"
    }
   ],
   "source": [
    "max_crim = round(boston_df['CRIM'].max(), 1)\n",
    "text = f\"Max. Wert: {max_crim}\"\n",
    "text_kwargs = dict(ha='center', va='center')\n",
    "\n",
    "ax = plt.figure(figsize=(15,8))\n",
    "ax = sns.histplot(boston_df['CRIM'], kde = True, stat = 'density', bins = 40)\n",
    "ax.annotate(\"\", xy=(68, 0.02), xytext=(65, 0.06), xycoords='data', arrowprops=dict(arrowstyle=\"->\", color = 'red'))\n",
    "ax.text(x = 65, y = 0.07, s = text, **text_kwargs)\n",
    "\n",
    "plt.title(\"Boston Housing Datensatz - Verteilung CRIM\")\n",
    "plt.xlim(-1, 70)\n",
    "\n",
    "plt.show()"
   ]
  },
  {
   "cell_type": "markdown",
   "id": "598e9e1e-0889-4c1c-94df-d43efb6a811c",
   "metadata": {},
   "source": [
    "Der starke Wert aus der vorherigen Abbildung wurde durch die Abbildung der Verteilung von `CRIM` als Histogramm noch einmal bestätigt. `CRIM` folgt definitiv keiner Normalverteilung. Wichtig ist, dass wir es richtig interpretieren.\n",
    "\n",
    "**Frage**: Was zeigt das Histogramme, wenn es besonders viele niedrige Werte gibt?\n",
    "\n",
    "Ziel sollte es sein, die Skewness zu reduzieren. Als erstes würden wir dies gerne durch eine Log-Transformation durchführen."
   ]
  },
  {
   "cell_type": "markdown",
   "id": "0e396c37-697c-43a9-a4cf-11a260ad547d",
   "metadata": {},
   "source": [
    "---"
   ]
  },
  {
   "cell_type": "markdown",
   "id": "95d7e2a2-4249-45a7-8eb7-2adfab336853",
   "metadata": {},
   "source": [
    "**Aufgabe 8:** Führe eine Log-Transformation durch und berechne danach den neuen Skew-Wert für die Variable `CRIM_log` und speichere diesen unter der Variable `CRIM_log_score`. Füge die neue Verteilung dem DataFrame `boston_df` unter der Spaltenbezeichnung `CRIM_log`hinzu."
   ]
  },
  {
   "cell_type": "code",
   "execution_count": 29,
   "id": "aec3009f-408b-4b56-b126-4560937a14d3",
   "metadata": {},
   "outputs": [],
   "source": [
    "### CODE HERE ####\n",
    "boston_df['CRIM_log'] = np.log(boston_df['CRIM'])\n",
    "CRIM_log_score = boston_df['CRIM_log'].skew()"
   ]
  },
  {
   "cell_type": "code",
   "execution_count": 30,
   "id": "f17ca6f4-d487-4b24-aa43-f7ab7b9341f1",
   "metadata": {},
   "outputs": [
    {
     "name": "stdout",
     "output_type": "stream",
     "text": [
      "Test successful\n"
     ]
    },
    {
     "data": {
      "image/png": "[encoded data removed]",
      "text/plain": [
       "<Figure size 1080x576 with 1 Axes>"
      ]
     },
     "metadata": {},
     "output_type": "display_data"
    }
   ],
   "source": [
    "### TEST HERE ###\n",
    "if -395 <= boston_df['CRIM_log'].sum() <= -394 and 0.4 <= CRIM_log_score <= 0.41: \n",
    "    print(\"Test successful\")\n",
    "    \n",
    "    CRIM_log_score_2 = round(CRIM_log_score, 2)\n",
    "    text = f\"Neuer Skew Wert: {CRIM_log_score_2}\"\n",
    "    \n",
    "    ax = plt.figure(figsize=(15,8))\n",
    "    ax = sns.histplot(boston_df['CRIM_log'], kde = True, stat = 'density', bins = 40)\n",
    "    ax.text(x = 0, y = 0.21, s = text, **text_kwargs, color = 'red')\n",
    "\n",
    "    plt.title(\"Boston Housing Datensatz - Verteilung CRIM Log\")\n",
    "\n",
    "    plt.show()"
   ]
  },
  {
   "cell_type": "markdown",
   "id": "f4ab96d9-5548-41d4-95b4-c13b80b100c2",
   "metadata": {},
   "source": [
    "**Frage**: Wie sind die Ergebnisse zu interpretieren?"
   ]
  },
  {
   "cell_type": "markdown",
   "id": "1cff9e52-2cc2-40e6-b592-a4827aa49062",
   "metadata": {},
   "source": [
    "`### BEGRÜNDUNG HERE ###`"
   ]
  },
  {
   "cell_type": "markdown",
   "id": "c74e30d6-381c-4a03-9387-0910a311a39d",
   "metadata": {},
   "source": [
    "---"
   ]
  },
  {
   "cell_type": "markdown",
   "id": "fac41104-30f1-4179-8392-3e4da4d6a8ad",
   "metadata": {},
   "source": [
    "**Aufgabe 9**: Vergleiche die Ergebnisse mit einer `log2` Transformation und interpretiere die Ergebnisse. Berechne anschließend den neuen Skew-Wert für die Variable `CRIM_log2` und speichere diesen unter der Variable `CRIM_log2_score`. Füge die neue Verteilung dem DataFrame `boston_df` unter der Spaltenbezeichnung `CRIM_log2`hinzu."
   ]
  },
  {
   "cell_type": "code",
   "execution_count": 31,
   "id": "1fdcbafd-cb67-4a07-bdc2-ff18e4d5d702",
   "metadata": {},
   "outputs": [],
   "source": [
    "### CODE HERE ####\n",
    "boston_df['CRIM_log2'] = np.log2(boston_df['CRIM'])\n",
    "CRIM_log2_score = boston_df['CRIM_log2'].skew()"
   ]
  },
  {
   "cell_type": "code",
   "execution_count": 32,
   "id": "a319031b-4312-43f9-8deb-ba62ea23e84b",
   "metadata": {},
   "outputs": [
    {
     "name": "stdout",
     "output_type": "stream",
     "text": [
      "Test successful\n"
     ]
    },
    {
     "data": {
      "image/png": "[encoded data removed]",
      "text/plain": [
       "<Figure size 1080x576 with 1 Axes>"
      ]
     },
     "metadata": {},
     "output_type": "display_data"
    }
   ],
   "source": [
    "### TEST HERE ###\n",
    "if -570 <= boston_df['CRIM_log2'].sum() <= -569 and 0.4 <= CRIM_log_score <= 0.41: \n",
    "    print(\"Test successful\")\n",
    "    \n",
    "    CRIM_log2_score_2 = round(CRIM_log2_score, 2)\n",
    "    text = f\"Neuer Skew Wert: {CRIM_log2_score_2}\"\n",
    "    \n",
    "    ax = plt.figure(figsize=(15,8))\n",
    "    ax = sns.histplot(boston_df['CRIM_log2'], kde = True, stat = 'density', bins = 40)\n",
    "    ax.text(x = 0.15, y = 0.14, s = text, **text_kwargs, color = 'red')\n",
    "\n",
    "    plt.title(\"Boston Housing Datensatz - Verteilung CRIM Log2\")\n",
    "\n",
    "    plt.show()"
   ]
  },
  {
   "cell_type": "markdown",
   "id": "cdb71265-3250-4db7-9a95-bc2609a2a59a",
   "metadata": {},
   "source": [
    "**Frage:** Was ist die Interpretation der Ergebnisse? Warum sehen die Verteilungen gleich aus und es ergibt den selben **Skewness-Wert**?"
   ]
  },
  {
   "cell_type": "markdown",
   "id": "2f87efa4-3b3b-4d0b-83aa-36e404f89e6c",
   "metadata": {},
   "source": [
    "---"
   ]
  },
  {
   "cell_type": "markdown",
   "id": "b70726cb-2256-4a33-bbb7-29d96c7b39e4",
   "metadata": {},
   "source": [
    "**Aufgabe 10:** Vergleiche die Ergebnisse mit einer `square-root` Transformation und interpretiere die Ergebnisse. Berechne anschließend den neuen Skew-Wert für die Variable `CRIM_sqr` und speichere diesen unter der Variable `CRIM_sqr_score`. Füge die neue Verteilung dem DataFrame `boston_df` unter der Spaltenbezeichnung `CRIM_log2`hinzu."
   ]
  },
  {
   "cell_type": "code",
   "execution_count": 33,
   "id": "925d42b4-0893-408c-9209-8622d5b6ccec",
   "metadata": {},
   "outputs": [],
   "source": [
    "### CODE HERE ####\n",
    "boston_df['CRIM_sqr'] = np.sqrt(boston_df['CRIM'])\n",
    "CRIM_sqr_score = boston_df['CRIM_sqr'].skew()"
   ]
  },
  {
   "cell_type": "code",
   "execution_count": 34,
   "id": "ca4830f2-5fda-44de-b726-fdad355e3a62",
   "metadata": {},
   "outputs": [
    {
     "name": "stdout",
     "output_type": "stream",
     "text": [
      "Test successful\n"
     ]
    },
    {
     "data": {
      "image/png": "[encoded data removed]",
      "text/plain": [
       "<Figure size 1080x576 with 1 Axes>"
      ]
     },
     "metadata": {},
     "output_type": "display_data"
    }
   ],
   "source": [
    "### TEST HERE #####\n",
    "if 622 <= boston_df['CRIM_sqr'].sum() <= 623 and 0.2 <= CRIM_log_score <= 2.03: \n",
    "    print(\"Test successful\")\n",
    "    \n",
    "    CRIM_sqr_score_2 = round(CRIM_sqr_score, 2)\n",
    "    text = f\"Neuer Skew Wert: {CRIM_sqr_score_2}\"\n",
    "    \n",
    "    ax = plt.figure(figsize=(15,8))\n",
    "    ax = sns.histplot(boston_df['CRIM_sqr'], kde = True, stat = 'density', bins = 40)\n",
    "    ax.text(x = 4, y = 0.84, s = text, **text_kwargs, color = 'red')\n",
    "\n",
    "    plt.title(\"Boston Housing Datensatz - Verteilung CRIM Square Root Transformation\")\n",
    "\n",
    "    plt.show()"
   ]
  },
  {
   "cell_type": "markdown",
   "id": "d5efa12a-a02e-4ef9-a076-0e61c4df65b4",
   "metadata": {},
   "source": [
    "**Interpretation:** In der Vorlesung haten wir bereits gelernt, dass bei der `Square Root`-Transformation höhere Werte stärker komprimiert werden, so dass niedrigere Werte besser verteilt werden.\n",
    "\n",
    "Die Square Root Transformation ist hierbei aber nicht so aggressive wie eine Log-Transformation.\n",
    "\n",
    "Die Verteilung hier sieht nur bedingt exponential aus, sodass der `skew` Wert größer ist, als der der Log-Transformation.\n",
    "\n",
    "Der Wertebereich für `CRIM_sqr` ist auch komprimierter als der, der `log` Transformationen."
   ]
  },
  {
   "cell_type": "markdown",
   "id": "75fc52c9-c28a-405f-b9db-cad7d37b7f09",
   "metadata": {},
   "source": [
    "---"
   ]
  },
  {
   "cell_type": "markdown",
   "id": "888a707c-2e6e-46f2-8ef1-1e6ebee82acc",
   "metadata": {},
   "source": [
    "**Aufgabe 11 (Zusatzaufgabe)**: Vergleiche die Ergebnisse mit einer `Box-Cox` Transformation und interpretiere die Ergebnisse. Berechne anschließend den neuen Skew-Wert für die Variable `CRIM_bc` und speichere diesen unter der Variable `CRIM_bc_score`. Füge die neue Verteilung dem DataFrame boston_df unter der Spaltenbezeichnung `CRIM_bc` hinzu.\n",
    "\n",
    "Informationen zur Box-Cox-Transformationen:\n",
    "- [Intro to Box Cox Transformation](https://www.youtube.com/watch?v=pjwDpF_Igkw)\n",
    "- [Python | Box-Cox Transformation](https://www.geeksforgeeks.org/box-cox-transformation-using-python/)\n",
    "- [scipy.stats.boxcox](https://docs.scipy.org/doc/scipy/reference/generated/scipy.stats.boxcox.html)"
   ]
  },
  {
   "cell_type": "code",
   "execution_count": 35,
   "id": "542628ce-b155-468b-b4e0-951e87a18326",
   "metadata": {},
   "outputs": [],
   "source": [
    "### CODE HERE ###\n",
    "boston_df['CRIM_bc'] = stats.boxcox(boston_df['CRIM'])[0]\n",
    "CRIM_bc_score = boston_df['CRIM_bc'].skew()"
   ]
  },
  {
   "cell_type": "code",
   "execution_count": 36,
   "id": "29681a14-f117-4c35-920c-c5a3783482f9",
   "metadata": {},
   "outputs": [
    {
     "name": "stdout",
     "output_type": "stream",
     "text": [
      "Test successful\n",
      "Der optimale Wert für λ ist: -0.11\n"
     ]
    },
    {
     "data": {
      "image/png": "[encoded data removed]",
      "text/plain": [
       "<Figure size 1080x576 with 1 Axes>"
      ]
     },
     "metadata": {},
     "output_type": "display_data"
    }
   ],
   "source": [
    "### TEST HERE ###\n",
    "if -556 <= boston_df['CRIM_bc'].sum() <= -555 and 0.09 <= CRIM_bc_score <= 0.1: \n",
    "    print(\"Test successful\")\n",
    "    print(\"Der optimale Wert für λ ist:\", round(stats.boxcox(boston_df['CRIM'])[1], 2))\n",
    "    \n",
    "    CRIM_bc_score_2 = round(CRIM_bc_score, 2)\n",
    "    text = f\"Neuer Skew Wert: {CRIM_bc_score_2}\"\n",
    "    \n",
    "    ax = plt.figure(figsize=(15,8))\n",
    "    ax = sns.histplot(boston_df['CRIM_bc'], kde = True, stat = 'density', bins = 40)\n",
    "    ax.text(x = -0.5, y = 0.18, s = text, **text_kwargs, color = 'red')\n",
    "\n",
    "    plt.title(\"Boston Housing Datensatz - Verteilung CRIM Box-Cox Transformation\")\n",
    "\n",
    "    plt.show()"
   ]
  },
  {
   "cell_type": "markdown",
   "id": "2c7a39fd-c163-4cac-8bac-2f127b41e485",
   "metadata": {},
   "source": [
    "**Interpretation:** Der Schiefewert ist von `5.2` auf nur noch `0.09` gesunken. Die Verteilung ist der durch die Log-Transformation entstandenen ziemlich ähnlich, nur etwas weniger bimodal."
   ]
  },
  {
   "cell_type": "markdown",
   "id": "4ba4cb33-b2ac-48c8-b981-751806401fac",
   "metadata": {},
   "source": [
    "![purple-divider](https://user-images.githubusercontent.com/7065401/52071927-c1cd7100-2562-11e9-908a-dde91ba14e59.png)"
   ]
  },
  {
   "cell_type": "markdown",
   "id": "402c249b-7ee2-4cdb-9c2a-74eef7bc73da",
   "metadata": {},
   "source": [
    "## 3. MIN-MAX, Z-Score und Robust-Scaler Transformation"
   ]
  },
  {
   "cell_type": "markdown",
   "id": "bcbb35b1-bbbe-48c2-be80-a6410d2d1d1a",
   "metadata": {},
   "source": [
    "Als Nächstes würden wir gerne weitere Methoden der **Standardisierung** verwenden, um Werte auf standardisierte Wertebereiche zu bringen.\n",
    "\n",
    "Viele ML-Algorithmen performen besser mit skalierten Wertebereichen der Inputvariablen. Das inkludiert Algorithmen, die die **gewichtete Summe der Inputvariablen** verwenden, z. B. Linear Regression, Logistic Regression oder Neural Networks (Deep Learning), und Algorithmen die **Distanzen messen**, z. B. K-Nearest Neighbors oder Support Vector Machines.\n",
    "\n",
    "Mit unterschiedlichen Wertebereichen und Einheiten (z. B. KM, Stunden, ...) haben die Inputvariablen auch unterschiedliche Wertebereiche. Die größeren Wertebereiche werden hier potenziell stärker gewichtet beim direkten Einsatz eines ML-Algorithmen, sodass dies in schlechterer Performance und Insensitvität gegenüber kleineren Wertebereichen resultiert.\n",
    "\n",
    "In Allgemeinen macht es auch Sinn, wenn wir sowohl die **Input- als auch Outputvariablen** standardisieren."
   ]
  },
  {
   "cell_type": "markdown",
   "id": "30c89988-725b-4cf9-98be-666b757b3f85",
   "metadata": {},
   "source": [
    "**Datensatz:** Im nächsten Beispiel werden wir ein Datensatz verwenden für eine binäre Klassifizierung. Er umfasst 60 Eingabewerte und eine Zielvariable mit zwei Klassen. Der Datensatz enthält 208 Beispiele und die Klassen sind einigermaßen ausgewogen.\n",
    "\n",
    "Der Datensatz beschreibt Radarrückmeldungen von Felsen oder simulierten Minen und ist hier zugänglich als [**Sonar Datensatz**](https://raw.githubusercontent.com/jbrownlee/Datasets/master/sonar.csv).\n",
    "\n",
    "Eine **Beschreibung des Datensatzes** findet Ihr [hier](https://raw.githubusercontent.com/jbrownlee/Datasets/master/sonar.names).\n"
   ]
  },
  {
   "cell_type": "code",
   "execution_count": 37,
   "id": "d80106e2-4058-4ba8-9483-84e1bba0e559",
   "metadata": {},
   "outputs": [
    {
     "data": {
      "text/html": [
       "<div>\n",
       "<style scoped>\n",
       "    .dataframe tbody tr th:only-of-type {\n",
       "        vertical-align: middle;\n",
       "    }\n",
       "\n",
       "    .dataframe tbody tr th {\n",
       "        vertical-align: top;\n",
       "    }\n",
       "\n",
       "    .dataframe thead th {\n",
       "        text-align: right;\n",
       "    }\n",
       "</style>\n",
       "<table border=\"1\" class=\"dataframe\">\n",
       "  <thead>\n",
       "    <tr style=\"text-align: right;\">\n",
       "      <th></th>\n",
       "      <th>0</th>\n",
       "      <th>1</th>\n",
       "      <th>2</th>\n",
       "      <th>3</th>\n",
       "      <th>4</th>\n",
       "      <th>5</th>\n",
       "      <th>6</th>\n",
       "      <th>7</th>\n",
       "      <th>8</th>\n",
       "      <th>9</th>\n",
       "      <th>...</th>\n",
       "      <th>51</th>\n",
       "      <th>52</th>\n",
       "      <th>53</th>\n",
       "      <th>54</th>\n",
       "      <th>55</th>\n",
       "      <th>56</th>\n",
       "      <th>57</th>\n",
       "      <th>58</th>\n",
       "      <th>59</th>\n",
       "      <th>60</th>\n",
       "    </tr>\n",
       "  </thead>\n",
       "  <tbody>\n",
       "    <tr>\n",
       "      <th>0</th>\n",
       "      <td>0.0200</td>\n",
       "      <td>0.0371</td>\n",
       "      <td>0.0428</td>\n",
       "      <td>0.0207</td>\n",
       "      <td>0.0954</td>\n",
       "      <td>0.0986</td>\n",
       "      <td>0.1539</td>\n",
       "      <td>0.1601</td>\n",
       "      <td>0.3109</td>\n",
       "      <td>0.2111</td>\n",
       "      <td>...</td>\n",
       "      <td>0.0027</td>\n",
       "      <td>0.0065</td>\n",
       "      <td>0.0159</td>\n",
       "      <td>0.0072</td>\n",
       "      <td>0.0167</td>\n",
       "      <td>0.0180</td>\n",
       "      <td>0.0084</td>\n",
       "      <td>0.0090</td>\n",
       "      <td>0.0032</td>\n",
       "      <td>R</td>\n",
       "    </tr>\n",
       "    <tr>\n",
       "      <th>1</th>\n",
       "      <td>0.0453</td>\n",
       "      <td>0.0523</td>\n",
       "      <td>0.0843</td>\n",
       "      <td>0.0689</td>\n",
       "      <td>0.1183</td>\n",
       "      <td>0.2583</td>\n",
       "      <td>0.2156</td>\n",
       "      <td>0.3481</td>\n",
       "      <td>0.3337</td>\n",
       "      <td>0.2872</td>\n",
       "      <td>...</td>\n",
       "      <td>0.0084</td>\n",
       "      <td>0.0089</td>\n",
       "      <td>0.0048</td>\n",
       "      <td>0.0094</td>\n",
       "      <td>0.0191</td>\n",
       "      <td>0.0140</td>\n",
       "      <td>0.0049</td>\n",
       "      <td>0.0052</td>\n",
       "      <td>0.0044</td>\n",
       "      <td>R</td>\n",
       "    </tr>\n",
       "    <tr>\n",
       "      <th>2</th>\n",
       "      <td>0.0262</td>\n",
       "      <td>0.0582</td>\n",
       "      <td>0.1099</td>\n",
       "      <td>0.1083</td>\n",
       "      <td>0.0974</td>\n",
       "      <td>0.2280</td>\n",
       "      <td>0.2431</td>\n",
       "      <td>0.3771</td>\n",
       "      <td>0.5598</td>\n",
       "      <td>0.6194</td>\n",
       "      <td>...</td>\n",
       "      <td>0.0232</td>\n",
       "      <td>0.0166</td>\n",
       "      <td>0.0095</td>\n",
       "      <td>0.0180</td>\n",
       "      <td>0.0244</td>\n",
       "      <td>0.0316</td>\n",
       "      <td>0.0164</td>\n",
       "      <td>0.0095</td>\n",
       "      <td>0.0078</td>\n",
       "      <td>R</td>\n",
       "    </tr>\n",
       "    <tr>\n",
       "      <th>3</th>\n",
       "      <td>0.0100</td>\n",
       "      <td>0.0171</td>\n",
       "      <td>0.0623</td>\n",
       "      <td>0.0205</td>\n",
       "      <td>0.0205</td>\n",
       "      <td>0.0368</td>\n",
       "      <td>0.1098</td>\n",
       "      <td>0.1276</td>\n",
       "      <td>0.0598</td>\n",
       "      <td>0.1264</td>\n",
       "      <td>...</td>\n",
       "      <td>0.0121</td>\n",
       "      <td>0.0036</td>\n",
       "      <td>0.0150</td>\n",
       "      <td>0.0085</td>\n",
       "      <td>0.0073</td>\n",
       "      <td>0.0050</td>\n",
       "      <td>0.0044</td>\n",
       "      <td>0.0040</td>\n",
       "      <td>0.0117</td>\n",
       "      <td>R</td>\n",
       "    </tr>\n",
       "    <tr>\n",
       "      <th>4</th>\n",
       "      <td>0.0762</td>\n",
       "      <td>0.0666</td>\n",
       "      <td>0.0481</td>\n",
       "      <td>0.0394</td>\n",
       "      <td>0.0590</td>\n",
       "      <td>0.0649</td>\n",
       "      <td>0.1209</td>\n",
       "      <td>0.2467</td>\n",
       "      <td>0.3564</td>\n",
       "      <td>0.4459</td>\n",
       "      <td>...</td>\n",
       "      <td>0.0031</td>\n",
       "      <td>0.0054</td>\n",
       "      <td>0.0105</td>\n",
       "      <td>0.0110</td>\n",
       "      <td>0.0015</td>\n",
       "      <td>0.0072</td>\n",
       "      <td>0.0048</td>\n",
       "      <td>0.0107</td>\n",
       "      <td>0.0094</td>\n",
       "      <td>R</td>\n",
       "    </tr>\n",
       "  </tbody>\n",
       "</table>\n",
       "<p>5 rows × 61 columns</p>\n",
       "</div>"
      ],
      "text/plain": [
       "        0       1       2       3       4       5       6       7       8  \\\n",
       "0  0.0200  0.0371  0.0428  0.0207  0.0954  0.0986  0.1539  0.1601  0.3109   \n",
       "1  0.0453  0.0523  0.0843  0.0689  0.1183  0.2583  0.2156  0.3481  0.3337   \n",
       "2  0.0262  0.0582  0.1099  0.1083  0.0974  0.2280  0.2431  0.3771  0.5598   \n",
       "3  0.0100  0.0171  0.0623  0.0205  0.0205  0.0368  0.1098  0.1276  0.0598   \n",
       "4  0.0762  0.0666  0.0481  0.0394  0.0590  0.0649  0.1209  0.2467  0.3564   \n",
       "\n",
       "        9  ...      51      52      53      54      55      56      57  \\\n",
       "0  0.2111  ...  0.0027  0.0065  0.0159  0.0072  0.0167  0.0180  0.0084   \n",
       "1  0.2872  ...  0.0084  0.0089  0.0048  0.0094  0.0191  0.0140  0.0049   \n",
       "2  0.6194  ...  0.0232  0.0166  0.0095  0.0180  0.0244  0.0316  0.0164   \n",
       "3  0.1264  ...  0.0121  0.0036  0.0150  0.0085  0.0073  0.0050  0.0044   \n",
       "4  0.4459  ...  0.0031  0.0054  0.0105  0.0110  0.0015  0.0072  0.0048   \n",
       "\n",
       "       58      59  60  \n",
       "0  0.0090  0.0032   R  \n",
       "1  0.0052  0.0044   R  \n",
       "2  0.0095  0.0078   R  \n",
       "3  0.0040  0.0117   R  \n",
       "4  0.0107  0.0094   R  \n",
       "\n",
       "[5 rows x 61 columns]"
      ]
     },
     "execution_count": 37,
     "metadata": {},
     "output_type": "execute_result"
    }
   ],
   "source": [
    "# Laden und Erstsichtung des Datensatzes\n",
    "sonar_df = pd.read_csv('src/sonar_dataset', index_col=0)\n",
    "sonar_df.head()"
   ]
  },
  {
   "cell_type": "code",
   "execution_count": 38,
   "id": "82b426d4-52ec-4e5d-88fe-3bef9771a734",
   "metadata": {},
   "outputs": [
    {
     "data": {
      "text/plain": [
       "True"
      ]
     },
     "execution_count": 38,
     "metadata": {},
     "output_type": "execute_result"
    }
   ],
   "source": [
    "# Überprüfung des korrekten Formats\n",
    "np.array_equal(sonar_df.shape, [208, 61])"
   ]
  },
  {
   "cell_type": "code",
   "execution_count": 39,
   "id": "b2b83eea-b7e9-42c0-a54a-a5d8b88a977b",
   "metadata": {},
   "outputs": [
    {
     "data": {
      "text/html": [
       "<div>\n",
       "<style scoped>\n",
       "    .dataframe tbody tr th:only-of-type {\n",
       "        vertical-align: middle;\n",
       "    }\n",
       "\n",
       "    .dataframe tbody tr th {\n",
       "        vertical-align: top;\n",
       "    }\n",
       "\n",
       "    .dataframe thead th {\n",
       "        text-align: right;\n",
       "    }\n",
       "</style>\n",
       "<table border=\"1\" class=\"dataframe\">\n",
       "  <thead>\n",
       "    <tr style=\"text-align: right;\">\n",
       "      <th></th>\n",
       "      <th>0</th>\n",
       "      <th>1</th>\n",
       "      <th>2</th>\n",
       "      <th>3</th>\n",
       "      <th>4</th>\n",
       "      <th>5</th>\n",
       "      <th>6</th>\n",
       "      <th>7</th>\n",
       "      <th>8</th>\n",
       "      <th>9</th>\n",
       "      <th>...</th>\n",
       "      <th>50</th>\n",
       "      <th>51</th>\n",
       "      <th>52</th>\n",
       "      <th>53</th>\n",
       "      <th>54</th>\n",
       "      <th>55</th>\n",
       "      <th>56</th>\n",
       "      <th>57</th>\n",
       "      <th>58</th>\n",
       "      <th>59</th>\n",
       "    </tr>\n",
       "  </thead>\n",
       "  <tbody>\n",
       "    <tr>\n",
       "      <th>count</th>\n",
       "      <td>208.000000</td>\n",
       "      <td>208.000000</td>\n",
       "      <td>208.000000</td>\n",
       "      <td>208.000000</td>\n",
       "      <td>208.000000</td>\n",
       "      <td>208.000000</td>\n",
       "      <td>208.000000</td>\n",
       "      <td>208.000000</td>\n",
       "      <td>208.000000</td>\n",
       "      <td>208.000000</td>\n",
       "      <td>...</td>\n",
       "      <td>208.000000</td>\n",
       "      <td>208.000000</td>\n",
       "      <td>208.000000</td>\n",
       "      <td>208.000000</td>\n",
       "      <td>208.000000</td>\n",
       "      <td>208.000000</td>\n",
       "      <td>208.000000</td>\n",
       "      <td>208.000000</td>\n",
       "      <td>208.000000</td>\n",
       "      <td>208.000000</td>\n",
       "    </tr>\n",
       "    <tr>\n",
       "      <th>mean</th>\n",
       "      <td>0.029164</td>\n",
       "      <td>0.038437</td>\n",
       "      <td>0.043832</td>\n",
       "      <td>0.053892</td>\n",
       "      <td>0.075202</td>\n",
       "      <td>0.104570</td>\n",
       "      <td>0.121747</td>\n",
       "      <td>0.134799</td>\n",
       "      <td>0.178003</td>\n",
       "      <td>0.208259</td>\n",
       "      <td>...</td>\n",
       "      <td>0.016069</td>\n",
       "      <td>0.013420</td>\n",
       "      <td>0.010709</td>\n",
       "      <td>0.010941</td>\n",
       "      <td>0.009290</td>\n",
       "      <td>0.008222</td>\n",
       "      <td>0.007820</td>\n",
       "      <td>0.007949</td>\n",
       "      <td>0.007941</td>\n",
       "      <td>0.006507</td>\n",
       "    </tr>\n",
       "    <tr>\n",
       "      <th>std</th>\n",
       "      <td>0.022991</td>\n",
       "      <td>0.032960</td>\n",
       "      <td>0.038428</td>\n",
       "      <td>0.046528</td>\n",
       "      <td>0.055552</td>\n",
       "      <td>0.059105</td>\n",
       "      <td>0.061788</td>\n",
       "      <td>0.085152</td>\n",
       "      <td>0.118387</td>\n",
       "      <td>0.134416</td>\n",
       "      <td>...</td>\n",
       "      <td>0.012008</td>\n",
       "      <td>0.009634</td>\n",
       "      <td>0.007060</td>\n",
       "      <td>0.007301</td>\n",
       "      <td>0.007088</td>\n",
       "      <td>0.005736</td>\n",
       "      <td>0.005785</td>\n",
       "      <td>0.006470</td>\n",
       "      <td>0.006181</td>\n",
       "      <td>0.005031</td>\n",
       "    </tr>\n",
       "    <tr>\n",
       "      <th>min</th>\n",
       "      <td>0.001500</td>\n",
       "      <td>0.000600</td>\n",
       "      <td>0.001500</td>\n",
       "      <td>0.005800</td>\n",
       "      <td>0.006700</td>\n",
       "      <td>0.010200</td>\n",
       "      <td>0.003300</td>\n",
       "      <td>0.005500</td>\n",
       "      <td>0.007500</td>\n",
       "      <td>0.011300</td>\n",
       "      <td>...</td>\n",
       "      <td>0.000000</td>\n",
       "      <td>0.000800</td>\n",
       "      <td>0.000500</td>\n",
       "      <td>0.001000</td>\n",
       "      <td>0.000600</td>\n",
       "      <td>0.000400</td>\n",
       "      <td>0.000300</td>\n",
       "      <td>0.000300</td>\n",
       "      <td>0.000100</td>\n",
       "      <td>0.000600</td>\n",
       "    </tr>\n",
       "    <tr>\n",
       "      <th>25%</th>\n",
       "      <td>0.013350</td>\n",
       "      <td>0.016450</td>\n",
       "      <td>0.018950</td>\n",
       "      <td>0.024375</td>\n",
       "      <td>0.038050</td>\n",
       "      <td>0.067025</td>\n",
       "      <td>0.080900</td>\n",
       "      <td>0.080425</td>\n",
       "      <td>0.097025</td>\n",
       "      <td>0.111275</td>\n",
       "      <td>...</td>\n",
       "      <td>0.008425</td>\n",
       "      <td>0.007275</td>\n",
       "      <td>0.005075</td>\n",
       "      <td>0.005375</td>\n",
       "      <td>0.004150</td>\n",
       "      <td>0.004400</td>\n",
       "      <td>0.003700</td>\n",
       "      <td>0.003600</td>\n",
       "      <td>0.003675</td>\n",
       "      <td>0.003100</td>\n",
       "    </tr>\n",
       "    <tr>\n",
       "      <th>50%</th>\n",
       "      <td>0.022800</td>\n",
       "      <td>0.030800</td>\n",
       "      <td>0.034300</td>\n",
       "      <td>0.044050</td>\n",
       "      <td>0.062500</td>\n",
       "      <td>0.092150</td>\n",
       "      <td>0.106950</td>\n",
       "      <td>0.112100</td>\n",
       "      <td>0.152250</td>\n",
       "      <td>0.182400</td>\n",
       "      <td>...</td>\n",
       "      <td>0.013900</td>\n",
       "      <td>0.011400</td>\n",
       "      <td>0.009550</td>\n",
       "      <td>0.009300</td>\n",
       "      <td>0.007500</td>\n",
       "      <td>0.006850</td>\n",
       "      <td>0.005950</td>\n",
       "      <td>0.005800</td>\n",
       "      <td>0.006400</td>\n",
       "      <td>0.005300</td>\n",
       "    </tr>\n",
       "    <tr>\n",
       "      <th>75%</th>\n",
       "      <td>0.035550</td>\n",
       "      <td>0.047950</td>\n",
       "      <td>0.057950</td>\n",
       "      <td>0.064500</td>\n",
       "      <td>0.100275</td>\n",
       "      <td>0.134125</td>\n",
       "      <td>0.154000</td>\n",
       "      <td>0.169600</td>\n",
       "      <td>0.233425</td>\n",
       "      <td>0.268700</td>\n",
       "      <td>...</td>\n",
       "      <td>0.020825</td>\n",
       "      <td>0.016725</td>\n",
       "      <td>0.014900</td>\n",
       "      <td>0.014500</td>\n",
       "      <td>0.012100</td>\n",
       "      <td>0.010575</td>\n",
       "      <td>0.010425</td>\n",
       "      <td>0.010350</td>\n",
       "      <td>0.010325</td>\n",
       "      <td>0.008525</td>\n",
       "    </tr>\n",
       "    <tr>\n",
       "      <th>max</th>\n",
       "      <td>0.137100</td>\n",
       "      <td>0.233900</td>\n",
       "      <td>0.305900</td>\n",
       "      <td>0.426400</td>\n",
       "      <td>0.401000</td>\n",
       "      <td>0.382300</td>\n",
       "      <td>0.372900</td>\n",
       "      <td>0.459000</td>\n",
       "      <td>0.682800</td>\n",
       "      <td>0.710600</td>\n",
       "      <td>...</td>\n",
       "      <td>0.100400</td>\n",
       "      <td>0.070900</td>\n",
       "      <td>0.039000</td>\n",
       "      <td>0.035200</td>\n",
       "      <td>0.044700</td>\n",
       "      <td>0.039400</td>\n",
       "      <td>0.035500</td>\n",
       "      <td>0.044000</td>\n",
       "      <td>0.036400</td>\n",
       "      <td>0.043900</td>\n",
       "    </tr>\n",
       "  </tbody>\n",
       "</table>\n",
       "<p>8 rows × 60 columns</p>\n",
       "</div>"
      ],
      "text/plain": [
       "                0           1           2           3           4           5  \\\n",
       "count  208.000000  208.000000  208.000000  208.000000  208.000000  208.000000   \n",
       "mean     0.029164    0.038437    0.043832    0.053892    0.075202    0.104570   \n",
       "std      0.022991    0.032960    0.038428    0.046528    0.055552    0.059105   \n",
       "min      0.001500    0.000600    0.001500    0.005800    0.006700    0.010200   \n",
       "25%      0.013350    0.016450    0.018950    0.024375    0.038050    0.067025   \n",
       "50%      0.022800    0.030800    0.034300    0.044050    0.062500    0.092150   \n",
       "75%      0.035550    0.047950    0.057950    0.064500    0.100275    0.134125   \n",
       "max      0.137100    0.233900    0.305900    0.426400    0.401000    0.382300   \n",
       "\n",
       "                6           7           8           9  ...          50  \\\n",
       "count  208.000000  208.000000  208.000000  208.000000  ...  208.000000   \n",
       "mean     0.121747    0.134799    0.178003    0.208259  ...    0.016069   \n",
       "std      0.061788    0.085152    0.118387    0.134416  ...    0.012008   \n",
       "min      0.003300    0.005500    0.007500    0.011300  ...    0.000000   \n",
       "25%      0.080900    0.080425    0.097025    0.111275  ...    0.008425   \n",
       "50%      0.106950    0.112100    0.152250    0.182400  ...    0.013900   \n",
       "75%      0.154000    0.169600    0.233425    0.268700  ...    0.020825   \n",
       "max      0.372900    0.459000    0.682800    0.710600  ...    0.100400   \n",
       "\n",
       "               51          52          53          54          55          56  \\\n",
       "count  208.000000  208.000000  208.000000  208.000000  208.000000  208.000000   \n",
       "mean     0.013420    0.010709    0.010941    0.009290    0.008222    0.007820   \n",
       "std      0.009634    0.007060    0.007301    0.007088    0.005736    0.005785   \n",
       "min      0.000800    0.000500    0.001000    0.000600    0.000400    0.000300   \n",
       "25%      0.007275    0.005075    0.005375    0.004150    0.004400    0.003700   \n",
       "50%      0.011400    0.009550    0.009300    0.007500    0.006850    0.005950   \n",
       "75%      0.016725    0.014900    0.014500    0.012100    0.010575    0.010425   \n",
       "max      0.070900    0.039000    0.035200    0.044700    0.039400    0.035500   \n",
       "\n",
       "               57          58          59  \n",
       "count  208.000000  208.000000  208.000000  \n",
       "mean     0.007949    0.007941    0.006507  \n",
       "std      0.006470    0.006181    0.005031  \n",
       "min      0.000300    0.000100    0.000600  \n",
       "25%      0.003600    0.003675    0.003100  \n",
       "50%      0.005800    0.006400    0.005300  \n",
       "75%      0.010350    0.010325    0.008525  \n",
       "max      0.044000    0.036400    0.043900  \n",
       "\n",
       "[8 rows x 60 columns]"
      ]
     },
     "execution_count": 39,
     "metadata": {},
     "output_type": "execute_result"
    }
   ],
   "source": [
    "# Zusammenfassung über alle Spalten\n",
    "sonar_df.describe()"
   ]
  },
  {
   "cell_type": "markdown",
   "id": "ae666a99-0b32-49b3-a7a6-a041b1f3d43d",
   "metadata": {},
   "source": [
    "Die statistische Zusammenfassung zeigt, dass die bereitgestellten Eingabevariablen numerisch sind und ungefähr zwischen 0 und 1 liegen."
   ]
  },
  {
   "cell_type": "code",
   "execution_count": 40,
   "id": "a65838d1-98fe-4172-b09f-09f8a3d6f7d6",
   "metadata": {},
   "outputs": [
    {
     "data": {
      "image/png": "[encoded data removed]",
      "text/plain": [
       "<Figure size 1080x720 with 64 Axes>"
      ]
     },
     "metadata": {},
     "output_type": "display_data"
    }
   ],
   "source": [
    "# Darstellung der Verteilungen aller Variablen\n",
    "params = {'axes.titlesize':'6',\n",
    "          'xtick.labelsize':'6',\n",
    "          'ytick.labelsize':'6'}\n",
    "\n",
    "matplotlib.rcParams.update(params)\n",
    "sonar_df.hist(bins=30, figsize=(15, 10))\n",
    "plt.show()"
   ]
  },
  {
   "cell_type": "markdown",
   "id": "dd404f41-f773-4e81-a3e4-b787a85e9d20",
   "metadata": {},
   "source": [
    "Wenn wir die Unübersichtlichkeit der Diagramme ignorieren und uns auf die Histogramme selbst konzentrieren, können wir erkennen, dass viele Variablen eine schiefe Verteilung aufweisen.\n",
    "\n",
    "Um es etwas interessanter für Euch zu gestalten und den Impact der jeweiligen Transformationen in der Klassifikation zu sehen, habe ich ein kleines Skript bereitgestellt, welches die transformierten Werte nimmt und eine K-Nearest Neighbour Klassifizierung als Test durchführt und das Ergebnis ausgibt.\n",
    "\n",
    "Wenn Ihr Interesse habt, könnt Ihr gerne selbst in das Skript reingucken. Das ist aber kein Muss, sondern eine interessante zusätzliche Aufgabe für diejenigen, die Lust haben.\n",
    "\n",
    "Als erstes Testen wir die Performance ohne Transformationen."
   ]
  },
  {
   "cell_type": "code",
   "execution_count": 41,
   "id": "08aa9f00-24d1-4ebe-9446-8cb26c3209ca",
   "metadata": {},
   "outputs": [],
   "source": [
    "import ml_model_and_test as ml"
   ]
  },
  {
   "cell_type": "code",
   "execution_count": 42,
   "id": "5d98c0d3-7bbe-4225-9c82-19d8e3a5ff1f",
   "metadata": {},
   "outputs": [
    {
     "name": "stdout",
     "output_type": "stream",
     "text": [
      "Accuracy: 0.797 (0.073)\n"
     ]
    }
   ],
   "source": [
    "### TEST HERE ###\n",
    "ml.evaluation(X = sonar_df.values[:, :-1], y = sonar_df.values[:, -1])"
   ]
  },
  {
   "cell_type": "markdown",
   "id": "dbbed4e5-20c6-43f7-9bd7-4479f0801966",
   "metadata": {},
   "source": [
    "Wir können sehen, dass das Model mit einer Genauigkeit von ca. 80% korrekt vorhergesagt wird, ob die Frequenzenmessungen ein metallisches oder steinartiges Objekt erkennen.\n",
    "\n",
    "**Anmerkung**: Bitte bedenke, dass auf Grundlage der Natur des Algorithmus die Ergebnisse leicht abweichen können."
   ]
  },
  {
   "cell_type": "markdown",
   "id": "b0eb9882-a779-48dc-a9c4-507445402655",
   "metadata": {},
   "source": [
    "---"
   ]
  },
  {
   "cell_type": "markdown",
   "id": "cbe78b8b-f2db-4f93-a565-b61da87fe3b7",
   "metadata": {},
   "source": [
    "**Aufgabe 12**: Führe eine Transformation mit Hilfe der `Min-Max Skalierung` durch, um die Werte auf einen Bereich von 0 bis 1 zu standardisieren. Führe anschließend den Test durch und sehe, wie sich die Performance verändert. Sichere die transfomierten Inputvariablen in einen neuen DataFrame mit der Bezeichnung `sonar_df_mmtrans`"
   ]
  },
  {
   "cell_type": "code",
   "execution_count": 43,
   "id": "874263e2-f430-48f8-92a2-f26f50c68a4b",
   "metadata": {},
   "outputs": [],
   "source": [
    "### CODE HERE ###\n",
    "from sklearn.preprocessing import MinMaxScaler\n",
    "\n",
    "mmtrans = MinMaxScaler()\n",
    "sonar_df_mmtrans = pd.DataFrame(mmtrans.fit_transform(sonar_df.values[:, :-1]))"
   ]
  },
  {
   "cell_type": "code",
   "execution_count": 44,
   "id": "9f7e0660-47c3-4872-a16e-9075ca7b4e6e",
   "metadata": {},
   "outputs": [
    {
     "name": "stdout",
     "output_type": "stream",
     "text": [
      "Test successful\n",
      "               0           1           2           3           4           5   \\\n",
      "count  208.000000  208.000000  208.000000  208.000000  208.000000  208.000000   \n",
      "mean     0.204011    0.162180    0.139068    0.114342    0.173732    0.253615   \n",
      "std      0.169550    0.141277    0.126242    0.110623    0.140888    0.158843   \n",
      "min      0.000000    0.000000    0.000000    0.000000    0.000000    0.000000   \n",
      "25%      0.087389    0.067938    0.057326    0.044163    0.079508    0.152714   \n",
      "50%      0.157080    0.129447    0.107753    0.090942    0.141517    0.220236   \n",
      "75%      0.251106    0.202958    0.185447    0.139563    0.237319    0.333042   \n",
      "max      1.000000    1.000000    1.000000    1.000000    1.000000    1.000000   \n",
      "\n",
      "               6           7           8           9   ...          50  \\\n",
      "count  208.000000  208.000000  208.000000  208.000000  ...  208.000000   \n",
      "mean     0.320472    0.285114    0.252485    0.281652  ...    0.160047   \n",
      "std      0.167175    0.187767    0.175311    0.192215  ...    0.119607   \n",
      "min      0.000000    0.000000    0.000000    0.000000  ...    0.000000   \n",
      "25%      0.209957    0.165215    0.132571    0.142964  ...    0.083914   \n",
      "50%      0.280438    0.235061    0.214349    0.244673  ...    0.138446   \n",
      "75%      0.407738    0.361852    0.334555    0.368082  ...    0.207420   \n",
      "max      1.000000    1.000000    1.000000    1.000000  ...    1.000000   \n",
      "\n",
      "               51          52          53          54          55          56  \\\n",
      "count  208.000000  208.000000  208.000000  208.000000  208.000000  208.000000   \n",
      "mean     0.180031    0.265172    0.290669    0.197061    0.200555    0.213642   \n",
      "std      0.137432    0.183385    0.213474    0.160717    0.147080    0.164361   \n",
      "min      0.000000    0.000000    0.000000    0.000000    0.000000    0.000000   \n",
      "25%      0.092368    0.118831    0.127924    0.080499    0.102564    0.096591   \n",
      "50%      0.151213    0.235065    0.242690    0.156463    0.165385    0.160511   \n",
      "75%      0.227175    0.374026    0.394737    0.260771    0.260897    0.287642   \n",
      "max      1.000000    1.000000    1.000000    1.000000    1.000000    1.000000   \n",
      "\n",
      "               57          58          59  \n",
      "count  208.000000  208.000000  208.000000  \n",
      "mean     0.175035    0.216015    0.136425  \n",
      "std      0.148051    0.170286    0.116190  \n",
      "min      0.000000    0.000000    0.000000  \n",
      "25%      0.075515    0.098485    0.057737  \n",
      "50%      0.125858    0.173554    0.108545  \n",
      "75%      0.229977    0.281680    0.183025  \n",
      "max      1.000000    1.000000    1.000000  \n",
      "\n",
      "[8 rows x 60 columns]\n"
     ]
    },
    {
     "data": {
      "image/png": "[encoded data removed]",
      "text/plain": [
       "<Figure size 1080x720 with 64 Axes>"
      ]
     },
     "metadata": {},
     "output_type": "display_data"
    }
   ],
   "source": [
    "### TEST HERE ###\n",
    "if all(sonar_df_mmtrans.describe().loc['max'].values.round(decimals=0) == 1) and \\\n",
    "    all(sonar_df_mmtrans.describe().loc['min'].values.round(decimals=0) == 0) and \\\n",
    "        sonar_df_mmtrans.sum().sum() == 4354.773996015757:\n",
    "    \n",
    "        print(\"Test successful\")\n",
    "        \n",
    "        print(sonar_df_mmtrans.describe())\n",
    "        sonar_df.hist(bins=30, figsize=(15, 10))\n",
    "        plt.show()\n",
    "        "
   ]
  },
  {
   "cell_type": "markdown",
   "id": "f2fd59eb-16f8-4d4c-b9fe-108651643037",
   "metadata": {},
   "source": [
    "Wir können sehen, dass die Verteilungen angepasst wurden und dass die Minimal- und Maximalwerte für jede Variable nun bei 0.0 bzw. 1.0 liegen. Darüber hinaus hat sich die Art der Verrteilungen, durch groben Vergleich der Histogramme, wenig verändert. Lasst uns nun die transformierten Werte verwenden, um das Modell zu trainieren."
   ]
  },
  {
   "cell_type": "code",
   "execution_count": 45,
   "id": "6d1b517b-b2c7-4c7a-9cd9-c7cff6c29607",
   "metadata": {},
   "outputs": [
    {
     "name": "stdout",
     "output_type": "stream",
     "text": [
      "Accuracy: 0.811 (0.093)\n"
     ]
    }
   ],
   "source": [
    "### TEST HERE ###\n",
    "ml.evaluation(X = sonar_df_mmtrans.values, y = sonar_df.values[:, -1])"
   ]
  },
  {
   "cell_type": "markdown",
   "id": "3aa9a6b2-f660-4934-84b5-6b4609e47ac9",
   "metadata": {},
   "source": [
    "Die Accuarcy auf Basis der MinMaxScaler-Transformation sollte zu einer geringen Leistungssteigerung geführt haben.\n"
   ]
  },
  {
   "cell_type": "markdown",
   "id": "fa8533f2-8a19-41a0-8aca-c4f8be3b03d0",
   "metadata": {},
   "source": [
    "Im nächsten Schritt wenden wir den **StandardScaler** direkt auf den Sonar-Datensatz an, um die Inputvariablen zu standardisieren."
   ]
  },
  {
   "cell_type": "markdown",
   "id": "1ea86512-6689-4b83-8a94-2e2ab181deb7",
   "metadata": {},
   "source": [
    "---"
   ]
  },
  {
   "cell_type": "markdown",
   "id": "3f6baf7f-be55-4146-b532-b6ae7d6f7d7f",
   "metadata": {},
   "source": [
    "**Aufgabe 13:** Führe eine Transformation mit Hilfe der `Standard Skalierung` durch. Führe anschließend den Test durch und sehe, wie sich die Performance des Klassifikators verändert. Sichere die transfomierten Inputvariablen in einen neuen DataFrame mit der Bezeichnung `sonar_df_sstrans`."
   ]
  },
  {
   "cell_type": "code",
   "execution_count": 46,
   "id": "fd6f7664-7e0d-4cf4-a6bf-9d9e5d5a6ef8",
   "metadata": {},
   "outputs": [],
   "source": [
    "### CODE HERE ###\n",
    "from sklearn.preprocessing import StandardScaler\n",
    "\n",
    "sstrans = StandardScaler()\n",
    "sonar_df_sstrans = pd.DataFrame(sstrans.fit_transform(sonar_df.values[:, :-1]))"
   ]
  },
  {
   "cell_type": "code",
   "execution_count": 47,
   "id": "1a134796-d5c8-4b8c-8dac-d8382a88f641",
   "metadata": {},
   "outputs": [
    {
     "name": "stdout",
     "output_type": "stream",
     "text": [
      "Test successful\n",
      "                 0             1             2             3             4   \\\n",
      "count  2.080000e+02  2.080000e+02  2.080000e+02  2.080000e+02  2.080000e+02   \n",
      "mean  -4.190024e-17  1.663333e-16 -9.661075e-17  1.627971e-16 -1.297039e-16   \n",
      "std    1.002413e+00  1.002413e+00  1.002413e+00  1.002413e+00  1.002413e+00   \n",
      "min   -1.206158e+00 -1.150725e+00 -1.104253e+00 -1.036115e+00 -1.236093e+00   \n",
      "25%   -6.894939e-01 -6.686781e-01 -6.490624e-01 -6.359298e-01 -6.703975e-01   \n",
      "50%   -2.774703e-01 -2.322506e-01 -2.486515e-01 -2.120457e-01 -2.292089e-01   \n",
      "75%    2.784345e-01  2.893335e-01  3.682681e-01  2.285353e-01  4.524231e-01   \n",
      "max    4.706053e+00  5.944643e+00  6.836142e+00  8.025419e+00  5.878863e+00   \n",
      "\n",
      "                 5             6             7             8             9   \\\n",
      "count  2.080000e+02  2.080000e+02  2.080000e+02  2.080000e+02  2.080000e+02   \n",
      "mean   2.017617e-16  9.607699e-17  1.271019e-17 -3.339343e-16  2.268485e-17   \n",
      "std    1.002413e+00  1.002413e+00  1.002413e+00  1.002413e+00  1.002413e+00   \n",
      "min   -1.600493e+00 -1.921613e+00 -1.522110e+00 -1.443689e+00 -1.468833e+00   \n",
      "25%   -6.367565e-01 -6.626732e-01 -6.400918e-01 -6.856590e-01 -7.232644e-01   \n",
      "50%   -2.106432e-01 -2.400524e-01 -2.672134e-01 -2.180558e-01 -1.928459e-01   \n",
      "75%    5.012417e-01  5.232608e-01  4.096773e-01  4.692723e-01  4.507410e-01   \n",
      "max    4.710224e+00  4.074573e+00  3.816498e+00  4.274237e+00  3.746234e+00   \n",
      "\n",
      "       ...            50            51            52            53  \\\n",
      "count  ...  2.080000e+02  2.080000e+02  2.080000e+02  2.080000e+02   \n",
      "mean   ...  3.736327e-18  1.316388e-16 -1.387779e-17 -1.793437e-16   \n",
      "std    ...  1.002413e+00  1.002413e+00  1.002413e+00  1.002413e+00   \n",
      "min    ... -1.341343e+00 -1.313126e+00 -1.449472e+00 -1.364897e+00   \n",
      "25%    ... -6.380641e-01 -6.394049e-01 -7.999231e-01 -7.642025e-01   \n",
      "50%    ... -1.810370e-01 -2.102002e-01 -1.645716e-01 -2.252935e-01   \n",
      "75%    ...  3.970293e-01  3.438640e-01  5.950106e-01  4.886751e-01   \n",
      "max    ...  7.039574e+00  5.980752e+00  4.016680e+00  3.330819e+00   \n",
      "\n",
      "                 54            55            56            57            58  \\\n",
      "count  2.080000e+02  2.080000e+02  2.080000e+02  2.080000e+02  2.080000e+02   \n",
      "mean   8.433425e-17 -2.199096e-16  4.590345e-17 -7.686159e-17  1.283695e-16   \n",
      "std    1.002413e+00  1.002413e+00  1.002413e+00  1.002413e+00  1.002413e+00   \n",
      "min   -1.229092e+00 -1.366868e+00 -1.302971e+00 -1.185113e+00 -1.271603e+00   \n",
      "25%   -7.270112e-01 -6.678488e-01 -7.138771e-01 -6.738235e-01 -6.918580e-01   \n",
      "50%   -2.532164e-01 -2.396997e-01 -3.240352e-01 -3.329639e-01 -2.499546e-01   \n",
      "75%    3.973675e-01  4.112618e-01  4.513169e-01  3.719959e-01  3.865486e-01   \n",
      "max    5.008027e+00  5.448568e+00  4.795888e+00  5.585599e+00  4.615037e+00   \n",
      "\n",
      "                 59  \n",
      "count  2.080000e+02  \n",
      "mean   3.149190e-17  \n",
      "std    1.002413e+00  \n",
      "min   -1.176985e+00  \n",
      "25%   -6.788714e-01  \n",
      "50%   -2.405314e-01  \n",
      "75%    4.020352e-01  \n",
      "max    7.450343e+00  \n",
      "\n",
      "[8 rows x 60 columns]\n"
     ]
    },
    {
     "data": {
      "image/png": "[encoded data removed]",
      "text/plain": [
       "<Figure size 1080x720 with 64 Axes>"
      ]
     },
     "metadata": {},
     "output_type": "display_data"
    }
   ],
   "source": [
    "### TEST HERE ###\n",
    "if all(sonar_df_sstrans.describe().loc['std'].values.round(decimals=0) == 1) and \\\n",
    "    all(sonar_df_sstrans.describe().loc['mean'].values.round(decimals=0) == 0) and \\\n",
    "        round(sonar_df_sstrans.sum().sum(), 1) == 0.0:\n",
    "    \n",
    "        print(\"Test successful\")\n",
    "        \n",
    "        print(sonar_df_sstrans.describe())\n",
    "        sonar_df.hist(bins=30, figsize=(15, 10))\n",
    "        plt.show()"
   ]
  },
  {
   "cell_type": "markdown",
   "id": "2adf1d8d-91d7-48c1-bb2e-5f8735954156",
   "metadata": {},
   "source": [
    "Wir können sehen, dass die Verteilungen angepasst wurden und dass der Mittelwert eine sehr kleine Zahl nahe bei `0.0` ist und die Standardabweichung für jede Variable sehr nahe bei `1.0` liegt."
   ]
  },
  {
   "cell_type": "code",
   "execution_count": 48,
   "id": "b3d4d73e-ef1f-4381-9e60-7b2497a52e07",
   "metadata": {},
   "outputs": [
    {
     "name": "stdout",
     "output_type": "stream",
     "text": [
      "Accuracy: 0.806 (0.079)\n"
     ]
    }
   ],
   "source": [
    "### TEST HERE ###\n",
    "ml.evaluation(X = sonar_df_sstrans.values, y = sonar_df.values[:, -1])"
   ]
  },
  {
   "cell_type": "markdown",
   "id": "275496e3-5143-4ff3-8476-f26ca6f1ac7e",
   "metadata": {},
   "source": [
    "Die Accuarcy auf Basis der StandardScaler-Transformation sollte zu einer geringen Leistungssteigerung geführt haben."
   ]
  },
  {
   "cell_type": "markdown",
   "id": "b6ce442c-e7a7-42f0-aef3-6d2555c48dff",
   "metadata": {},
   "source": [
    "### Interpretation der Ergebniss"
   ]
  },
  {
   "cell_type": "markdown",
   "id": "f8f320e1-805b-4d34-9067-2123e716ae11",
   "metadata": {},
   "source": [
    "**Aufgabe 14:** Wann sollten Inputvariablen normalisiert (z. B. über `Min-Max-Scaler`) oder standardisiert (z. B. über `StandardScaler`) werden?\n"
   ]
  },
  {
   "cell_type": "markdown",
   "id": "29c99362-029c-4c00-bed8-2044d0557cad",
   "metadata": {},
   "source": [
    "`### BEGRÜNDUNG HERE ###`"
   ]
  },
  {
   "cell_type": "markdown",
   "id": "2714059d-a066-4247-8411-ccfb6c56aeb2",
   "metadata": {},
   "source": [
    "**Lösung:** Ob Input skaliert werden müssen, hängt von den Besonderheiten der Fragestellung und der einzelnen Variablen ab. Möglicherweise gibt es eine Reihe von Größen als Eingaben, z. B. Preise oder Temperaturen. Wenn die Verteilung der Menge normal ist, dann sollte diese **standardisiert** werden, andernfalls sollten die Daten **normalisiert** werden. Dies gilt, wenn der Bereich der Mengenwerte groß (10er, 100er, usw.) oder klein (0,01, 0,0001) ist.\n",
    "\n",
    "Genannte Manipulationen werden im Allgemeinen verwendet, um die numerische Stabilität einiger Berechnungen zu verbessern. Einige Modelle [...] profitieren davon, dass die Prädiktoren auf einer gemeinsamen Skala liegen.\n",
    "\n",
    "Im Zweifelsfall sollten die Inputvariablen **normalisiert** werden. Wenn über die nötigen Ressourcen verfügt werden, sollte die Modellierung mit Rohdaten, standardisierten Daten und normalisierten Daten untersucht und geprüft werden. Der positive Unterschied in der Leistung des resultierenden Modells entscheidet dann."
   ]
  },
  {
   "cell_type": "markdown",
   "id": "f4d348c1-4833-4166-a6e4-91bbed9f0d6b",
   "metadata": {},
   "source": [
    "---"
   ]
  },
  {
   "cell_type": "markdown",
   "id": "f3ee81fc-500a-4220-8652-bc89e3135931",
   "metadata": {},
   "source": [
    "**Aufgabe 15**: Sollte erst standardisiert und dann normalisiert werden?"
   ]
  },
  {
   "cell_type": "markdown",
   "id": "21397886-c455-468d-840a-b4c2e3e85573",
   "metadata": {},
   "source": [
    "`### BEGRÜNDUNG HERE ###`"
   ]
  },
  {
   "cell_type": "markdown",
   "id": "593cae73-e493-40ba-88cf-d6e2c30b3784",
   "metadata": {},
   "source": [
    "**Lösung**: Die **Standardisierung** kann sowohl positive als auch negative Werte ergeben, die um null herum zentriert sind. Es kann wünschenswert sein, Daten zu normalisieren, nachdem sie standardisiert wurden.\n",
    "\n",
    "Dies kann sinnvoll sein, wenn es am Ende der Transformation eine Mischung aus standardisierten und normalisierten Variablen vorhanden ist. Durch eine **Normalisierung** haben somit alle Inputvariablen dieselben Minimal- und Maximalwerte für einen bestimmten Algorithmus. \n",
    "\n",
    "Dies ist zum Beispiel entscheidend für **ML-Algorithmen**, die die **Abstandsmaße** berechnen."
   ]
  },
  {
   "cell_type": "markdown",
   "id": "23d639f3-c8d4-4821-83a1-b9e0142ad2fb",
   "metadata": {},
   "source": [
    "---"
   ]
  },
  {
   "cell_type": "markdown",
   "id": "ade2c3d9-b629-429f-bea6-22299d1137b9",
   "metadata": {},
   "source": [
    "**Aufgabe 16:** Was funktioniert nun besser? Standardisierung oder Normalisierung?"
   ]
  },
  {
   "cell_type": "markdown",
   "id": "baea7f41-876e-4b3e-a447-bb8cdc5413cd",
   "metadata": {},
   "source": [
    "`### BEGRÜNDUNG HERE ###`"
   ]
  },
  {
   "cell_type": "markdown",
   "id": "fd5b4d84-64e4-4ca0-8fa0-88bfe6c5d220",
   "metadata": {},
   "source": [
    "**Lösung**: Dies ist ungewiss. Evaluiere die Modelle anhand von Daten, die mit jeder Transformation vorbereitet wurden, und verwende die **Transformation oder Kombination von Transformationen**, die für Ihren Datensatz die **beste Leistung** für Ihr Modell ergibt."
   ]
  },
  {
   "cell_type": "markdown",
   "id": "58eb8f11-92f5-463f-845b-261175de62ed",
   "metadata": {},
   "source": [
    "---"
   ]
  },
  {
   "cell_type": "markdown",
   "id": "7fb7bcde-71f9-4327-a730-e62d62eeb9ba",
   "metadata": {},
   "source": [
    "**Aufgabe 17:** Wie werden Werte behandelt, die potenziell später hinzukommen und so außerhalb der definierten Grenzen des Wertebereichs liegen?"
   ]
  },
  {
   "cell_type": "markdown",
   "id": "4cb6fe17-105a-444a-9c4c-02e68d824294",
   "metadata": {},
   "source": [
    "`### BEGRÜNDUNG HERE ###`"
   ]
  },
  {
   "cell_type": "markdown",
   "id": "e9c812c2-5915-4f6e-a8d9-9d9aa5db6eae",
   "metadata": {},
   "source": [
    "**Lösung**: Daten können **normalisiert** werden, indem das Minimum und das Maximum der Trainingsdaten berechnet werden. Später können neue Daten hinzukommen, deren Werte kleiner oder größer als das Minimum bzw. Maximum sind.\n",
    "\n",
    "Ein einfacher Ansatz zur Behandlung dieses Problems kann darin bestehen, dass vor der Skalierung geprüft wird, ob solche Werte außerhalb der Grenzen liegen, und diese Werte auf das bekannte Minimum oder Maximum ändern. Alternativ können bei der Normalisierung verwendeten Minimal- und Maximalwerte auch manuell auf der Grundlage von Fachwissen geschätzt werden."
   ]
  },
  {
   "cell_type": "markdown",
   "id": "e807d7ad-cbc4-4b16-bd2e-ddc6d3bcc697",
   "metadata": {},
   "source": [
    "![purple-divider](https://user-images.githubusercontent.com/7065401/52071927-c1cd7100-2562-11e9-908a-dde91ba14e59.png)"
   ]
  },
  {
   "cell_type": "markdown",
   "id": "32b8dcf9-2db4-4812-9b42-7756fe8627f0",
   "metadata": {},
   "source": [
    "## 4. Impute von fehlenden Werten über K-Nearest Neighbor Algorithmus"
   ]
  },
  {
   "cell_type": "markdown",
   "id": "7932f9ba-25a7-4203-9672-1358cdf147b8",
   "metadata": {},
   "source": [
    "Für die Durchführung der folgenden Übung verwenden wir wieder den **Boston Housing Datensatz** aus Abschnitt 2. Unten angestellt eine kleine Erinnerung wie der Datensatz aussieht:"
   ]
  },
  {
   "cell_type": "code",
   "execution_count": 49,
   "id": "0ec53c6f-041a-4f68-943b-699da7308893",
   "metadata": {},
   "outputs": [
    {
     "data": {
      "text/html": [
       "<div>\n",
       "<style scoped>\n",
       "    .dataframe tbody tr th:only-of-type {\n",
       "        vertical-align: middle;\n",
       "    }\n",
       "\n",
       "    .dataframe tbody tr th {\n",
       "        vertical-align: top;\n",
       "    }\n",
       "\n",
       "    .dataframe thead th {\n",
       "        text-align: right;\n",
       "    }\n",
       "</style>\n",
       "<table border=\"1\" class=\"dataframe\">\n",
       "  <thead>\n",
       "    <tr style=\"text-align: right;\">\n",
       "      <th></th>\n",
       "      <th>CRIM</th>\n",
       "      <th>ZN</th>\n",
       "      <th>INDUS</th>\n",
       "      <th>CHAS</th>\n",
       "      <th>NOX</th>\n",
       "      <th>RM</th>\n",
       "      <th>AGE</th>\n",
       "      <th>DIS</th>\n",
       "      <th>RAD</th>\n",
       "      <th>TAX</th>\n",
       "      <th>PTRATIO</th>\n",
       "      <th>B</th>\n",
       "      <th>LSTAT</th>\n",
       "      <th>PRICE</th>\n",
       "      <th>CRIM_log</th>\n",
       "      <th>CRIM_log2</th>\n",
       "      <th>CRIM_sqr</th>\n",
       "      <th>CRIM_bc</th>\n",
       "    </tr>\n",
       "  </thead>\n",
       "  <tbody>\n",
       "    <tr>\n",
       "      <th>0</th>\n",
       "      <td>0.00632</td>\n",
       "      <td>18.0</td>\n",
       "      <td>2.31</td>\n",
       "      <td>0.0</td>\n",
       "      <td>0.538</td>\n",
       "      <td>6.575</td>\n",
       "      <td>65.2</td>\n",
       "      <td>4.0900</td>\n",
       "      <td>1.0</td>\n",
       "      <td>296.0</td>\n",
       "      <td>15.3</td>\n",
       "      <td>396.90</td>\n",
       "      <td>4.98</td>\n",
       "      <td>24.0</td>\n",
       "      <td>-5.064036</td>\n",
       "      <td>-7.305860</td>\n",
       "      <td>0.079498</td>\n",
       "      <td>-6.843991</td>\n",
       "    </tr>\n",
       "    <tr>\n",
       "      <th>1</th>\n",
       "      <td>0.02731</td>\n",
       "      <td>0.0</td>\n",
       "      <td>7.07</td>\n",
       "      <td>0.0</td>\n",
       "      <td>0.469</td>\n",
       "      <td>6.421</td>\n",
       "      <td>78.9</td>\n",
       "      <td>4.9671</td>\n",
       "      <td>2.0</td>\n",
       "      <td>242.0</td>\n",
       "      <td>17.8</td>\n",
       "      <td>396.90</td>\n",
       "      <td>9.14</td>\n",
       "      <td>21.6</td>\n",
       "      <td>-3.600502</td>\n",
       "      <td>-5.194427</td>\n",
       "      <td>0.165257</td>\n",
       "      <td>-4.447833</td>\n",
       "    </tr>\n",
       "    <tr>\n",
       "      <th>2</th>\n",
       "      <td>0.02729</td>\n",
       "      <td>0.0</td>\n",
       "      <td>7.07</td>\n",
       "      <td>0.0</td>\n",
       "      <td>0.469</td>\n",
       "      <td>7.185</td>\n",
       "      <td>61.1</td>\n",
       "      <td>4.9671</td>\n",
       "      <td>2.0</td>\n",
       "      <td>242.0</td>\n",
       "      <td>17.8</td>\n",
       "      <td>392.83</td>\n",
       "      <td>4.03</td>\n",
       "      <td>34.7</td>\n",
       "      <td>-3.601235</td>\n",
       "      <td>-5.195484</td>\n",
       "      <td>0.165197</td>\n",
       "      <td>-4.448936</td>\n",
       "    </tr>\n",
       "    <tr>\n",
       "      <th>3</th>\n",
       "      <td>0.03237</td>\n",
       "      <td>0.0</td>\n",
       "      <td>2.18</td>\n",
       "      <td>0.0</td>\n",
       "      <td>0.458</td>\n",
       "      <td>6.998</td>\n",
       "      <td>45.8</td>\n",
       "      <td>6.0622</td>\n",
       "      <td>3.0</td>\n",
       "      <td>222.0</td>\n",
       "      <td>18.7</td>\n",
       "      <td>394.63</td>\n",
       "      <td>2.94</td>\n",
       "      <td>33.4</td>\n",
       "      <td>-3.430523</td>\n",
       "      <td>-4.949199</td>\n",
       "      <td>0.179917</td>\n",
       "      <td>-4.194470</td>\n",
       "    </tr>\n",
       "    <tr>\n",
       "      <th>4</th>\n",
       "      <td>0.06905</td>\n",
       "      <td>0.0</td>\n",
       "      <td>2.18</td>\n",
       "      <td>0.0</td>\n",
       "      <td>0.458</td>\n",
       "      <td>7.147</td>\n",
       "      <td>54.2</td>\n",
       "      <td>6.0622</td>\n",
       "      <td>3.0</td>\n",
       "      <td>222.0</td>\n",
       "      <td>18.7</td>\n",
       "      <td>396.90</td>\n",
       "      <td>5.33</td>\n",
       "      <td>36.2</td>\n",
       "      <td>-2.672924</td>\n",
       "      <td>-3.856215</td>\n",
       "      <td>0.262774</td>\n",
       "      <td>-3.122838</td>\n",
       "    </tr>\n",
       "  </tbody>\n",
       "</table>\n",
       "</div>"
      ],
      "text/plain": [
       "      CRIM    ZN  INDUS  CHAS    NOX     RM   AGE     DIS  RAD    TAX  \\\n",
       "0  0.00632  18.0   2.31   0.0  0.538  6.575  65.2  4.0900  1.0  296.0   \n",
       "1  0.02731   0.0   7.07   0.0  0.469  6.421  78.9  4.9671  2.0  242.0   \n",
       "2  0.02729   0.0   7.07   0.0  0.469  7.185  61.1  4.9671  2.0  242.0   \n",
       "3  0.03237   0.0   2.18   0.0  0.458  6.998  45.8  6.0622  3.0  222.0   \n",
       "4  0.06905   0.0   2.18   0.0  0.458  7.147  54.2  6.0622  3.0  222.0   \n",
       "\n",
       "   PTRATIO       B  LSTAT  PRICE  CRIM_log  CRIM_log2  CRIM_sqr   CRIM_bc  \n",
       "0     15.3  396.90   4.98   24.0 -5.064036  -7.305860  0.079498 -6.843991  \n",
       "1     17.8  396.90   9.14   21.6 -3.600502  -5.194427  0.165257 -4.447833  \n",
       "2     17.8  392.83   4.03   34.7 -3.601235  -5.195484  0.165197 -4.448936  \n",
       "3     18.7  394.63   2.94   33.4 -3.430523  -4.949199  0.179917 -4.194470  \n",
       "4     18.7  396.90   5.33   36.2 -2.672924  -3.856215  0.262774 -3.122838  "
      ]
     },
     "execution_count": 49,
     "metadata": {},
     "output_type": "execute_result"
    }
   ],
   "source": [
    "boston_df.head(5)"
   ]
  },
  {
   "cell_type": "markdown",
   "id": "325db65d-ca8f-4c66-9937-5e662f9027d1",
   "metadata": {},
   "source": [
    "Der Datensatz hat keine fehlenden Werte bisher. Das werden wir kurz ändern. Anbei findet Ihr drei Index-Arrays, die zufällig gewälht sind mit den Größen `[40, 20, 5]`.\n",
    "\n",
    "Diese drei Index-Arrays verwenden wir, um die jeweiligen Werte für die Variablen `INDUS`, `TAX` und `RM` auf `NULL` zu setzen."
   ]
  },
  {
   "cell_type": "code",
   "execution_count": 50,
   "id": "59aa742a-131d-49dc-a9fe-4b5e8afbc2ad",
   "metadata": {},
   "outputs": [
    {
     "data": {
      "text/plain": [
       "CRIM          0\n",
       "ZN            0\n",
       "INDUS        38\n",
       "CHAS          0\n",
       "NOX           0\n",
       "RM            5\n",
       "AGE           0\n",
       "DIS           0\n",
       "RAD           0\n",
       "TAX          20\n",
       "PTRATIO       0\n",
       "B             0\n",
       "LSTAT         0\n",
       "PRICE         0\n",
       "CRIM_log      0\n",
       "CRIM_log2     0\n",
       "CRIM_sqr      0\n",
       "CRIM_bc       0\n",
       "dtype: int64"
      ]
     },
     "execution_count": 50,
     "metadata": {},
     "output_type": "execute_result"
    }
   ],
   "source": [
    "i1 = [25,  70, 204,  33, 348, 144,  39, 194, 140, 188, 225, 285, 418,\n",
    "      435, 352, 124, 481, 433, 192,  60, 436, 106, 468, 385, 498,  37,\n",
    "      160, 490, 289,  82,  14, 128, 114, 465,  37, 204, 342,  32, 266,\n",
    "      438]\n",
    "i2 = [154,  20, 418,  11, 439, 471, 383,  38,  27, 181, 163,  98, 266,\n",
    "      351, 100,  48, 292,  71, 502,   2]\n",
    "i3 = [89,  15,   5, 195, 403]\n",
    "\n",
    "boston_df.loc[i1, 'INDUS'] = np.nan\n",
    "boston_df.loc[i2, 'TAX'] = np.nan\n",
    "boston_df.loc[i3, 'RM'] = np.nan\n",
    "\n",
    "boston_df.isnull().sum()"
   ]
  },
  {
   "cell_type": "markdown",
   "id": "0d40efa1-7ba5-46c7-aced-8cf6e73ad3c9",
   "metadata": {},
   "source": [
    "---"
   ]
  },
  {
   "cell_type": "markdown",
   "id": "9b12e664-b3c3-42ee-9c50-ef7c7b7d49d5",
   "metadata": {},
   "source": [
    "**Aufgabe 18**: Füre einen `KNN-Imputer`über `sklearn`aus. Importiere dafür die Library. Nutze für den KNN-Imputer den Parameter `n_neighbors=3`. Überführe die resultierenden Daten in einen gesamtheitlichen DataFrame mit dem Variablennamen `boston_df_imputed`."
   ]
  },
  {
   "cell_type": "code",
   "execution_count": 51,
   "id": "37a7ab01-7546-478f-b808-aa397aae6133",
   "metadata": {},
   "outputs": [],
   "source": [
    "### CODE HERE ###\n",
    "from sklearn.impute import KNNImputer\n",
    "\n",
    "KNN_imputer = KNNImputer(n_neighbors=3)\n",
    "imputed = KNN_imputer.fit_transform(boston_df)\n",
    "boston_df_imputed = pd.DataFrame(imputed, columns = boston_df.columns)"
   ]
  },
  {
   "cell_type": "code",
   "execution_count": 52,
   "id": "3724779a-74ca-4a6e-8f51-5f6a0583e267",
   "metadata": {},
   "outputs": [],
   "source": [
    "### TEST HERE ###\n",
    "if boston_df_imputed.loc[i1, 'INDUS'].sum() + boston_df_imputed.loc[i2, 'TAX'].sum() + \\\n",
    "    boston_df_imputed.loc[i3, 'RM'].sum() == 8286.306333333332:\n",
    "    print(\"Test successful\\n\")\n",
    "    \n",
    "    print(\"Überprüfung fehlender Werte:\\n\", boston_df_imputed.isnull().sum())\n",
    "    \n",
    "    print(\"\\nImpute Werte für INDUS: \", list(boston_df_imputed.loc[i1, 'INDUS'].values))"
   ]
  },
  {
   "cell_type": "markdown",
   "id": "d28494cf-1b9e-4f7f-bb49-1cf434e3a5ad",
   "metadata": {},
   "source": [
    "In der vorangegangen Aufgabe haben wir den Parameter `n_neighbors=3` vorgegeben. Die Frage ist, wie wir den optimalen Wert für K (Anzahl der berücksichtigten nächsten Punkte) finden.\n",
    "\n",
    "Die ist stark abhängig von den später gewählten Modellen, ML-Algorithmen und Zielen der Analyse. Im nachfolgenden ist beispielhaft dargestellt, wie eine Optimierung für einen `Random Forest Algorithmus` aussieht.\n",
    "\n",
    "Die Optimierung ist eine **Zusatzaufgabe** für Frewillige.\n",
    "\n",
    "Zur Optimierung nehmen wir folgende Schritte an:\n",
    "- Iteriere über den möglichen Bereich für K - alle Zahlen zwischen 1 und 20\n",
    "- Durchführung der Imputation mit dem aktuellen K-Wert\n",
    "- Aufteilung des Datensatzes in eine Trainings- und eine Testgruppe\n",
    "- Anpassung des [Random-Forests-Modells](https://levelup.gitconnected.com/random-forest-regression-209c0f354c84)\n",
    "- Vorhersage für die Testmenge\n",
    "- Auswertung anhand des [RMSE](https://www.statisticshowto.com/probability-and-statistics/regression-analysis/rmse-root-mean-square-error/) (Root Mean Square Error)\n",
    "\n",
    "Folgende Funktionen können hier nachgelesen werden:\n",
    "- sklearn [`train_test_split`](https://scikit-learn.org/stable/modules/generated/sklearn.model_selection.train_test_split.html)\n",
    "- sklearn [`RandomForestRegressor`](https://scikit-learn.org/stable/modules/generated/sklearn.ensemble.RandomForestRegressor.html)\n",
    "- sklearn [`mean_squared_error`](https://scikit-learn.org/stable/modules/generated/sklearn.metrics.mean_squared_error.html)"
   ]
  },
  {
   "cell_type": "markdown",
   "id": "0499302a-9f79-4ecd-b485-ae968bb7780b",
   "metadata": {},
   "source": [
    "---"
   ]
  },
  {
   "cell_type": "markdown",
   "id": "d66171c2-f641-4b42-a589-625b67d0de69",
   "metadata": {},
   "source": [
    "**Aufgabe 19 (Zusatzaufgabe):**  Ergänze die fehlenden Zeilen auf Basis der Intruktionen. Versuche dem kommentierten Code zu folgen und die wesentlichen Schritte nachzuvollziehen."
   ]
  },
  {
   "cell_type": "code",
   "execution_count": 53,
   "id": "4bf76f0c-4992-4ae3-b9da-e20f3b500733",
   "metadata": {},
   "outputs": [],
   "source": [
    "### CODE HERE ###\n",
    "from sklearn.model_selection import train_test_split\n",
    "from sklearn.ensemble import RandomForestRegressor\n",
    "from sklearn.metrics import mean_squared_error\n",
    "from math import sqrt\n",
    "\n",
    "def optimize_k(data, target, range_k):\n",
    "    \n",
    "    # Initialisierung leerer Liste zum sichern der Ergebnisse für unterschiedliche K\n",
    "    errors = []\n",
    "    \n",
    "    # Loop über alle Werte im range_k\n",
    "    for k in range(1, range_k, 1):\n",
    "        \n",
    "        # TODO: Führe für Parameter k eine KNN-Imputation durch und sichere in DaraFrame df_imputed \n",
    "        imputer = KNNImputer(n_neighbors=k)\n",
    "        imputed = imputer.fit_transform(data)\n",
    "        df_imputed = pd.DataFrame(imputed, columns=data.columns)\n",
    "        \n",
    "        # TODO: Teile die Daten in Inputvariable X und Targetvariable y - hier Variable target\n",
    "        X = df_imputed.drop(target, axis=1)\n",
    "        y = df_imputed[target]\n",
    "        \n",
    "        # Teile die Daten in Trainings- und Testset über SKlearn train_test_split\n",
    "        X_train, X_test, y_train, y_test = train_test_split(X, y, test_size=0.2, random_state=42)\n",
    "        \n",
    "        # Aufsetzen des Modells\n",
    "        model = RandomForestRegressor(random_state=42)\n",
    "        \n",
    "        # Trainieren des Modells\n",
    "        model.fit(X_train, y_train)\n",
    "        \n",
    "        # Erhalt der Prediction für X_test\n",
    "        preds = model.predict(X_test)\n",
    "        \n",
    "        # Berechnung des Errors über RMSE auf Basis der y_test Daten und der Prediction preds\n",
    "        error = sqrt(mean_squared_error(y_test,preds))\n",
    "        \n",
    "        # Hinzufügen des Berechneten Errors zu Liste erros\n",
    "        errors.append({'K': k, 'RMSE': error})\n",
    "        \n",
    "    return errors"
   ]
  },
  {
   "cell_type": "code",
   "execution_count": 54,
   "id": "c75f277e-2bf7-4ca4-a148-a8b15a14376b",
   "metadata": {},
   "outputs": [
    {
     "name": "stdout",
     "output_type": "stream",
     "text": [
      "{'K': 1, 'RMSE': 2.971741247015912}\n",
      "{'K': 2, 'RMSE': 3.2092037800614626}\n",
      "{'K': 3, 'RMSE': 3.2310332257471988}\n",
      "{'K': 4, 'RMSE': 3.280832422168639}\n",
      "{'K': 5, 'RMSE': 3.2312548479123184}\n",
      "{'K': 6, 'RMSE': 3.2806431504191615}\n",
      "{'K': 7, 'RMSE': 3.2750494652752966}\n",
      "{'K': 8, 'RMSE': 3.2114697691915723}\n",
      "{'K': 9, 'RMSE': 3.19272508534453}\n",
      "{'K': 10, 'RMSE': 3.20858637402951}\n",
      "{'K': 11, 'RMSE': 3.224568416174206}\n",
      "{'K': 12, 'RMSE': 3.2082601906610355}\n",
      "{'K': 13, 'RMSE': 3.244208439968182}\n",
      "{'K': 14, 'RMSE': 3.2218163766276127}\n",
      "{'K': 15, 'RMSE': 3.222926742002326}\n",
      "{'K': 16, 'RMSE': 3.215088956778645}\n",
      "{'K': 17, 'RMSE': 3.2361648265058625}\n",
      "{'K': 18, 'RMSE': 3.242346076289724}\n",
      "{'K': 19, 'RMSE': 3.275255161441474}\n",
      "\n",
      "Lowest Error Item:  {'K': 1, 'RMSE': 2.971741247015912}\n"
     ]
    },
    {
     "data": {
      "image/png": "[encoded data removed]",
      "text/plain": [
       "<Figure size 432x288 with 1 Axes>"
      ]
     },
     "metadata": {},
     "output_type": "display_data"
    }
   ],
   "source": [
    "# Aufrufen der Funktion\n",
    "k_errors = optimize_k(data=boston_df, target='PRICE', range_k=20)\n",
    "\n",
    "# Printe die Ergebnisse pro Iteration\n",
    "for line in k_errors:\n",
    "    print(line)\n",
    "    \n",
    "# Erhalte das Minimum des RMSE\n",
    "minPricedItem = min(k_errors, key=lambda x:x['RMSE'])\n",
    "print(\"\\nLowest Error Item: \", minPricedItem)\n",
    "\n",
    "# Visualisierung des RMSE gegen K\n",
    "curve = pd.DataFrame(data = k_errors)\n",
    "curve = curve.set_index('K')\n",
    "curve.plot()\n",
    "plt.ylabel('RMSE')\n",
    "plt.show()"
   ]
  },
  {
   "cell_type": "markdown",
   "id": "4e068dc0-af10-45a0-876b-cd7fe1873860",
   "metadata": {},
   "source": [
    "---"
   ]
  },
  {
   "cell_type": "markdown",
   "id": "3d4c330e-74ae-4c72-ad4d-62f82510fc8d",
   "metadata": {},
   "source": [
    "**Aufgabe 20 (Zusatzaufgabe):**  Interpretiere die Ergebnisse. Was sagt der Wert von RMSE für K=12 aus? Und Spezialfrage: Warum ändert sich das Ergebnis, wenn der `RandomState` für das `RandomForestRegression` Model geändert wird?"
   ]
  },
  {
   "cell_type": "markdown",
   "id": "fc99d4f0-1403-4df2-b5c1-8026fae5c5ec",
   "metadata": {},
   "source": [
    "`### BEGRÜNDUNG HERE ###`"
   ]
  },
  {
   "cell_type": "markdown",
   "id": "8e919232-7490-4c8a-ab4a-91c3069e370a",
   "metadata": {},
   "source": [
    "**Lösung**: Es sieht so aus, als ob K=12 der optimale Wert in dem gegebenen Bereich ist, da er den kleinsten Fehler ergibt. Der Fehler mithilfe des mittleren quadratischen Fehlers berechnet, der die Standardabweichung der Residuen (Vorhersagefehler) wiedergibt.\n",
    "\n",
    "Residuen sind ein Maß dafür, wie weit die Datenpunkte von der Regressionslinie entfernt sind; RMSE ist ein Maß dafür, wie weit diese Residuen gestreut sind. Mit anderen Worten, er gibt an, wie konzentriert die Daten um die Linie der besten Anpassung sind.\n",
    "\n",
    "Die Minimierung dessen gibt eine gute Indikation für die beste Wahl von K zur Imputation der Daten."
   ]
  }
 ],
 "metadata": {
  "kernelspec": {
   "display_name": "Python 3 (ipykernel)",
   "language": "python",
   "name": "python3"
  },
  "language_info": {
   "codemirror_mode": {
    "name": "ipython",
    "version": 3
   },
   "file_extension": ".py",
   "mimetype": "text/x-python",
   "name": "python",
   "nbconvert_exporter": "python",
   "pygments_lexer": "ipython3",
   "version": "3.9.12"
  }
 },
 "nbformat": 4,
 "nbformat_minor": 5
}
