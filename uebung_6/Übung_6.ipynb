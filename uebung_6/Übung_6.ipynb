{
 "cells": [
  {
   "cell_type": "markdown",
   "id": "4d27c809",
   "metadata": {},
   "source": [
    "# Übung 6"
   ]
  },
  {
   "cell_type": "code",
   "execution_count": 1,
   "id": "c4ad74cc",
   "metadata": {},
   "outputs": [],
   "source": [
    "import matplotlib.pyplot as plt\n",
    "import numpy as np\n",
    "import pandas as pd\n",
    "import seaborn as sns\n",
    "\n",
    "%matplotlib inline"
   ]
  },
  {
   "cell_type": "markdown",
   "id": "cac90370",
   "metadata": {},
   "source": [
    "**Datenimport**"
   ]
  },
  {
   "cell_type": "code",
   "execution_count": null,
   "id": "75b5ec26",
   "metadata": {},
   "outputs": [],
   "source": [
    "fluege = pd.read_csv(\"src/Airlines.csv\", index_col=\"id\")\n",
    "fluege[\"lane\"] = fluege[\"AirportFrom\"] + \"-\" + fluege[\"AirportTo\"]\n",
    "fluege.head()"
   ]
  }
 ],
 "metadata": {
  "kernelspec": {
   "display_name": "Python 3 (ipykernel)",
   "language": "python",
   "name": "python3"
  },
  "language_info": {
   "codemirror_mode": {
    "name": "ipython",
    "version": 3
   },
   "file_extension": ".py",
   "mimetype": "text/x-python",
   "name": "python",
   "nbconvert_exporter": "python",
   "pygments_lexer": "ipython3",
   "version": "3.9.7"
  }
 },
 "nbformat": 4,
 "nbformat_minor": 5
}
