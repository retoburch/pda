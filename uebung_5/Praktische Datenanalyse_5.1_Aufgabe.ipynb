{
 "cells": [
  {
   "cell_type": "markdown",
   "id": "7d7c4984-3712-406e-ab82-60cc6a075b1e",
   "metadata": {},
   "source": [
    "# ÜBUNG 5 Visualisierungen\n",
    "In dieser Übung geht es darum, verschiedene für unterschieldiche Datenvisualisierungen  kennenzulernen und zu arbeiten. Wir werden dazu mehrere Datensätzen nutzen. \n",
    "Zwei der wohl wichtigsten Packages sind die in der Vorlesung bereits angesprochenen **matplotlib** und **seaborn**."
   ]
  },
  {
   "cell_type": "code",
   "execution_count": 1,
   "id": "e8ba1f94-1f54-48dc-829c-4a96b75ba341",
   "metadata": {},
   "outputs": [],
   "source": [
    "import matplotlib.pyplot as plt\n",
    "import numpy as np\n",
    "import pandas as pd\n",
    "import seaborn as sns\n",
    "\n",
    "%matplotlib inline"
   ]
  },
  {
   "cell_type": "markdown",
   "id": "78d9de9e-a59e-487a-85c5-31d63582851f",
   "metadata": {},
   "source": [
    "## PART I Erste Diagramme"
   ]
  },
  {
   "cell_type": "markdown",
   "id": "7d3b5fea-047e-4544-a569-f6a5101a2233",
   "metadata": {},
   "source": [
    "**Aufgabe 1:** Erstelle ein **Scatter Plot Diagram** nutze dazu die Variablen **x**, **y**, **area** und **colors**. Gib dem Diagramm einen **Titel** und beschrifte die **Achsen**."
   ]
  },
  {
   "cell_type": "code",
   "execution_count": 2,
   "id": "f5625fba-0bc6-45e0-8288-b43a29df6270",
   "metadata": {},
   "outputs": [],
   "source": [
    "# Aufgabe Input\n",
    "N = 50\n",
    "x = np.random.rand(N)\n",
    "y = np.random.rand(N)\n",
    "area = (30 * np.random.rand(N)) ** 2\n",
    "colors = np.random.rand(N)"
   ]
  },
  {
   "cell_type": "code",
   "execution_count": 3,
   "id": "535cc0ab-6f67-4fbd-a5c1-724e422ce402",
   "metadata": {},
   "outputs": [],
   "source": [
    "### CODE HERE ###\n"
   ]
  },
  {
   "cell_type": "markdown",
   "id": "626a7a66-0fdb-43cb-a7df-89cd17ee4fc0",
   "metadata": {},
   "source": [
    "**Aufgabe 2:** Nutze Matplotlib, um die drei Diagramme nebeneinander in einer **'Figure'** zu erstellen. Nutze dazu **x**, **y** und die Liste **titel** und speicher die Figur als **png Bild**. Tipp: Ein Liniendiagram kannst du mit plt.plot() erstellen\n",
    "\n",
    "Erstelle folgende drei Diagramme:\n",
    "- y(x)</b>\n",
    "- x(y)\n",
    "- x(y*10)"
   ]
  },
  {
   "cell_type": "code",
   "execution_count": 4,
   "id": "10922b6d-38e7-4289-9a04-ab0dcf997a84",
   "metadata": {},
   "outputs": [],
   "source": [
    "x = np.linspace(0, 5, 11)\n",
    "y = x ** 2\n",
    "\n",
    "titel = [\"y(x)\", \"x(y)\", \"x(y*10)\"]"
   ]
  },
  {
   "cell_type": "code",
   "execution_count": 5,
   "id": "48380e01-730c-4f51-85f7-2f3e211e14db",
   "metadata": {},
   "outputs": [],
   "source": [
    "### CODE HERE ###"
   ]
  },
  {
   "cell_type": "markdown",
   "id": "4eb2385b-05ad-4382-9317-862b019652b3",
   "metadata": {},
   "source": [
    "## PART II Flüge in den USA Datensatz"
   ]
  },
  {
   "cell_type": "markdown",
   "id": "f927c714-87a8-4910-b5eb-d184c268bb59",
   "metadata": {},
   "source": [
    "**Ab jetzt arbeiten wir mit einem neuen interessanten Datensatz. Einem Airline Datensatz [link](https://www.kaggle.com/datasets/jimschacko/airlines-dataset-to-predict-a-delay?resource=download)**"
   ]
  },
  {
   "cell_type": "code",
   "execution_count": 6,
   "id": "a44771c9-ca53-4a99-958c-07c2cd15ef08",
   "metadata": {},
   "outputs": [
    {
     "data": {
      "text/html": [
       "<div>\n",
       "<style scoped>\n",
       "    .dataframe tbody tr th:only-of-type {\n",
       "        vertical-align: middle;\n",
       "    }\n",
       "\n",
       "    .dataframe tbody tr th {\n",
       "        vertical-align: top;\n",
       "    }\n",
       "\n",
       "    .dataframe thead th {\n",
       "        text-align: right;\n",
       "    }\n",
       "</style>\n",
       "<table border=\"1\" class=\"dataframe\">\n",
       "  <thead>\n",
       "    <tr style=\"text-align: right;\">\n",
       "      <th></th>\n",
       "      <th>Airline</th>\n",
       "      <th>Flight</th>\n",
       "      <th>AirportFrom</th>\n",
       "      <th>AirportTo</th>\n",
       "      <th>DayOfWeek</th>\n",
       "      <th>Time</th>\n",
       "      <th>Length</th>\n",
       "      <th>Delay</th>\n",
       "      <th>lane</th>\n",
       "    </tr>\n",
       "    <tr>\n",
       "      <th>id</th>\n",
       "      <th></th>\n",
       "      <th></th>\n",
       "      <th></th>\n",
       "      <th></th>\n",
       "      <th></th>\n",
       "      <th></th>\n",
       "      <th></th>\n",
       "      <th></th>\n",
       "      <th></th>\n",
       "    </tr>\n",
       "  </thead>\n",
       "  <tbody>\n",
       "    <tr>\n",
       "      <th>1</th>\n",
       "      <td>CO</td>\n",
       "      <td>269</td>\n",
       "      <td>SFO</td>\n",
       "      <td>IAH</td>\n",
       "      <td>3</td>\n",
       "      <td>15</td>\n",
       "      <td>205</td>\n",
       "      <td>1</td>\n",
       "      <td>SFO-IAH</td>\n",
       "    </tr>\n",
       "    <tr>\n",
       "      <th>2</th>\n",
       "      <td>US</td>\n",
       "      <td>1558</td>\n",
       "      <td>PHX</td>\n",
       "      <td>CLT</td>\n",
       "      <td>3</td>\n",
       "      <td>15</td>\n",
       "      <td>222</td>\n",
       "      <td>1</td>\n",
       "      <td>PHX-CLT</td>\n",
       "    </tr>\n",
       "    <tr>\n",
       "      <th>3</th>\n",
       "      <td>AA</td>\n",
       "      <td>2400</td>\n",
       "      <td>LAX</td>\n",
       "      <td>DFW</td>\n",
       "      <td>3</td>\n",
       "      <td>20</td>\n",
       "      <td>165</td>\n",
       "      <td>1</td>\n",
       "      <td>LAX-DFW</td>\n",
       "    </tr>\n",
       "    <tr>\n",
       "      <th>4</th>\n",
       "      <td>AA</td>\n",
       "      <td>2466</td>\n",
       "      <td>SFO</td>\n",
       "      <td>DFW</td>\n",
       "      <td>3</td>\n",
       "      <td>20</td>\n",
       "      <td>195</td>\n",
       "      <td>1</td>\n",
       "      <td>SFO-DFW</td>\n",
       "    </tr>\n",
       "    <tr>\n",
       "      <th>5</th>\n",
       "      <td>AS</td>\n",
       "      <td>108</td>\n",
       "      <td>ANC</td>\n",
       "      <td>SEA</td>\n",
       "      <td>3</td>\n",
       "      <td>30</td>\n",
       "      <td>202</td>\n",
       "      <td>0</td>\n",
       "      <td>ANC-SEA</td>\n",
       "    </tr>\n",
       "  </tbody>\n",
       "</table>\n",
       "</div>"
      ],
      "text/plain": [
       "   Airline  Flight AirportFrom AirportTo  DayOfWeek  Time  Length  Delay  \\\n",
       "id                                                                         \n",
       "1       CO     269         SFO       IAH          3    15     205      1   \n",
       "2       US    1558         PHX       CLT          3    15     222      1   \n",
       "3       AA    2400         LAX       DFW          3    20     165      1   \n",
       "4       AA    2466         SFO       DFW          3    20     195      1   \n",
       "5       AS     108         ANC       SEA          3    30     202      0   \n",
       "\n",
       "       lane  \n",
       "id           \n",
       "1   SFO-IAH  \n",
       "2   PHX-CLT  \n",
       "3   LAX-DFW  \n",
       "4   SFO-DFW  \n",
       "5   ANC-SEA  "
      ]
     },
     "execution_count": 6,
     "metadata": {},
     "output_type": "execute_result"
    }
   ],
   "source": [
    "fluege = pd.read_csv(\"src/Airlines.csv\", index_col=\"id\")\n",
    "fluege[\"lane\"] = fluege[\"AirportFrom\"] + \"-\" + fluege[\"AirportTo\"]\n",
    "fluege.head()"
   ]
  },
  {
   "cell_type": "markdown",
   "id": "cb469efd-6fa7-4e29-be09-5d6df4f51837",
   "metadata": {},
   "source": [
    "**Aufgabe 3:** Erstelle ein **Balkendiagramm**, welches die Anzahl der Flüge pro Airline zählt, absteigend sortiert und dabei zwischen verspäteten und pünktlichen Flügen unterscheidet."
   ]
  },
  {
   "cell_type": "code",
   "execution_count": 7,
   "id": "e2139998-9533-4159-a604-9c9414b7a882",
   "metadata": {},
   "outputs": [],
   "source": [
    "### CODE HERE ###"
   ]
  },
  {
   "cell_type": "markdown",
   "id": "b83a900b-4543-42a9-b74d-4738223037a3",
   "metadata": {},
   "source": [
    "**Aufgabe 4:** Erstelle ein **FacetGrid**, welches ein **Histogramm** über die Dauer der Flüge pro Airline anzeigt. Dabei sollen nur drei Diagramme pro Zeile angezeigt werden."
   ]
  },
  {
   "cell_type": "code",
   "execution_count": 8,
   "id": "48bf8ba1-d571-4d90-8de4-93721f9f789c",
   "metadata": {},
   "outputs": [],
   "source": [
    "### CODE HERE ###"
   ]
  },
  {
   "cell_type": "markdown",
   "id": "125fabd3-8b14-4e9a-90f1-f363ac059f48",
   "metadata": {},
   "source": [
    "**Wir erstellen ein neues DataFrame mit dem Namen lane_df, welches die Flüge nach den Lanes gruppiert und die Werte aggregiert.**"
   ]
  },
  {
   "cell_type": "code",
   "execution_count": 9,
   "id": "068ecbd8-5c00-400f-89b5-dc211f97714d",
   "metadata": {},
   "outputs": [
    {
     "data": {
      "text/html": [
       "<div>\n",
       "<style scoped>\n",
       "    .dataframe tbody tr th:only-of-type {\n",
       "        vertical-align: middle;\n",
       "    }\n",
       "\n",
       "    .dataframe tbody tr th {\n",
       "        vertical-align: top;\n",
       "    }\n",
       "\n",
       "    .dataframe thead th {\n",
       "        text-align: right;\n",
       "    }\n",
       "</style>\n",
       "<table border=\"1\" class=\"dataframe\">\n",
       "  <thead>\n",
       "    <tr style=\"text-align: right;\">\n",
       "      <th></th>\n",
       "      <th>Delay</th>\n",
       "      <th>Total</th>\n",
       "      <th>percentage</th>\n",
       "    </tr>\n",
       "    <tr>\n",
       "      <th>lane</th>\n",
       "      <th></th>\n",
       "      <th></th>\n",
       "      <th></th>\n",
       "    </tr>\n",
       "  </thead>\n",
       "  <tbody>\n",
       "    <tr>\n",
       "      <th>ABE-ATL</th>\n",
       "      <td>7</td>\n",
       "      <td>31</td>\n",
       "      <td>22.58</td>\n",
       "    </tr>\n",
       "    <tr>\n",
       "      <th>ABE-CLT</th>\n",
       "      <td>2</td>\n",
       "      <td>31</td>\n",
       "      <td>6.45</td>\n",
       "    </tr>\n",
       "    <tr>\n",
       "      <th>ABE-DTW</th>\n",
       "      <td>40</td>\n",
       "      <td>85</td>\n",
       "      <td>47.06</td>\n",
       "    </tr>\n",
       "    <tr>\n",
       "      <th>ABE-FLL</th>\n",
       "      <td>4</td>\n",
       "      <td>17</td>\n",
       "      <td>23.53</td>\n",
       "    </tr>\n",
       "    <tr>\n",
       "      <th>ABE-MCO</th>\n",
       "      <td>9</td>\n",
       "      <td>31</td>\n",
       "      <td>29.03</td>\n",
       "    </tr>\n",
       "  </tbody>\n",
       "</table>\n",
       "</div>"
      ],
      "text/plain": [
       "         Delay  Total  percentage\n",
       "lane                             \n",
       "ABE-ATL      7     31       22.58\n",
       "ABE-CLT      2     31        6.45\n",
       "ABE-DTW     40     85       47.06\n",
       "ABE-FLL      4     17       23.53\n",
       "ABE-MCO      9     31       29.03"
      ]
     },
     "execution_count": 9,
     "metadata": {},
     "output_type": "execute_result"
    }
   ],
   "source": [
    "\"\"\"\n",
    "Hier wird ein neuer DataFrame mit dem Namen lane_df erstellt, welches die Flüge nach der \n",
    "Lane gruppiert und sowohl die Anzahl der Delays als auch die Gesamtanzahl summiert\n",
    "\"\"\"\n",
    "lane_df = fluege.groupby(\"lane\").sum()\n",
    "lane_df[\"Total\"] = fluege.groupby(\"lane\").Delay.count()\n",
    "lane_df.drop([\"Flight\", \"DayOfWeek\", \"Time\", \"Length\"], axis=1, inplace=True)\n",
    "lane_df[\"percentage\"] = np.round((lane_df.Delay / lane_df.Total) * 100, decimals=2)\n",
    "lane_df.head()"
   ]
  },
  {
   "cell_type": "markdown",
   "id": "864e367c-9bbb-48ef-8a1f-efd2a4dbfe10",
   "metadata": {},
   "source": [
    "**Aufgabe 5:** Erstelle ein **Pairplot** für das DataFrame lane_df."
   ]
  },
  {
   "cell_type": "code",
   "execution_count": 10,
   "id": "c40765d4-847a-410e-b9cd-f6d6965ba7c0",
   "metadata": {},
   "outputs": [],
   "source": [
    "### CODE HERE ###"
   ]
  },
  {
   "cell_type": "markdown",
   "id": "e87cd920-fee9-4a11-9a82-881737eb68d9",
   "metadata": {},
   "source": [
    "**Aufgabe 6**: Erstelle ein **Histogramm**, welches die Verteilung der Gesamtanzahl der Flüge gruppiert nach den <code>'Lanes'</code> anzeigt."
   ]
  },
  {
   "cell_type": "code",
   "execution_count": 11,
   "id": "4049e624-16fb-49ef-be1a-1210699022e3",
   "metadata": {},
   "outputs": [],
   "source": [
    "### CODE HERE ###"
   ]
  },
  {
   "cell_type": "markdown",
   "id": "623014c5-c6d6-4618-aa6c-0ee9ff5cc8c8",
   "metadata": {},
   "source": [
    "**Aufgabe 7:** Erstelle ein Boxplot, welches die Verteilung der Gesamtanzahl der Flüge gruppiert nach den <code>'Lanes'</code> anzeigt."
   ]
  },
  {
   "cell_type": "code",
   "execution_count": 12,
   "id": "7c3b0363-66c7-459b-8adf-798fa9859931",
   "metadata": {},
   "outputs": [],
   "source": [
    "### CODE HERE ###"
   ]
  },
  {
   "cell_type": "markdown",
   "id": "9ad28b2c-be2d-4465-8e2a-afb54067b105",
   "metadata": {},
   "source": [
    "**(Zusatzaufgabe) Aufgabe 7:** Zeige für die 20 meist geflogenen Lanes die prozentuale Verspätung. Sortiere dabei nach der Anzahl der Flüge. Schreibe die Gesamtanzahl der Flüge in ein Balkendiagramm."
   ]
  },
  {
   "cell_type": "code",
   "execution_count": 13,
   "id": "4476de96-6229-4459-8517-0717887a6644",
   "metadata": {},
   "outputs": [],
   "source": [
    "### CODE HERE ###"
   ]
  },
  {
   "cell_type": "markdown",
   "id": "f07f2902-6e92-4017-8a09-e80c12c416a4",
   "metadata": {},
   "source": [
    "## PART III Titantic Dataset"
   ]
  },
  {
   "cell_type": "markdown",
   "id": "0868bff0-38da-4cfb-8d52-fb57b8e9f9b7",
   "metadata": {},
   "source": [
    "**Ab jetzt werden wir mit einem der wohl bekanntesten Datensets arbeiten. Dem Titanitc Dataset [link](https://www.kaggle.com/competitions/titanic/data).**"
   ]
  },
  {
   "cell_type": "code",
   "execution_count": 14,
   "id": "f2e14bbc-67f7-41c0-8310-8577f3851a39",
   "metadata": {},
   "outputs": [],
   "source": [
    "titanic_df = pd.read_csv('./src/titantic.csv')"
   ]
  },
  {
   "cell_type": "code",
   "execution_count": 15,
   "id": "32876fa1-916c-49ca-8372-65618e4aed69",
   "metadata": {},
   "outputs": [
    {
     "data": {
      "text/plain": [
       "(418, 12)"
      ]
     },
     "execution_count": 15,
     "metadata": {},
     "output_type": "execute_result"
    }
   ],
   "source": [
    "titanic_df.shape"
   ]
  },
  {
   "cell_type": "code",
   "execution_count": 16,
   "id": "ce3dce6c-9a16-4853-bfe7-711388089c7b",
   "metadata": {},
   "outputs": [
    {
     "data": {
      "text/html": [
       "<div>\n",
       "<style scoped>\n",
       "    .dataframe tbody tr th:only-of-type {\n",
       "        vertical-align: middle;\n",
       "    }\n",
       "\n",
       "    .dataframe tbody tr th {\n",
       "        vertical-align: top;\n",
       "    }\n",
       "\n",
       "    .dataframe thead th {\n",
       "        text-align: right;\n",
       "    }\n",
       "</style>\n",
       "<table border=\"1\" class=\"dataframe\">\n",
       "  <thead>\n",
       "    <tr style=\"text-align: right;\">\n",
       "      <th></th>\n",
       "      <th>PassengerId</th>\n",
       "      <th>Survived</th>\n",
       "      <th>Pclass</th>\n",
       "      <th>Age</th>\n",
       "      <th>SibSp</th>\n",
       "      <th>Parch</th>\n",
       "      <th>Fare</th>\n",
       "    </tr>\n",
       "  </thead>\n",
       "  <tbody>\n",
       "    <tr>\n",
       "      <th>count</th>\n",
       "      <td>418.000000</td>\n",
       "      <td>418.000000</td>\n",
       "      <td>418.000000</td>\n",
       "      <td>332.000000</td>\n",
       "      <td>418.000000</td>\n",
       "      <td>418.000000</td>\n",
       "      <td>417.000000</td>\n",
       "    </tr>\n",
       "    <tr>\n",
       "      <th>mean</th>\n",
       "      <td>1100.500000</td>\n",
       "      <td>0.363636</td>\n",
       "      <td>2.265550</td>\n",
       "      <td>30.272590</td>\n",
       "      <td>0.447368</td>\n",
       "      <td>0.392344</td>\n",
       "      <td>35.627188</td>\n",
       "    </tr>\n",
       "    <tr>\n",
       "      <th>std</th>\n",
       "      <td>120.810458</td>\n",
       "      <td>0.481622</td>\n",
       "      <td>0.841838</td>\n",
       "      <td>14.181209</td>\n",
       "      <td>0.896760</td>\n",
       "      <td>0.981429</td>\n",
       "      <td>55.907576</td>\n",
       "    </tr>\n",
       "    <tr>\n",
       "      <th>min</th>\n",
       "      <td>892.000000</td>\n",
       "      <td>0.000000</td>\n",
       "      <td>1.000000</td>\n",
       "      <td>0.170000</td>\n",
       "      <td>0.000000</td>\n",
       "      <td>0.000000</td>\n",
       "      <td>0.000000</td>\n",
       "    </tr>\n",
       "    <tr>\n",
       "      <th>25%</th>\n",
       "      <td>996.250000</td>\n",
       "      <td>0.000000</td>\n",
       "      <td>1.000000</td>\n",
       "      <td>21.000000</td>\n",
       "      <td>0.000000</td>\n",
       "      <td>0.000000</td>\n",
       "      <td>7.895800</td>\n",
       "    </tr>\n",
       "    <tr>\n",
       "      <th>50%</th>\n",
       "      <td>1100.500000</td>\n",
       "      <td>0.000000</td>\n",
       "      <td>3.000000</td>\n",
       "      <td>27.000000</td>\n",
       "      <td>0.000000</td>\n",
       "      <td>0.000000</td>\n",
       "      <td>14.454200</td>\n",
       "    </tr>\n",
       "    <tr>\n",
       "      <th>75%</th>\n",
       "      <td>1204.750000</td>\n",
       "      <td>1.000000</td>\n",
       "      <td>3.000000</td>\n",
       "      <td>39.000000</td>\n",
       "      <td>1.000000</td>\n",
       "      <td>0.000000</td>\n",
       "      <td>31.500000</td>\n",
       "    </tr>\n",
       "    <tr>\n",
       "      <th>max</th>\n",
       "      <td>1309.000000</td>\n",
       "      <td>1.000000</td>\n",
       "      <td>3.000000</td>\n",
       "      <td>76.000000</td>\n",
       "      <td>8.000000</td>\n",
       "      <td>9.000000</td>\n",
       "      <td>512.329200</td>\n",
       "    </tr>\n",
       "  </tbody>\n",
       "</table>\n",
       "</div>"
      ],
      "text/plain": [
       "       PassengerId    Survived      Pclass         Age       SibSp  \\\n",
       "count   418.000000  418.000000  418.000000  332.000000  418.000000   \n",
       "mean   1100.500000    0.363636    2.265550   30.272590    0.447368   \n",
       "std     120.810458    0.481622    0.841838   14.181209    0.896760   \n",
       "min     892.000000    0.000000    1.000000    0.170000    0.000000   \n",
       "25%     996.250000    0.000000    1.000000   21.000000    0.000000   \n",
       "50%    1100.500000    0.000000    3.000000   27.000000    0.000000   \n",
       "75%    1204.750000    1.000000    3.000000   39.000000    1.000000   \n",
       "max    1309.000000    1.000000    3.000000   76.000000    8.000000   \n",
       "\n",
       "            Parch        Fare  \n",
       "count  418.000000  417.000000  \n",
       "mean     0.392344   35.627188  \n",
       "std      0.981429   55.907576  \n",
       "min      0.000000    0.000000  \n",
       "25%      0.000000    7.895800  \n",
       "50%      0.000000   14.454200  \n",
       "75%      0.000000   31.500000  \n",
       "max      9.000000  512.329200  "
      ]
     },
     "execution_count": 16,
     "metadata": {},
     "output_type": "execute_result"
    }
   ],
   "source": [
    "titanic_df.describe()"
   ]
  },
  {
   "cell_type": "code",
   "execution_count": 17,
   "id": "3cf73b4e-c1b0-43b6-a950-f466c65398e7",
   "metadata": {},
   "outputs": [
    {
     "data": {
      "text/html": [
       "<div>\n",
       "<style scoped>\n",
       "    .dataframe tbody tr th:only-of-type {\n",
       "        vertical-align: middle;\n",
       "    }\n",
       "\n",
       "    .dataframe tbody tr th {\n",
       "        vertical-align: top;\n",
       "    }\n",
       "\n",
       "    .dataframe thead th {\n",
       "        text-align: right;\n",
       "    }\n",
       "</style>\n",
       "<table border=\"1\" class=\"dataframe\">\n",
       "  <thead>\n",
       "    <tr style=\"text-align: right;\">\n",
       "      <th></th>\n",
       "      <th>PassengerId</th>\n",
       "      <th>Survived</th>\n",
       "      <th>Pclass</th>\n",
       "      <th>Name</th>\n",
       "      <th>Sex</th>\n",
       "      <th>Age</th>\n",
       "      <th>SibSp</th>\n",
       "      <th>Parch</th>\n",
       "      <th>Ticket</th>\n",
       "      <th>Fare</th>\n",
       "      <th>Cabin</th>\n",
       "      <th>Embarked</th>\n",
       "    </tr>\n",
       "  </thead>\n",
       "  <tbody>\n",
       "    <tr>\n",
       "      <th>0</th>\n",
       "      <td>892</td>\n",
       "      <td>0</td>\n",
       "      <td>3</td>\n",
       "      <td>Kelly, Mr. James</td>\n",
       "      <td>male</td>\n",
       "      <td>34.5</td>\n",
       "      <td>0</td>\n",
       "      <td>0</td>\n",
       "      <td>330911</td>\n",
       "      <td>7.8292</td>\n",
       "      <td>NaN</td>\n",
       "      <td>Q</td>\n",
       "    </tr>\n",
       "    <tr>\n",
       "      <th>1</th>\n",
       "      <td>893</td>\n",
       "      <td>1</td>\n",
       "      <td>3</td>\n",
       "      <td>Wilkes, Mrs. James (Ellen Needs)</td>\n",
       "      <td>female</td>\n",
       "      <td>47.0</td>\n",
       "      <td>1</td>\n",
       "      <td>0</td>\n",
       "      <td>363272</td>\n",
       "      <td>7.0000</td>\n",
       "      <td>NaN</td>\n",
       "      <td>S</td>\n",
       "    </tr>\n",
       "    <tr>\n",
       "      <th>2</th>\n",
       "      <td>894</td>\n",
       "      <td>0</td>\n",
       "      <td>2</td>\n",
       "      <td>Myles, Mr. Thomas Francis</td>\n",
       "      <td>male</td>\n",
       "      <td>62.0</td>\n",
       "      <td>0</td>\n",
       "      <td>0</td>\n",
       "      <td>240276</td>\n",
       "      <td>9.6875</td>\n",
       "      <td>NaN</td>\n",
       "      <td>Q</td>\n",
       "    </tr>\n",
       "    <tr>\n",
       "      <th>3</th>\n",
       "      <td>895</td>\n",
       "      <td>0</td>\n",
       "      <td>3</td>\n",
       "      <td>Wirz, Mr. Albert</td>\n",
       "      <td>male</td>\n",
       "      <td>27.0</td>\n",
       "      <td>0</td>\n",
       "      <td>0</td>\n",
       "      <td>315154</td>\n",
       "      <td>8.6625</td>\n",
       "      <td>NaN</td>\n",
       "      <td>S</td>\n",
       "    </tr>\n",
       "    <tr>\n",
       "      <th>4</th>\n",
       "      <td>896</td>\n",
       "      <td>1</td>\n",
       "      <td>3</td>\n",
       "      <td>Hirvonen, Mrs. Alexander (Helga E Lindqvist)</td>\n",
       "      <td>female</td>\n",
       "      <td>22.0</td>\n",
       "      <td>1</td>\n",
       "      <td>1</td>\n",
       "      <td>3101298</td>\n",
       "      <td>12.2875</td>\n",
       "      <td>NaN</td>\n",
       "      <td>S</td>\n",
       "    </tr>\n",
       "  </tbody>\n",
       "</table>\n",
       "</div>"
      ],
      "text/plain": [
       "   PassengerId  Survived  Pclass  \\\n",
       "0          892         0       3   \n",
       "1          893         1       3   \n",
       "2          894         0       2   \n",
       "3          895         0       3   \n",
       "4          896         1       3   \n",
       "\n",
       "                                           Name     Sex   Age  SibSp  Parch  \\\n",
       "0                              Kelly, Mr. James    male  34.5      0      0   \n",
       "1              Wilkes, Mrs. James (Ellen Needs)  female  47.0      1      0   \n",
       "2                     Myles, Mr. Thomas Francis    male  62.0      0      0   \n",
       "3                              Wirz, Mr. Albert    male  27.0      0      0   \n",
       "4  Hirvonen, Mrs. Alexander (Helga E Lindqvist)  female  22.0      1      1   \n",
       "\n",
       "    Ticket     Fare Cabin Embarked  \n",
       "0   330911   7.8292   NaN        Q  \n",
       "1   363272   7.0000   NaN        S  \n",
       "2   240276   9.6875   NaN        Q  \n",
       "3   315154   8.6625   NaN        S  \n",
       "4  3101298  12.2875   NaN        S  "
      ]
     },
     "execution_count": 17,
     "metadata": {},
     "output_type": "execute_result"
    }
   ],
   "source": [
    "titanic_df.head()"
   ]
  },
  {
   "cell_type": "markdown",
   "id": "7e932e23-a086-4b51-8a2c-777349da42a2",
   "metadata": {},
   "source": [
    "**Aufgabe 9:** Erstelle ein **Punktdiagramm** (Seaborn Scatterplot), welches auf der X-Achse Fahrpreis(Fare) und auf der Y-Achse das Alter anzeigt. Die Farbliche Codierung soll die Pclass sein. Was fällt dir auf?"
   ]
  },
  {
   "cell_type": "markdown",
   "id": "3de824d2-02a4-425d-99dc-b5b4880b90f1",
   "metadata": {},
   "source": [
    "**Tipp:** Übrigens kann man die Farben in jedem Diagram verändern: Matplotlib stellt eine Vielzahl an Colormaps zur Verfügung, die man einfach über den Parameter palette oder cmap ansteuern kann. Hier ist eine Übersicht der Colormaps [link](https://matplotlib.org/stable/tutorials/colors/colormaps.html)."
   ]
  },
  {
   "cell_type": "code",
   "execution_count": 18,
   "id": "d2b0889c-68a4-48cd-9516-ee86b6aa4d10",
   "metadata": {},
   "outputs": [],
   "source": [
    "### CODE HERE ###"
   ]
  },
  {
   "cell_type": "markdown",
   "id": "7d8f401c-bdf8-4aab-a04c-2939e53c8d4b",
   "metadata": {},
   "source": [
    "**Aufgabe 10:** Nun erstelle mit den gleichen Daten ein **Jointplot** (Seaborn Jointplot). Was ist der Vorteil bei diesem Diagramm?"
   ]
  },
  {
   "cell_type": "code",
   "execution_count": 19,
   "id": "540469e5-d543-41dc-bcf7-1d4511d9a90d",
   "metadata": {},
   "outputs": [],
   "source": [
    "### CODE HERE ###"
   ]
  },
  {
   "cell_type": "markdown",
   "id": "1daa66c4-8f19-49c6-bc08-ddf5c3f1e75b",
   "metadata": {},
   "source": [
    "**Aufgabe 11:** Erstelle eine **Heatmap**, die die prozentuale Verteilung der Überlebten pro Klasse zeigt. Wie viel prozent haben in der 1, 2 und 3 Klasse überlebt bzw nicht überlebt."
   ]
  },
  {
   "cell_type": "code",
   "execution_count": 20,
   "id": "75c788a7-2a27-4024-9741-159944a7074d",
   "metadata": {},
   "outputs": [],
   "source": [
    "### CODE HERE ###"
   ]
  },
  {
   "cell_type": "markdown",
   "id": "9947f2e3-a5d3-4eb2-9c18-04258c42809b",
   "metadata": {},
   "source": [
    "**(Zusatzaufgabe) Aufgabe 12:** Erstelle ein **Waffleplot** für die Verteilung der Klassen auf der Titantic? Wie viele Passagiere waren in der Klasse 1, 2, 3?"
   ]
  },
  {
   "cell_type": "code",
   "execution_count": 22,
   "id": "9cde9f43-0d6c-4bcc-af71-c26b06203e79",
   "metadata": {},
   "outputs": [],
   "source": [
    "### CODE HERE ###"
   ]
  }
 ],
 "metadata": {
  "kernelspec": {
   "display_name": "Python 3 (ipykernel)",
   "language": "python",
   "name": "python3"
  },
  "language_info": {
   "codemirror_mode": {
    "name": "ipython",
    "version": 3
   },
   "file_extension": ".py",
   "mimetype": "text/x-python",
   "name": "python",
   "nbconvert_exporter": "python",
   "pygments_lexer": "ipython3",
   "version": "3.9.7"
  }
 },
 "nbformat": 4,
 "nbformat_minor": 5
}
