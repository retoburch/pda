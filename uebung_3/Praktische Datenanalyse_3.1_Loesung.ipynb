{
 "cells": [
  {
   "cell_type": "code",
   "execution_count": 1,
   "metadata": {},
   "outputs": [],
   "source": [
    "#Import all packages needed\n",
    "import pandas as pd \n",
    "import numpy as np\n",
    "import matplotlib.pyplot as plt #Visualisierungs Package (Vorlesung 5)\n",
    "#Magic command, damit die Diagramme im Notebook angezeigt werden\n",
    "%matplotlib inline \n",
    "import json  #Package um mit json files arbeiten zu können\n",
    "import seaborn as sns #Visualisierungs Package (Vorlesung 5)"
   ]
  },
  {
   "cell_type": "markdown",
   "metadata": {},
   "source": [
    "# Aufgabe\n",
    "\n",
    "Quelle: *Diese Übung ist ein Teil aus einem Cornerstone Projekt aus dem Data Analyst Nanodegree von Udacity. Für diese Übung wurden einige Vereinfachungen vorgenommen.*\n",
    "\n",
    "**Beschreibung**:\n",
    "\n",
    "Habt Ihr jemals von dem Twitter-Account WeRateDogs gehört? Die Leute im Internet sind verrückt nach diesem Twitter-Account. Ich möchte Euch heute zeigen, warum. \n",
    "\n",
    "Heute hat WeRateDogs über 8,8 Millionen Follower. Das Schlüsselkonzept besteht darin, ein hübsches Bild der Doggos, Floofer, Pupper oder Puppos (so definieren sie das Entwicklungsstadium der Hunde) mit einer coolen Bildunterschrift und einer Bewertung mit einem Nenner von 10, aber einem Zähler, der alles sein kann, zu haben. In den meisten Fällen geht der Zähler deutlich über 10.\n",
    "\n",
    "\n",
    "<div>\n",
    "<img src=\"src/Picture 1.jpg\" width=\"400\"/>\n",
    "</div>\n",
    "\n",
    "**Inputdaten:**\n",
    "\n",
    "Ingesamt haben wir 3 verschiedene Dateien, in denen sich aber leider verschiedene Fehler in den Daten befinden\n",
    "- Das Twitter Archive der Tweets\n",
    "- Eine Datei, in der die Rasse des Hundes vorausgesagt wurde\n",
    "- Eine Datei, in der die Anzahl der Likes, Retweets etc pro Tweet steht\n",
    "\n",
    "\n",
    "**Ziel**: \n",
    "\n",
    "Die Dateien wie unten vorgeschrieben zu bereinigen und zu einem Dataframe zusammenzufassen."
   ]
  },
  {
   "cell_type": "markdown",
   "metadata": {},
   "source": [
    "### Dokumentation der einzelnen Spalten der verschiedenen Quellen"
   ]
  },
  {
   "cell_type": "markdown",
   "metadata": {
    "tags": []
   },
   "source": [
    "Dokumentation Spalten ***Twitter_archive Dataframe***\n",
    "\n",
    "Dieses Dataframe zeigt die Meta Daten jedes einzelnen Tweets für den betrachteten Zeitraum an.\n",
    "\n",
    "- ***tweet_id*** ist die eineindeutige Twitter Post ID\n",
    "- ***in_reply_to_status_id*** nicht relevant für uns\n",
    "- ***in_reply_to_user_id*** nicht relevant für uns\n",
    "- ***timestamp*** Zeitpunkt des posts\n",
    "- ***source*** nicht relevant für uns\n",
    "- ***text*** Tweet text\n",
    "- ***retweeted_status_id*** ID wenn es ein retweet ist\n",
    "- ***retweeted_status_user_id*** User ID wenn es ein retweet ist\n",
    "- ***retweeted_status_user_timestamp*** User ID wenn es ein retweet ist\n",
    "- ***expanded_urls*** URL des Tweets\n",
    "- ***rating_numerator*** Zähler der Bewertung\n",
    "- ***rating_denominator*** Nenner der Bewertung\n",
    "- ***name*** Name des Hundes\n",
    "- ***doggo*** Hundeentwicklungsstatus\n",
    "- ***floofer*** Hundeentwicklungsstatus\n",
    "- ***pupper*** Hundeentwicklungsstatus\n",
    "- ***puppo*** Hundeentwicklungsstatus"
   ]
  },
  {
   "cell_type": "markdown",
   "metadata": {},
   "source": [
    "### Dokumentation Spalten ***Image_prediction Dataframe***\n",
    "\n",
    "Dieses DataFrame stammt aus einem Prediction Maschine Learning Algorithmus, welches an Hand der Bilder, versucht vorauszusagen, welche Rasse der Hund ist\n",
    "\n",
    "- ***tweet_id*** ist die eineindeutige Twitter Post ID\n",
    "- ***jpg_url*** URL des Bildes / der Bilder\n",
    "- ***img_num*** Anzahl der Bilder\n",
    "- ***p1/p2/p3*** Predicted Hunderasse\n",
    "- ***p1_conf/p2_conf/p3_conf*** Wert aus der Klassifikation\n",
    "- ***p1_dog/p2_dog/p3_dog*** Boolean ob der vorausgesagte p1/p2/p3 Wert ein Hund ist ja oder nein\n",
    "\n"
   ]
  },
  {
   "cell_type": "markdown",
   "metadata": {},
   "source": [
    "### Dokumentation Spalten ***Tweet_json Dataframe***\n",
    "\n",
    "Dieses DataFrame zeigt die numerischen Werte der einzelnen Tweets an.\n",
    "\n",
    "- ***tweet_id*** ist die eineindeutige Twitter Post ID\n",
    "- ***favorite_count*** Wie viele Favorites der Tweet bekommen hat\n",
    "- ***retweet_count*** Wie oft der Tweet geretweeted wurde\n",
    "- ***followers_count*** wie viele Follower es damals gab\n",
    "- ***retweeted_status*** Ob der Tweet der Original Tweet war oder ein Retweet\n",
    "- ***url*** URL des Tweets\n"
   ]
  },
  {
   "cell_type": "markdown",
   "metadata": {},
   "source": [
    "## Gathering Data\n",
    "\n",
    "Die nachfolgenden Zellen bis zum Start Der Übung dienen lediglich für Informationszwecke und werden vorgegeben, damit ihr euch schneller auf den wichtigten Teil der Übung, das Data Cleaning fokussieren könnt."
   ]
  },
  {
   "cell_type": "code",
   "execution_count": 2,
   "metadata": {},
   "outputs": [],
   "source": [
    "#Twitter Archive (Dateiformat CSV) in einen DataFrame laden\n",
    "twitter_archive = pd.read_csv(\"src/twitter-archive-enhanced.csv\")"
   ]
  },
  {
   "cell_type": "code",
   "execution_count": 3,
   "metadata": {},
   "outputs": [],
   "source": [
    "#Bild-Vorhersagen (Image-Predictions - TSV file) in einen DataFrame laden\n",
    "image_prediction = pd.read_csv('src/image-predictions.tsv', sep='\\t' )"
   ]
  },
  {
   "cell_type": "code",
   "execution_count": 4,
   "metadata": {},
   "outputs": [],
   "source": [
    "'''\n",
    "Herauslesen der interessanten Informationen aus JSON-Wörterbüchern in einer Txt-Datei\n",
    "und in einen DataFrame tweets_json einfügen\n",
    "'''\n",
    "\n",
    "my_demo_list = []\n",
    "with open('src/tweet_json.txt', encoding='utf-8') as json_file:  \n",
    "    all_data = json.load(json_file)\n",
    "    for each_dictionary in all_data:\n",
    "        tweet_id = each_dictionary['id']\n",
    "        whole_tweet = each_dictionary['text']\n",
    "        only_url = whole_tweet[whole_tweet.find('https'):]\n",
    "        favorite_count = each_dictionary['favorite_count']\n",
    "        retweet_count = each_dictionary['retweet_count']\n",
    "        followers_count = each_dictionary['user']['followers_count']\n",
    "        retweeted_status = each_dictionary['retweeted_status'] = each_dictionary.get('retweeted_status', 'Original tweet')\n",
    "        if retweeted_status == 'Original tweet':\n",
    "            url = only_url\n",
    "        else:\n",
    "            retweeted_status = 'This is a retweet'\n",
    "            url = 'This is a retweet'\n",
    "            \n",
    "        my_demo_list.append({'tweet_id': str(tweet_id),\n",
    "                             'favorite_count': int(favorite_count),\n",
    "                             'retweet_count': int(retweet_count),\n",
    "                             'followers_count': int(followers_count),\n",
    "                             'retweeted_status': retweeted_status,\n",
    "                            })\n",
    "        tweet_json = pd.DataFrame(my_demo_list, columns = ['tweet_id', 'favorite_count','retweet_count', \n",
    "                                                           'followers_count', 'retweeted_status', 'url'])\n",
    "                             \n",
    "                            "
   ]
  },
  {
   "cell_type": "markdown",
   "metadata": {},
   "source": [
    "## Assess"
   ]
  },
  {
   "cell_type": "code",
   "execution_count": 5,
   "metadata": {},
   "outputs": [
    {
     "name": "stdout",
     "output_type": "stream",
     "text": [
      "<class 'pandas.core.frame.DataFrame'>\n",
      "RangeIndex: 2356 entries, 0 to 2355\n",
      "Data columns (total 17 columns):\n",
      " #   Column                      Non-Null Count  Dtype  \n",
      "---  ------                      --------------  -----  \n",
      " 0   tweet_id                    2356 non-null   int64  \n",
      " 1   in_reply_to_status_id       78 non-null     float64\n",
      " 2   in_reply_to_user_id         78 non-null     float64\n",
      " 3   timestamp                   2356 non-null   object \n",
      " 4   source                      2356 non-null   object \n",
      " 5   text                        2356 non-null   object \n",
      " 6   retweeted_status_id         181 non-null    float64\n",
      " 7   retweeted_status_user_id    181 non-null    float64\n",
      " 8   retweeted_status_timestamp  181 non-null    object \n",
      " 9   expanded_urls               2297 non-null   object \n",
      " 10  rating_numerator            2356 non-null   int64  \n",
      " 11  rating_denominator          2356 non-null   int64  \n",
      " 12  name                        2356 non-null   object \n",
      " 13  doggo                       2356 non-null   object \n",
      " 14  floofer                     2356 non-null   object \n",
      " 15  pupper                      2356 non-null   object \n",
      " 16  puppo                       2356 non-null   object \n",
      "dtypes: float64(4), int64(3), object(10)\n",
      "memory usage: 313.0+ KB\n"
     ]
    }
   ],
   "source": [
    "twitter_archive.info()"
   ]
  },
  {
   "cell_type": "code",
   "execution_count": 6,
   "metadata": {},
   "outputs": [],
   "source": [
    "### FINDINGS ###\n",
    "# Es gibt sowohl Originalbewertungen und Retweets\n",
    "# Zeitstempel ist in einem nicht korrekten Datenformat (hier Datetime)\n",
    "# Fehlende Daten in den folgenden Spalten: in_reply_to_status_id, in_reply_to_user_id, retweeted_status_id, retweeted_status_user_id, retweeted_status_timestamp, expanded_urls\n",
    "# Hundeentwicklungsstufen sind in 4 Spalten"
   ]
  },
  {
   "cell_type": "code",
   "execution_count": 7,
   "metadata": {},
   "outputs": [
    {
     "data": {
      "text/html": [
       "<div>\n",
       "<style scoped>\n",
       "    .dataframe tbody tr th:only-of-type {\n",
       "        vertical-align: middle;\n",
       "    }\n",
       "\n",
       "    .dataframe tbody tr th {\n",
       "        vertical-align: top;\n",
       "    }\n",
       "\n",
       "    .dataframe thead th {\n",
       "        text-align: right;\n",
       "    }\n",
       "</style>\n",
       "<table border=\"1\" class=\"dataframe\">\n",
       "  <thead>\n",
       "    <tr style=\"text-align: right;\">\n",
       "      <th></th>\n",
       "      <th>tweet_id</th>\n",
       "      <th>in_reply_to_status_id</th>\n",
       "      <th>in_reply_to_user_id</th>\n",
       "      <th>timestamp</th>\n",
       "      <th>source</th>\n",
       "      <th>text</th>\n",
       "      <th>retweeted_status_id</th>\n",
       "      <th>retweeted_status_user_id</th>\n",
       "      <th>retweeted_status_timestamp</th>\n",
       "      <th>expanded_urls</th>\n",
       "      <th>rating_numerator</th>\n",
       "      <th>rating_denominator</th>\n",
       "      <th>name</th>\n",
       "      <th>doggo</th>\n",
       "      <th>floofer</th>\n",
       "      <th>pupper</th>\n",
       "      <th>puppo</th>\n",
       "    </tr>\n",
       "  </thead>\n",
       "  <tbody>\n",
       "    <tr>\n",
       "      <th>2147</th>\n",
       "      <td>669753178989142016</td>\n",
       "      <td>NaN</td>\n",
       "      <td>NaN</td>\n",
       "      <td>2015-11-26 05:42:55 +0000</td>\n",
       "      <td>&lt;a href=\"http://twitter.com/download/iphone\" r...</td>\n",
       "      <td>Meet Chester. He just ate a lot and now he can...</td>\n",
       "      <td>NaN</td>\n",
       "      <td>NaN</td>\n",
       "      <td>NaN</td>\n",
       "      <td>https://twitter.com/dog_rates/status/669753178...</td>\n",
       "      <td>10</td>\n",
       "      <td>10</td>\n",
       "      <td>Chester</td>\n",
       "      <td>None</td>\n",
       "      <td>None</td>\n",
       "      <td>None</td>\n",
       "      <td>None</td>\n",
       "    </tr>\n",
       "    <tr>\n",
       "      <th>958</th>\n",
       "      <td>751456908746354688</td>\n",
       "      <td>NaN</td>\n",
       "      <td>NaN</td>\n",
       "      <td>2016-07-08 16:44:23 +0000</td>\n",
       "      <td>&lt;a href=\"http://twitter.com/download/iphone\" r...</td>\n",
       "      <td>Here's a pupper that's very hungry but too laz...</td>\n",
       "      <td>NaN</td>\n",
       "      <td>NaN</td>\n",
       "      <td>NaN</td>\n",
       "      <td>https://twitter.com/dog_rates/status/751456908...</td>\n",
       "      <td>12</td>\n",
       "      <td>10</td>\n",
       "      <td>None</td>\n",
       "      <td>None</td>\n",
       "      <td>None</td>\n",
       "      <td>pupper</td>\n",
       "      <td>None</td>\n",
       "    </tr>\n",
       "    <tr>\n",
       "      <th>34</th>\n",
       "      <td>885528943205470208</td>\n",
       "      <td>NaN</td>\n",
       "      <td>NaN</td>\n",
       "      <td>2017-07-13 15:58:47 +0000</td>\n",
       "      <td>&lt;a href=\"http://twitter.com/download/iphone\" r...</td>\n",
       "      <td>This is Maisey. She fell asleep mid-excavation...</td>\n",
       "      <td>NaN</td>\n",
       "      <td>NaN</td>\n",
       "      <td>NaN</td>\n",
       "      <td>https://twitter.com/dog_rates/status/885528943...</td>\n",
       "      <td>13</td>\n",
       "      <td>10</td>\n",
       "      <td>Maisey</td>\n",
       "      <td>None</td>\n",
       "      <td>None</td>\n",
       "      <td>None</td>\n",
       "      <td>None</td>\n",
       "    </tr>\n",
       "    <tr>\n",
       "      <th>1271</th>\n",
       "      <td>709409458133323776</td>\n",
       "      <td>NaN</td>\n",
       "      <td>NaN</td>\n",
       "      <td>2016-03-14 16:02:49 +0000</td>\n",
       "      <td>&lt;a href=\"http://twitter.com/download/iphone\" r...</td>\n",
       "      <td>This is Billy. He sensed a squirrel. 8/10 damn...</td>\n",
       "      <td>NaN</td>\n",
       "      <td>NaN</td>\n",
       "      <td>NaN</td>\n",
       "      <td>https://twitter.com/dog_rates/status/709409458...</td>\n",
       "      <td>8</td>\n",
       "      <td>10</td>\n",
       "      <td>Billy</td>\n",
       "      <td>None</td>\n",
       "      <td>None</td>\n",
       "      <td>None</td>\n",
       "      <td>None</td>\n",
       "    </tr>\n",
       "    <tr>\n",
       "      <th>1117</th>\n",
       "      <td>732375214819057664</td>\n",
       "      <td>NaN</td>\n",
       "      <td>NaN</td>\n",
       "      <td>2016-05-17 01:00:32 +0000</td>\n",
       "      <td>&lt;a href=\"http://twitter.com/download/iphone\" r...</td>\n",
       "      <td>This is Kyle (pronounced 'Mitch'). He strives ...</td>\n",
       "      <td>NaN</td>\n",
       "      <td>NaN</td>\n",
       "      <td>NaN</td>\n",
       "      <td>https://twitter.com/dog_rates/status/732375214...</td>\n",
       "      <td>11</td>\n",
       "      <td>10</td>\n",
       "      <td>Kyle</td>\n",
       "      <td>doggo</td>\n",
       "      <td>None</td>\n",
       "      <td>None</td>\n",
       "      <td>None</td>\n",
       "    </tr>\n",
       "  </tbody>\n",
       "</table>\n",
       "</div>"
      ],
      "text/plain": [
       "                tweet_id  in_reply_to_status_id  in_reply_to_user_id  \\\n",
       "2147  669753178989142016                    NaN                  NaN   \n",
       "958   751456908746354688                    NaN                  NaN   \n",
       "34    885528943205470208                    NaN                  NaN   \n",
       "1271  709409458133323776                    NaN                  NaN   \n",
       "1117  732375214819057664                    NaN                  NaN   \n",
       "\n",
       "                      timestamp  \\\n",
       "2147  2015-11-26 05:42:55 +0000   \n",
       "958   2016-07-08 16:44:23 +0000   \n",
       "34    2017-07-13 15:58:47 +0000   \n",
       "1271  2016-03-14 16:02:49 +0000   \n",
       "1117  2016-05-17 01:00:32 +0000   \n",
       "\n",
       "                                                 source  \\\n",
       "2147  <a href=\"http://twitter.com/download/iphone\" r...   \n",
       "958   <a href=\"http://twitter.com/download/iphone\" r...   \n",
       "34    <a href=\"http://twitter.com/download/iphone\" r...   \n",
       "1271  <a href=\"http://twitter.com/download/iphone\" r...   \n",
       "1117  <a href=\"http://twitter.com/download/iphone\" r...   \n",
       "\n",
       "                                                   text  retweeted_status_id  \\\n",
       "2147  Meet Chester. He just ate a lot and now he can...                  NaN   \n",
       "958   Here's a pupper that's very hungry but too laz...                  NaN   \n",
       "34    This is Maisey. She fell asleep mid-excavation...                  NaN   \n",
       "1271  This is Billy. He sensed a squirrel. 8/10 damn...                  NaN   \n",
       "1117  This is Kyle (pronounced 'Mitch'). He strives ...                  NaN   \n",
       "\n",
       "      retweeted_status_user_id retweeted_status_timestamp  \\\n",
       "2147                       NaN                        NaN   \n",
       "958                        NaN                        NaN   \n",
       "34                         NaN                        NaN   \n",
       "1271                       NaN                        NaN   \n",
       "1117                       NaN                        NaN   \n",
       "\n",
       "                                          expanded_urls  rating_numerator  \\\n",
       "2147  https://twitter.com/dog_rates/status/669753178...                10   \n",
       "958   https://twitter.com/dog_rates/status/751456908...                12   \n",
       "34    https://twitter.com/dog_rates/status/885528943...                13   \n",
       "1271  https://twitter.com/dog_rates/status/709409458...                 8   \n",
       "1117  https://twitter.com/dog_rates/status/732375214...                11   \n",
       "\n",
       "      rating_denominator     name  doggo floofer  pupper puppo  \n",
       "2147                  10  Chester   None    None    None  None  \n",
       "958                   10     None   None    None  pupper  None  \n",
       "34                    10   Maisey   None    None    None  None  \n",
       "1271                  10    Billy   None    None    None  None  \n",
       "1117                  10     Kyle  doggo    None    None  None  "
      ]
     },
     "execution_count": 7,
     "metadata": {},
     "output_type": "execute_result"
    }
   ],
   "source": [
    "twitter_archive.sample(5)"
   ]
  },
  {
   "cell_type": "code",
   "execution_count": 8,
   "metadata": {},
   "outputs": [],
   "source": [
    "### FINDINGS ###\n",
    "# Hundestufen sind nicht korrekt angegeben\n",
    "# Der Nenner der Bewertung ist zum Teil größer als 10"
   ]
  },
  {
   "cell_type": "code",
   "execution_count": 9,
   "metadata": {},
   "outputs": [
    {
     "data": {
      "text/plain": [
       "1"
      ]
     },
     "execution_count": 9,
     "metadata": {},
     "output_type": "execute_result"
    }
   ],
   "source": [
    "sum(twitter_archive.name.unique()=='None')"
   ]
  },
  {
   "cell_type": "code",
   "execution_count": 10,
   "metadata": {},
   "outputs": [],
   "source": [
    "### FINDINGS ###\n",
    "# Manchmal ist der Name des Hundes None"
   ]
  },
  {
   "cell_type": "code",
   "execution_count": 11,
   "metadata": {},
   "outputs": [
    {
     "name": "stdout",
     "output_type": "stream",
     "text": [
      "<class 'pandas.core.frame.DataFrame'>\n",
      "RangeIndex: 2075 entries, 0 to 2074\n",
      "Data columns (total 12 columns):\n",
      " #   Column    Non-Null Count  Dtype  \n",
      "---  ------    --------------  -----  \n",
      " 0   tweet_id  2075 non-null   int64  \n",
      " 1   jpg_url   2075 non-null   object \n",
      " 2   img_num   2075 non-null   int64  \n",
      " 3   p1        2075 non-null   object \n",
      " 4   p1_conf   2075 non-null   float64\n",
      " 5   p1_dog    2075 non-null   bool   \n",
      " 6   p2        2075 non-null   object \n",
      " 7   p2_conf   2075 non-null   float64\n",
      " 8   p2_dog    2075 non-null   bool   \n",
      " 9   p3        2075 non-null   object \n",
      " 10  p3_conf   2075 non-null   float64\n",
      " 11  p3_dog    2075 non-null   bool   \n",
      "dtypes: bool(3), float64(3), int64(2), object(4)\n",
      "memory usage: 152.1+ KB\n"
     ]
    }
   ],
   "source": [
    "image_prediction.info()"
   ]
  },
  {
   "cell_type": "code",
   "execution_count": 12,
   "metadata": {},
   "outputs": [
    {
     "data": {
      "text/html": [
       "<div>\n",
       "<style scoped>\n",
       "    .dataframe tbody tr th:only-of-type {\n",
       "        vertical-align: middle;\n",
       "    }\n",
       "\n",
       "    .dataframe tbody tr th {\n",
       "        vertical-align: top;\n",
       "    }\n",
       "\n",
       "    .dataframe thead th {\n",
       "        text-align: right;\n",
       "    }\n",
       "</style>\n",
       "<table border=\"1\" class=\"dataframe\">\n",
       "  <thead>\n",
       "    <tr style=\"text-align: right;\">\n",
       "      <th></th>\n",
       "      <th>tweet_id</th>\n",
       "      <th>jpg_url</th>\n",
       "      <th>img_num</th>\n",
       "      <th>p1</th>\n",
       "      <th>p1_conf</th>\n",
       "      <th>p1_dog</th>\n",
       "      <th>p2</th>\n",
       "      <th>p2_conf</th>\n",
       "      <th>p2_dog</th>\n",
       "      <th>p3</th>\n",
       "      <th>p3_conf</th>\n",
       "      <th>p3_dog</th>\n",
       "    </tr>\n",
       "  </thead>\n",
       "  <tbody>\n",
       "    <tr>\n",
       "      <th>110</th>\n",
       "      <td>667886921285246976</td>\n",
       "      <td>https://pbs.twimg.com/media/CUTPnPCW4AI7R0y.jpg</td>\n",
       "      <td>1</td>\n",
       "      <td>Pomeranian</td>\n",
       "      <td>0.800432</td>\n",
       "      <td>True</td>\n",
       "      <td>Pekinese</td>\n",
       "      <td>0.168445</td>\n",
       "      <td>True</td>\n",
       "      <td>Chihuahua</td>\n",
       "      <td>0.008950</td>\n",
       "      <td>True</td>\n",
       "    </tr>\n",
       "    <tr>\n",
       "      <th>157</th>\n",
       "      <td>668852170888998912</td>\n",
       "      <td>https://pbs.twimg.com/media/CUg9gBvWoAAmx-2.jpg</td>\n",
       "      <td>1</td>\n",
       "      <td>golden_retriever</td>\n",
       "      <td>0.903529</td>\n",
       "      <td>True</td>\n",
       "      <td>Tibetan_mastiff</td>\n",
       "      <td>0.041497</td>\n",
       "      <td>True</td>\n",
       "      <td>kuvasz</td>\n",
       "      <td>0.022500</td>\n",
       "      <td>True</td>\n",
       "    </tr>\n",
       "    <tr>\n",
       "      <th>1378</th>\n",
       "      <td>764259802650378240</td>\n",
       "      <td>https://pbs.twimg.com/media/CpsyNtXWgAAqvs3.jpg</td>\n",
       "      <td>1</td>\n",
       "      <td>German_shepherd</td>\n",
       "      <td>0.973677</td>\n",
       "      <td>True</td>\n",
       "      <td>malinois</td>\n",
       "      <td>0.025950</td>\n",
       "      <td>True</td>\n",
       "      <td>kelpie</td>\n",
       "      <td>0.000192</td>\n",
       "      <td>True</td>\n",
       "    </tr>\n",
       "    <tr>\n",
       "      <th>1266</th>\n",
       "      <td>749395845976588288</td>\n",
       "      <td>https://pbs.twimg.com/media/CmZjizYW8AA3FCN.jpg</td>\n",
       "      <td>1</td>\n",
       "      <td>Pomeranian</td>\n",
       "      <td>0.973715</td>\n",
       "      <td>True</td>\n",
       "      <td>chow</td>\n",
       "      <td>0.020758</td>\n",
       "      <td>True</td>\n",
       "      <td>keeshond</td>\n",
       "      <td>0.003784</td>\n",
       "      <td>True</td>\n",
       "    </tr>\n",
       "    <tr>\n",
       "      <th>497</th>\n",
       "      <td>675798442703122432</td>\n",
       "      <td>https://pbs.twimg.com/media/CWDrGH4UYAARoq_.jpg</td>\n",
       "      <td>1</td>\n",
       "      <td>beagle</td>\n",
       "      <td>0.681218</td>\n",
       "      <td>True</td>\n",
       "      <td>basset</td>\n",
       "      <td>0.125121</td>\n",
       "      <td>True</td>\n",
       "      <td>boxer</td>\n",
       "      <td>0.080398</td>\n",
       "      <td>True</td>\n",
       "    </tr>\n",
       "    <tr>\n",
       "      <th>471</th>\n",
       "      <td>675135153782571009</td>\n",
       "      <td>https://pbs.twimg.com/media/CV6P1lnWIAAUQHk.jpg</td>\n",
       "      <td>1</td>\n",
       "      <td>stove</td>\n",
       "      <td>0.587507</td>\n",
       "      <td>False</td>\n",
       "      <td>rotisserie</td>\n",
       "      <td>0.051713</td>\n",
       "      <td>False</td>\n",
       "      <td>microwave</td>\n",
       "      <td>0.020725</td>\n",
       "      <td>False</td>\n",
       "    </tr>\n",
       "    <tr>\n",
       "      <th>1592</th>\n",
       "      <td>798673117451325440</td>\n",
       "      <td>https://pbs.twimg.com/media/CV_cnjHWUAADc-c.jpg</td>\n",
       "      <td>1</td>\n",
       "      <td>dough</td>\n",
       "      <td>0.806757</td>\n",
       "      <td>False</td>\n",
       "      <td>bakery</td>\n",
       "      <td>0.027907</td>\n",
       "      <td>False</td>\n",
       "      <td>French_loaf</td>\n",
       "      <td>0.018189</td>\n",
       "      <td>False</td>\n",
       "    </tr>\n",
       "    <tr>\n",
       "      <th>1277</th>\n",
       "      <td>750086836815486976</td>\n",
       "      <td>https://pbs.twimg.com/media/Cmf5WLGWYAAcmRw.jpg</td>\n",
       "      <td>1</td>\n",
       "      <td>pug</td>\n",
       "      <td>0.978277</td>\n",
       "      <td>True</td>\n",
       "      <td>teddy</td>\n",
       "      <td>0.003134</td>\n",
       "      <td>False</td>\n",
       "      <td>Brabancon_griffon</td>\n",
       "      <td>0.003061</td>\n",
       "      <td>True</td>\n",
       "    </tr>\n",
       "    <tr>\n",
       "      <th>1586</th>\n",
       "      <td>797971864723324932</td>\n",
       "      <td>https://pbs.twimg.com/media/CxL3IWeVEAAAIE2.jpg</td>\n",
       "      <td>1</td>\n",
       "      <td>American_Staffordshire_terrier</td>\n",
       "      <td>0.489845</td>\n",
       "      <td>True</td>\n",
       "      <td>Chihuahua</td>\n",
       "      <td>0.305760</td>\n",
       "      <td>True</td>\n",
       "      <td>Staffordshire_bullterrier</td>\n",
       "      <td>0.072799</td>\n",
       "      <td>True</td>\n",
       "    </tr>\n",
       "    <tr>\n",
       "      <th>681</th>\n",
       "      <td>683828599284170753</td>\n",
       "      <td>https://pbs.twimg.com/media/CX1ye7HUMAADDzh.jpg</td>\n",
       "      <td>1</td>\n",
       "      <td>malamute</td>\n",
       "      <td>0.577376</td>\n",
       "      <td>True</td>\n",
       "      <td>Siberian_husky</td>\n",
       "      <td>0.287131</td>\n",
       "      <td>True</td>\n",
       "      <td>Eskimo_dog</td>\n",
       "      <td>0.117563</td>\n",
       "      <td>True</td>\n",
       "    </tr>\n",
       "    <tr>\n",
       "      <th>57</th>\n",
       "      <td>667073648344346624</td>\n",
       "      <td>https://pbs.twimg.com/media/CUHr8WbWEAEBPgf.jpg</td>\n",
       "      <td>1</td>\n",
       "      <td>Chihuahua</td>\n",
       "      <td>0.483682</td>\n",
       "      <td>True</td>\n",
       "      <td>pug</td>\n",
       "      <td>0.092494</td>\n",
       "      <td>True</td>\n",
       "      <td>Brabancon_griffon</td>\n",
       "      <td>0.057495</td>\n",
       "      <td>True</td>\n",
       "    </tr>\n",
       "    <tr>\n",
       "      <th>1855</th>\n",
       "      <td>841314665196081154</td>\n",
       "      <td>https://pbs.twimg.com/ext_tw_video_thumb/84131...</td>\n",
       "      <td>1</td>\n",
       "      <td>Afghan_hound</td>\n",
       "      <td>0.903712</td>\n",
       "      <td>True</td>\n",
       "      <td>Saluki</td>\n",
       "      <td>0.035215</td>\n",
       "      <td>True</td>\n",
       "      <td>bloodhound</td>\n",
       "      <td>0.026565</td>\n",
       "      <td>True</td>\n",
       "    </tr>\n",
       "    <tr>\n",
       "      <th>699</th>\n",
       "      <td>684594889858887680</td>\n",
       "      <td>https://pbs.twimg.com/media/CYAra7JWsAACPZH.jpg</td>\n",
       "      <td>1</td>\n",
       "      <td>Weimaraner</td>\n",
       "      <td>0.948688</td>\n",
       "      <td>True</td>\n",
       "      <td>English_setter</td>\n",
       "      <td>0.035352</td>\n",
       "      <td>True</td>\n",
       "      <td>Brittany_spaniel</td>\n",
       "      <td>0.003879</td>\n",
       "      <td>True</td>\n",
       "    </tr>\n",
       "    <tr>\n",
       "      <th>84</th>\n",
       "      <td>667502640335572993</td>\n",
       "      <td>https://pbs.twimg.com/media/CUNyHTMUYAAQVch.jpg</td>\n",
       "      <td>1</td>\n",
       "      <td>Labrador_retriever</td>\n",
       "      <td>0.996709</td>\n",
       "      <td>True</td>\n",
       "      <td>golden_retriever</td>\n",
       "      <td>0.001688</td>\n",
       "      <td>True</td>\n",
       "      <td>beagle</td>\n",
       "      <td>0.000712</td>\n",
       "      <td>True</td>\n",
       "    </tr>\n",
       "    <tr>\n",
       "      <th>1495</th>\n",
       "      <td>783347506784731136</td>\n",
       "      <td>https://pbs.twimg.com/media/CVuQ2LeUsAAIe3s.jpg</td>\n",
       "      <td>1</td>\n",
       "      <td>Cardigan</td>\n",
       "      <td>0.611525</td>\n",
       "      <td>True</td>\n",
       "      <td>Pembroke</td>\n",
       "      <td>0.368566</td>\n",
       "      <td>True</td>\n",
       "      <td>Chihuahua</td>\n",
       "      <td>0.003330</td>\n",
       "      <td>True</td>\n",
       "    </tr>\n",
       "    <tr>\n",
       "      <th>818</th>\n",
       "      <td>692901601640583168</td>\n",
       "      <td>https://pbs.twimg.com/media/CZ2uU37UcAANzmK.jpg</td>\n",
       "      <td>1</td>\n",
       "      <td>soft-coated_wheaten_terrier</td>\n",
       "      <td>0.403496</td>\n",
       "      <td>True</td>\n",
       "      <td>cocker_spaniel</td>\n",
       "      <td>0.135164</td>\n",
       "      <td>True</td>\n",
       "      <td>golden_retriever</td>\n",
       "      <td>0.088719</td>\n",
       "      <td>True</td>\n",
       "    </tr>\n",
       "    <tr>\n",
       "      <th>1268</th>\n",
       "      <td>749417653287129088</td>\n",
       "      <td>https://pbs.twimg.com/media/CmZ3YH9WEAAowi3.jpg</td>\n",
       "      <td>2</td>\n",
       "      <td>papillon</td>\n",
       "      <td>0.772894</td>\n",
       "      <td>True</td>\n",
       "      <td>Shetland_sheepdog</td>\n",
       "      <td>0.042408</td>\n",
       "      <td>True</td>\n",
       "      <td>collie</td>\n",
       "      <td>0.042313</td>\n",
       "      <td>True</td>\n",
       "    </tr>\n",
       "    <tr>\n",
       "      <th>225</th>\n",
       "      <td>670338931251150849</td>\n",
       "      <td>https://pbs.twimg.com/media/CU2FsRnVAAA3TEg.jpg</td>\n",
       "      <td>1</td>\n",
       "      <td>cairn</td>\n",
       "      <td>0.245033</td>\n",
       "      <td>True</td>\n",
       "      <td>West_Highland_white_terrier</td>\n",
       "      <td>0.137709</td>\n",
       "      <td>True</td>\n",
       "      <td>miniature_schnauzer</td>\n",
       "      <td>0.089173</td>\n",
       "      <td>True</td>\n",
       "    </tr>\n",
       "    <tr>\n",
       "      <th>1026</th>\n",
       "      <td>710833117892898816</td>\n",
       "      <td>https://pbs.twimg.com/media/Cd1i8qvUkAE-Jlr.jpg</td>\n",
       "      <td>1</td>\n",
       "      <td>Pembroke</td>\n",
       "      <td>0.803742</td>\n",
       "      <td>True</td>\n",
       "      <td>Cardigan</td>\n",
       "      <td>0.189712</td>\n",
       "      <td>True</td>\n",
       "      <td>German_shepherd</td>\n",
       "      <td>0.001746</td>\n",
       "      <td>True</td>\n",
       "    </tr>\n",
       "    <tr>\n",
       "      <th>1447</th>\n",
       "      <td>776088319444877312</td>\n",
       "      <td>https://pbs.twimg.com/media/CsU4NKkW8AUI5eG.jpg</td>\n",
       "      <td>3</td>\n",
       "      <td>web_site</td>\n",
       "      <td>0.999916</td>\n",
       "      <td>False</td>\n",
       "      <td>pug</td>\n",
       "      <td>0.000077</td>\n",
       "      <td>True</td>\n",
       "      <td>menu</td>\n",
       "      <td>0.000002</td>\n",
       "      <td>False</td>\n",
       "    </tr>\n",
       "  </tbody>\n",
       "</table>\n",
       "</div>"
      ],
      "text/plain": [
       "                tweet_id                                            jpg_url  \\\n",
       "110   667886921285246976    https://pbs.twimg.com/media/CUTPnPCW4AI7R0y.jpg   \n",
       "157   668852170888998912    https://pbs.twimg.com/media/CUg9gBvWoAAmx-2.jpg   \n",
       "1378  764259802650378240    https://pbs.twimg.com/media/CpsyNtXWgAAqvs3.jpg   \n",
       "1266  749395845976588288    https://pbs.twimg.com/media/CmZjizYW8AA3FCN.jpg   \n",
       "497   675798442703122432    https://pbs.twimg.com/media/CWDrGH4UYAARoq_.jpg   \n",
       "471   675135153782571009    https://pbs.twimg.com/media/CV6P1lnWIAAUQHk.jpg   \n",
       "1592  798673117451325440    https://pbs.twimg.com/media/CV_cnjHWUAADc-c.jpg   \n",
       "1277  750086836815486976    https://pbs.twimg.com/media/Cmf5WLGWYAAcmRw.jpg   \n",
       "1586  797971864723324932    https://pbs.twimg.com/media/CxL3IWeVEAAAIE2.jpg   \n",
       "681   683828599284170753    https://pbs.twimg.com/media/CX1ye7HUMAADDzh.jpg   \n",
       "57    667073648344346624    https://pbs.twimg.com/media/CUHr8WbWEAEBPgf.jpg   \n",
       "1855  841314665196081154  https://pbs.twimg.com/ext_tw_video_thumb/84131...   \n",
       "699   684594889858887680    https://pbs.twimg.com/media/CYAra7JWsAACPZH.jpg   \n",
       "84    667502640335572993    https://pbs.twimg.com/media/CUNyHTMUYAAQVch.jpg   \n",
       "1495  783347506784731136    https://pbs.twimg.com/media/CVuQ2LeUsAAIe3s.jpg   \n",
       "818   692901601640583168    https://pbs.twimg.com/media/CZ2uU37UcAANzmK.jpg   \n",
       "1268  749417653287129088    https://pbs.twimg.com/media/CmZ3YH9WEAAowi3.jpg   \n",
       "225   670338931251150849    https://pbs.twimg.com/media/CU2FsRnVAAA3TEg.jpg   \n",
       "1026  710833117892898816    https://pbs.twimg.com/media/Cd1i8qvUkAE-Jlr.jpg   \n",
       "1447  776088319444877312    https://pbs.twimg.com/media/CsU4NKkW8AUI5eG.jpg   \n",
       "\n",
       "      img_num                              p1   p1_conf  p1_dog  \\\n",
       "110         1                      Pomeranian  0.800432    True   \n",
       "157         1                golden_retriever  0.903529    True   \n",
       "1378        1                 German_shepherd  0.973677    True   \n",
       "1266        1                      Pomeranian  0.973715    True   \n",
       "497         1                          beagle  0.681218    True   \n",
       "471         1                           stove  0.587507   False   \n",
       "1592        1                           dough  0.806757   False   \n",
       "1277        1                             pug  0.978277    True   \n",
       "1586        1  American_Staffordshire_terrier  0.489845    True   \n",
       "681         1                        malamute  0.577376    True   \n",
       "57          1                       Chihuahua  0.483682    True   \n",
       "1855        1                    Afghan_hound  0.903712    True   \n",
       "699         1                      Weimaraner  0.948688    True   \n",
       "84          1              Labrador_retriever  0.996709    True   \n",
       "1495        1                        Cardigan  0.611525    True   \n",
       "818         1     soft-coated_wheaten_terrier  0.403496    True   \n",
       "1268        2                        papillon  0.772894    True   \n",
       "225         1                           cairn  0.245033    True   \n",
       "1026        1                        Pembroke  0.803742    True   \n",
       "1447        3                        web_site  0.999916   False   \n",
       "\n",
       "                               p2   p2_conf  p2_dog  \\\n",
       "110                      Pekinese  0.168445    True   \n",
       "157               Tibetan_mastiff  0.041497    True   \n",
       "1378                     malinois  0.025950    True   \n",
       "1266                         chow  0.020758    True   \n",
       "497                        basset  0.125121    True   \n",
       "471                    rotisserie  0.051713   False   \n",
       "1592                       bakery  0.027907   False   \n",
       "1277                        teddy  0.003134   False   \n",
       "1586                    Chihuahua  0.305760    True   \n",
       "681                Siberian_husky  0.287131    True   \n",
       "57                            pug  0.092494    True   \n",
       "1855                       Saluki  0.035215    True   \n",
       "699                English_setter  0.035352    True   \n",
       "84               golden_retriever  0.001688    True   \n",
       "1495                     Pembroke  0.368566    True   \n",
       "818                cocker_spaniel  0.135164    True   \n",
       "1268            Shetland_sheepdog  0.042408    True   \n",
       "225   West_Highland_white_terrier  0.137709    True   \n",
       "1026                     Cardigan  0.189712    True   \n",
       "1447                          pug  0.000077    True   \n",
       "\n",
       "                             p3   p3_conf  p3_dog  \n",
       "110                   Chihuahua  0.008950    True  \n",
       "157                      kuvasz  0.022500    True  \n",
       "1378                     kelpie  0.000192    True  \n",
       "1266                   keeshond  0.003784    True  \n",
       "497                       boxer  0.080398    True  \n",
       "471                   microwave  0.020725   False  \n",
       "1592                French_loaf  0.018189   False  \n",
       "1277          Brabancon_griffon  0.003061    True  \n",
       "1586  Staffordshire_bullterrier  0.072799    True  \n",
       "681                  Eskimo_dog  0.117563    True  \n",
       "57            Brabancon_griffon  0.057495    True  \n",
       "1855                 bloodhound  0.026565    True  \n",
       "699            Brittany_spaniel  0.003879    True  \n",
       "84                       beagle  0.000712    True  \n",
       "1495                  Chihuahua  0.003330    True  \n",
       "818            golden_retriever  0.088719    True  \n",
       "1268                     collie  0.042313    True  \n",
       "225         miniature_schnauzer  0.089173    True  \n",
       "1026            German_shepherd  0.001746    True  \n",
       "1447                       menu  0.000002   False  "
      ]
     },
     "execution_count": 12,
     "metadata": {},
     "output_type": "execute_result"
    }
   ],
   "source": [
    "image_prediction.sample(20)"
   ]
  },
  {
   "cell_type": "code",
   "execution_count": 13,
   "metadata": {},
   "outputs": [],
   "source": [
    "### FINDINGS ###\n",
    "# p1, p2, p3 Hunderassen sind manchmal groß, manchmal klein geschrieben\n",
    "# Die Spalten p1, p2 und p3 enthalten ungültige Daten, wie z. B. ein Vogelhaus, einen Dosenöffner oder einen Brustpanzer usw."
   ]
  },
  {
   "cell_type": "code",
   "execution_count": 14,
   "metadata": {},
   "outputs": [
    {
     "name": "stdout",
     "output_type": "stream",
     "text": [
      "<class 'pandas.core.frame.DataFrame'>\n",
      "RangeIndex: 2331 entries, 0 to 2330\n",
      "Data columns (total 6 columns):\n",
      " #   Column            Non-Null Count  Dtype  \n",
      "---  ------            --------------  -----  \n",
      " 0   tweet_id          2331 non-null   object \n",
      " 1   favorite_count    2331 non-null   int64  \n",
      " 2   retweet_count     2331 non-null   int64  \n",
      " 3   followers_count   2331 non-null   int64  \n",
      " 4   retweeted_status  2331 non-null   object \n",
      " 5   url               0 non-null      float64\n",
      "dtypes: float64(1), int64(3), object(2)\n",
      "memory usage: 109.4+ KB\n"
     ]
    }
   ],
   "source": [
    "tweet_json.info()"
   ]
  },
  {
   "cell_type": "code",
   "execution_count": 15,
   "metadata": {},
   "outputs": [],
   "source": [
    "### FINDINGS ###\n",
    "# tweet_id ist ein String und keine Zahl"
   ]
  },
  {
   "cell_type": "code",
   "execution_count": 16,
   "metadata": {},
   "outputs": [
    {
     "data": {
      "text/html": [
       "<div>\n",
       "<style scoped>\n",
       "    .dataframe tbody tr th:only-of-type {\n",
       "        vertical-align: middle;\n",
       "    }\n",
       "\n",
       "    .dataframe tbody tr th {\n",
       "        vertical-align: top;\n",
       "    }\n",
       "\n",
       "    .dataframe thead th {\n",
       "        text-align: right;\n",
       "    }\n",
       "</style>\n",
       "<table border=\"1\" class=\"dataframe\">\n",
       "  <thead>\n",
       "    <tr style=\"text-align: right;\">\n",
       "      <th></th>\n",
       "      <th>tweet_id</th>\n",
       "      <th>favorite_count</th>\n",
       "      <th>retweet_count</th>\n",
       "      <th>followers_count</th>\n",
       "      <th>retweeted_status</th>\n",
       "      <th>url</th>\n",
       "    </tr>\n",
       "  </thead>\n",
       "  <tbody>\n",
       "    <tr>\n",
       "      <th>255</th>\n",
       "      <td>841680585030541313</td>\n",
       "      <td>25462</td>\n",
       "      <td>7691</td>\n",
       "      <td>8808447</td>\n",
       "      <td>Original tweet</td>\n",
       "      <td>NaN</td>\n",
       "    </tr>\n",
       "    <tr>\n",
       "      <th>823</th>\n",
       "      <td>766423258543644672</td>\n",
       "      <td>6006</td>\n",
       "      <td>1587</td>\n",
       "      <td>8808460</td>\n",
       "      <td>Original tweet</td>\n",
       "      <td>NaN</td>\n",
       "    </tr>\n",
       "    <tr>\n",
       "      <th>1819</th>\n",
       "      <td>675849018447167488</td>\n",
       "      <td>911</td>\n",
       "      <td>138</td>\n",
       "      <td>8808638</td>\n",
       "      <td>Original tweet</td>\n",
       "      <td>NaN</td>\n",
       "    </tr>\n",
       "    <tr>\n",
       "      <th>2197</th>\n",
       "      <td>668466899341221888</td>\n",
       "      <td>850</td>\n",
       "      <td>482</td>\n",
       "      <td>8808649</td>\n",
       "      <td>Original tweet</td>\n",
       "      <td>NaN</td>\n",
       "    </tr>\n",
       "    <tr>\n",
       "      <th>544</th>\n",
       "      <td>802624713319034886</td>\n",
       "      <td>0</td>\n",
       "      <td>2954</td>\n",
       "      <td>8808455</td>\n",
       "      <td>This is a retweet</td>\n",
       "      <td>NaN</td>\n",
       "    </tr>\n",
       "    <tr>\n",
       "      <th>1709</th>\n",
       "      <td>679736210798047232</td>\n",
       "      <td>2059</td>\n",
       "      <td>776</td>\n",
       "      <td>8808550</td>\n",
       "      <td>Original tweet</td>\n",
       "      <td>NaN</td>\n",
       "    </tr>\n",
       "    <tr>\n",
       "      <th>1499</th>\n",
       "      <td>690607260360429569</td>\n",
       "      <td>293</td>\n",
       "      <td>18</td>\n",
       "      <td>8808540</td>\n",
       "      <td>Original tweet</td>\n",
       "      <td>NaN</td>\n",
       "    </tr>\n",
       "    <tr>\n",
       "      <th>356</th>\n",
       "      <td>828408677031882754</td>\n",
       "      <td>7679</td>\n",
       "      <td>1289</td>\n",
       "      <td>8808455</td>\n",
       "      <td>Original tweet</td>\n",
       "      <td>NaN</td>\n",
       "    </tr>\n",
       "    <tr>\n",
       "      <th>1268</th>\n",
       "      <td>708109389455101952</td>\n",
       "      <td>1918</td>\n",
       "      <td>543</td>\n",
       "      <td>8808531</td>\n",
       "      <td>Original tweet</td>\n",
       "      <td>NaN</td>\n",
       "    </tr>\n",
       "    <tr>\n",
       "      <th>1950</th>\n",
       "      <td>672997845381865473</td>\n",
       "      <td>1888</td>\n",
       "      <td>676</td>\n",
       "      <td>8808643</td>\n",
       "      <td>Original tweet</td>\n",
       "      <td>NaN</td>\n",
       "    </tr>\n",
       "  </tbody>\n",
       "</table>\n",
       "</div>"
      ],
      "text/plain": [
       "                tweet_id  favorite_count  retweet_count  followers_count  \\\n",
       "255   841680585030541313           25462           7691          8808447   \n",
       "823   766423258543644672            6006           1587          8808460   \n",
       "1819  675849018447167488             911            138          8808638   \n",
       "2197  668466899341221888             850            482          8808649   \n",
       "544   802624713319034886               0           2954          8808455   \n",
       "1709  679736210798047232            2059            776          8808550   \n",
       "1499  690607260360429569             293             18          8808540   \n",
       "356   828408677031882754            7679           1289          8808455   \n",
       "1268  708109389455101952            1918            543          8808531   \n",
       "1950  672997845381865473            1888            676          8808643   \n",
       "\n",
       "       retweeted_status  url  \n",
       "255      Original tweet  NaN  \n",
       "823      Original tweet  NaN  \n",
       "1819     Original tweet  NaN  \n",
       "2197     Original tweet  NaN  \n",
       "544   This is a retweet  NaN  \n",
       "1709     Original tweet  NaN  \n",
       "1499     Original tweet  NaN  \n",
       "356      Original tweet  NaN  \n",
       "1268     Original tweet  NaN  \n",
       "1950     Original tweet  NaN  "
      ]
     },
     "execution_count": 16,
     "metadata": {},
     "output_type": "execute_result"
    }
   ],
   "source": [
    "tweet_json.sample(10)"
   ]
  },
  {
   "cell_type": "code",
   "execution_count": 17,
   "metadata": {},
   "outputs": [
    {
     "data": {
      "text/plain": [
       "array(['Original tweet', 'This is a retweet'], dtype=object)"
      ]
     },
     "execution_count": 17,
     "metadata": {},
     "output_type": "execute_result"
    }
   ],
   "source": [
    "tweet_json.retweeted_status.unique()"
   ]
  },
  {
   "cell_type": "code",
   "execution_count": 18,
   "metadata": {},
   "outputs": [],
   "source": [
    "### FINDINGS ###\n",
    "# Retweets in diesem df"
   ]
  },
  {
   "cell_type": "code",
   "execution_count": 19,
   "metadata": {},
   "outputs": [
    {
     "data": {
      "text/plain": [
       "https://pbs.twimg.com/media/CZhn-QAWwAASQan.jpg                                            2\n",
       "https://pbs.twimg.com/media/Cq9guJ5WgAADfpF.jpg                                            2\n",
       "https://pbs.twimg.com/ext_tw_video_thumb/807106774843039744/pu/img/8XZg1xW35Xp2J6JW.jpg    2\n",
       "https://pbs.twimg.com/media/CU1zsMSUAAAS0qW.jpg                                            2\n",
       "https://pbs.twimg.com/media/CsrjryzWgAAZY00.jpg                                            2\n",
       "                                                                                          ..\n",
       "https://pbs.twimg.com/media/CXrmMSpUwAAdeRj.jpg                                            1\n",
       "https://pbs.twimg.com/media/CXrawAhWkAAWSxC.jpg                                            1\n",
       "https://pbs.twimg.com/media/CXrIntsUsAEkv0d.jpg                                            1\n",
       "https://pbs.twimg.com/media/CXqcOHCUQAAugTB.jpg                                            1\n",
       "https://pbs.twimg.com/media/DGKD1-bXoAAIAUK.jpg                                            1\n",
       "Name: jpg_url, Length: 2009, dtype: int64"
      ]
     },
     "execution_count": 19,
     "metadata": {},
     "output_type": "execute_result"
    }
   ],
   "source": [
    "# Doppelte Bilder in den URLs enthalen?\n",
    "image_prediction.jpg_url.value_counts()"
   ]
  },
  {
   "cell_type": "code",
   "execution_count": 20,
   "metadata": {},
   "outputs": [
    {
     "data": {
      "text/plain": [
       "66"
      ]
     },
     "execution_count": 20,
     "metadata": {},
     "output_type": "execute_result"
    }
   ],
   "source": [
    "#Anzahl doppelter URLS\n",
    "len(image_prediction.jpg_url) - image_prediction.jpg_url.nunique()"
   ]
  },
  {
   "cell_type": "code",
   "execution_count": 21,
   "metadata": {},
   "outputs": [],
   "source": [
    "### FINDINGS ###\n",
    "# Es gibt doppelte Werte (an Hand der URL) "
   ]
  },
  {
   "cell_type": "code",
   "execution_count": 22,
   "metadata": {},
   "outputs": [
    {
     "data": {
      "text/plain": [
       "12      558\n",
       "11      464\n",
       "10      461\n",
       "13      351\n",
       "9       158\n",
       "8       102\n",
       "7        55\n",
       "14       54\n",
       "5        37\n",
       "6        32\n",
       "3        19\n",
       "4        17\n",
       "2         9\n",
       "1         9\n",
       "75        2\n",
       "15        2\n",
       "420       2\n",
       "0         2\n",
       "80        1\n",
       "144       1\n",
       "17        1\n",
       "26        1\n",
       "20        1\n",
       "121       1\n",
       "143       1\n",
       "44        1\n",
       "60        1\n",
       "45        1\n",
       "50        1\n",
       "99        1\n",
       "204       1\n",
       "1776      1\n",
       "165       1\n",
       "666       1\n",
       "27        1\n",
       "182       1\n",
       "24        1\n",
       "960       1\n",
       "84        1\n",
       "88        1\n",
       "Name: rating_numerator, dtype: int64"
      ]
     },
     "execution_count": 22,
     "metadata": {},
     "output_type": "execute_result"
    }
   ],
   "source": [
    "twitter_archive.rating_numerator.value_counts()"
   ]
  },
  {
   "cell_type": "code",
   "execution_count": 23,
   "metadata": {},
   "outputs": [
    {
     "name": "stderr",
     "output_type": "stream",
     "text": [
      "/var/folders/95/w_86fg5s0nb6hs527p7t3p100000gn/T/ipykernel_71879/311254286.py:2: UserWarning: This pattern is interpreted as a regular expression, and has match groups. To actually get the groups, use str.extract.\n",
      "  display(twitter_archive[twitter_archive['text'].str.contains(r\"(\\d+\\.\\d*\\/\\d+)\")]\n"
     ]
    },
    {
     "data": {
      "text/html": [
       "<div>\n",
       "<style scoped>\n",
       "    .dataframe tbody tr th:only-of-type {\n",
       "        vertical-align: middle;\n",
       "    }\n",
       "\n",
       "    .dataframe tbody tr th {\n",
       "        vertical-align: top;\n",
       "    }\n",
       "\n",
       "    .dataframe thead th {\n",
       "        text-align: right;\n",
       "    }\n",
       "</style>\n",
       "<table border=\"1\" class=\"dataframe\">\n",
       "  <thead>\n",
       "    <tr style=\"text-align: right;\">\n",
       "      <th></th>\n",
       "      <th>tweet_id</th>\n",
       "      <th>text</th>\n",
       "      <th>rating_numerator</th>\n",
       "      <th>rating_denominator</th>\n",
       "    </tr>\n",
       "  </thead>\n",
       "  <tbody>\n",
       "    <tr>\n",
       "      <th>45</th>\n",
       "      <td>883482846933004288</td>\n",
       "      <td>This is Bella. She hopes her smile made you smile. If not, she is also offering you her favorite monkey. 13.5/10 https://t.co/qjrljjt948</td>\n",
       "      <td>5</td>\n",
       "      <td>10</td>\n",
       "    </tr>\n",
       "    <tr>\n",
       "      <th>340</th>\n",
       "      <td>832215909146226688</td>\n",
       "      <td>RT @dog_rates: This is Logan, the Chow who lived. He solemnly swears he's up to lots of good. H*ckin magical af 9.75/10 https://t.co/yBO5wu…</td>\n",
       "      <td>75</td>\n",
       "      <td>10</td>\n",
       "    </tr>\n",
       "    <tr>\n",
       "      <th>695</th>\n",
       "      <td>786709082849828864</td>\n",
       "      <td>This is Logan, the Chow who lived. He solemnly swears he's up to lots of good. H*ckin magical af 9.75/10 https://t.co/yBO5wuqaPS</td>\n",
       "      <td>75</td>\n",
       "      <td>10</td>\n",
       "    </tr>\n",
       "    <tr>\n",
       "      <th>763</th>\n",
       "      <td>778027034220126208</td>\n",
       "      <td>This is Sophie. She's a Jubilant Bush Pupper. Super h*ckin rare. Appears at random just to smile at the locals. 11.27/10 would smile back https://t.co/QFaUiIHxHq</td>\n",
       "      <td>27</td>\n",
       "      <td>10</td>\n",
       "    </tr>\n",
       "    <tr>\n",
       "      <th>1689</th>\n",
       "      <td>681340665377193984</td>\n",
       "      <td>I've been told there's a slight possibility he's checking his mirror. We'll bump to 9.5/10. Still a menace</td>\n",
       "      <td>5</td>\n",
       "      <td>10</td>\n",
       "    </tr>\n",
       "    <tr>\n",
       "      <th>1712</th>\n",
       "      <td>680494726643068929</td>\n",
       "      <td>Here we have uncovered an entire battalion of holiday puppers. Average of 11.26/10 https://t.co/eNm2S6p9BD</td>\n",
       "      <td>26</td>\n",
       "      <td>10</td>\n",
       "    </tr>\n",
       "  </tbody>\n",
       "</table>\n",
       "</div>"
      ],
      "text/plain": [
       "                tweet_id  \\\n",
       "45    883482846933004288   \n",
       "340   832215909146226688   \n",
       "695   786709082849828864   \n",
       "763   778027034220126208   \n",
       "1689  681340665377193984   \n",
       "1712  680494726643068929   \n",
       "\n",
       "                                                                                                                                                                   text  \\\n",
       "45                             This is Bella. She hopes her smile made you smile. If not, she is also offering you her favorite monkey. 13.5/10 https://t.co/qjrljjt948   \n",
       "340                        RT @dog_rates: This is Logan, the Chow who lived. He solemnly swears he's up to lots of good. H*ckin magical af 9.75/10 https://t.co/yBO5wu…   \n",
       "695                                    This is Logan, the Chow who lived. He solemnly swears he's up to lots of good. H*ckin magical af 9.75/10 https://t.co/yBO5wuqaPS   \n",
       "763   This is Sophie. She's a Jubilant Bush Pupper. Super h*ckin rare. Appears at random just to smile at the locals. 11.27/10 would smile back https://t.co/QFaUiIHxHq   \n",
       "1689                                                         I've been told there's a slight possibility he's checking his mirror. We'll bump to 9.5/10. Still a menace   \n",
       "1712                                                         Here we have uncovered an entire battalion of holiday puppers. Average of 11.26/10 https://t.co/eNm2S6p9BD   \n",
       "\n",
       "      rating_numerator  rating_denominator  \n",
       "45                   5                  10  \n",
       "340                 75                  10  \n",
       "695                 75                  10  \n",
       "763                 27                  10  \n",
       "1689                 5                  10  \n",
       "1712                26                  10  "
      ]
     },
     "metadata": {},
     "output_type": "display_data"
    }
   ],
   "source": [
    "with pd.option_context('max_colwidth', 300):\n",
    "    display(twitter_archive[twitter_archive['text'].str.contains(r\"(\\d+\\.\\d*\\/\\d+)\")]\n",
    "            [['tweet_id', 'text', 'rating_numerator', 'rating_denominator']])"
   ]
  },
  {
   "cell_type": "code",
   "execution_count": 24,
   "metadata": {},
   "outputs": [],
   "source": [
    "### FINDINGS ###\n",
    "# Wenn der Zähler eine Dezimalzahl ist wie z.B. 13.5 steht in der Spalte rating_numerator nur die \".5\" "
   ]
  },
  {
   "cell_type": "markdown",
   "metadata": {},
   "source": [
    "![purple-divider](https://user-images.githubusercontent.com/7065401/52071927-c1cd7100-2562-11e9-908a-dde91ba14e59.png)\n"
   ]
  },
  {
   "cell_type": "markdown",
   "metadata": {},
   "source": [
    "# Start der Übung"
   ]
  },
  {
   "cell_type": "markdown",
   "metadata": {
    "tags": []
   },
   "source": [
    "## Zusammenfassung der Beobachtungen aus erster Datenexploration \n",
    "\n",
    "##### **`twitter_archive`** \n",
    " - Es gibt sowohl Originalbewertungen und Retweets\n",
    " - Es müssen Spalten gelöscht werden, die nicht für die Analyse verwendet werden\n",
    " - Hundestufen sind nicht korrekt angegeben\n",
    " - Zeitstempel ist in einem nicht korrekten Datenformat (hier Datetime)\n",
    " - Fehlende Daten in den folgenden Spalten: in_reply_to_status_id, in_reply_to_user_id, retweeted_status_id, retweeted_status_user_id, retweeted_status_timestamp, expanded_urls\n",
    " - Der Nenner der Bewertung wird größer als 10\n",
    " - Wenn der Zähler eine Dezimalzahl ist wie z.B. 13.5 steht in der Spalte rating_numerator nur die \".5\" \n",
    " - Manchmal ist der Name des Hundes None\n",
    " - Hundeentwicklungsstufen sind in 4 Spalten\n",
    " - Alle drei Quellen sollen zum Schluss in einem DataFrame sein\n",
    " \n",
    "  \n",
    " ##### **`tweet_json`**\n",
    " - tweet_id ist ein String und keine Zahl\n",
    " - fehlende Daten für die tweet_ids\n",
    " - Retweets in diesem df\n",
    " - Alle drei Quellen sollen zum Schluss in einem DataFrame sein\n",
    " \n",
    " \n",
    " ##### **`image_prediction`** \n",
    " - p1, p2, p3 Hunderassen sind manchmal groß, manchmal klein geschrieben\n",
    " - Die Spalten p1, p2 und p3 enthalten ungültige Daten, wie z. B. ein Vogelhaus, einen Dosenöffner oder einen Brustpanzer usw.\n",
    " - Doppelte Zeilen\n",
    " - Alle drei Quellen sollen zum Schluss in einem DataFrame sein"
   ]
  },
  {
   "cell_type": "markdown",
   "metadata": {
    "tags": []
   },
   "source": [
    "## Aufgaben für euer Data Cleaning"
   ]
  },
  {
   "cell_type": "markdown",
   "metadata": {
    "tags": []
   },
   "source": [
    "**`twitter_archive`**</br>\n",
    "1. Lösche alle Retweets und behalte die Originalbewertungen in `twitter_archive`\n",
    "2. Lösche folgende Spalten in `twitter_archive`: 'source','in_reply_to_status_id', 'in_reply_to_user_id', 'retweeted_status_id', 'retweeted_status_user_id', 'retweeted_status_timestamp', 'expanded_urls'\n",
    "3. Konvertiere den Zeitstempel in `twitter_archive` als Datumsformat\n",
    "4. Korrigiere den Zähler in `twitter_archive`. Wandle es erst als `float` um, und korrigiere die 6 falschen Werte manuell\n",
    "5. Entferne alle Zeilen in `twitter_archive`, deren Nenner nicht 10 ist\n",
    "6. Kombinieren alle Spalten der Dog Stages in eine gemeinsame Spalte in `twitter_archive`\n",
    "\n",
    "\n",
    "**`tweet_json`**</br>\n",
    "7. Wandle die tweet_id in ein `int` Format in `tweet_json`</br>\n",
    "8. Lösche alle Retweets und behalte die Originalbewertungen in `tweet_json`\n",
    "</br></br>\n",
    "**`image_predictions`**</br>\n",
    "9. Überabeite die Spalten der Hunderassen in `image_predictions` so, dass nur Kleinbuchstaben enthalten sind</br>\n",
    "10. Lösche alle duplizierten Zeilen (ca. 66) mit Bild in `image_predictions`\n",
    "</br></br>\n",
    "**Übergreifend**</br>\n",
    "11. Erstelle einen DataFrame aus den drei bereinigten DataFrames mit Namen `df`</br>\n",
    "12. Nenne die Spalte text in tweet_text um im Dataframe `df` </br>\n",
    "13. Outlier Rating_numerator erkennen und droppen, mit Hilfe der IQR"
   ]
  },
  {
   "cell_type": "code",
   "execution_count": 25,
   "metadata": {},
   "outputs": [],
   "source": [
    "'''\n",
    "Wir erstellen im ersten Schritt immer eine \"Hartcopy\", \n",
    "auf deren Basis wir dann das Data Cleaning machen damit wir später immer Vergleichen können,\n",
    "ob die Transformationen wirklich funktioniert haben\n",
    "'''\n",
    "twitter_archive_clean = twitter_archive.copy()\n",
    "image_prediction_clean = image_prediction.copy()\n",
    "tweet_json_clean = tweet_json.copy()"
   ]
  },
  {
   "cell_type": "markdown",
   "metadata": {},
   "source": [
    "**1. Lösche alle Retweets und behalte die Originalbewertungen**"
   ]
  },
  {
   "cell_type": "code",
   "execution_count": 26,
   "metadata": {},
   "outputs": [],
   "source": [
    "#Code\n",
    "twitter_archive_clean = twitter_archive_clean[pd.isnull(twitter_archive_clean['retweeted_status_user_id'])]"
   ]
  },
  {
   "cell_type": "code",
   "execution_count": 27,
   "metadata": {},
   "outputs": [
    {
     "data": {
      "text/plain": [
       "0"
      ]
     },
     "execution_count": 27,
     "metadata": {},
     "output_type": "execute_result"
    }
   ],
   "source": [
    "#Test\n",
    "sum(twitter_archive_clean.retweeted_status_id.value_counts())"
   ]
  },
  {
   "cell_type": "markdown",
   "metadata": {},
   "source": [
    "**2. Lösche folgende Spalten in `twitter_archive`: 'source','in_reply_to_status_id', 'in_reply_to_user_id', 'retweeted_status_id', 'retweeted_status_user_id', 'retweeted_status_timestamp', 'expanded_urls'**"
   ]
  },
  {
   "cell_type": "code",
   "execution_count": 28,
   "metadata": {},
   "outputs": [],
   "source": [
    "#Code\n",
    "twitter_archive_clean = twitter_archive_clean.drop(['source','in_reply_to_status_id', 'in_reply_to_user_id', 'retweeted_status_id', 'retweeted_status_user_id', 'retweeted_status_timestamp', 'expanded_urls'], axis=1)"
   ]
  },
  {
   "cell_type": "code",
   "execution_count": 29,
   "metadata": {},
   "outputs": [
    {
     "data": {
      "text/html": [
       "<div>\n",
       "<style scoped>\n",
       "    .dataframe tbody tr th:only-of-type {\n",
       "        vertical-align: middle;\n",
       "    }\n",
       "\n",
       "    .dataframe tbody tr th {\n",
       "        vertical-align: top;\n",
       "    }\n",
       "\n",
       "    .dataframe thead th {\n",
       "        text-align: right;\n",
       "    }\n",
       "</style>\n",
       "<table border=\"1\" class=\"dataframe\">\n",
       "  <thead>\n",
       "    <tr style=\"text-align: right;\">\n",
       "      <th></th>\n",
       "      <th>tweet_id</th>\n",
       "      <th>timestamp</th>\n",
       "      <th>text</th>\n",
       "      <th>rating_numerator</th>\n",
       "      <th>rating_denominator</th>\n",
       "      <th>name</th>\n",
       "      <th>doggo</th>\n",
       "      <th>floofer</th>\n",
       "      <th>pupper</th>\n",
       "      <th>puppo</th>\n",
       "    </tr>\n",
       "  </thead>\n",
       "  <tbody>\n",
       "    <tr>\n",
       "      <th>0</th>\n",
       "      <td>892420643555336193</td>\n",
       "      <td>2017-08-01 16:23:56 +0000</td>\n",
       "      <td>This is Phineas. He's a mystical boy. Only eve...</td>\n",
       "      <td>13</td>\n",
       "      <td>10</td>\n",
       "      <td>Phineas</td>\n",
       "      <td>None</td>\n",
       "      <td>None</td>\n",
       "      <td>None</td>\n",
       "      <td>None</td>\n",
       "    </tr>\n",
       "  </tbody>\n",
       "</table>\n",
       "</div>"
      ],
      "text/plain": [
       "             tweet_id                  timestamp  \\\n",
       "0  892420643555336193  2017-08-01 16:23:56 +0000   \n",
       "\n",
       "                                                text  rating_numerator  \\\n",
       "0  This is Phineas. He's a mystical boy. Only eve...                13   \n",
       "\n",
       "   rating_denominator     name doggo floofer pupper puppo  \n",
       "0                  10  Phineas  None    None   None  None  "
      ]
     },
     "execution_count": 29,
     "metadata": {},
     "output_type": "execute_result"
    }
   ],
   "source": [
    "#Test\n",
    "twitter_archive_clean.head(1)"
   ]
  },
  {
   "cell_type": "markdown",
   "metadata": {},
   "source": [
    "**3. Konvertiere den Zeitstempel in `twitter_archive` als Datumsformat**"
   ]
  },
  {
   "cell_type": "code",
   "execution_count": 30,
   "metadata": {},
   "outputs": [],
   "source": [
    "#Code\n",
    "twitter_archive_clean.timestamp = pd.to_datetime(twitter_archive_clean.timestamp)"
   ]
  },
  {
   "cell_type": "code",
   "execution_count": 31,
   "metadata": {},
   "outputs": [
    {
     "name": "stdout",
     "output_type": "stream",
     "text": [
      "<class 'pandas.core.frame.DataFrame'>\n",
      "Int64Index: 2175 entries, 0 to 2355\n",
      "Data columns (total 10 columns):\n",
      " #   Column              Non-Null Count  Dtype              \n",
      "---  ------              --------------  -----              \n",
      " 0   tweet_id            2175 non-null   int64              \n",
      " 1   timestamp           2175 non-null   datetime64[ns, UTC]\n",
      " 2   text                2175 non-null   object             \n",
      " 3   rating_numerator    2175 non-null   int64              \n",
      " 4   rating_denominator  2175 non-null   int64              \n",
      " 5   name                2175 non-null   object             \n",
      " 6   doggo               2175 non-null   object             \n",
      " 7   floofer             2175 non-null   object             \n",
      " 8   pupper              2175 non-null   object             \n",
      " 9   puppo               2175 non-null   object             \n",
      "dtypes: datetime64[ns, UTC](1), int64(3), object(6)\n",
      "memory usage: 186.9+ KB\n"
     ]
    }
   ],
   "source": [
    "#Test\n",
    "twitter_archive_clean.info()"
   ]
  },
  {
   "cell_type": "markdown",
   "metadata": {},
   "source": [
    "**4. Korrigiere den Zähler in `twitter_archive`. Wandle es erst als `float` um, und korrigiere die 6 falschen Werte manuell**"
   ]
  },
  {
   "cell_type": "code",
   "execution_count": 32,
   "metadata": {},
   "outputs": [
    {
     "name": "stdout",
     "output_type": "stream",
     "text": [
      "<class 'pandas.core.frame.DataFrame'>\n",
      "Int64Index: 2175 entries, 0 to 2355\n",
      "Data columns (total 10 columns):\n",
      " #   Column              Non-Null Count  Dtype              \n",
      "---  ------              --------------  -----              \n",
      " 0   tweet_id            2175 non-null   int64              \n",
      " 1   timestamp           2175 non-null   datetime64[ns, UTC]\n",
      " 2   text                2175 non-null   object             \n",
      " 3   rating_numerator    2175 non-null   int64              \n",
      " 4   rating_denominator  2175 non-null   int64              \n",
      " 5   name                2175 non-null   object             \n",
      " 6   doggo               2175 non-null   object             \n",
      " 7   floofer             2175 non-null   object             \n",
      " 8   pupper              2175 non-null   object             \n",
      " 9   puppo               2175 non-null   object             \n",
      "dtypes: datetime64[ns, UTC](1), int64(3), object(6)\n",
      "memory usage: 186.9+ KB\n"
     ]
    }
   ],
   "source": [
    "twitter_archive_clean.info()"
   ]
  },
  {
   "cell_type": "code",
   "execution_count": 33,
   "metadata": {},
   "outputs": [
    {
     "name": "stdout",
     "output_type": "stream",
     "text": [
      "<class 'pandas.core.frame.DataFrame'>\n",
      "Int64Index: 2175 entries, 0 to 2355\n",
      "Data columns (total 10 columns):\n",
      " #   Column              Non-Null Count  Dtype              \n",
      "---  ------              --------------  -----              \n",
      " 0   tweet_id            2175 non-null   int64              \n",
      " 1   timestamp           2175 non-null   datetime64[ns, UTC]\n",
      " 2   text                2175 non-null   object             \n",
      " 3   rating_numerator    2175 non-null   float64            \n",
      " 4   rating_denominator  2175 non-null   float64            \n",
      " 5   name                2175 non-null   object             \n",
      " 6   doggo               2175 non-null   object             \n",
      " 7   floofer             2175 non-null   object             \n",
      " 8   pupper              2175 non-null   object             \n",
      " 9   puppo               2175 non-null   object             \n",
      "dtypes: datetime64[ns, UTC](1), float64(2), int64(1), object(6)\n",
      "memory usage: 186.9+ KB\n"
     ]
    }
   ],
   "source": [
    "#Code\n",
    "twitter_archive_clean[[\"rating_numerator\",\"rating_denominator\"]] = twitter_archive_clean[[\"rating_numerator\",\"rating_denominator\"]].astype(float)\n",
    "twitter_archive_clean.info()\n",
    "\n",
    "#Manuelles Updaten der Nenner (numerators)\n",
    "twitter_archive_clean.loc[(twitter_archive_clean.tweet_id == 883482846933004288), 'rating_numerator'] = 13.5\n",
    "twitter_archive_clean.loc[(twitter_archive_clean.tweet_id == 786709082849828864), 'rating_numerator'] = 9.75\n",
    "twitter_archive_clean.loc[(twitter_archive_clean.tweet_id == 778027034220126208), 'rating_numerator'] = 11.27\n",
    "twitter_archive_clean.loc[(twitter_archive_clean.tweet_id == 681340665377193984), 'rating_numerator'] = 9.5\n",
    "twitter_archive_clean.loc[(twitter_archive_clean.tweet_id == 680494726643068929), 'rating_numerator'] = 11.26\n",
    "twitter_archive_clean.loc[(twitter_archive_clean.tweet_id == 832215909146226688), 'rating_numerator'] = 9.75"
   ]
  },
  {
   "cell_type": "code",
   "execution_count": 34,
   "metadata": {},
   "outputs": [
    {
     "name": "stderr",
     "output_type": "stream",
     "text": [
      "/var/folders/95/w_86fg5s0nb6hs527p7t3p100000gn/T/ipykernel_71879/3408918035.py:3: UserWarning: This pattern is interpreted as a regular expression, and has match groups. To actually get the groups, use str.extract.\n",
      "  display(twitter_archive_clean[twitter_archive_clean['text'].str.contains(r\"(\\d+\\.\\d*\\/\\d+)\")]\n"
     ]
    },
    {
     "data": {
      "text/html": [
       "<div>\n",
       "<style scoped>\n",
       "    .dataframe tbody tr th:only-of-type {\n",
       "        vertical-align: middle;\n",
       "    }\n",
       "\n",
       "    .dataframe tbody tr th {\n",
       "        vertical-align: top;\n",
       "    }\n",
       "\n",
       "    .dataframe thead th {\n",
       "        text-align: right;\n",
       "    }\n",
       "</style>\n",
       "<table border=\"1\" class=\"dataframe\">\n",
       "  <thead>\n",
       "    <tr style=\"text-align: right;\">\n",
       "      <th></th>\n",
       "      <th>tweet_id</th>\n",
       "      <th>text</th>\n",
       "      <th>rating_numerator</th>\n",
       "      <th>rating_denominator</th>\n",
       "    </tr>\n",
       "  </thead>\n",
       "  <tbody>\n",
       "    <tr>\n",
       "      <th>45</th>\n",
       "      <td>883482846933004288</td>\n",
       "      <td>This is Bella. She hopes her smile made you smile. If not, she is also offering you her favorite monkey. 13.5/10 https://t.co/qjrljjt948</td>\n",
       "      <td>13.50</td>\n",
       "      <td>10.0</td>\n",
       "    </tr>\n",
       "    <tr>\n",
       "      <th>695</th>\n",
       "      <td>786709082849828864</td>\n",
       "      <td>This is Logan, the Chow who lived. He solemnly swears he's up to lots of good. H*ckin magical af 9.75/10 https://t.co/yBO5wuqaPS</td>\n",
       "      <td>9.75</td>\n",
       "      <td>10.0</td>\n",
       "    </tr>\n",
       "    <tr>\n",
       "      <th>763</th>\n",
       "      <td>778027034220126208</td>\n",
       "      <td>This is Sophie. She's a Jubilant Bush Pupper. Super h*ckin rare. Appears at random just to smile at the locals. 11.27/10 would smile back https://t.co/QFaUiIHxHq</td>\n",
       "      <td>11.27</td>\n",
       "      <td>10.0</td>\n",
       "    </tr>\n",
       "    <tr>\n",
       "      <th>1689</th>\n",
       "      <td>681340665377193984</td>\n",
       "      <td>I've been told there's a slight possibility he's checking his mirror. We'll bump to 9.5/10. Still a menace</td>\n",
       "      <td>9.50</td>\n",
       "      <td>10.0</td>\n",
       "    </tr>\n",
       "    <tr>\n",
       "      <th>1712</th>\n",
       "      <td>680494726643068929</td>\n",
       "      <td>Here we have uncovered an entire battalion of holiday puppers. Average of 11.26/10 https://t.co/eNm2S6p9BD</td>\n",
       "      <td>11.26</td>\n",
       "      <td>10.0</td>\n",
       "    </tr>\n",
       "  </tbody>\n",
       "</table>\n",
       "</div>"
      ],
      "text/plain": [
       "                tweet_id  \\\n",
       "45    883482846933004288   \n",
       "695   786709082849828864   \n",
       "763   778027034220126208   \n",
       "1689  681340665377193984   \n",
       "1712  680494726643068929   \n",
       "\n",
       "                                                                                                                                                                   text  \\\n",
       "45                             This is Bella. She hopes her smile made you smile. If not, she is also offering you her favorite monkey. 13.5/10 https://t.co/qjrljjt948   \n",
       "695                                    This is Logan, the Chow who lived. He solemnly swears he's up to lots of good. H*ckin magical af 9.75/10 https://t.co/yBO5wuqaPS   \n",
       "763   This is Sophie. She's a Jubilant Bush Pupper. Super h*ckin rare. Appears at random just to smile at the locals. 11.27/10 would smile back https://t.co/QFaUiIHxHq   \n",
       "1689                                                         I've been told there's a slight possibility he's checking his mirror. We'll bump to 9.5/10. Still a menace   \n",
       "1712                                                         Here we have uncovered an entire battalion of holiday puppers. Average of 11.26/10 https://t.co/eNm2S6p9BD   \n",
       "\n",
       "      rating_numerator  rating_denominator  \n",
       "45               13.50                10.0  \n",
       "695               9.75                10.0  \n",
       "763              11.27                10.0  \n",
       "1689              9.50                10.0  \n",
       "1712             11.26                10.0  "
      ]
     },
     "metadata": {},
     "output_type": "display_data"
    }
   ],
   "source": [
    "#Test\n",
    "with pd.option_context('max_colwidth', 300):\n",
    "    display(twitter_archive_clean[twitter_archive_clean['text'].str.contains(r\"(\\d+\\.\\d*\\/\\d+)\")]\n",
    "            [['tweet_id', 'text', 'rating_numerator', 'rating_denominator']])"
   ]
  },
  {
   "cell_type": "markdown",
   "metadata": {},
   "source": [
    "**5. Entferne alle Zeilen in `tweet_archive`, deren Nenner nicht 10 ist**"
   ]
  },
  {
   "cell_type": "code",
   "execution_count": 35,
   "metadata": {},
   "outputs": [
    {
     "data": {
      "text/plain": [
       "22"
      ]
     },
     "execution_count": 35,
     "metadata": {},
     "output_type": "execute_result"
    }
   ],
   "source": [
    "len(twitter_archive_clean[twitter_archive_clean[\"rating_denominator\"] != 10])"
   ]
  },
  {
   "cell_type": "code",
   "execution_count": 36,
   "metadata": {},
   "outputs": [],
   "source": [
    "#code\n",
    "twitter_archive_clean = twitter_archive_clean[twitter_archive_clean['rating_denominator'] == 10]"
   ]
  },
  {
   "cell_type": "code",
   "execution_count": 37,
   "metadata": {},
   "outputs": [
    {
     "data": {
      "text/plain": [
       "0"
      ]
     },
     "execution_count": 37,
     "metadata": {},
     "output_type": "execute_result"
    }
   ],
   "source": [
    "#Test\n",
    "len(twitter_archive_clean[twitter_archive_clean[\"rating_denominator\"] != 10])"
   ]
  },
  {
   "cell_type": "markdown",
   "metadata": {},
   "source": [
    "**6. Kombinieren alle Spalten der Dog Stages in eine gemeinsame Spalte in `twitter_archive`**"
   ]
  },
  {
   "cell_type": "code",
   "execution_count": 38,
   "metadata": {},
   "outputs": [],
   "source": [
    "#CODE: Melt the doggo, floofer, pupper and puppo columns to dogs and dogs_stage column\n",
    "twitter_archive_clean = pd.melt(twitter_archive_clean, id_vars=['tweet_id',                                          \n",
    "                                                                'timestamp',\n",
    "                                                                'text',\n",
    "                                                                'rating_numerator',\n",
    "                                                                'rating_denominator',\n",
    "                                                                'name'],\n",
    "                               var_name='dogs', value_name='dogs_stage')"
   ]
  },
  {
   "cell_type": "code",
   "execution_count": 39,
   "metadata": {},
   "outputs": [
    {
     "name": "stderr",
     "output_type": "stream",
     "text": [
      "/var/folders/95/w_86fg5s0nb6hs527p7t3p100000gn/T/ipykernel_71879/874816696.py:2: FutureWarning: In a future version of pandas all arguments of DataFrame.drop except for the argument 'labels' will be keyword-only.\n",
      "  twitter_archive_clean = twitter_archive_clean.drop('dogs', 1)\n"
     ]
    }
   ],
   "source": [
    "#CODE: drop dogs\n",
    "twitter_archive_clean = twitter_archive_clean.drop('dogs', 1)\n",
    "\n",
    "#CODE: Sort by dogs_stage then drop duplicated based on tweet_id except the last occurrence\n",
    "twitter_archive_clean = twitter_archive_clean.sort_values('dogs_stage').drop_duplicates(subset='tweet_id', \n",
    "                                                                                        keep='last')"
   ]
  },
  {
   "cell_type": "code",
   "execution_count": 40,
   "metadata": {},
   "outputs": [
    {
     "data": {
      "text/plain": [
       "None       1809\n",
       "pupper      234\n",
       "doggo        75\n",
       "puppo        25\n",
       "floofer      10\n",
       "Name: dogs_stage, dtype: int64"
      ]
     },
     "execution_count": 40,
     "metadata": {},
     "output_type": "execute_result"
    }
   ],
   "source": [
    "#TEST\n",
    "twitter_archive_clean.dogs_stage.value_counts()"
   ]
  },
  {
   "cell_type": "markdown",
   "metadata": {},
   "source": [
    "**7. Wandle die tweet_id in ein `int` Format in `tweet_json`**"
   ]
  },
  {
   "cell_type": "code",
   "execution_count": 41,
   "metadata": {},
   "outputs": [],
   "source": [
    "#Code\n",
    "tweet_json_clean.tweet_id = tweet_json_clean.tweet_id.astype(int)"
   ]
  },
  {
   "cell_type": "code",
   "execution_count": 42,
   "metadata": {},
   "outputs": [
    {
     "name": "stdout",
     "output_type": "stream",
     "text": [
      "<class 'pandas.core.frame.DataFrame'>\n",
      "RangeIndex: 2331 entries, 0 to 2330\n",
      "Data columns (total 6 columns):\n",
      " #   Column            Non-Null Count  Dtype  \n",
      "---  ------            --------------  -----  \n",
      " 0   tweet_id          2331 non-null   int64  \n",
      " 1   favorite_count    2331 non-null   int64  \n",
      " 2   retweet_count     2331 non-null   int64  \n",
      " 3   followers_count   2331 non-null   int64  \n",
      " 4   retweeted_status  2331 non-null   object \n",
      " 5   url               0 non-null      float64\n",
      "dtypes: float64(1), int64(4), object(1)\n",
      "memory usage: 109.4+ KB\n"
     ]
    }
   ],
   "source": [
    "#Test\n",
    "tweet_json_clean.info()"
   ]
  },
  {
   "cell_type": "markdown",
   "metadata": {},
   "source": [
    "**8. Lösche alle Retweets und behalte die Originalbewertungen in `tweet_json`**"
   ]
  },
  {
   "cell_type": "code",
   "execution_count": 43,
   "metadata": {},
   "outputs": [],
   "source": [
    "#Code\n",
    "tweet_json_clean = tweet_json_clean[tweet_json_clean[\"retweeted_status\"]==\"Original tweet\"]"
   ]
  },
  {
   "cell_type": "code",
   "execution_count": 44,
   "metadata": {},
   "outputs": [
    {
     "data": {
      "text/plain": [
       "Original tweet    2168\n",
       "Name: retweeted_status, dtype: int64"
      ]
     },
     "execution_count": 44,
     "metadata": {},
     "output_type": "execute_result"
    }
   ],
   "source": [
    "#Test\n",
    "tweet_json_clean.retweeted_status.value_counts()"
   ]
  },
  {
   "cell_type": "markdown",
   "metadata": {},
   "source": [
    "**9. Überarbeite die Spalten der Hunderassen in `image_predictions` so, dass nur Kleinbuchstaben enthalten sind**"
   ]
  },
  {
   "cell_type": "code",
   "execution_count": 45,
   "metadata": {},
   "outputs": [],
   "source": [
    "#Code\n",
    "image_prediction_clean.p1 =image_prediction_clean.p1.str.lower()\n",
    "image_prediction_clean.p2 =image_prediction_clean.p2.str.lower()\n",
    "image_prediction_clean.p3 =image_prediction_clean.p3.str.lower()"
   ]
  },
  {
   "cell_type": "code",
   "execution_count": 46,
   "metadata": {},
   "outputs": [
    {
     "data": {
      "text/html": [
       "<div>\n",
       "<style scoped>\n",
       "    .dataframe tbody tr th:only-of-type {\n",
       "        vertical-align: middle;\n",
       "    }\n",
       "\n",
       "    .dataframe tbody tr th {\n",
       "        vertical-align: top;\n",
       "    }\n",
       "\n",
       "    .dataframe thead th {\n",
       "        text-align: right;\n",
       "    }\n",
       "</style>\n",
       "<table border=\"1\" class=\"dataframe\">\n",
       "  <thead>\n",
       "    <tr style=\"text-align: right;\">\n",
       "      <th></th>\n",
       "      <th>tweet_id</th>\n",
       "      <th>jpg_url</th>\n",
       "      <th>img_num</th>\n",
       "      <th>p1</th>\n",
       "      <th>p1_conf</th>\n",
       "      <th>p1_dog</th>\n",
       "      <th>p2</th>\n",
       "      <th>p2_conf</th>\n",
       "      <th>p2_dog</th>\n",
       "      <th>p3</th>\n",
       "      <th>p3_conf</th>\n",
       "      <th>p3_dog</th>\n",
       "    </tr>\n",
       "  </thead>\n",
       "  <tbody>\n",
       "    <tr>\n",
       "      <th>1458</th>\n",
       "      <td>777885040357281792</td>\n",
       "      <td>https://pbs.twimg.com/media/CsuaUH2WAAAWJh1.jpg</td>\n",
       "      <td>1</td>\n",
       "      <td>afghan_hound</td>\n",
       "      <td>0.123529</td>\n",
       "      <td>True</td>\n",
       "      <td>basset</td>\n",
       "      <td>0.119682</td>\n",
       "      <td>True</td>\n",
       "      <td>siberian_husky</td>\n",
       "      <td>0.108709</td>\n",
       "      <td>True</td>\n",
       "    </tr>\n",
       "    <tr>\n",
       "      <th>1682</th>\n",
       "      <td>813910438903693312</td>\n",
       "      <td>https://pbs.twimg.com/media/C0uXObSXUAAIzmV.jpg</td>\n",
       "      <td>1</td>\n",
       "      <td>siberian_husky</td>\n",
       "      <td>0.699355</td>\n",
       "      <td>True</td>\n",
       "      <td>eskimo_dog</td>\n",
       "      <td>0.256433</td>\n",
       "      <td>True</td>\n",
       "      <td>norwegian_elkhound</td>\n",
       "      <td>0.013189</td>\n",
       "      <td>True</td>\n",
       "    </tr>\n",
       "    <tr>\n",
       "      <th>1671</th>\n",
       "      <td>813096984823349248</td>\n",
       "      <td>https://pbs.twimg.com/media/C0izZULWgAAKD-F.jpg</td>\n",
       "      <td>1</td>\n",
       "      <td>great_dane</td>\n",
       "      <td>0.128056</td>\n",
       "      <td>True</td>\n",
       "      <td>boston_bull</td>\n",
       "      <td>0.117003</td>\n",
       "      <td>True</td>\n",
       "      <td>kelpie</td>\n",
       "      <td>0.086964</td>\n",
       "      <td>True</td>\n",
       "    </tr>\n",
       "    <tr>\n",
       "      <th>1675</th>\n",
       "      <td>813157409116065792</td>\n",
       "      <td>https://pbs.twimg.com/media/C0jqVVOXUAAGJ0G.jpg</td>\n",
       "      <td>2</td>\n",
       "      <td>siamese_cat</td>\n",
       "      <td>0.843911</td>\n",
       "      <td>False</td>\n",
       "      <td>pembroke</td>\n",
       "      <td>0.070567</td>\n",
       "      <td>True</td>\n",
       "      <td>cardigan</td>\n",
       "      <td>0.041916</td>\n",
       "      <td>True</td>\n",
       "    </tr>\n",
       "    <tr>\n",
       "      <th>153</th>\n",
       "      <td>668655139528511488</td>\n",
       "      <td>https://pbs.twimg.com/media/CUeKTeYW4AEr_lx.jpg</td>\n",
       "      <td>1</td>\n",
       "      <td>beagle</td>\n",
       "      <td>0.319110</td>\n",
       "      <td>True</td>\n",
       "      <td>italian_greyhound</td>\n",
       "      <td>0.103338</td>\n",
       "      <td>True</td>\n",
       "      <td>basenji</td>\n",
       "      <td>0.091930</td>\n",
       "      <td>True</td>\n",
       "    </tr>\n",
       "    <tr>\n",
       "      <th>1288</th>\n",
       "      <td>751205363882532864</td>\n",
       "      <td>https://pbs.twimg.com/media/CmzRRY1WcAEoxwY.jpg</td>\n",
       "      <td>2</td>\n",
       "      <td>labrador_retriever</td>\n",
       "      <td>0.947164</td>\n",
       "      <td>True</td>\n",
       "      <td>chesapeake_bay_retriever</td>\n",
       "      <td>0.020597</td>\n",
       "      <td>True</td>\n",
       "      <td>golden_retriever</td>\n",
       "      <td>0.016579</td>\n",
       "      <td>True</td>\n",
       "    </tr>\n",
       "    <tr>\n",
       "      <th>2046</th>\n",
       "      <td>886680336477933568</td>\n",
       "      <td>https://pbs.twimg.com/media/DE4fEDzWAAAyHMM.jpg</td>\n",
       "      <td>1</td>\n",
       "      <td>convertible</td>\n",
       "      <td>0.738995</td>\n",
       "      <td>False</td>\n",
       "      <td>sports_car</td>\n",
       "      <td>0.139952</td>\n",
       "      <td>False</td>\n",
       "      <td>car_wheel</td>\n",
       "      <td>0.044173</td>\n",
       "      <td>False</td>\n",
       "    </tr>\n",
       "    <tr>\n",
       "      <th>568</th>\n",
       "      <td>678380236862578688</td>\n",
       "      <td>https://pbs.twimg.com/media/CWoXOfSUAAA4u8g.jpg</td>\n",
       "      <td>1</td>\n",
       "      <td>dogsled</td>\n",
       "      <td>0.088540</td>\n",
       "      <td>False</td>\n",
       "      <td>snowmobile</td>\n",
       "      <td>0.057291</td>\n",
       "      <td>False</td>\n",
       "      <td>samoyed</td>\n",
       "      <td>0.047601</td>\n",
       "      <td>True</td>\n",
       "    </tr>\n",
       "    <tr>\n",
       "      <th>148</th>\n",
       "      <td>668633411083464705</td>\n",
       "      <td>https://pbs.twimg.com/media/CUd2ieCUcAAexyT.jpg</td>\n",
       "      <td>1</td>\n",
       "      <td>pekinese</td>\n",
       "      <td>0.589011</td>\n",
       "      <td>True</td>\n",
       "      <td>shih-tzu</td>\n",
       "      <td>0.390987</td>\n",
       "      <td>True</td>\n",
       "      <td>japanese_spaniel</td>\n",
       "      <td>0.003310</td>\n",
       "      <td>True</td>\n",
       "    </tr>\n",
       "    <tr>\n",
       "      <th>698</th>\n",
       "      <td>684567543613382656</td>\n",
       "      <td>https://pbs.twimg.com/media/CYASi6FWQAEQMW2.jpg</td>\n",
       "      <td>1</td>\n",
       "      <td>minibus</td>\n",
       "      <td>0.401942</td>\n",
       "      <td>False</td>\n",
       "      <td>llama</td>\n",
       "      <td>0.229145</td>\n",
       "      <td>False</td>\n",
       "      <td>seat_belt</td>\n",
       "      <td>0.209393</td>\n",
       "      <td>False</td>\n",
       "    </tr>\n",
       "    <tr>\n",
       "      <th>1231</th>\n",
       "      <td>745789745784041472</td>\n",
       "      <td>https://pbs.twimg.com/media/ClmT0KHWkAAXbhy.jpg</td>\n",
       "      <td>1</td>\n",
       "      <td>pekinese</td>\n",
       "      <td>0.984267</td>\n",
       "      <td>True</td>\n",
       "      <td>shih-tzu</td>\n",
       "      <td>0.008942</td>\n",
       "      <td>True</td>\n",
       "      <td>cocker_spaniel</td>\n",
       "      <td>0.001928</td>\n",
       "      <td>True</td>\n",
       "    </tr>\n",
       "    <tr>\n",
       "      <th>150</th>\n",
       "      <td>668641109086707712</td>\n",
       "      <td>https://pbs.twimg.com/media/CUd9ivxWUAAuXSQ.jpg</td>\n",
       "      <td>1</td>\n",
       "      <td>vacuum</td>\n",
       "      <td>0.432594</td>\n",
       "      <td>False</td>\n",
       "      <td>pug</td>\n",
       "      <td>0.146311</td>\n",
       "      <td>True</td>\n",
       "      <td>toilet_tissue</td>\n",
       "      <td>0.024500</td>\n",
       "      <td>False</td>\n",
       "    </tr>\n",
       "    <tr>\n",
       "      <th>160</th>\n",
       "      <td>668902994700836864</td>\n",
       "      <td>https://pbs.twimg.com/media/CUhruUgUAAAa8FQ.jpg</td>\n",
       "      <td>1</td>\n",
       "      <td>brittany_spaniel</td>\n",
       "      <td>0.828425</td>\n",
       "      <td>True</td>\n",
       "      <td>ibizan_hound</td>\n",
       "      <td>0.043082</td>\n",
       "      <td>True</td>\n",
       "      <td>blenheim_spaniel</td>\n",
       "      <td>0.028004</td>\n",
       "      <td>True</td>\n",
       "    </tr>\n",
       "    <tr>\n",
       "      <th>1767</th>\n",
       "      <td>826958653328592898</td>\n",
       "      <td>https://pbs.twimg.com/media/C3nygbBWQAAjwcW.jpg</td>\n",
       "      <td>1</td>\n",
       "      <td>golden_retriever</td>\n",
       "      <td>0.617389</td>\n",
       "      <td>True</td>\n",
       "      <td>labrador_retriever</td>\n",
       "      <td>0.337053</td>\n",
       "      <td>True</td>\n",
       "      <td>tennis_ball</td>\n",
       "      <td>0.008554</td>\n",
       "      <td>False</td>\n",
       "    </tr>\n",
       "    <tr>\n",
       "      <th>1597</th>\n",
       "      <td>799063482566066176</td>\n",
       "      <td>https://pbs.twimg.com/media/CxbX_n2WIAAHaLS.jpg</td>\n",
       "      <td>2</td>\n",
       "      <td>norfolk_terrier</td>\n",
       "      <td>0.334436</td>\n",
       "      <td>True</td>\n",
       "      <td>norwich_terrier</td>\n",
       "      <td>0.231573</td>\n",
       "      <td>True</td>\n",
       "      <td>australian_terrier</td>\n",
       "      <td>0.214203</td>\n",
       "      <td>True</td>\n",
       "    </tr>\n",
       "    <tr>\n",
       "      <th>366</th>\n",
       "      <td>672902681409806336</td>\n",
       "      <td>https://pbs.twimg.com/media/CVahaz9XAAA8uTy.jpg</td>\n",
       "      <td>1</td>\n",
       "      <td>ram</td>\n",
       "      <td>0.374466</td>\n",
       "      <td>False</td>\n",
       "      <td>bighorn</td>\n",
       "      <td>0.159621</td>\n",
       "      <td>False</td>\n",
       "      <td>arabian_camel</td>\n",
       "      <td>0.111919</td>\n",
       "      <td>False</td>\n",
       "    </tr>\n",
       "    <tr>\n",
       "      <th>1124</th>\n",
       "      <td>727286334147182592</td>\n",
       "      <td>https://pbs.twimg.com/media/ChfXDrGUkAEAtF-.jpg</td>\n",
       "      <td>1</td>\n",
       "      <td>bonnet</td>\n",
       "      <td>0.146440</td>\n",
       "      <td>False</td>\n",
       "      <td>sock</td>\n",
       "      <td>0.083091</td>\n",
       "      <td>False</td>\n",
       "      <td>chihuahua</td>\n",
       "      <td>0.070554</td>\n",
       "      <td>True</td>\n",
       "    </tr>\n",
       "    <tr>\n",
       "      <th>813</th>\n",
       "      <td>692535307825213440</td>\n",
       "      <td>https://pbs.twimg.com/media/CZxhL2yWAAI_DHn.jpg</td>\n",
       "      <td>1</td>\n",
       "      <td>pug</td>\n",
       "      <td>0.413090</td>\n",
       "      <td>True</td>\n",
       "      <td>french_bulldog</td>\n",
       "      <td>0.199865</td>\n",
       "      <td>True</td>\n",
       "      <td>chihuahua</td>\n",
       "      <td>0.081991</td>\n",
       "      <td>True</td>\n",
       "    </tr>\n",
       "    <tr>\n",
       "      <th>1479</th>\n",
       "      <td>780800785462489090</td>\n",
       "      <td>https://pbs.twimg.com/media/CtX2Kr9XYAAuxrM.jpg</td>\n",
       "      <td>2</td>\n",
       "      <td>siberian_husky</td>\n",
       "      <td>0.951963</td>\n",
       "      <td>True</td>\n",
       "      <td>eskimo_dog</td>\n",
       "      <td>0.035346</td>\n",
       "      <td>True</td>\n",
       "      <td>pembroke</td>\n",
       "      <td>0.008862</td>\n",
       "      <td>True</td>\n",
       "    </tr>\n",
       "    <tr>\n",
       "      <th>876</th>\n",
       "      <td>698262614669991936</td>\n",
       "      <td>https://pbs.twimg.com/media/CbC6JL_WEAI_PhH.jpg</td>\n",
       "      <td>1</td>\n",
       "      <td>italian_greyhound</td>\n",
       "      <td>0.107948</td>\n",
       "      <td>True</td>\n",
       "      <td>basset</td>\n",
       "      <td>0.075230</td>\n",
       "      <td>True</td>\n",
       "      <td>staffordshire_bullterrier</td>\n",
       "      <td>0.069436</td>\n",
       "      <td>True</td>\n",
       "    </tr>\n",
       "  </tbody>\n",
       "</table>\n",
       "</div>"
      ],
      "text/plain": [
       "                tweet_id                                          jpg_url  \\\n",
       "1458  777885040357281792  https://pbs.twimg.com/media/CsuaUH2WAAAWJh1.jpg   \n",
       "1682  813910438903693312  https://pbs.twimg.com/media/C0uXObSXUAAIzmV.jpg   \n",
       "1671  813096984823349248  https://pbs.twimg.com/media/C0izZULWgAAKD-F.jpg   \n",
       "1675  813157409116065792  https://pbs.twimg.com/media/C0jqVVOXUAAGJ0G.jpg   \n",
       "153   668655139528511488  https://pbs.twimg.com/media/CUeKTeYW4AEr_lx.jpg   \n",
       "1288  751205363882532864  https://pbs.twimg.com/media/CmzRRY1WcAEoxwY.jpg   \n",
       "2046  886680336477933568  https://pbs.twimg.com/media/DE4fEDzWAAAyHMM.jpg   \n",
       "568   678380236862578688  https://pbs.twimg.com/media/CWoXOfSUAAA4u8g.jpg   \n",
       "148   668633411083464705  https://pbs.twimg.com/media/CUd2ieCUcAAexyT.jpg   \n",
       "698   684567543613382656  https://pbs.twimg.com/media/CYASi6FWQAEQMW2.jpg   \n",
       "1231  745789745784041472  https://pbs.twimg.com/media/ClmT0KHWkAAXbhy.jpg   \n",
       "150   668641109086707712  https://pbs.twimg.com/media/CUd9ivxWUAAuXSQ.jpg   \n",
       "160   668902994700836864  https://pbs.twimg.com/media/CUhruUgUAAAa8FQ.jpg   \n",
       "1767  826958653328592898  https://pbs.twimg.com/media/C3nygbBWQAAjwcW.jpg   \n",
       "1597  799063482566066176  https://pbs.twimg.com/media/CxbX_n2WIAAHaLS.jpg   \n",
       "366   672902681409806336  https://pbs.twimg.com/media/CVahaz9XAAA8uTy.jpg   \n",
       "1124  727286334147182592  https://pbs.twimg.com/media/ChfXDrGUkAEAtF-.jpg   \n",
       "813   692535307825213440  https://pbs.twimg.com/media/CZxhL2yWAAI_DHn.jpg   \n",
       "1479  780800785462489090  https://pbs.twimg.com/media/CtX2Kr9XYAAuxrM.jpg   \n",
       "876   698262614669991936  https://pbs.twimg.com/media/CbC6JL_WEAI_PhH.jpg   \n",
       "\n",
       "      img_num                  p1   p1_conf  p1_dog                        p2  \\\n",
       "1458        1        afghan_hound  0.123529    True                    basset   \n",
       "1682        1      siberian_husky  0.699355    True                eskimo_dog   \n",
       "1671        1          great_dane  0.128056    True               boston_bull   \n",
       "1675        2         siamese_cat  0.843911   False                  pembroke   \n",
       "153         1              beagle  0.319110    True         italian_greyhound   \n",
       "1288        2  labrador_retriever  0.947164    True  chesapeake_bay_retriever   \n",
       "2046        1         convertible  0.738995   False                sports_car   \n",
       "568         1             dogsled  0.088540   False                snowmobile   \n",
       "148         1            pekinese  0.589011    True                  shih-tzu   \n",
       "698         1             minibus  0.401942   False                     llama   \n",
       "1231        1            pekinese  0.984267    True                  shih-tzu   \n",
       "150         1              vacuum  0.432594   False                       pug   \n",
       "160         1    brittany_spaniel  0.828425    True              ibizan_hound   \n",
       "1767        1    golden_retriever  0.617389    True        labrador_retriever   \n",
       "1597        2     norfolk_terrier  0.334436    True           norwich_terrier   \n",
       "366         1                 ram  0.374466   False                   bighorn   \n",
       "1124        1              bonnet  0.146440   False                      sock   \n",
       "813         1                 pug  0.413090    True            french_bulldog   \n",
       "1479        2      siberian_husky  0.951963    True                eskimo_dog   \n",
       "876         1   italian_greyhound  0.107948    True                    basset   \n",
       "\n",
       "       p2_conf  p2_dog                         p3   p3_conf  p3_dog  \n",
       "1458  0.119682    True             siberian_husky  0.108709    True  \n",
       "1682  0.256433    True         norwegian_elkhound  0.013189    True  \n",
       "1671  0.117003    True                     kelpie  0.086964    True  \n",
       "1675  0.070567    True                   cardigan  0.041916    True  \n",
       "153   0.103338    True                    basenji  0.091930    True  \n",
       "1288  0.020597    True           golden_retriever  0.016579    True  \n",
       "2046  0.139952   False                  car_wheel  0.044173   False  \n",
       "568   0.057291   False                    samoyed  0.047601    True  \n",
       "148   0.390987    True           japanese_spaniel  0.003310    True  \n",
       "698   0.229145   False                  seat_belt  0.209393   False  \n",
       "1231  0.008942    True             cocker_spaniel  0.001928    True  \n",
       "150   0.146311    True              toilet_tissue  0.024500   False  \n",
       "160   0.043082    True           blenheim_spaniel  0.028004    True  \n",
       "1767  0.337053    True                tennis_ball  0.008554   False  \n",
       "1597  0.231573    True         australian_terrier  0.214203    True  \n",
       "366   0.159621   False              arabian_camel  0.111919   False  \n",
       "1124  0.083091   False                  chihuahua  0.070554    True  \n",
       "813   0.199865    True                  chihuahua  0.081991    True  \n",
       "1479  0.035346    True                   pembroke  0.008862    True  \n",
       "876   0.075230    True  staffordshire_bullterrier  0.069436    True  "
      ]
     },
     "execution_count": 46,
     "metadata": {},
     "output_type": "execute_result"
    }
   ],
   "source": [
    "#Test\n",
    "image_prediction_clean.sample(20)"
   ]
  },
  {
   "cell_type": "markdown",
   "metadata": {},
   "source": [
    "**10. Lösche alle duplizierten Zeilen (ca. 66) mit Bild in `image_predictions`**"
   ]
  },
  {
   "cell_type": "code",
   "execution_count": 47,
   "metadata": {},
   "outputs": [],
   "source": [
    "#Code\n",
    "image_prediction_clean = image_prediction_clean.drop_duplicates(subset=['jpg_url'], keep='last')"
   ]
  },
  {
   "cell_type": "code",
   "execution_count": 48,
   "metadata": {},
   "outputs": [
    {
     "data": {
      "text/plain": [
       "0"
      ]
     },
     "execution_count": 48,
     "metadata": {},
     "output_type": "execute_result"
    }
   ],
   "source": [
    "#TEST\n",
    "sum(image_prediction_clean['jpg_url'].duplicated())"
   ]
  },
  {
   "cell_type": "markdown",
   "metadata": {},
   "source": [
    "**11. Erstelle einen DataFrame aus den drei bereinigten DataFrames mit Namen `df`**"
   ]
  },
  {
   "cell_type": "code",
   "execution_count": 49,
   "metadata": {},
   "outputs": [],
   "source": [
    "#CODE: Erstellen eines neuen Dataframes df, welches twitter_archive_clean und image_prediction_clean merged\n",
    "df_merge1 = pd.merge(twitter_archive_clean, \n",
    "                      image_prediction_clean, \n",
    "                      how = 'left', on = ['tweet_id'])\n",
    "\n",
    "#keep rows that have picture (jpg_url)\n",
    "df_merge1 = df_merge1[df_merge1['jpg_url'].notnull()]"
   ]
  },
  {
   "cell_type": "code",
   "execution_count": 50,
   "metadata": {},
   "outputs": [
    {
     "name": "stdout",
     "output_type": "stream",
     "text": [
      "<class 'pandas.core.frame.DataFrame'>\n",
      "Int64Index: 1910 entries, 0 to 2152\n",
      "Data columns (total 18 columns):\n",
      " #   Column              Non-Null Count  Dtype              \n",
      "---  ------              --------------  -----              \n",
      " 0   tweet_id            1910 non-null   int64              \n",
      " 1   timestamp           1910 non-null   datetime64[ns, UTC]\n",
      " 2   text                1910 non-null   object             \n",
      " 3   rating_numerator    1910 non-null   float64            \n",
      " 4   rating_denominator  1910 non-null   float64            \n",
      " 5   name                1910 non-null   object             \n",
      " 6   dogs_stage          1910 non-null   object             \n",
      " 7   jpg_url             1910 non-null   object             \n",
      " 8   img_num             1910 non-null   float64            \n",
      " 9   p1                  1910 non-null   object             \n",
      " 10  p1_conf             1910 non-null   float64            \n",
      " 11  p1_dog              1910 non-null   object             \n",
      " 12  p2                  1910 non-null   object             \n",
      " 13  p2_conf             1910 non-null   float64            \n",
      " 14  p2_dog              1910 non-null   object             \n",
      " 15  p3                  1910 non-null   object             \n",
      " 16  p3_conf             1910 non-null   float64            \n",
      " 17  p3_dog              1910 non-null   object             \n",
      "dtypes: datetime64[ns, UTC](1), float64(6), int64(1), object(10)\n",
      "memory usage: 283.5+ KB\n"
     ]
    }
   ],
   "source": [
    "#TEST\n",
    "df_merge1.info()"
   ]
  },
  {
   "cell_type": "code",
   "execution_count": 51,
   "metadata": {},
   "outputs": [
    {
     "name": "stdout",
     "output_type": "stream",
     "text": [
      "<class 'pandas.core.frame.DataFrame'>\n",
      "Int64Index: 1910 entries, 0 to 1909\n",
      "Data columns (total 23 columns):\n",
      " #   Column              Non-Null Count  Dtype              \n",
      "---  ------              --------------  -----              \n",
      " 0   tweet_id            1910 non-null   int64              \n",
      " 1   timestamp           1910 non-null   datetime64[ns, UTC]\n",
      " 2   text                1910 non-null   object             \n",
      " 3   rating_numerator    1910 non-null   float64            \n",
      " 4   rating_denominator  1910 non-null   float64            \n",
      " 5   name                1910 non-null   object             \n",
      " 6   dogs_stage          1910 non-null   object             \n",
      " 7   jpg_url             1910 non-null   object             \n",
      " 8   img_num             1910 non-null   float64            \n",
      " 9   p1                  1910 non-null   object             \n",
      " 10  p1_conf             1910 non-null   float64            \n",
      " 11  p1_dog              1910 non-null   object             \n",
      " 12  p2                  1910 non-null   object             \n",
      " 13  p2_conf             1910 non-null   float64            \n",
      " 14  p2_dog              1910 non-null   object             \n",
      " 15  p3                  1910 non-null   object             \n",
      " 16  p3_conf             1910 non-null   float64            \n",
      " 17  p3_dog              1910 non-null   object             \n",
      " 18  favorite_count      1904 non-null   float64            \n",
      " 19  retweet_count       1904 non-null   float64            \n",
      " 20  followers_count     1904 non-null   float64            \n",
      " 21  retweeted_status    1904 non-null   object             \n",
      " 22  url                 0 non-null      float64            \n",
      "dtypes: datetime64[ns, UTC](1), float64(10), int64(1), object(11)\n",
      "memory usage: 358.1+ KB\n"
     ]
    }
   ],
   "source": [
    "#CODE: Erstellen eines neuen Dataframes df, welches df_twitter und tweet_json_clean merged\n",
    "df = pd.merge(df_merge1, tweet_json_clean, \n",
    "                      how = 'left', on = ['tweet_id'])\n",
    "\n",
    "#TEST\n",
    "df.info()"
   ]
  },
  {
   "cell_type": "code",
   "execution_count": 52,
   "metadata": {},
   "outputs": [
    {
     "data": {
      "text/html": [
       "<div>\n",
       "<style scoped>\n",
       "    .dataframe tbody tr th:only-of-type {\n",
       "        vertical-align: middle;\n",
       "    }\n",
       "\n",
       "    .dataframe tbody tr th {\n",
       "        vertical-align: top;\n",
       "    }\n",
       "\n",
       "    .dataframe thead th {\n",
       "        text-align: right;\n",
       "    }\n",
       "</style>\n",
       "<table border=\"1\" class=\"dataframe\">\n",
       "  <thead>\n",
       "    <tr style=\"text-align: right;\">\n",
       "      <th></th>\n",
       "      <th>tweet_id</th>\n",
       "      <th>timestamp</th>\n",
       "      <th>text</th>\n",
       "      <th>rating_numerator</th>\n",
       "      <th>rating_denominator</th>\n",
       "      <th>name</th>\n",
       "      <th>dogs_stage</th>\n",
       "      <th>jpg_url</th>\n",
       "      <th>img_num</th>\n",
       "      <th>p1</th>\n",
       "      <th>...</th>\n",
       "      <th>p2_conf</th>\n",
       "      <th>p2_dog</th>\n",
       "      <th>p3</th>\n",
       "      <th>p3_conf</th>\n",
       "      <th>p3_dog</th>\n",
       "      <th>favorite_count</th>\n",
       "      <th>retweet_count</th>\n",
       "      <th>followers_count</th>\n",
       "      <th>retweeted_status</th>\n",
       "      <th>url</th>\n",
       "    </tr>\n",
       "  </thead>\n",
       "  <tbody>\n",
       "    <tr>\n",
       "      <th>0</th>\n",
       "      <td>667437278097252352</td>\n",
       "      <td>2015-11-19 20:20:22+00:00</td>\n",
       "      <td>Never seen this breed before. Very pointy pup....</td>\n",
       "      <td>10.0</td>\n",
       "      <td>10.0</td>\n",
       "      <td>None</td>\n",
       "      <td>None</td>\n",
       "      <td>https://pbs.twimg.com/media/CUM2qWaWoAUZ06L.jpg</td>\n",
       "      <td>1.0</td>\n",
       "      <td>porcupine</td>\n",
       "      <td>...</td>\n",
       "      <td>0.006300</td>\n",
       "      <td>False</td>\n",
       "      <td>badger</td>\n",
       "      <td>0.000966</td>\n",
       "      <td>False</td>\n",
       "      <td>428.0</td>\n",
       "      <td>223.0</td>\n",
       "      <td>8808648.0</td>\n",
       "      <td>Original tweet</td>\n",
       "      <td>NaN</td>\n",
       "    </tr>\n",
       "    <tr>\n",
       "      <th>1</th>\n",
       "      <td>667443425659232256</td>\n",
       "      <td>2015-11-19 20:44:47+00:00</td>\n",
       "      <td>Exotic dog here. Long neck. Weird paws. Obsess...</td>\n",
       "      <td>6.0</td>\n",
       "      <td>10.0</td>\n",
       "      <td>None</td>\n",
       "      <td>None</td>\n",
       "      <td>https://pbs.twimg.com/media/CUM8QZwW4AAVsBl.jpg</td>\n",
       "      <td>1.0</td>\n",
       "      <td>goose</td>\n",
       "      <td>...</td>\n",
       "      <td>0.006918</td>\n",
       "      <td>False</td>\n",
       "      <td>hen</td>\n",
       "      <td>0.005255</td>\n",
       "      <td>False</td>\n",
       "      <td>745.0</td>\n",
       "      <td>541.0</td>\n",
       "      <td>8808653.0</td>\n",
       "      <td>Original tweet</td>\n",
       "      <td>NaN</td>\n",
       "    </tr>\n",
       "    <tr>\n",
       "      <th>2</th>\n",
       "      <td>667453023279554560</td>\n",
       "      <td>2015-11-19 21:22:56+00:00</td>\n",
       "      <td>Meet Cupcake. I would do unspeakable things fo...</td>\n",
       "      <td>11.0</td>\n",
       "      <td>10.0</td>\n",
       "      <td>Cupcake</td>\n",
       "      <td>None</td>\n",
       "      <td>https://pbs.twimg.com/media/CUNE_OSUwAAdHhX.jpg</td>\n",
       "      <td>1.0</td>\n",
       "      <td>labrador_retriever</td>\n",
       "      <td>...</td>\n",
       "      <td>0.056639</td>\n",
       "      <td>True</td>\n",
       "      <td>staffordshire_bullterrier</td>\n",
       "      <td>0.054018</td>\n",
       "      <td>True</td>\n",
       "      <td>297.0</td>\n",
       "      <td>84.0</td>\n",
       "      <td>8808653.0</td>\n",
       "      <td>Original tweet</td>\n",
       "      <td>NaN</td>\n",
       "    </tr>\n",
       "    <tr>\n",
       "      <th>3</th>\n",
       "      <td>667455448082227200</td>\n",
       "      <td>2015-11-19 21:32:34+00:00</td>\n",
       "      <td>This is Reese and Twips. Reese protects Twips....</td>\n",
       "      <td>7.0</td>\n",
       "      <td>10.0</td>\n",
       "      <td>Reese</td>\n",
       "      <td>None</td>\n",
       "      <td>https://pbs.twimg.com/media/CUNHMXTU8AAS3HH.jpg</td>\n",
       "      <td>1.0</td>\n",
       "      <td>tibetan_terrier</td>\n",
       "      <td>...</td>\n",
       "      <td>0.054933</td>\n",
       "      <td>True</td>\n",
       "      <td>yorkshire_terrier</td>\n",
       "      <td>0.040576</td>\n",
       "      <td>True</td>\n",
       "      <td>181.0</td>\n",
       "      <td>56.0</td>\n",
       "      <td>8808652.0</td>\n",
       "      <td>Original tweet</td>\n",
       "      <td>NaN</td>\n",
       "    </tr>\n",
       "    <tr>\n",
       "      <th>4</th>\n",
       "      <td>667470559035432960</td>\n",
       "      <td>2015-11-19 22:32:36+00:00</td>\n",
       "      <td>This is a northern Wahoo named Kohl. He runs t...</td>\n",
       "      <td>11.0</td>\n",
       "      <td>10.0</td>\n",
       "      <td>a</td>\n",
       "      <td>None</td>\n",
       "      <td>https://pbs.twimg.com/media/CUNU78YWEAECmpB.jpg</td>\n",
       "      <td>1.0</td>\n",
       "      <td>toy_poodle</td>\n",
       "      <td>...</td>\n",
       "      <td>0.223427</td>\n",
       "      <td>True</td>\n",
       "      <td>lakeland_terrier</td>\n",
       "      <td>0.073316</td>\n",
       "      <td>True</td>\n",
       "      <td>243.0</td>\n",
       "      <td>90.0</td>\n",
       "      <td>8808652.0</td>\n",
       "      <td>Original tweet</td>\n",
       "      <td>NaN</td>\n",
       "    </tr>\n",
       "  </tbody>\n",
       "</table>\n",
       "<p>5 rows × 23 columns</p>\n",
       "</div>"
      ],
      "text/plain": [
       "             tweet_id                 timestamp  \\\n",
       "0  667437278097252352 2015-11-19 20:20:22+00:00   \n",
       "1  667443425659232256 2015-11-19 20:44:47+00:00   \n",
       "2  667453023279554560 2015-11-19 21:22:56+00:00   \n",
       "3  667455448082227200 2015-11-19 21:32:34+00:00   \n",
       "4  667470559035432960 2015-11-19 22:32:36+00:00   \n",
       "\n",
       "                                                text  rating_numerator  \\\n",
       "0  Never seen this breed before. Very pointy pup....              10.0   \n",
       "1  Exotic dog here. Long neck. Weird paws. Obsess...               6.0   \n",
       "2  Meet Cupcake. I would do unspeakable things fo...              11.0   \n",
       "3  This is Reese and Twips. Reese protects Twips....               7.0   \n",
       "4  This is a northern Wahoo named Kohl. He runs t...              11.0   \n",
       "\n",
       "   rating_denominator     name dogs_stage  \\\n",
       "0                10.0     None       None   \n",
       "1                10.0     None       None   \n",
       "2                10.0  Cupcake       None   \n",
       "3                10.0    Reese       None   \n",
       "4                10.0        a       None   \n",
       "\n",
       "                                           jpg_url  img_num  \\\n",
       "0  https://pbs.twimg.com/media/CUM2qWaWoAUZ06L.jpg      1.0   \n",
       "1  https://pbs.twimg.com/media/CUM8QZwW4AAVsBl.jpg      1.0   \n",
       "2  https://pbs.twimg.com/media/CUNE_OSUwAAdHhX.jpg      1.0   \n",
       "3  https://pbs.twimg.com/media/CUNHMXTU8AAS3HH.jpg      1.0   \n",
       "4  https://pbs.twimg.com/media/CUNU78YWEAECmpB.jpg      1.0   \n",
       "\n",
       "                   p1  ...   p2_conf p2_dog                         p3  \\\n",
       "0           porcupine  ...  0.006300  False                     badger   \n",
       "1               goose  ...  0.006918  False                        hen   \n",
       "2  labrador_retriever  ...  0.056639   True  staffordshire_bullterrier   \n",
       "3     tibetan_terrier  ...  0.054933   True          yorkshire_terrier   \n",
       "4          toy_poodle  ...  0.223427   True           lakeland_terrier   \n",
       "\n",
       "    p3_conf p3_dog favorite_count  retweet_count followers_count  \\\n",
       "0  0.000966  False          428.0          223.0       8808648.0   \n",
       "1  0.005255  False          745.0          541.0       8808653.0   \n",
       "2  0.054018   True          297.0           84.0       8808653.0   \n",
       "3  0.040576   True          181.0           56.0       8808652.0   \n",
       "4  0.073316   True          243.0           90.0       8808652.0   \n",
       "\n",
       "   retweeted_status  url  \n",
       "0    Original tweet  NaN  \n",
       "1    Original tweet  NaN  \n",
       "2    Original tweet  NaN  \n",
       "3    Original tweet  NaN  \n",
       "4    Original tweet  NaN  \n",
       "\n",
       "[5 rows x 23 columns]"
      ]
     },
     "execution_count": 52,
     "metadata": {},
     "output_type": "execute_result"
    }
   ],
   "source": [
    "df.head()"
   ]
  },
  {
   "cell_type": "code",
   "execution_count": 53,
   "metadata": {},
   "outputs": [],
   "source": [
    "df = df[df['retweet_count'].notnull()]\n",
    "df = df.drop(\"url\", axis =1)"
   ]
  },
  {
   "cell_type": "code",
   "execution_count": 54,
   "metadata": {},
   "outputs": [
    {
     "name": "stdout",
     "output_type": "stream",
     "text": [
      "<class 'pandas.core.frame.DataFrame'>\n",
      "Int64Index: 1904 entries, 0 to 1909\n",
      "Data columns (total 22 columns):\n",
      " #   Column              Non-Null Count  Dtype              \n",
      "---  ------              --------------  -----              \n",
      " 0   tweet_id            1904 non-null   int64              \n",
      " 1   timestamp           1904 non-null   datetime64[ns, UTC]\n",
      " 2   text                1904 non-null   object             \n",
      " 3   rating_numerator    1904 non-null   float64            \n",
      " 4   rating_denominator  1904 non-null   float64            \n",
      " 5   name                1904 non-null   object             \n",
      " 6   dogs_stage          1904 non-null   object             \n",
      " 7   jpg_url             1904 non-null   object             \n",
      " 8   img_num             1904 non-null   float64            \n",
      " 9   p1                  1904 non-null   object             \n",
      " 10  p1_conf             1904 non-null   float64            \n",
      " 11  p1_dog              1904 non-null   object             \n",
      " 12  p2                  1904 non-null   object             \n",
      " 13  p2_conf             1904 non-null   float64            \n",
      " 14  p2_dog              1904 non-null   object             \n",
      " 15  p3                  1904 non-null   object             \n",
      " 16  p3_conf             1904 non-null   float64            \n",
      " 17  p3_dog              1904 non-null   object             \n",
      " 18  favorite_count      1904 non-null   float64            \n",
      " 19  retweet_count       1904 non-null   float64            \n",
      " 20  followers_count     1904 non-null   float64            \n",
      " 21  retweeted_status    1904 non-null   object             \n",
      "dtypes: datetime64[ns, UTC](1), float64(9), int64(1), object(11)\n",
      "memory usage: 342.1+ KB\n"
     ]
    }
   ],
   "source": [
    "df.info()"
   ]
  },
  {
   "cell_type": "markdown",
   "metadata": {},
   "source": [
    "**12. Nenne die Spalte text in tweet_text um im Dataframe `df`**"
   ]
  },
  {
   "cell_type": "code",
   "execution_count": 55,
   "metadata": {},
   "outputs": [],
   "source": [
    "#CODE\n",
    "df.rename(columns={'text': 'tweet_text'}, inplace=True)"
   ]
  },
  {
   "cell_type": "code",
   "execution_count": 56,
   "metadata": {},
   "outputs": [
    {
     "data": {
      "text/plain": [
       "Index(['tweet_id', 'timestamp', 'tweet_text', 'rating_numerator',\n",
       "       'rating_denominator', 'name', 'dogs_stage', 'jpg_url', 'img_num', 'p1',\n",
       "       'p1_conf', 'p1_dog', 'p2', 'p2_conf', 'p2_dog', 'p3', 'p3_conf',\n",
       "       'p3_dog', 'favorite_count', 'retweet_count', 'followers_count',\n",
       "       'retweeted_status'],\n",
       "      dtype='object')"
      ]
     },
     "execution_count": 56,
     "metadata": {},
     "output_type": "execute_result"
    }
   ],
   "source": [
    "#TEST\n",
    "df.columns"
   ]
  },
  {
   "cell_type": "markdown",
   "metadata": {},
   "source": [
    "**13. Outlier Rating_numerator erkennen und droppen, mit Hilfe der IQR**"
   ]
  },
  {
   "cell_type": "code",
   "execution_count": 57,
   "metadata": {},
   "outputs": [
    {
     "data": {
      "text/plain": [
       "1458    1776.0\n",
       "620      420.0\n",
       "1771      14.0\n",
       "1228      14.0\n",
       "1087      14.0\n",
       "         ...  \n",
       "98         1.0\n",
       "687        1.0\n",
       "1002       1.0\n",
       "1475       0.0\n",
       "1362       0.0\n",
       "Name: rating_numerator, Length: 1904, dtype: float64"
      ]
     },
     "execution_count": 57,
     "metadata": {},
     "output_type": "execute_result"
    }
   ],
   "source": [
    "df.rating_numerator.sort_values(ascending=False)"
   ]
  },
  {
   "cell_type": "code",
   "execution_count": 58,
   "metadata": {},
   "outputs": [
    {
     "name": "stdout",
     "output_type": "stream",
     "text": [
      "Untere Grenze:  7.0 , Obere Grenze:  15.0\n"
     ]
    }
   ],
   "source": [
    "# CODE - Detect Outlier\n",
    "Q1 = df.rating_numerator.quantile(0.25)\n",
    "Q3 = df.rating_numerator.quantile(0.75)\n",
    "IQR = float(Q3 - Q1)\n",
    "lower_bound = float(Q1 - 1.5 * IQR)\n",
    "upper_bound = float(Q3 + 1.5 * IQR)\n",
    "print('Untere Grenze: ' , lower_bound, ', Obere Grenze: ', upper_bound)"
   ]
  },
  {
   "cell_type": "code",
   "execution_count": 59,
   "metadata": {},
   "outputs": [],
   "source": [
    "IQR_out = df.rating_numerator[((df.rating_numerator < lower_bound)\n",
    "                               |(df.rating_numerator > upper_bound))]"
   ]
  },
  {
   "cell_type": "code",
   "execution_count": 60,
   "metadata": {},
   "outputs": [
    {
     "data": {
      "text/plain": [
       "1475       0.0\n",
       "1362       0.0\n",
       "98         1.0\n",
       "15         1.0\n",
       "1002       1.0\n",
       "         ...  \n",
       "525        6.0\n",
       "623        6.0\n",
       "1          6.0\n",
       "620      420.0\n",
       "1458    1776.0\n",
       "Name: rating_numerator, Length: 115, dtype: float64"
      ]
     },
     "execution_count": 60,
     "metadata": {},
     "output_type": "execute_result"
    }
   ],
   "source": [
    "IQR_out.sort_values()"
   ]
  },
  {
   "cell_type": "code",
   "execution_count": 61,
   "metadata": {},
   "outputs": [],
   "source": [
    "IQR_numerator = df.rating_numerator[~((df.rating_numerator < lower_bound)\n",
    "                               |(df.rating_numerator > upper_bound))]"
   ]
  },
  {
   "cell_type": "code",
   "execution_count": 62,
   "metadata": {},
   "outputs": [
    {
     "data": {
      "text/plain": [
       "571      7.0\n",
       "890      7.0\n",
       "717      7.0\n",
       "953      7.0\n",
       "1423     7.0\n",
       "        ... \n",
       "1266    14.0\n",
       "154     14.0\n",
       "1414    14.0\n",
       "1292    14.0\n",
       "1755    14.0\n",
       "Name: rating_numerator, Length: 1789, dtype: float64"
      ]
     },
     "execution_count": 62,
     "metadata": {},
     "output_type": "execute_result"
    }
   ],
   "source": [
    "IQR_numerator.sort_values()"
   ]
  },
  {
   "cell_type": "code",
   "execution_count": 63,
   "metadata": {},
   "outputs": [],
   "source": [
    "# CODE - Delete Outliers\n",
    "df.loc[(df.rating_numerator < lower_bound), 'rating_numerator'] = lower_bound\n",
    "df.loc[(df.rating_numerator > upper_bound), 'rating_numerator'] = upper_bound"
   ]
  },
  {
   "cell_type": "code",
   "execution_count": 64,
   "metadata": {},
   "outputs": [
    {
     "data": {
      "text/plain": [
       "953      7.0\n",
       "999      7.0\n",
       "338      7.0\n",
       "997      7.0\n",
       "345      7.0\n",
       "        ... \n",
       "1771    14.0\n",
       "1266    14.0\n",
       "145     14.0\n",
       "620     15.0\n",
       "1458    15.0\n",
       "Name: rating_numerator, Length: 1904, dtype: float64"
      ]
     },
     "execution_count": 64,
     "metadata": {},
     "output_type": "execute_result"
    }
   ],
   "source": [
    "# TEST\n",
    "df.rating_numerator.sort_values()"
   ]
  },
  {
   "cell_type": "markdown",
   "metadata": {},
   "source": [
    "**FRAGE: Hat es Sinn gemacht, hier die vermeintlichen Outlier rauszuschmeißen?**"
   ]
  },
  {
   "cell_type": "code",
   "execution_count": null,
   "metadata": {},
   "outputs": [],
   "source": []
  },
  {
   "cell_type": "markdown",
   "metadata": {},
   "source": [
    "# ÜBUNG ENDE\n",
    "![purple-divider](https://user-images.githubusercontent.com/7065401/52071927-c1cd7100-2562-11e9-908a-dde91ba14e59.png)"
   ]
  },
  {
   "cell_type": "markdown",
   "metadata": {},
   "source": [
    "## Speichern, Analysieren und Visualisieren der Daten\n",
    "\n",
    "Ein kleiner Ausblick in die Übung 5, bei der es dann um die Visualisierung von Daten geht."
   ]
  },
  {
   "cell_type": "code",
   "execution_count": 65,
   "metadata": {},
   "outputs": [],
   "source": [
    "#Speichern der twitter_dogs df in eine CSV Datei\n",
    "df.to_csv('twitter_archive_master.csv', encoding='utf-8', index=False)"
   ]
  },
  {
   "cell_type": "code",
   "execution_count": 66,
   "metadata": {},
   "outputs": [
    {
     "name": "stdout",
     "output_type": "stream",
     "text": [
      "<class 'pandas.core.frame.DataFrame'>\n",
      "Int64Index: 1904 entries, 0 to 1909\n",
      "Data columns (total 22 columns):\n",
      " #   Column              Non-Null Count  Dtype              \n",
      "---  ------              --------------  -----              \n",
      " 0   tweet_id            1904 non-null   int64              \n",
      " 1   timestamp           1904 non-null   datetime64[ns, UTC]\n",
      " 2   tweet_text          1904 non-null   object             \n",
      " 3   rating_numerator    1904 non-null   float64            \n",
      " 4   rating_denominator  1904 non-null   float64            \n",
      " 5   name                1904 non-null   object             \n",
      " 6   dogs_stage          1904 non-null   object             \n",
      " 7   jpg_url             1904 non-null   object             \n",
      " 8   img_num             1904 non-null   float64            \n",
      " 9   p1                  1904 non-null   object             \n",
      " 10  p1_conf             1904 non-null   float64            \n",
      " 11  p1_dog              1904 non-null   object             \n",
      " 12  p2                  1904 non-null   object             \n",
      " 13  p2_conf             1904 non-null   float64            \n",
      " 14  p2_dog              1904 non-null   object             \n",
      " 15  p3                  1904 non-null   object             \n",
      " 16  p3_conf             1904 non-null   float64            \n",
      " 17  p3_dog              1904 non-null   object             \n",
      " 18  favorite_count      1904 non-null   float64            \n",
      " 19  retweet_count       1904 non-null   float64            \n",
      " 20  followers_count     1904 non-null   float64            \n",
      " 21  retweeted_status    1904 non-null   object             \n",
      "dtypes: datetime64[ns, UTC](1), float64(9), int64(1), object(11)\n",
      "memory usage: 342.1+ KB\n"
     ]
    }
   ],
   "source": [
    "df.info()"
   ]
  },
  {
   "cell_type": "code",
   "execution_count": 67,
   "metadata": {},
   "outputs": [
    {
     "data": {
      "text/html": [
       "<div>\n",
       "<style scoped>\n",
       "    .dataframe tbody tr th:only-of-type {\n",
       "        vertical-align: middle;\n",
       "    }\n",
       "\n",
       "    .dataframe tbody tr th {\n",
       "        vertical-align: top;\n",
       "    }\n",
       "\n",
       "    .dataframe thead tr th {\n",
       "        text-align: left;\n",
       "    }\n",
       "\n",
       "    .dataframe thead tr:last-of-type th {\n",
       "        text-align: right;\n",
       "    }\n",
       "</style>\n",
       "<table border=\"1\" class=\"dataframe\">\n",
       "  <thead>\n",
       "    <tr>\n",
       "      <th></th>\n",
       "      <th colspan=\"8\" halign=\"left\">tweet_id</th>\n",
       "      <th colspan=\"2\" halign=\"left\">rating_numerator</th>\n",
       "      <th>...</th>\n",
       "      <th colspan=\"2\" halign=\"left\">retweet_count</th>\n",
       "      <th colspan=\"8\" halign=\"left\">followers_count</th>\n",
       "    </tr>\n",
       "    <tr>\n",
       "      <th></th>\n",
       "      <th>count</th>\n",
       "      <th>mean</th>\n",
       "      <th>std</th>\n",
       "      <th>min</th>\n",
       "      <th>25%</th>\n",
       "      <th>50%</th>\n",
       "      <th>75%</th>\n",
       "      <th>max</th>\n",
       "      <th>count</th>\n",
       "      <th>mean</th>\n",
       "      <th>...</th>\n",
       "      <th>75%</th>\n",
       "      <th>max</th>\n",
       "      <th>count</th>\n",
       "      <th>mean</th>\n",
       "      <th>std</th>\n",
       "      <th>min</th>\n",
       "      <th>25%</th>\n",
       "      <th>50%</th>\n",
       "      <th>75%</th>\n",
       "      <th>max</th>\n",
       "    </tr>\n",
       "    <tr>\n",
       "      <th>dogs_stage</th>\n",
       "      <th></th>\n",
       "      <th></th>\n",
       "      <th></th>\n",
       "      <th></th>\n",
       "      <th></th>\n",
       "      <th></th>\n",
       "      <th></th>\n",
       "      <th></th>\n",
       "      <th></th>\n",
       "      <th></th>\n",
       "      <th></th>\n",
       "      <th></th>\n",
       "      <th></th>\n",
       "      <th></th>\n",
       "      <th></th>\n",
       "      <th></th>\n",
       "      <th></th>\n",
       "      <th></th>\n",
       "      <th></th>\n",
       "      <th></th>\n",
       "      <th></th>\n",
       "    </tr>\n",
       "  </thead>\n",
       "  <tbody>\n",
       "    <tr>\n",
       "      <th>None</th>\n",
       "      <td>1609.0</td>\n",
       "      <td>7.333983e+17</td>\n",
       "      <td>6.822415e+16</td>\n",
       "      <td>6.660209e+17</td>\n",
       "      <td>6.743948e+17</td>\n",
       "      <td>7.052392e+17</td>\n",
       "      <td>7.844314e+17</td>\n",
       "      <td>8.924206e+17</td>\n",
       "      <td>1609.0</td>\n",
       "      <td>10.598204</td>\n",
       "      <td>...</td>\n",
       "      <td>2451.00</td>\n",
       "      <td>40231.0</td>\n",
       "      <td>1609.0</td>\n",
       "      <td>8.808543e+06</td>\n",
       "      <td>76.993591</td>\n",
       "      <td>8808437.0</td>\n",
       "      <td>8808458.00</td>\n",
       "      <td>8808535.0</td>\n",
       "      <td>8808641.00</td>\n",
       "      <td>8808654.0</td>\n",
       "    </tr>\n",
       "    <tr>\n",
       "      <th>doggo</th>\n",
       "      <td>59.0</td>\n",
       "      <td>7.958449e+17</td>\n",
       "      <td>4.578293e+16</td>\n",
       "      <td>7.160809e+17</td>\n",
       "      <td>7.539443e+17</td>\n",
       "      <td>7.997580e+17</td>\n",
       "      <td>8.303864e+17</td>\n",
       "      <td>8.902403e+17</td>\n",
       "      <td>59.0</td>\n",
       "      <td>11.796610</td>\n",
       "      <td>...</td>\n",
       "      <td>4271.50</td>\n",
       "      <td>76922.0</td>\n",
       "      <td>59.0</td>\n",
       "      <td>8.808476e+06</td>\n",
       "      <td>36.070082</td>\n",
       "      <td>8808437.0</td>\n",
       "      <td>8808453.00</td>\n",
       "      <td>8808456.0</td>\n",
       "      <td>8808528.00</td>\n",
       "      <td>8808532.0</td>\n",
       "    </tr>\n",
       "    <tr>\n",
       "      <th>floofer</th>\n",
       "      <td>8.0</td>\n",
       "      <td>7.774838e+17</td>\n",
       "      <td>6.589128e+16</td>\n",
       "      <td>6.853075e+17</td>\n",
       "      <td>7.365400e+17</td>\n",
       "      <td>7.627676e+17</td>\n",
       "      <td>8.137937e+17</td>\n",
       "      <td>8.833607e+17</td>\n",
       "      <td>8.0</td>\n",
       "      <td>11.875000</td>\n",
       "      <td>...</td>\n",
       "      <td>3603.75</td>\n",
       "      <td>15939.0</td>\n",
       "      <td>8.0</td>\n",
       "      <td>8.808492e+06</td>\n",
       "      <td>45.366563</td>\n",
       "      <td>8808442.0</td>\n",
       "      <td>8808453.25</td>\n",
       "      <td>8808492.5</td>\n",
       "      <td>8808530.25</td>\n",
       "      <td>8808546.0</td>\n",
       "    </tr>\n",
       "    <tr>\n",
       "      <th>pupper</th>\n",
       "      <td>206.0</td>\n",
       "      <td>7.200976e+17</td>\n",
       "      <td>5.625781e+16</td>\n",
       "      <td>6.721600e+17</td>\n",
       "      <td>6.801535e+17</td>\n",
       "      <td>6.943432e+17</td>\n",
       "      <td>7.423869e+17</td>\n",
       "      <td>8.863661e+17</td>\n",
       "      <td>206.0</td>\n",
       "      <td>10.656650</td>\n",
       "      <td>...</td>\n",
       "      <td>2112.00</td>\n",
       "      <td>32630.0</td>\n",
       "      <td>206.0</td>\n",
       "      <td>8.808542e+06</td>\n",
       "      <td>60.117182</td>\n",
       "      <td>8808437.0</td>\n",
       "      <td>8808530.00</td>\n",
       "      <td>8808541.0</td>\n",
       "      <td>8808548.75</td>\n",
       "      <td>8808646.0</td>\n",
       "    </tr>\n",
       "    <tr>\n",
       "      <th>puppo</th>\n",
       "      <td>22.0</td>\n",
       "      <td>8.119466e+17</td>\n",
       "      <td>5.125782e+16</td>\n",
       "      <td>7.385375e+17</td>\n",
       "      <td>7.624398e+17</td>\n",
       "      <td>8.118628e+17</td>\n",
       "      <td>8.586687e+17</td>\n",
       "      <td>8.896654e+17</td>\n",
       "      <td>22.0</td>\n",
       "      <td>12.045455</td>\n",
       "      <td>...</td>\n",
       "      <td>6957.75</td>\n",
       "      <td>43371.0</td>\n",
       "      <td>22.0</td>\n",
       "      <td>8.808471e+06</td>\n",
       "      <td>36.779794</td>\n",
       "      <td>8808437.0</td>\n",
       "      <td>8808444.00</td>\n",
       "      <td>8808456.0</td>\n",
       "      <td>8808509.00</td>\n",
       "      <td>8808530.0</td>\n",
       "    </tr>\n",
       "  </tbody>\n",
       "</table>\n",
       "<p>5 rows × 80 columns</p>\n",
       "</div>"
      ],
      "text/plain": [
       "           tweet_id                                                          \\\n",
       "              count          mean           std           min           25%   \n",
       "dogs_stage                                                                    \n",
       "None         1609.0  7.333983e+17  6.822415e+16  6.660209e+17  6.743948e+17   \n",
       "doggo          59.0  7.958449e+17  4.578293e+16  7.160809e+17  7.539443e+17   \n",
       "floofer         8.0  7.774838e+17  6.589128e+16  6.853075e+17  7.365400e+17   \n",
       "pupper        206.0  7.200976e+17  5.625781e+16  6.721600e+17  6.801535e+17   \n",
       "puppo          22.0  8.119466e+17  5.125782e+16  7.385375e+17  7.624398e+17   \n",
       "\n",
       "                                                     rating_numerator  \\\n",
       "                     50%           75%           max            count   \n",
       "dogs_stage                                                              \n",
       "None        7.052392e+17  7.844314e+17  8.924206e+17           1609.0   \n",
       "doggo       7.997580e+17  8.303864e+17  8.902403e+17             59.0   \n",
       "floofer     7.627676e+17  8.137937e+17  8.833607e+17              8.0   \n",
       "pupper      6.943432e+17  7.423869e+17  8.863661e+17            206.0   \n",
       "puppo       8.118628e+17  8.586687e+17  8.896654e+17             22.0   \n",
       "\n",
       "                       ... retweet_count          followers_count  \\\n",
       "                 mean  ...           75%      max           count   \n",
       "dogs_stage             ...                                          \n",
       "None        10.598204  ...       2451.00  40231.0          1609.0   \n",
       "doggo       11.796610  ...       4271.50  76922.0            59.0   \n",
       "floofer     11.875000  ...       3603.75  15939.0             8.0   \n",
       "pupper      10.656650  ...       2112.00  32630.0           206.0   \n",
       "puppo       12.045455  ...       6957.75  43371.0            22.0   \n",
       "\n",
       "                                                                       \\\n",
       "                    mean        std        min         25%        50%   \n",
       "dogs_stage                                                              \n",
       "None        8.808543e+06  76.993591  8808437.0  8808458.00  8808535.0   \n",
       "doggo       8.808476e+06  36.070082  8808437.0  8808453.00  8808456.0   \n",
       "floofer     8.808492e+06  45.366563  8808442.0  8808453.25  8808492.5   \n",
       "pupper      8.808542e+06  60.117182  8808437.0  8808530.00  8808541.0   \n",
       "puppo       8.808471e+06  36.779794  8808437.0  8808444.00  8808456.0   \n",
       "\n",
       "                                   \n",
       "                   75%        max  \n",
       "dogs_stage                         \n",
       "None        8808641.00  8808654.0  \n",
       "doggo       8808528.00  8808532.0  \n",
       "floofer     8808530.25  8808546.0  \n",
       "pupper      8808548.75  8808646.0  \n",
       "puppo       8808509.00  8808530.0  \n",
       "\n",
       "[5 rows x 80 columns]"
      ]
     },
     "execution_count": 67,
     "metadata": {},
     "output_type": "execute_result"
    }
   ],
   "source": [
    "dog_stages = df.groupby(\"dogs_stage\")\n",
    "dog_stages.describe()"
   ]
  },
  {
   "cell_type": "code",
   "execution_count": 68,
   "metadata": {},
   "outputs": [
    {
     "data": {
      "image/png": "[encoded data removed]",
      "text/plain": [
       "<Figure size 720x720 with 1 Axes>"
      ]
     },
     "metadata": {
      "needs_background": "light"
     },
     "output_type": "display_data"
    }
   ],
   "source": [
    "plt.figure(figsize=(10,10))\n",
    "g = sns.boxplot(x='dogs_stage',y='retweet_count',data= df,palette='rainbow')\n",
    "g.axes.set_title('Boxplot dog stages and retweet', fontsize=14);"
   ]
  },
  {
   "cell_type": "markdown",
   "metadata": {},
   "source": [
    "Doggo stages has huge outliers, there needs to be more investigation to see why this happens at the doggo stages, besides that puppos have on average the most retweets followed by doggo and floofer"
   ]
  },
  {
   "cell_type": "code",
   "execution_count": 69,
   "metadata": {},
   "outputs": [
    {
     "data": {
      "image/png": "[encoded data removed]",
      "text/plain": [
       "<Figure size 432x288 with 1 Axes>"
      ]
     },
     "metadata": {
      "needs_background": "light"
     },
     "output_type": "display_data"
    }
   ],
   "source": [
    "df.plot(y='retweet_count', x='rating_numerator', kind='scatter')\n",
    "plt.xlabel('Ratings')\n",
    "plt.ylabel('Retweet Counts')\n",
    "plt.title('Retweet Counts by Ratings Scatter Plot')\n",
    "\n",
    "fig = plt.gcf()"
   ]
  },
  {
   "cell_type": "markdown",
   "metadata": {},
   "source": [
    "As seen here, the better the rating the more retweets happened the most retweets happend between 12-14"
   ]
  },
  {
   "cell_type": "code",
   "execution_count": 70,
   "metadata": {},
   "outputs": [
    {
     "data": {
      "image/png": "[encoded data removed]",
      "text/plain": [
       "<Figure size 432x288 with 1 Axes>"
      ]
     },
     "metadata": {
      "needs_background": "light"
     },
     "output_type": "display_data"
    }
   ],
   "source": [
    "df_dog_type = df.groupby('p1').filter(lambda x: len(x) >= 25)\n",
    "\n",
    "df_dog_type['p1'].value_counts().plot(kind = 'barh')\n",
    "plt.title('Histogram of the Most Rated Dog Type')\n",
    "plt.xlabel('Count')\n",
    "plt.ylabel('Type of dog')\n",
    "\n",
    "fig = plt.gcf() \n",
    "fig.savefig('output.png',bbox_inches='tight');"
   ]
  },
  {
   "cell_type": "code",
   "execution_count": 71,
   "metadata": {},
   "outputs": [
    {
     "data": {
      "text/plain": [
       "golden_retriever      124\n",
       "pembroke               87\n",
       "labrador_retriever     85\n",
       "chihuahua              75\n",
       "pug                    52\n",
       "pomeranian             38\n",
       "chow                   38\n",
       "toy_poodle             36\n",
       "samoyed                36\n",
       "malamute               28\n",
       "french_bulldog         25\n",
       "Name: p1, dtype: int64"
      ]
     },
     "execution_count": 71,
     "metadata": {},
     "output_type": "execute_result"
    }
   ],
   "source": [
    "dog_types_count = df_dog_type.p1.value_counts()\n",
    "dog_types_avg_rating = df_dog_type.groupby('p1').rating_numerator.mean()\n",
    "\n",
    "df_dog_type.p1.value_counts()"
   ]
  },
  {
   "cell_type": "code",
   "execution_count": 72,
   "metadata": {},
   "outputs": [
    {
     "data": {
      "image/png": "[encoded data removed]",
      "text/plain": [
       "<Figure size 720x720 with 1 Axes>"
      ]
     },
     "metadata": {
      "needs_background": "light"
     },
     "output_type": "display_data"
    }
   ],
   "source": [
    "plt.figure(figsize = (10, 10))\n",
    "plt.plot(df.timestamp,df.favorite_count, marker = 'o', linestyle = '', ms = 2)\n",
    "plt.title('Favorite tweet over year')\n",
    "plt.xlabel('Date')\n",
    "plt.ylabel('Fovorite Count')\n",
    "plt.show()"
   ]
  },
  {
   "cell_type": "code",
   "execution_count": 73,
   "metadata": {},
   "outputs": [
    {
     "data": {
      "image/png": "[encoded data removed]",
      "text/plain": [
       "<Figure size 720x720 with 1 Axes>"
      ]
     },
     "metadata": {
      "needs_background": "light"
     },
     "output_type": "display_data"
    }
   ],
   "source": [
    "plt.figure(figsize = (10, 10))\n",
    "plt.plot(df.timestamp,df.retweet_count, marker = 'o', linestyle = '', ms = 2)\n",
    "plt.title('Retweets over year')\n",
    "plt.xlabel('Date')\n",
    "plt.ylabel('Retweets Count')\n",
    "plt.show()"
   ]
  }
 ],
 "metadata": {
  "kernelspec": {
   "display_name": "Python 3 (ipykernel)",
   "language": "python",
   "name": "python3"
  },
  "language_info": {
   "codemirror_mode": {
    "name": "ipython",
    "version": 3
   },
   "file_extension": ".py",
   "mimetype": "text/x-python",
   "name": "python",
   "nbconvert_exporter": "python",
   "pygments_lexer": "ipython3",
   "version": "3.9.7"
  }
 },
 "nbformat": 4,
 "nbformat_minor": 4
}
