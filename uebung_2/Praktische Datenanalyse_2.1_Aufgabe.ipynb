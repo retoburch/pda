{
 "cells": [
  {
   "cell_type": "markdown",
   "metadata": {},
   "source": [
    "# Python Pandas Übung"
   ]
  },
  {
   "cell_type": "markdown",
   "metadata": {},
   "source": [
    "![purple-divider](https://user-images.githubusercontent.com/7065401/52071927-c1cd7100-2562-11e9-908a-dde91ba14e59.png)"
   ]
  },
  {
   "cell_type": "markdown",
   "metadata": {},
   "source": [
    "## 1. Installieren und Importieren"
   ]
  },
  {
   "cell_type": "code",
   "execution_count": 2,
   "metadata": {},
   "outputs": [],
   "source": [
    "import numpy as np\n",
    "import pandas as pd"
   ]
  },
  {
   "cell_type": "markdown",
   "metadata": {},
   "source": [
    "![purple-divider](https://user-images.githubusercontent.com/7065401/52071927-c1cd7100-2562-11e9-908a-dde91ba14e59.png)"
   ]
  },
  {
   "cell_type": "markdown",
   "metadata": {},
   "source": [
    "## 2. Kernkomponenten von Pandas: Series und DataFrames"
   ]
  },
  {
   "cell_type": "markdown",
   "metadata": {},
   "source": [
    "Die beiden Hauptkomponenten von Pandas sind **Series** und **DataFrame**. \n",
    "\n",
    "Eine `Serie` ist im Wesentlichen eine Spalte und ein `DataFrame` ist eine mehrdimensionale Tabelle, die aus einer Sammlung von Serien besteht.\n",
    "\n",
    "<img src=\"src/series-and-dataframe.png\" width=600px />\n",
    "\n",
    "**DataFrames** und **Series** sind sich insofern sehr ähnlich, als das viele Operationen, die mit dem einen Objekt durchführbar sind, auch mit dem anderen möglich ist (z. B. das Einfügen von Nullwerten und die Berechnung des Mittelwerts).\n",
    "\n",
    "Sie werden sehen, wie diese Komponenten funktionieren, wenn wir unten mit den Daten arbeiten. "
   ]
  },
  {
   "cell_type": "markdown",
   "metadata": {},
   "source": [
    "### 2.1. Pandas Series"
   ]
  },
  {
   "cell_type": "markdown",
   "metadata": {},
   "source": [
    "- Datenstruktur Pandas Series ist ein **one-dimensional labelled array**\n",
    "- Ist primärer Baustein für einen DataFrame, aus dem seine Zeilen und Spalten bestehen\n",
    "\n",
    "Die Elemente einer Serie wird wie folgt bestimmt:"
   ]
  },
  {
   "cell_type": "markdown",
   "metadata": {},
   "source": [
    "```python\n",
    "# pandas.Series\n",
    "series = pd.Series(data=None, index=None, dtype=None, name=None, copy=False, fastpath=False)\n",
    "```"
   ]
  },
  {
   "cell_type": "markdown",
   "metadata": {},
   "source": [
    "- `data` akzeptiert verschiedene Datentypen wie ndarray, dictionaries und scalar values\n",
    "- `index` Parameter akzeptiert array-like objects, welche erlauben die Index-Axis zu labeln (Wenn kein index-Parameter übergeben wird, dann verwendet Pandas die dictionary keys als Indexbezeichnungen\n",
    "- `dtype` bestimmt den Datentyp für die Series. Wenn kein Datentyp angegeben wird, zieht Pandas den Datentypen, die die Serie haben sollte\n",
    "- `name` Parameter erlaubt die Benamung der Serie, die erstellt wurde\n",
    "\n",
    "Die offizielle Dokumentation zu `Series` findet Ihr hier: [Series Dokumentation Pandas](https://pandas.pydata.org/pandas-docs/stable/reference/api/pandas.Series.html)"
   ]
  },
  {
   "cell_type": "markdown",
   "metadata": {},
   "source": [
    "#### Anwendungsbeispiele"
   ]
  },
  {
   "cell_type": "code",
   "execution_count": 3,
   "metadata": {},
   "outputs": [
    {
     "name": "stdout",
     "output_type": "stream",
     "text": [
      "a    1.0\n",
      "b    2.0\n",
      "c    3.0\n",
      "d    4.0\n",
      "Name: series_from_dict, dtype: float64\n"
     ]
    }
   ],
   "source": [
    "# Erstellung einer Series mit Hilfe eines Python Dictionaries\n",
    "if __name__ == \"__main__\":\n",
    "    # Erstellung eines Python Dictionaries\n",
    "    data = {\"a\": 1.0, \"b\": 2.0, \"c\": 3.0, \"d\": 4.0}\n",
    "    # Erstellung Series auf Basis Data Dictionaries mit Namen 'series_from_dict'\n",
    "    series = pd.Series(data=data, name=\"series_from_dict\")\n",
    "    print(series)"
   ]
  },
  {
   "cell_type": "code",
   "execution_count": 4,
   "metadata": {},
   "outputs": [
    {
     "name": "stdout",
     "output_type": "stream",
     "text": [
<<<<<<< Updated upstream
      "a    7\n",
      "b    0\n",
      "c    6\n",
      "d    2\n",
      "e    6\n",
=======
      "a    3\n",
      "b    4\n",
      "c    0\n",
      "d    1\n",
      "e    9\n",
>>>>>>> Stashed changes
      "Name: series_from_ndarray, dtype: int64\n"
     ]
    }
   ],
   "source": [
    "if __name__ == \"__main__\":\n",
    "    # Erstellung eines NumPy arrays\n",
    "    data = np.random.randint(0, 10, 5)\n",
    "    series = pd.Series(\n",
    "        data=data,\n",
    "        index=[\"a\", \"b\", \"c\", \"d\", \"e\"],\n",
    "        name=\"series_from_ndarray\",\n",
    "        dtype=\"int\",\n",
    "    )\n",
    "    print(series)"
   ]
  },
  {
   "cell_type": "markdown",
   "metadata": {},
   "source": [
    "**Aufgabe 1**: Verändere die Variable so, dass die Datenreihe den Datentype float besitzt?"
   ]
  },
  {
   "cell_type": "code",
   "execution_count": 5,
   "metadata": {},
   "outputs": [
    {
     "name": "stdout",
     "output_type": "stream",
     "text": [
<<<<<<< Updated upstream
      "a    7.0\n",
      "b    4.0\n",
      "c    6.0\n",
=======
      "a    3.0\n",
      "b    4.0\n",
      "c    0.0\n",
>>>>>>> Stashed changes
      "d    1.0\n",
      "e    9.0\n",
      "Name: series_from_ndarray, dtype: float64\n"
     ]
    }
   ],
   "source": [
    "### CODE HERE ###\n",
    "if __name__ == \"__main__\":\n",
    "    # Erstellung eines NumPy arrays\n",
<<<<<<< Updated upstream
    "    data = np.random.randint(0, 10, 5)\n",
    "    series = pd.Series(\n",
    "        data=data,\n",
    "        index=[\"a\", \"b\", \"c\", \"d\", \"e\"],\n",
    "        name=\"series_from_ndarray\",\n",
    "        dtype=\"float\",\n",
    "    )\n",
=======
    "    series = series.astype(float)\n",
>>>>>>> Stashed changes
    "    print(series)"
   ]
  },
  {
   "cell_type": "markdown",
   "metadata": {},
   "source": [
    "### 2.2. Pandas DataFrame"
   ]
  },
  {
   "cell_type": "markdown",
   "metadata": {},
   "source": [
    "- Datenstruktur Pandas DataFrame ist eine **two-dimensional data structure**\n",
    "- Besteht aus Zeilen und Spalten\n",
    "- Ähnlich einer relationalen Datenbanktabelle oder einem CSV, sehr ähnlich zu einer Exceltabelle\n",
    "\n",
    "Die Elemente einer DataFrame wird wie folgt bestimmt:"
   ]
  },
  {
   "cell_type": "markdown",
   "metadata": {},
   "source": [
    "```python\n",
    "# pandas.DataFrame\n",
    "df = pd.DataFrame(data=None, index=None, columns=None, dtype=None, copy=False)\n",
    "```"
   ]
  },
  {
   "cell_type": "markdown",
   "metadata": {},
   "source": [
    "Die Parameter sind sehr ähnlich zu dem einer Serie. Zusätzlich kann über den Parameter `columns` die Spaltennanmen definiert werden.\n",
    "\n",
    "Die offizielle Dokumentation zu `DataFrames` findet Ihr hier: [DataFrame Dokumentation Pandas](https://pandas.pydata.org/pandas-docs/stable/reference/api/pandas.DataFrame.html#pandas.DataFrame)"
   ]
  },
  {
   "cell_type": "markdown",
   "metadata": {},
   "source": [
    "#### Anwendungsbeispiele"
   ]
  },
  {
   "cell_type": "code",
   "execution_count": 5,
   "metadata": {},
   "outputs": [
    {
     "name": "stdout",
     "output_type": "stream",
     "text": [
      "   column_a  column_b  column_c\n",
<<<<<<< Updated upstream
      "a        70        96        18\n",
      "b        27        13        57\n",
      "c        77        34        83\n",
      "d        69        84        76\n",
      "e        72        90        67\n"
=======
      "a        98        85        10\n",
      "b        31        90        92\n",
      "c        17        66        92\n",
      "d        26        53        30\n",
      "e        69        89        49\n"
>>>>>>> Stashed changes
     ]
    }
   ],
   "source": [
    "if __name__ == \"__main__\":\n",
    "    data = {\n",
    "        \"column_a\": pd.Series(\n",
    "            data=np.random.randint(10, 100, 5), index=[\"a\", \"b\", \"c\", \"d\", \"e\"]\n",
    "        ),\n",
    "        \"column_b\": pd.Series(\n",
    "            data=np.random.randint(10, 100, 5), index=[\"a\", \"b\", \"c\", \"d\", \"e\"]\n",
    "        ),\n",
    "        \"column_c\": pd.Series(\n",
    "            data=np.random.randint(10, 100, 5), index=[\"a\", \"b\", \"c\", \"d\", \"e\"]\n",
    "        ),\n",
    "    }\n",
    "    df = pd.DataFrame(data=data)\n",
    "    print(df)"
   ]
  },
  {
   "cell_type": "code",
   "execution_count": 6,
   "metadata": {},
   "outputs": [
    {
     "name": "stdout",
     "output_type": "stream",
     "text": [
      "       column_a  column_b  column_c\n",
      "row_a         1         4         7\n",
      "row_b         2         5         8\n",
      "row_c         3         6         9\n"
     ]
    }
   ],
   "source": [
    "if __name__ == \"__main__\":\n",
    "    data = {\"column_a\": [1, 2, 3], \"column_b\": [4, 5, 6], \"column_c\": [7, 8, 9]}\n",
    "    df = pd.DataFrame(data=data, index=[\"row_a\", \"row_b\", \"row_c\"])\n",
    "    print(df)"
   ]
  },
  {
   "cell_type": "markdown",
   "metadata": {},
   "source": [
    "![purple-divider](https://user-images.githubusercontent.com/7065401/52071927-c1cd7100-2562-11e9-908a-dde91ba14e59.png)"
   ]
  },
  {
   "cell_type": "markdown",
   "metadata": {},
   "source": [
    "## 3. Umgang mit DataFrames\n",
    "\n",
    "### 3.1. Laden und Speichern von DataFrames\n",
    "\n",
    "Angenommen wir haben einen Obststand, der Äpfel und Orangen verkauft. Wir möchten eine Spalte für jede Frucht und eine Zeile für jeden Kundenkauf haben. Um dies als Dictionary für Pandas zu organisieren, könnten wir etwas tun wie:"
   ]
  },
  {
   "cell_type": "code",
<<<<<<< Updated upstream
   "execution_count": 10,
=======
   "execution_count": 7,
>>>>>>> Stashed changes
   "metadata": {},
   "outputs": [],
   "source": [
    "data = {\"apples\": [3, 2, 0, 1], \"oranges\": [0, 3, 7, 2]}"
   ]
  },
  {
   "cell_type": "markdown",
   "metadata": {},
   "source": [
    "**Aufgabe 2:** Überführung in ein pandas DataFrame. Nenne den DataFrame `purchases_df` und verwende `index_p` als Index. Jede Obstart hat hierbei eine eigene Spalte."
   ]
  },
  {
   "cell_type": "code",
<<<<<<< Updated upstream
   "execution_count": 11,
=======
   "execution_count": 8,
>>>>>>> Stashed changes
   "metadata": {},
   "outputs": [],
   "source": [
    "index_p = [\"June\", \"Robert\", \"Lily\", \"David\"]"
   ]
  },
  {
   "cell_type": "code",
<<<<<<< Updated upstream
   "execution_count": 12,
=======
   "execution_count": 9,
>>>>>>> Stashed changes
   "metadata": {},
   "outputs": [
    {
     "name": "stdout",
     "output_type": "stream",
     "text": [
      "        apples  oranges\n",
      "June         3        0\n",
      "Robert       2        3\n",
      "Lily         0        7\n",
      "David        1        2\n"
     ]
    }
   ],
   "source": [
    "## CODE HERE ###\n",
<<<<<<< Updated upstream
    "if __name__ == \"__main__\":\n",
    "    purchases_df = pd.DataFrame(data=data, index=index_p)\n",
    "    print(purchases_df)"
=======
    "purchases_df = pd.DataFrame(data=data, index=[\"June\", \"Robert\", \"Lily\", \"David\"])"
>>>>>>> Stashed changes
   ]
  },
  {
   "cell_type": "code",
   "execution_count": null,
   "metadata": {},
   "outputs": [],
   "source": []
  },
  {
   "cell_type": "markdown",
   "metadata": {},
   "source": [
    "Nun können wir eine Bestellung auf Basis des Kundennamens **auffinden** - `loc`ate:"
   ]
  },
  {
   "cell_type": "code",
<<<<<<< Updated upstream
   "execution_count": 13,
=======
   "execution_count": 10,
>>>>>>> Stashed changes
   "metadata": {},
   "outputs": [
    {
     "data": {
      "text/plain": [
       "apples     3\n",
       "oranges    0\n",
       "Name: June, dtype: int64"
      ]
     },
<<<<<<< Updated upstream
     "execution_count": 13,
=======
     "execution_count": 10,
>>>>>>> Stashed changes
     "metadata": {},
     "output_type": "execute_result"
    }
   ],
   "source": [
    "purchases_df.loc[\"June\"]"
   ]
  },
  {
   "cell_type": "markdown",
   "metadata": {},
   "source": [
    "**Einlesen von Datenset auf Basis eines CSVs mit Hilfe von [read_csv](https://pandas.pydata.org/pandas-docs/stable/reference/api/pandas.read_csv.html):**"
   ]
  },
  {
   "cell_type": "code",
<<<<<<< Updated upstream
   "execution_count": 14,
=======
   "execution_count": 11,
>>>>>>> Stashed changes
   "metadata": {},
   "outputs": [
    {
     "data": {
      "text/html": [
       "<div>\n",
       "<style scoped>\n",
       "    .dataframe tbody tr th:only-of-type {\n",
       "        vertical-align: middle;\n",
       "    }\n",
       "\n",
       "    .dataframe tbody tr th {\n",
       "        vertical-align: top;\n",
       "    }\n",
       "\n",
       "    .dataframe thead th {\n",
       "        text-align: right;\n",
       "    }\n",
       "</style>\n",
       "<table border=\"1\" class=\"dataframe\">\n",
       "  <thead>\n",
       "    <tr style=\"text-align: right;\">\n",
       "      <th></th>\n",
       "      <th>apples</th>\n",
       "      <th>oranges</th>\n",
       "    </tr>\n",
       "  </thead>\n",
       "  <tbody>\n",
       "    <tr>\n",
       "      <th>June</th>\n",
       "      <td>3</td>\n",
       "      <td>0</td>\n",
       "    </tr>\n",
       "    <tr>\n",
       "      <th>Robert</th>\n",
       "      <td>2</td>\n",
       "      <td>3</td>\n",
       "    </tr>\n",
       "    <tr>\n",
       "      <th>Lily</th>\n",
       "      <td>0</td>\n",
       "      <td>7</td>\n",
       "    </tr>\n",
       "    <tr>\n",
       "      <th>David</th>\n",
       "      <td>1</td>\n",
       "      <td>2</td>\n",
       "    </tr>\n",
       "  </tbody>\n",
       "</table>\n",
       "</div>"
      ],
      "text/plain": [
       "        apples  oranges\n",
       "June         3        0\n",
       "Robert       2        3\n",
       "Lily         0        7\n",
       "David        1        2"
      ]
     },
<<<<<<< Updated upstream
     "execution_count": 14,
=======
     "execution_count": 11,
>>>>>>> Stashed changes
     "metadata": {},
     "output_type": "execute_result"
    }
   ],
   "source": [
    "# CSVs haben keine Indizes wie unsere DataFrames, also müssen wir beim Lesen die `index_col` definieren\n",
    "df = pd.read_csv(\"./src/purchases.csv\", index_col=0)\n",
    "df"
   ]
  },
  {
   "cell_type": "markdown",
   "metadata": {},
   "source": [
    "#### Einlesen der Daten von  JSON"
   ]
  },
  {
   "cell_type": "code",
   "execution_count": 46,
   "metadata": {},
   "outputs": [
    {
     "data": {
      "text/html": [
       "<div>\n",
       "<style scoped>\n",
       "    .dataframe tbody tr th:only-of-type {\n",
       "        vertical-align: middle;\n",
       "    }\n",
       "\n",
       "    .dataframe tbody tr th {\n",
       "        vertical-align: top;\n",
       "    }\n",
       "\n",
       "    .dataframe thead th {\n",
       "        text-align: right;\n",
       "    }\n",
       "</style>\n",
       "<table border=\"1\" class=\"dataframe\">\n",
       "  <thead>\n",
       "    <tr style=\"text-align: right;\">\n",
       "      <th></th>\n",
       "      <th>apples</th>\n",
       "      <th>oranges</th>\n",
       "    </tr>\n",
       "  </thead>\n",
       "  <tbody>\n",
       "    <tr>\n",
       "      <th>June</th>\n",
       "      <td>3</td>\n",
       "      <td>0</td>\n",
       "    </tr>\n",
       "    <tr>\n",
       "      <th>Robert</th>\n",
       "      <td>2</td>\n",
       "      <td>3</td>\n",
       "    </tr>\n",
       "    <tr>\n",
       "      <th>Lily</th>\n",
       "      <td>0</td>\n",
       "      <td>7</td>\n",
       "    </tr>\n",
       "    <tr>\n",
       "      <th>David</th>\n",
       "      <td>1</td>\n",
       "      <td>2</td>\n",
       "    </tr>\n",
       "  </tbody>\n",
       "</table>\n",
       "</div>"
      ],
      "text/plain": [
       "        apples  oranges\n",
       "June         3        0\n",
       "Robert       2        3\n",
       "Lily         0        7\n",
       "David        1        2"
      ]
     },
     "execution_count": 46,
     "metadata": {},
     "output_type": "execute_result"
    }
   ],
   "source": [
    "# Wenn Sie eine JSON-Datei haben - die im Wesentlichen ein gespeichertes Python-Dict ist\n",
    "# - kann Pandas diese ebenso einfach lesen:\n",
    "df = pd.read_json(\"./src/purchases.json\")\n",
    "df"
   ]
  },
  {
   "cell_type": "markdown",
   "metadata": {},
   "source": [
    "Euch wird aufgefallen sein, dass unser Index dieses Mal korrekt mitkam, da die Verwendung von **JSON die Verschachtelung von Indizes ermöglicht**. \n",
    "\n",
    "Pandas wird versuchen herauszufinden, wie man einen DataFrame erstellt, indem es die Struktur Ihres JSON analysiert, und manchmal wird es nicht direkt funktionieren. Oft muss der Parameter `orient` abhängig von der Struktur gesetzt werden.\n",
    "\n",
    "**Dokumentation:** [.read_json](https://pandas.pydata.org/pandas-docs/stable/generated/pandas.read_json.html)"
   ]
  },
  {
   "cell_type": "markdown",
   "metadata": {},
   "source": [
    "#### Rückführung des DataFrames zu CSV oder JSON\n",
    "\n",
    "Nach einer Analyse und Transformation der Daten wird der Bedarf entstehen, die Daten wieder in eine CSV bzw. JSON-Datei zu überführen. Das kann mit einfachen Befehlen geschehen."
   ]
  },
  {
   "cell_type": "code",
   "execution_count": 13,
   "metadata": {},
   "outputs": [],
   "source": [
    "df.to_csv(\"./src/new_purchases.csv\")\n",
    "df.to_json(\"./src/new_purchases.json\")"
   ]
  },
  {
   "cell_type": "markdown",
   "metadata": {},
   "source": [
    "![purple-divider](https://user-images.githubusercontent.com/7065401/52071927-c1cd7100-2562-11e9-908a-dde91ba14e59.png)"
   ]
  },
  {
   "cell_type": "markdown",
   "metadata": {},
   "source": [
    "## 4. Wichtigste DataFrame Funktionen\n",
    "\n",
    "DataFrames verfügen über Hunderte von Methoden und andere Operationen, die für die jeweilige Analyse nützich sein kann. Als erstes sollten wir die Operationen kennen, die einfache Transformationen der Daten und grundlegende statistische Analysen ermöglichen.\n",
    "\n",
    "Lassen Sie uns zunächst den IMDB-Film-Datensatz laden:"
   ]
  },
  {
   "cell_type": "code",
<<<<<<< Updated upstream
   "execution_count": 15,
=======
   "execution_count": 48,
>>>>>>> Stashed changes
   "metadata": {},
   "outputs": [],
   "source": [
    "# Ladet einmal das DataSet und definiert die Index-Zeile mit der Spalte \"Titel\"\n",
    "movies_df = pd.read_csv(\"./src/IMDB-Movie-Data.csv\", index_col=\"Title\")"
   ]
  },
  {
   "cell_type": "markdown",
   "metadata": {},
   "source": [
    "Wir können uns auch jederzeit den Source Code der Funktion angucken - lass uns einmal einen Blick darauf werfen: [Source Code](https://github.com/pandas-dev/pandas/blob/v1.2.5/pandas/io/parsers.py#L533-L610)"
   ]
  },
  {
   "cell_type": "markdown",
   "metadata": {},
   "source": [
    "### 4.1 Erstsichtung der Daten\n",
    "\n",
    "Das erste, was man beim Öffnen eines neuen Datensatzes macht, ist, ein paar Zeilen zu visualisieren. Wir erreichen dies mit `.head()`:\n",
    "\n",
    "Dokumentation: [pandas.DataFrame.head](https://pandas.pydata.org/pandas-docs/stable/reference/api/pandas.DataFrame.head.html)"
   ]
  },
  {
   "cell_type": "code",
   "execution_count": 49,
   "metadata": {
    "scrolled": true
   },
   "outputs": [
    {
     "data": {
      "text/html": [
       "<div>\n",
       "<style scoped>\n",
       "    .dataframe tbody tr th:only-of-type {\n",
       "        vertical-align: middle;\n",
       "    }\n",
       "\n",
       "    .dataframe tbody tr th {\n",
       "        vertical-align: top;\n",
       "    }\n",
       "\n",
       "    .dataframe thead th {\n",
       "        text-align: right;\n",
       "    }\n",
       "</style>\n",
       "<table border=\"1\" class=\"dataframe\">\n",
       "  <thead>\n",
       "    <tr style=\"text-align: right;\">\n",
       "      <th></th>\n",
       "      <th>Rank</th>\n",
       "      <th>Genre</th>\n",
       "      <th>Description</th>\n",
       "      <th>Director</th>\n",
       "      <th>Actors</th>\n",
       "      <th>Year</th>\n",
       "      <th>Runtime (Minutes)</th>\n",
       "      <th>Rating</th>\n",
       "      <th>Votes</th>\n",
       "      <th>Revenue (Millions)</th>\n",
       "      <th>Metascore</th>\n",
       "    </tr>\n",
       "    <tr>\n",
       "      <th>Title</th>\n",
       "      <th></th>\n",
       "      <th></th>\n",
       "      <th></th>\n",
       "      <th></th>\n",
       "      <th></th>\n",
       "      <th></th>\n",
       "      <th></th>\n",
       "      <th></th>\n",
       "      <th></th>\n",
       "      <th></th>\n",
       "      <th></th>\n",
       "    </tr>\n",
       "  </thead>\n",
       "  <tbody>\n",
       "    <tr>\n",
       "      <th>Guardians of the Galaxy</th>\n",
       "      <td>1</td>\n",
       "      <td>Action,Adventure,Sci-Fi</td>\n",
       "      <td>A group of intergalactic criminals are forced ...</td>\n",
       "      <td>James Gunn</td>\n",
       "      <td>Chris Pratt, Vin Diesel, Bradley Cooper, Zoe S...</td>\n",
       "      <td>2014</td>\n",
       "      <td>121</td>\n",
       "      <td>8.1</td>\n",
       "      <td>757074</td>\n",
       "      <td>333.13</td>\n",
       "      <td>76.0</td>\n",
       "    </tr>\n",
       "    <tr>\n",
       "      <th>Prometheus</th>\n",
       "      <td>2</td>\n",
       "      <td>Adventure,Mystery,Sci-Fi</td>\n",
       "      <td>Following clues to the origin of mankind, a te...</td>\n",
       "      <td>Ridley Scott</td>\n",
       "      <td>Noomi Rapace, Logan Marshall-Green, Michael Fa...</td>\n",
       "      <td>2012</td>\n",
       "      <td>124</td>\n",
       "      <td>7.0</td>\n",
       "      <td>485820</td>\n",
       "      <td>126.46</td>\n",
       "      <td>65.0</td>\n",
       "    </tr>\n",
       "    <tr>\n",
       "      <th>Split</th>\n",
       "      <td>3</td>\n",
       "      <td>Horror,Thriller</td>\n",
       "      <td>Three girls are kidnapped by a man with a diag...</td>\n",
       "      <td>M. Night Shyamalan</td>\n",
       "      <td>James McAvoy, Anya Taylor-Joy, Haley Lu Richar...</td>\n",
       "      <td>2016</td>\n",
       "      <td>117</td>\n",
       "      <td>7.3</td>\n",
       "      <td>157606</td>\n",
       "      <td>138.12</td>\n",
       "      <td>62.0</td>\n",
       "    </tr>\n",
       "    <tr>\n",
       "      <th>Sing</th>\n",
       "      <td>4</td>\n",
       "      <td>Animation,Comedy,Family</td>\n",
       "      <td>In a city of humanoid animals, a hustling thea...</td>\n",
       "      <td>Christophe Lourdelet</td>\n",
       "      <td>Matthew McConaughey,Reese Witherspoon, Seth Ma...</td>\n",
       "      <td>2016</td>\n",
       "      <td>108</td>\n",
       "      <td>7.2</td>\n",
       "      <td>60545</td>\n",
       "      <td>270.32</td>\n",
       "      <td>59.0</td>\n",
       "    </tr>\n",
       "    <tr>\n",
       "      <th>Suicide Squad</th>\n",
       "      <td>5</td>\n",
       "      <td>Action,Adventure,Fantasy</td>\n",
       "      <td>A secret government agency recruits some of th...</td>\n",
       "      <td>David Ayer</td>\n",
       "      <td>Will Smith, Jared Leto, Margot Robbie, Viola D...</td>\n",
       "      <td>2016</td>\n",
       "      <td>123</td>\n",
       "      <td>6.2</td>\n",
       "      <td>393727</td>\n",
       "      <td>325.02</td>\n",
       "      <td>40.0</td>\n",
       "    </tr>\n",
       "    <tr>\n",
       "      <th>The Great Wall</th>\n",
       "      <td>6</td>\n",
       "      <td>Action,Adventure,Fantasy</td>\n",
       "      <td>European mercenaries searching for black powde...</td>\n",
       "      <td>Yimou Zhang</td>\n",
       "      <td>Matt Damon, Tian Jing, Willem Dafoe, Andy Lau</td>\n",
       "      <td>2016</td>\n",
       "      <td>103</td>\n",
       "      <td>6.1</td>\n",
       "      <td>56036</td>\n",
       "      <td>45.13</td>\n",
       "      <td>42.0</td>\n",
       "    </tr>\n",
       "    <tr>\n",
       "      <th>La La Land</th>\n",
       "      <td>7</td>\n",
       "      <td>Comedy,Drama,Music</td>\n",
       "      <td>A jazz pianist falls for an aspiring actress i...</td>\n",
       "      <td>Damien Chazelle</td>\n",
       "      <td>Ryan Gosling, Emma Stone, Rosemarie DeWitt, J....</td>\n",
       "      <td>2016</td>\n",
       "      <td>128</td>\n",
       "      <td>8.3</td>\n",
       "      <td>258682</td>\n",
       "      <td>151.06</td>\n",
       "      <td>93.0</td>\n",
       "    </tr>\n",
       "    <tr>\n",
       "      <th>Mindhorn</th>\n",
       "      <td>8</td>\n",
       "      <td>Comedy</td>\n",
       "      <td>A has-been actor best known for playing the ti...</td>\n",
       "      <td>Sean Foley</td>\n",
       "      <td>Essie Davis, Andrea Riseborough, Julian Barrat...</td>\n",
       "      <td>2016</td>\n",
       "      <td>89</td>\n",
       "      <td>6.4</td>\n",
       "      <td>2490</td>\n",
       "      <td>NaN</td>\n",
       "      <td>71.0</td>\n",
       "    </tr>\n",
       "    <tr>\n",
       "      <th>The Lost City of Z</th>\n",
       "      <td>9</td>\n",
       "      <td>Action,Adventure,Biography</td>\n",
       "      <td>A true-life drama, centering on British explor...</td>\n",
       "      <td>James Gray</td>\n",
       "      <td>Charlie Hunnam, Robert Pattinson, Sienna Mille...</td>\n",
       "      <td>2016</td>\n",
       "      <td>141</td>\n",
       "      <td>7.1</td>\n",
       "      <td>7188</td>\n",
       "      <td>8.01</td>\n",
       "      <td>78.0</td>\n",
       "    </tr>\n",
       "    <tr>\n",
       "      <th>Passengers</th>\n",
       "      <td>10</td>\n",
       "      <td>Adventure,Drama,Romance</td>\n",
       "      <td>A spacecraft traveling to a distant colony pla...</td>\n",
       "      <td>Morten Tyldum</td>\n",
       "      <td>Jennifer Lawrence, Chris Pratt, Michael Sheen,...</td>\n",
       "      <td>2016</td>\n",
       "      <td>116</td>\n",
       "      <td>7.0</td>\n",
       "      <td>192177</td>\n",
       "      <td>100.01</td>\n",
       "      <td>41.0</td>\n",
       "    </tr>\n",
       "  </tbody>\n",
       "</table>\n",
       "</div>"
      ],
      "text/plain": [
       "                         Rank                       Genre  \\\n",
       "Title                                                       \n",
       "Guardians of the Galaxy     1     Action,Adventure,Sci-Fi   \n",
       "Prometheus                  2    Adventure,Mystery,Sci-Fi   \n",
       "Split                       3             Horror,Thriller   \n",
       "Sing                        4     Animation,Comedy,Family   \n",
       "Suicide Squad               5    Action,Adventure,Fantasy   \n",
       "The Great Wall              6    Action,Adventure,Fantasy   \n",
       "La La Land                  7          Comedy,Drama,Music   \n",
       "Mindhorn                    8                      Comedy   \n",
       "The Lost City of Z          9  Action,Adventure,Biography   \n",
       "Passengers                 10     Adventure,Drama,Romance   \n",
       "\n",
       "                                                               Description  \\\n",
       "Title                                                                        \n",
       "Guardians of the Galaxy  A group of intergalactic criminals are forced ...   \n",
       "Prometheus               Following clues to the origin of mankind, a te...   \n",
       "Split                    Three girls are kidnapped by a man with a diag...   \n",
       "Sing                     In a city of humanoid animals, a hustling thea...   \n",
       "Suicide Squad            A secret government agency recruits some of th...   \n",
       "The Great Wall           European mercenaries searching for black powde...   \n",
       "La La Land               A jazz pianist falls for an aspiring actress i...   \n",
       "Mindhorn                 A has-been actor best known for playing the ti...   \n",
       "The Lost City of Z       A true-life drama, centering on British explor...   \n",
       "Passengers               A spacecraft traveling to a distant colony pla...   \n",
       "\n",
       "                                     Director  \\\n",
       "Title                                           \n",
       "Guardians of the Galaxy            James Gunn   \n",
       "Prometheus                       Ridley Scott   \n",
       "Split                      M. Night Shyamalan   \n",
       "Sing                     Christophe Lourdelet   \n",
       "Suicide Squad                      David Ayer   \n",
       "The Great Wall                    Yimou Zhang   \n",
       "La La Land                    Damien Chazelle   \n",
       "Mindhorn                           Sean Foley   \n",
       "The Lost City of Z                 James Gray   \n",
       "Passengers                      Morten Tyldum   \n",
       "\n",
       "                                                                    Actors  \\\n",
       "Title                                                                        \n",
       "Guardians of the Galaxy  Chris Pratt, Vin Diesel, Bradley Cooper, Zoe S...   \n",
       "Prometheus               Noomi Rapace, Logan Marshall-Green, Michael Fa...   \n",
       "Split                    James McAvoy, Anya Taylor-Joy, Haley Lu Richar...   \n",
       "Sing                     Matthew McConaughey,Reese Witherspoon, Seth Ma...   \n",
       "Suicide Squad            Will Smith, Jared Leto, Margot Robbie, Viola D...   \n",
       "The Great Wall               Matt Damon, Tian Jing, Willem Dafoe, Andy Lau   \n",
       "La La Land               Ryan Gosling, Emma Stone, Rosemarie DeWitt, J....   \n",
       "Mindhorn                 Essie Davis, Andrea Riseborough, Julian Barrat...   \n",
       "The Lost City of Z       Charlie Hunnam, Robert Pattinson, Sienna Mille...   \n",
       "Passengers               Jennifer Lawrence, Chris Pratt, Michael Sheen,...   \n",
       "\n",
       "                         Year  Runtime (Minutes)  Rating   Votes  \\\n",
       "Title                                                              \n",
       "Guardians of the Galaxy  2014                121     8.1  757074   \n",
       "Prometheus               2012                124     7.0  485820   \n",
       "Split                    2016                117     7.3  157606   \n",
       "Sing                     2016                108     7.2   60545   \n",
       "Suicide Squad            2016                123     6.2  393727   \n",
       "The Great Wall           2016                103     6.1   56036   \n",
       "La La Land               2016                128     8.3  258682   \n",
       "Mindhorn                 2016                 89     6.4    2490   \n",
       "The Lost City of Z       2016                141     7.1    7188   \n",
       "Passengers               2016                116     7.0  192177   \n",
       "\n",
       "                         Revenue (Millions)  Metascore  \n",
       "Title                                                   \n",
       "Guardians of the Galaxy              333.13       76.0  \n",
       "Prometheus                           126.46       65.0  \n",
       "Split                                138.12       62.0  \n",
       "Sing                                 270.32       59.0  \n",
       "Suicide Squad                        325.02       40.0  \n",
       "The Great Wall                        45.13       42.0  \n",
       "La La Land                           151.06       93.0  \n",
       "Mindhorn                                NaN       71.0  \n",
       "The Lost City of Z                     8.01       78.0  \n",
       "Passengers                           100.01       41.0  "
      ]
     },
     "execution_count": 49,
     "metadata": {},
     "output_type": "execute_result"
    }
   ],
   "source": [
    "movies_df.head(10)"
   ]
  },
  {
   "cell_type": "markdown",
   "metadata": {},
   "source": [
    "**Was sind Eure Beobachtungen hinsichtlich des Datensets?**"
   ]
  },
  {
   "cell_type": "markdown",
   "metadata": {},
   "source": [
    "Mit `.head()` werden standardmäßig die **ersten** fünf Zeilen des DataFrames ausgegeben. Wir haben eine Zahl übergeben, `movies_df.head(10)`, sodass die obersten zehn Zeilen ausgeben werden. \n",
    "\n",
    "Um die **letzten** fünf Zeilen zu sehen, kann `.tail()` verwendet werden. Auch `tail()` akzeptiert eine Zahl, und in diesem Fall bilden wir die unteren zehn Zeilen ab:"
   ]
  },
  {
   "cell_type": "code",
   "execution_count": 50,
   "metadata": {
    "tags": []
   },
   "outputs": [
    {
     "data": {
      "text/html": [
       "<div>\n",
       "<style scoped>\n",
       "    .dataframe tbody tr th:only-of-type {\n",
       "        vertical-align: middle;\n",
       "    }\n",
       "\n",
       "    .dataframe tbody tr th {\n",
       "        vertical-align: top;\n",
       "    }\n",
       "\n",
       "    .dataframe thead th {\n",
       "        text-align: right;\n",
       "    }\n",
       "</style>\n",
       "<table border=\"1\" class=\"dataframe\">\n",
       "  <thead>\n",
       "    <tr style=\"text-align: right;\">\n",
       "      <th></th>\n",
       "      <th>Rank</th>\n",
       "      <th>Genre</th>\n",
       "      <th>Description</th>\n",
       "      <th>Director</th>\n",
       "      <th>Actors</th>\n",
       "      <th>Year</th>\n",
       "      <th>Runtime (Minutes)</th>\n",
       "      <th>Rating</th>\n",
       "      <th>Votes</th>\n",
       "      <th>Revenue (Millions)</th>\n",
       "      <th>Metascore</th>\n",
       "    </tr>\n",
       "    <tr>\n",
       "      <th>Title</th>\n",
       "      <th></th>\n",
       "      <th></th>\n",
       "      <th></th>\n",
       "      <th></th>\n",
       "      <th></th>\n",
       "      <th></th>\n",
       "      <th></th>\n",
       "      <th></th>\n",
       "      <th></th>\n",
       "      <th></th>\n",
       "      <th></th>\n",
       "    </tr>\n",
       "  </thead>\n",
       "  <tbody>\n",
       "    <tr>\n",
       "      <th>Underworld: Rise of the Lycans</th>\n",
       "      <td>991</td>\n",
       "      <td>Action,Adventure,Fantasy</td>\n",
       "      <td>An origins story centered on the centuries-old...</td>\n",
       "      <td>Patrick Tatopoulos</td>\n",
       "      <td>Rhona Mitra, Michael Sheen, Bill Nighy, Steven...</td>\n",
       "      <td>2009</td>\n",
       "      <td>92</td>\n",
       "      <td>6.6</td>\n",
       "      <td>129708</td>\n",
       "      <td>45.80</td>\n",
       "      <td>44.0</td>\n",
       "    </tr>\n",
       "    <tr>\n",
       "      <th>Taare Zameen Par</th>\n",
       "      <td>992</td>\n",
       "      <td>Drama,Family,Music</td>\n",
       "      <td>An eight-year-old boy is thought to be a lazy ...</td>\n",
       "      <td>Aamir Khan</td>\n",
       "      <td>Darsheel Safary, Aamir Khan, Tanay Chheda, Sac...</td>\n",
       "      <td>2007</td>\n",
       "      <td>165</td>\n",
       "      <td>8.5</td>\n",
       "      <td>102697</td>\n",
       "      <td>1.20</td>\n",
       "      <td>42.0</td>\n",
       "    </tr>\n",
       "    <tr>\n",
       "      <th>Take Me Home Tonight</th>\n",
       "      <td>993</td>\n",
       "      <td>Comedy,Drama,Romance</td>\n",
       "      <td>Four years after graduation, an awkward high s...</td>\n",
       "      <td>Michael Dowse</td>\n",
       "      <td>Topher Grace, Anna Faris, Dan Fogler, Teresa P...</td>\n",
       "      <td>2011</td>\n",
       "      <td>97</td>\n",
       "      <td>6.3</td>\n",
       "      <td>45419</td>\n",
       "      <td>6.92</td>\n",
       "      <td>NaN</td>\n",
       "    </tr>\n",
       "    <tr>\n",
       "      <th>Resident Evil: Afterlife</th>\n",
       "      <td>994</td>\n",
       "      <td>Action,Adventure,Horror</td>\n",
       "      <td>While still out to destroy the evil Umbrella C...</td>\n",
       "      <td>Paul W.S. Anderson</td>\n",
       "      <td>Milla Jovovich, Ali Larter, Wentworth Miller,K...</td>\n",
       "      <td>2010</td>\n",
       "      <td>97</td>\n",
       "      <td>5.9</td>\n",
       "      <td>140900</td>\n",
       "      <td>60.13</td>\n",
       "      <td>37.0</td>\n",
       "    </tr>\n",
       "    <tr>\n",
       "      <th>Project X</th>\n",
       "      <td>995</td>\n",
       "      <td>Comedy</td>\n",
       "      <td>3 high school seniors throw a birthday party t...</td>\n",
       "      <td>Nima Nourizadeh</td>\n",
       "      <td>Thomas Mann, Oliver Cooper, Jonathan Daniel Br...</td>\n",
       "      <td>2012</td>\n",
       "      <td>88</td>\n",
       "      <td>6.7</td>\n",
       "      <td>164088</td>\n",
       "      <td>54.72</td>\n",
       "      <td>48.0</td>\n",
       "    </tr>\n",
       "    <tr>\n",
       "      <th>Secret in Their Eyes</th>\n",
       "      <td>996</td>\n",
       "      <td>Crime,Drama,Mystery</td>\n",
       "      <td>A tight-knit team of rising investigators, alo...</td>\n",
       "      <td>Billy Ray</td>\n",
       "      <td>Chiwetel Ejiofor, Nicole Kidman, Julia Roberts...</td>\n",
       "      <td>2015</td>\n",
       "      <td>111</td>\n",
       "      <td>6.2</td>\n",
       "      <td>27585</td>\n",
       "      <td>NaN</td>\n",
       "      <td>45.0</td>\n",
       "    </tr>\n",
       "    <tr>\n",
       "      <th>Hostel: Part II</th>\n",
       "      <td>997</td>\n",
       "      <td>Horror</td>\n",
       "      <td>Three American college students studying abroa...</td>\n",
       "      <td>Eli Roth</td>\n",
       "      <td>Lauren German, Heather Matarazzo, Bijou Philli...</td>\n",
       "      <td>2007</td>\n",
       "      <td>94</td>\n",
       "      <td>5.5</td>\n",
       "      <td>73152</td>\n",
       "      <td>17.54</td>\n",
       "      <td>46.0</td>\n",
       "    </tr>\n",
       "    <tr>\n",
       "      <th>Step Up 2: The Streets</th>\n",
       "      <td>998</td>\n",
       "      <td>Drama,Music,Romance</td>\n",
       "      <td>Romantic sparks occur between two dance studen...</td>\n",
       "      <td>Jon M. Chu</td>\n",
       "      <td>Robert Hoffman, Briana Evigan, Cassie Ventura,...</td>\n",
       "      <td>2008</td>\n",
       "      <td>98</td>\n",
       "      <td>6.2</td>\n",
       "      <td>70699</td>\n",
       "      <td>58.01</td>\n",
       "      <td>50.0</td>\n",
       "    </tr>\n",
       "    <tr>\n",
       "      <th>Search Party</th>\n",
       "      <td>999</td>\n",
       "      <td>Adventure,Comedy</td>\n",
       "      <td>A pair of friends embark on a mission to reuni...</td>\n",
       "      <td>Scot Armstrong</td>\n",
       "      <td>Adam Pally, T.J. Miller, Thomas Middleditch,Sh...</td>\n",
       "      <td>2014</td>\n",
       "      <td>93</td>\n",
       "      <td>5.6</td>\n",
       "      <td>4881</td>\n",
       "      <td>NaN</td>\n",
       "      <td>22.0</td>\n",
       "    </tr>\n",
       "    <tr>\n",
       "      <th>Nine Lives</th>\n",
       "      <td>1000</td>\n",
       "      <td>Comedy,Family,Fantasy</td>\n",
       "      <td>A stuffy businessman finds himself trapped ins...</td>\n",
       "      <td>Barry Sonnenfeld</td>\n",
       "      <td>Kevin Spacey, Jennifer Garner, Robbie Amell,Ch...</td>\n",
       "      <td>2016</td>\n",
       "      <td>87</td>\n",
       "      <td>5.3</td>\n",
       "      <td>12435</td>\n",
       "      <td>19.64</td>\n",
       "      <td>11.0</td>\n",
       "    </tr>\n",
       "  </tbody>\n",
       "</table>\n",
       "</div>"
      ],
      "text/plain": [
       "                                Rank                     Genre  \\\n",
       "Title                                                            \n",
       "Underworld: Rise of the Lycans   991  Action,Adventure,Fantasy   \n",
       "Taare Zameen Par                 992        Drama,Family,Music   \n",
       "Take Me Home Tonight             993      Comedy,Drama,Romance   \n",
       "Resident Evil: Afterlife         994   Action,Adventure,Horror   \n",
       "Project X                        995                    Comedy   \n",
       "Secret in Their Eyes             996       Crime,Drama,Mystery   \n",
       "Hostel: Part II                  997                    Horror   \n",
       "Step Up 2: The Streets           998       Drama,Music,Romance   \n",
       "Search Party                     999          Adventure,Comedy   \n",
       "Nine Lives                      1000     Comedy,Family,Fantasy   \n",
       "\n",
       "                                                                      Description  \\\n",
       "Title                                                                               \n",
       "Underworld: Rise of the Lycans  An origins story centered on the centuries-old...   \n",
       "Taare Zameen Par                An eight-year-old boy is thought to be a lazy ...   \n",
       "Take Me Home Tonight            Four years after graduation, an awkward high s...   \n",
       "Resident Evil: Afterlife        While still out to destroy the evil Umbrella C...   \n",
       "Project X                       3 high school seniors throw a birthday party t...   \n",
       "Secret in Their Eyes            A tight-knit team of rising investigators, alo...   \n",
       "Hostel: Part II                 Three American college students studying abroa...   \n",
       "Step Up 2: The Streets          Romantic sparks occur between two dance studen...   \n",
       "Search Party                    A pair of friends embark on a mission to reuni...   \n",
       "Nine Lives                      A stuffy businessman finds himself trapped ins...   \n",
       "\n",
       "                                          Director  \\\n",
       "Title                                                \n",
       "Underworld: Rise of the Lycans  Patrick Tatopoulos   \n",
       "Taare Zameen Par                        Aamir Khan   \n",
       "Take Me Home Tonight                 Michael Dowse   \n",
       "Resident Evil: Afterlife        Paul W.S. Anderson   \n",
       "Project X                          Nima Nourizadeh   \n",
       "Secret in Their Eyes                     Billy Ray   \n",
       "Hostel: Part II                           Eli Roth   \n",
       "Step Up 2: The Streets                  Jon M. Chu   \n",
       "Search Party                        Scot Armstrong   \n",
       "Nine Lives                        Barry Sonnenfeld   \n",
       "\n",
       "                                                                           Actors  \\\n",
       "Title                                                                               \n",
       "Underworld: Rise of the Lycans  Rhona Mitra, Michael Sheen, Bill Nighy, Steven...   \n",
       "Taare Zameen Par                Darsheel Safary, Aamir Khan, Tanay Chheda, Sac...   \n",
       "Take Me Home Tonight            Topher Grace, Anna Faris, Dan Fogler, Teresa P...   \n",
       "Resident Evil: Afterlife        Milla Jovovich, Ali Larter, Wentworth Miller,K...   \n",
       "Project X                       Thomas Mann, Oliver Cooper, Jonathan Daniel Br...   \n",
       "Secret in Their Eyes            Chiwetel Ejiofor, Nicole Kidman, Julia Roberts...   \n",
       "Hostel: Part II                 Lauren German, Heather Matarazzo, Bijou Philli...   \n",
       "Step Up 2: The Streets          Robert Hoffman, Briana Evigan, Cassie Ventura,...   \n",
       "Search Party                    Adam Pally, T.J. Miller, Thomas Middleditch,Sh...   \n",
       "Nine Lives                      Kevin Spacey, Jennifer Garner, Robbie Amell,Ch...   \n",
       "\n",
       "                                Year  Runtime (Minutes)  Rating   Votes  \\\n",
       "Title                                                                     \n",
       "Underworld: Rise of the Lycans  2009                 92     6.6  129708   \n",
       "Taare Zameen Par                2007                165     8.5  102697   \n",
       "Take Me Home Tonight            2011                 97     6.3   45419   \n",
       "Resident Evil: Afterlife        2010                 97     5.9  140900   \n",
       "Project X                       2012                 88     6.7  164088   \n",
       "Secret in Their Eyes            2015                111     6.2   27585   \n",
       "Hostel: Part II                 2007                 94     5.5   73152   \n",
       "Step Up 2: The Streets          2008                 98     6.2   70699   \n",
       "Search Party                    2014                 93     5.6    4881   \n",
       "Nine Lives                      2016                 87     5.3   12435   \n",
       "\n",
       "                                Revenue (Millions)  Metascore  \n",
       "Title                                                          \n",
       "Underworld: Rise of the Lycans               45.80       44.0  \n",
       "Taare Zameen Par                              1.20       42.0  \n",
       "Take Me Home Tonight                          6.92        NaN  \n",
       "Resident Evil: Afterlife                     60.13       37.0  \n",
       "Project X                                    54.72       48.0  \n",
       "Secret in Their Eyes                           NaN       45.0  \n",
       "Hostel: Part II                              17.54       46.0  \n",
       "Step Up 2: The Streets                       58.01       50.0  \n",
       "Search Party                                   NaN       22.0  \n",
       "Nine Lives                                   19.64       11.0  "
      ]
     },
     "execution_count": 50,
     "metadata": {},
     "output_type": "execute_result"
    }
   ],
   "source": [
    "movies_df.tail(10)"
   ]
  },
  {
   "cell_type": "markdown",
   "metadata": {},
   "source": [
    "#### Erhalte Informationen über dein Datenset\n",
    "\n",
    "`info()` sollte einer der ersten Befehle sein, die Sie nach dem Laden Ihrer Daten ausführen:"
   ]
  },
  {
   "cell_type": "code",
   "execution_count": 51,
   "metadata": {
    "tags": []
   },
   "outputs": [
    {
     "name": "stdout",
     "output_type": "stream",
     "text": [
      "<class 'pandas.core.frame.DataFrame'>\n",
      "Index: 1000 entries, Guardians of the Galaxy to Nine Lives\n",
      "Data columns (total 11 columns):\n",
      " #   Column              Non-Null Count  Dtype  \n",
      "---  ------              --------------  -----  \n",
      " 0   Rank                1000 non-null   int64  \n",
      " 1   Genre               1000 non-null   object \n",
      " 2   Description         1000 non-null   object \n",
      " 3   Director            1000 non-null   object \n",
      " 4   Actors              1000 non-null   object \n",
      " 5   Year                1000 non-null   int64  \n",
      " 6   Runtime (Minutes)   1000 non-null   int64  \n",
      " 7   Rating              1000 non-null   float64\n",
      " 8   Votes               1000 non-null   int64  \n",
      " 9   Revenue (Millions)  872 non-null    float64\n",
      " 10  Metascore           936 non-null    float64\n",
      "dtypes: float64(3), int64(4), object(4)\n",
      "memory usage: 93.8+ KB\n"
     ]
    }
   ],
   "source": [
    "movies_df.info()"
   ]
  },
  {
   "cell_type": "markdown",
   "metadata": {},
   "source": [
    "`.info()` bereitgestellte Informationen:\n",
    "- Anzahl der Zeilen und Spalten\n",
    "- Anzahl der **non-null Werte** (siehe fehlende Werte in `Revenue` und `Metascore`)\n",
    "- Größe des DataFrames in Memory\n",
    "- Datentyp pro Zeile (Identifizierung möglicher Umwandlung von String `object` zu `int64` um mathematische Operationen durchzuführen)\n",
    "\n",
    "Eine weitere Information über das Datenset kann über `.shape` eingeholt werden, welches eine Übersicht über die Anzahl der **(Zeilen, Spalten)** gibt."
   ]
  },
  {
   "cell_type": "markdown",
   "metadata": {},
   "source": [
    "Eine weitere Möglichkeit die Anzahl der einendeutigen Merkmale ausgeben zu lassen, ist die Funktion `.nunique`. Die Dokumentation hierfür kann **[hier](https://pandas.pydata.org/pandas-docs/stable/reference/api/pandas.DataFrame.nunique.html)** entnommen werden."
   ]
  },
  {
   "cell_type": "code",
   "execution_count": 52,
   "metadata": {
    "tags": []
   },
   "outputs": [
    {
     "data": {
      "text/plain": [
       "Rank                  1000\n",
       "Genre                  207\n",
       "Description           1000\n",
       "Director               644\n",
       "Actors                 996\n",
       "Year                    11\n",
       "Runtime (Minutes)       94\n",
       "Rating                  55\n",
       "Votes                  997\n",
       "Revenue (Millions)     814\n",
       "Metascore               84\n",
       "dtype: int64"
      ]
     },
     "execution_count": 52,
     "metadata": {},
     "output_type": "execute_result"
    }
   ],
   "source": [
    "movies_df.nunique()"
   ]
  },
  {
   "cell_type": "code",
   "execution_count": 53,
   "metadata": {},
   "outputs": [
    {
     "data": {
      "text/plain": [
       "(1000, 11)"
      ]
     },
     "execution_count": 53,
     "metadata": {},
     "output_type": "execute_result"
    }
   ],
   "source": [
    "movies_df.shape"
   ]
  },
  {
   "cell_type": "markdown",
   "metadata": {},
   "source": [
    "**Fragen:**\n",
    "- Wann kann Shape hilfreich sein?\n",
    "- Welches Datenformat ist der Response von `.shape`?\n",
    "\n",
    "**Dokumentation:** https://pandas.pydata.org/pandas-docs/stable/reference/api/pandas.DataFrame.shape.html"
   ]
  },
  {
   "cell_type": "markdown",
   "metadata": {},
   "source": [
    "### 4.2 Umgang mit Duplikaten"
   ]
  },
  {
   "cell_type": "markdown",
   "metadata": {},
   "source": [
    "Dieser Datensatz hat keine doppelten Zeilen, aber es ist immer wichtig zu überprüfen, dass keine doppelten Zeilen vorhanden sind. Es kann auch gute Gründe geben, dass doppelte Zeilen vorhanden sind.\n",
    "\n",
    "Um das zu demonstrieren, verdoppeln wir einfach unseren Movie DataFrame, indem wir ihn an sich selbst anhängen:"
   ]
  },
  {
   "cell_type": "code",
<<<<<<< Updated upstream
   "execution_count": 16,
=======
   "execution_count": 54,
>>>>>>> Stashed changes
   "metadata": {},
   "outputs": [
    {
     "data": {
      "text/plain": [
       "(2000, 11)"
      ]
     },
<<<<<<< Updated upstream
     "execution_count": 16,
=======
     "execution_count": 54,
>>>>>>> Stashed changes
     "metadata": {},
     "output_type": "execute_result"
    }
   ],
   "source": [
    "temp_df = movies_df.append(movies_df)\n",
    "temp_df.shape"
   ]
  },
  {
   "cell_type": "markdown",
   "metadata": {},
   "source": [
    "Die Verwendung von `append()` gibt eine Kopie zurück, ohne den ursprünglichen DataFrame zu beeinflussen. Wir fangen diese Kopie in `temp` ein, so dass wir nicht mit den echten Daten arbeiten.\n",
    "\n",
    "Beachtet, dass der Aufruf von `.shape` beweist, dass sich unsere DataFrame-Zeilen verdoppelt haben.\n",
    "Jetzt haben wir einen DataFrame, für welchen wir Duplikate löschen `.drop_duplicates()`können. Dafür gibt es folgende Optionen unter dem Parameter `keep`:\n",
    "* `first`: (Voreinstellung) Duplikate bis auf das erste Vorkommen verwerfen\n",
    "* `last`: Duplikate bis auf das letzte Vorkommen verwerfen\n",
    "* `False`: Alle Duplikate verwerfen\n",
    "\n",
    "Dokumentation zu [.drop_duplicates](https://pandas.pydata.org/pandas-docs/stable/reference/api/pandas.DataFrame.drop_duplicates.html)\n",
    "\n",
    "**Frage**: Warum kann der Parameter wichtig sein?"
   ]
  },
  {
   "cell_type": "code",
   "execution_count": 55,
   "metadata": {},
   "outputs": [
    {
     "data": {
      "text/plain": [
       "(1000, 11)"
      ]
     },
     "execution_count": 55,
     "metadata": {},
     "output_type": "execute_result"
    }
   ],
   "source": [
    "# Nutzung von Drop Duplicates\n",
    "temp_df = temp_df.drop_duplicates()\n",
    "\n",
    "# Überprüfung der Ergebnisse\n",
    "temp_df.shape"
   ]
  },
  {
   "cell_type": "markdown",
   "metadata": {},
   "source": [
    "**Optimierung:** Es ist etwas umständlich, DataFrames immer wieder der gleichen Variablen zuzuweisen, wie in diesem Beispiel. Aus diesem Grund hat das Team um Pandas den Parameter `inplace` bei vielen seiner Methoden eingeführt. Wenn `inplace=True` verwendet wird, wird der DataFrame an Ort und Stelle modifiziert:"
   ]
  },
  {
   "cell_type": "code",
<<<<<<< Updated upstream
   "execution_count": 17,
=======
   "execution_count": 56,
>>>>>>> Stashed changes
   "metadata": {},
   "outputs": [
    {
     "data": {
      "text/plain": [
       "(0, 11)"
      ]
     },
<<<<<<< Updated upstream
     "execution_count": 17,
=======
     "execution_count": 56,
>>>>>>> Stashed changes
     "metadata": {},
     "output_type": "execute_result"
    }
   ],
   "source": [
    "temp_df = movies_df.append(movies_df)\n",
    "temp_df.drop_duplicates(inplace=True, keep=False)\n",
    "temp_df.shape"
   ]
  },
  {
   "cell_type": "markdown",
   "metadata": {},
   "source": [
    "Da es sich bei allen Zeilen um Duplikate handelte, wurden mit `keep=False` alle Zeilen gelöscht, so dass null Zeilen übrig blieben."
   ]
  },
  {
   "cell_type": "markdown",
   "metadata": {},
   "source": [
    "### 4.3 Transformation von Zeilen\n",
    "\n",
    "Oft haben Datensätze wortreiche Spaltennamen mit Symbolen, Wörtern in Groß- und Kleinschreibung, Leerzeichen und Tippfehlern. Um die Auswahl von Daten nach Spaltennamen zu erleichtern, können wir die Spalten in einem Datenset anpassen.\n",
    "\n",
    "Eine erste Übersicht erhalten wir mit `.columns` - dies kann auch hilfreich sein, wenn Ihr einen `Error` erhaltet bei der Selektion einer Spalte."
   ]
  },
  {
   "cell_type": "code",
   "execution_count": 57,
   "metadata": {},
   "outputs": [
    {
     "data": {
      "text/plain": [
       "Index(['Rank', 'Genre', 'Description', 'Director', 'Actors', 'Year',\n",
       "       'Runtime (Minutes)', 'Rating', 'Votes', 'Revenue (Millions)',\n",
       "       'Metascore'],\n",
       "      dtype='object')"
      ]
     },
     "execution_count": 57,
     "metadata": {},
     "output_type": "execute_result"
    }
   ],
   "source": [
    "movies_df.columns"
   ]
  },
  {
   "cell_type": "markdown",
   "metadata": {},
   "source": [
    "Wir können die Methode `.rename()` und `.columns` verwenden, um bestimmte oder alle Spalten in einem `Dict` umzubenennen. \n",
    "\n",
    "**Aufgabe 3:** \n",
    "- Im ersten Schritt wollen wir die Klammern auflösen, also benennt `Runtime (Minutes)` in `Runtime` und `Revenue (Millions)` in `Revenue_millions` um. Dokumentation könnt Ihr [Dokumentation hier](https://pandas.pydata.org/pandas-docs/stable/reference/api/pandas.DataFrame.rename.html) einsehen\n",
    "- Außerdem wollen wir alle Spalten zu `lowercase` umbenennen. Hierzu könnt Ihr die Methode [`.columns`](https://pandas.pydata.org/pandas-docs/stable/reference/api/pandas.DataFrame.columns.html#) oder `.rename()` verwenden\n",
    "\n",
    "**Tipp:** Für die 2. Übung, schaut auf List Comprehension für Python"
   ]
  },
  {
   "cell_type": "code",
   "execution_count": 39,
   "metadata": {},
   "outputs": [
    {
     "data": {
      "text/html": [
       "<div>\n",
       "<style scoped>\n",
       "    .dataframe tbody tr th:only-of-type {\n",
       "        vertical-align: middle;\n",
       "    }\n",
       "\n",
       "    .dataframe tbody tr th {\n",
       "        vertical-align: top;\n",
       "    }\n",
       "\n",
       "    .dataframe thead th {\n",
       "        text-align: right;\n",
       "    }\n",
       "</style>\n",
       "<table border=\"1\" class=\"dataframe\">\n",
       "  <thead>\n",
       "    <tr style=\"text-align: right;\">\n",
       "      <th></th>\n",
       "      <th>Rank</th>\n",
       "      <th>Genre</th>\n",
       "      <th>Description</th>\n",
       "      <th>Director</th>\n",
       "      <th>Actors</th>\n",
       "      <th>Year</th>\n",
       "      <th>Runtime</th>\n",
       "      <th>Rating</th>\n",
       "      <th>Votes</th>\n",
       "      <th>Revenue_millions</th>\n",
       "      <th>Metascore</th>\n",
       "    </tr>\n",
       "    <tr>\n",
       "      <th>Title</th>\n",
       "      <th></th>\n",
       "      <th></th>\n",
       "      <th></th>\n",
       "      <th></th>\n",
       "      <th></th>\n",
       "      <th></th>\n",
       "      <th></th>\n",
       "      <th></th>\n",
       "      <th></th>\n",
       "      <th></th>\n",
       "      <th></th>\n",
       "    </tr>\n",
       "  </thead>\n",
       "  <tbody>\n",
       "    <tr>\n",
       "      <th>Guardians of the Galaxy</th>\n",
       "      <td>1</td>\n",
       "      <td>Action,Adventure,Sci-Fi</td>\n",
       "      <td>A group of intergalactic criminals are forced ...</td>\n",
       "      <td>James Gunn</td>\n",
       "      <td>Chris Pratt, Vin Diesel, Bradley Cooper, Zoe S...</td>\n",
       "      <td>2014</td>\n",
       "      <td>121</td>\n",
       "      <td>8.1</td>\n",
       "      <td>757074</td>\n",
       "      <td>333.13</td>\n",
       "      <td>76.0</td>\n",
       "    </tr>\n",
       "    <tr>\n",
       "      <th>Prometheus</th>\n",
       "      <td>2</td>\n",
       "      <td>Adventure,Mystery,Sci-Fi</td>\n",
       "      <td>Following clues to the origin of mankind, a te...</td>\n",
       "      <td>Ridley Scott</td>\n",
       "      <td>Noomi Rapace, Logan Marshall-Green, Michael Fa...</td>\n",
       "      <td>2012</td>\n",
       "      <td>124</td>\n",
       "      <td>7.0</td>\n",
       "      <td>485820</td>\n",
       "      <td>126.46</td>\n",
       "      <td>65.0</td>\n",
       "    </tr>\n",
       "    <tr>\n",
       "      <th>Split</th>\n",
       "      <td>3</td>\n",
       "      <td>Horror,Thriller</td>\n",
       "      <td>Three girls are kidnapped by a man with a diag...</td>\n",
       "      <td>M. Night Shyamalan</td>\n",
       "      <td>James McAvoy, Anya Taylor-Joy, Haley Lu Richar...</td>\n",
       "      <td>2016</td>\n",
       "      <td>117</td>\n",
       "      <td>7.3</td>\n",
       "      <td>157606</td>\n",
       "      <td>138.12</td>\n",
       "      <td>62.0</td>\n",
       "    </tr>\n",
       "    <tr>\n",
       "      <th>Sing</th>\n",
       "      <td>4</td>\n",
       "      <td>Animation,Comedy,Family</td>\n",
       "      <td>In a city of humanoid animals, a hustling thea...</td>\n",
       "      <td>Christophe Lourdelet</td>\n",
       "      <td>Matthew McConaughey,Reese Witherspoon, Seth Ma...</td>\n",
       "      <td>2016</td>\n",
       "      <td>108</td>\n",
       "      <td>7.2</td>\n",
       "      <td>60545</td>\n",
       "      <td>270.32</td>\n",
       "      <td>59.0</td>\n",
       "    </tr>\n",
       "    <tr>\n",
       "      <th>Suicide Squad</th>\n",
       "      <td>5</td>\n",
       "      <td>Action,Adventure,Fantasy</td>\n",
       "      <td>A secret government agency recruits some of th...</td>\n",
       "      <td>David Ayer</td>\n",
       "      <td>Will Smith, Jared Leto, Margot Robbie, Viola D...</td>\n",
       "      <td>2016</td>\n",
       "      <td>123</td>\n",
       "      <td>6.2</td>\n",
       "      <td>393727</td>\n",
       "      <td>325.02</td>\n",
       "      <td>40.0</td>\n",
       "    </tr>\n",
       "    <tr>\n",
       "      <th>...</th>\n",
       "      <td>...</td>\n",
       "      <td>...</td>\n",
       "      <td>...</td>\n",
       "      <td>...</td>\n",
       "      <td>...</td>\n",
       "      <td>...</td>\n",
       "      <td>...</td>\n",
       "      <td>...</td>\n",
       "      <td>...</td>\n",
       "      <td>...</td>\n",
       "      <td>...</td>\n",
       "    </tr>\n",
       "    <tr>\n",
       "      <th>Secret in Their Eyes</th>\n",
       "      <td>996</td>\n",
       "      <td>Crime,Drama,Mystery</td>\n",
       "      <td>A tight-knit team of rising investigators, alo...</td>\n",
       "      <td>Billy Ray</td>\n",
       "      <td>Chiwetel Ejiofor, Nicole Kidman, Julia Roberts...</td>\n",
       "      <td>2015</td>\n",
       "      <td>111</td>\n",
       "      <td>6.2</td>\n",
       "      <td>27585</td>\n",
       "      <td>NaN</td>\n",
       "      <td>45.0</td>\n",
       "    </tr>\n",
       "    <tr>\n",
       "      <th>Hostel: Part II</th>\n",
       "      <td>997</td>\n",
       "      <td>Horror</td>\n",
       "      <td>Three American college students studying abroa...</td>\n",
       "      <td>Eli Roth</td>\n",
       "      <td>Lauren German, Heather Matarazzo, Bijou Philli...</td>\n",
       "      <td>2007</td>\n",
       "      <td>94</td>\n",
       "      <td>5.5</td>\n",
       "      <td>73152</td>\n",
       "      <td>17.54</td>\n",
       "      <td>46.0</td>\n",
       "    </tr>\n",
       "    <tr>\n",
       "      <th>Step Up 2: The Streets</th>\n",
       "      <td>998</td>\n",
       "      <td>Drama,Music,Romance</td>\n",
       "      <td>Romantic sparks occur between two dance studen...</td>\n",
       "      <td>Jon M. Chu</td>\n",
       "      <td>Robert Hoffman, Briana Evigan, Cassie Ventura,...</td>\n",
       "      <td>2008</td>\n",
       "      <td>98</td>\n",
       "      <td>6.2</td>\n",
       "      <td>70699</td>\n",
       "      <td>58.01</td>\n",
       "      <td>50.0</td>\n",
       "    </tr>\n",
       "    <tr>\n",
       "      <th>Search Party</th>\n",
       "      <td>999</td>\n",
       "      <td>Adventure,Comedy</td>\n",
       "      <td>A pair of friends embark on a mission to reuni...</td>\n",
       "      <td>Scot Armstrong</td>\n",
       "      <td>Adam Pally, T.J. Miller, Thomas Middleditch,Sh...</td>\n",
       "      <td>2014</td>\n",
       "      <td>93</td>\n",
       "      <td>5.6</td>\n",
       "      <td>4881</td>\n",
       "      <td>NaN</td>\n",
       "      <td>22.0</td>\n",
       "    </tr>\n",
       "    <tr>\n",
       "      <th>Nine Lives</th>\n",
       "      <td>1000</td>\n",
       "      <td>Comedy,Family,Fantasy</td>\n",
       "      <td>A stuffy businessman finds himself trapped ins...</td>\n",
       "      <td>Barry Sonnenfeld</td>\n",
       "      <td>Kevin Spacey, Jennifer Garner, Robbie Amell,Ch...</td>\n",
       "      <td>2016</td>\n",
       "      <td>87</td>\n",
       "      <td>5.3</td>\n",
       "      <td>12435</td>\n",
       "      <td>19.64</td>\n",
       "      <td>11.0</td>\n",
       "    </tr>\n",
       "  </tbody>\n",
       "</table>\n",
       "<p>1000 rows × 11 columns</p>\n",
       "</div>"
      ],
      "text/plain": [
       "                         Rank                     Genre  \\\n",
       "Title                                                     \n",
       "Guardians of the Galaxy     1   Action,Adventure,Sci-Fi   \n",
       "Prometheus                  2  Adventure,Mystery,Sci-Fi   \n",
       "Split                       3           Horror,Thriller   \n",
       "Sing                        4   Animation,Comedy,Family   \n",
       "Suicide Squad               5  Action,Adventure,Fantasy   \n",
       "...                       ...                       ...   \n",
       "Secret in Their Eyes      996       Crime,Drama,Mystery   \n",
       "Hostel: Part II           997                    Horror   \n",
       "Step Up 2: The Streets    998       Drama,Music,Romance   \n",
       "Search Party              999          Adventure,Comedy   \n",
       "Nine Lives               1000     Comedy,Family,Fantasy   \n",
       "\n",
       "                                                               Description  \\\n",
       "Title                                                                        \n",
       "Guardians of the Galaxy  A group of intergalactic criminals are forced ...   \n",
       "Prometheus               Following clues to the origin of mankind, a te...   \n",
       "Split                    Three girls are kidnapped by a man with a diag...   \n",
       "Sing                     In a city of humanoid animals, a hustling thea...   \n",
       "Suicide Squad            A secret government agency recruits some of th...   \n",
       "...                                                                    ...   \n",
       "Secret in Their Eyes     A tight-knit team of rising investigators, alo...   \n",
       "Hostel: Part II          Three American college students studying abroa...   \n",
       "Step Up 2: The Streets   Romantic sparks occur between two dance studen...   \n",
       "Search Party             A pair of friends embark on a mission to reuni...   \n",
       "Nine Lives               A stuffy businessman finds himself trapped ins...   \n",
       "\n",
       "                                     Director  \\\n",
       "Title                                           \n",
       "Guardians of the Galaxy            James Gunn   \n",
       "Prometheus                       Ridley Scott   \n",
       "Split                      M. Night Shyamalan   \n",
       "Sing                     Christophe Lourdelet   \n",
       "Suicide Squad                      David Ayer   \n",
       "...                                       ...   \n",
       "Secret in Their Eyes                Billy Ray   \n",
       "Hostel: Part II                      Eli Roth   \n",
       "Step Up 2: The Streets             Jon M. Chu   \n",
       "Search Party                   Scot Armstrong   \n",
       "Nine Lives                   Barry Sonnenfeld   \n",
       "\n",
       "                                                                    Actors  \\\n",
       "Title                                                                        \n",
       "Guardians of the Galaxy  Chris Pratt, Vin Diesel, Bradley Cooper, Zoe S...   \n",
       "Prometheus               Noomi Rapace, Logan Marshall-Green, Michael Fa...   \n",
       "Split                    James McAvoy, Anya Taylor-Joy, Haley Lu Richar...   \n",
       "Sing                     Matthew McConaughey,Reese Witherspoon, Seth Ma...   \n",
       "Suicide Squad            Will Smith, Jared Leto, Margot Robbie, Viola D...   \n",
       "...                                                                    ...   \n",
       "Secret in Their Eyes     Chiwetel Ejiofor, Nicole Kidman, Julia Roberts...   \n",
       "Hostel: Part II          Lauren German, Heather Matarazzo, Bijou Philli...   \n",
       "Step Up 2: The Streets   Robert Hoffman, Briana Evigan, Cassie Ventura,...   \n",
       "Search Party             Adam Pally, T.J. Miller, Thomas Middleditch,Sh...   \n",
       "Nine Lives               Kevin Spacey, Jennifer Garner, Robbie Amell,Ch...   \n",
       "\n",
       "                         Year  Runtime  Rating   Votes  Revenue_millions  \\\n",
       "Title                                                                      \n",
       "Guardians of the Galaxy  2014      121     8.1  757074            333.13   \n",
       "Prometheus               2012      124     7.0  485820            126.46   \n",
       "Split                    2016      117     7.3  157606            138.12   \n",
       "Sing                     2016      108     7.2   60545            270.32   \n",
       "Suicide Squad            2016      123     6.2  393727            325.02   \n",
       "...                       ...      ...     ...     ...               ...   \n",
       "Secret in Their Eyes     2015      111     6.2   27585               NaN   \n",
       "Hostel: Part II          2007       94     5.5   73152             17.54   \n",
       "Step Up 2: The Streets   2008       98     6.2   70699             58.01   \n",
       "Search Party             2014       93     5.6    4881               NaN   \n",
       "Nine Lives               2016       87     5.3   12435             19.64   \n",
       "\n",
       "                         Metascore  \n",
       "Title                               \n",
       "Guardians of the Galaxy       76.0  \n",
       "Prometheus                    65.0  \n",
       "Split                         62.0  \n",
       "Sing                          59.0  \n",
       "Suicide Squad                 40.0  \n",
       "...                            ...  \n",
       "Secret in Their Eyes          45.0  \n",
       "Hostel: Part II               46.0  \n",
       "Step Up 2: The Streets        50.0  \n",
       "Search Party                  22.0  \n",
       "Nine Lives                    11.0  \n",
       "\n",
       "[1000 rows x 11 columns]"
      ]
     },
     "execution_count": 39,
     "metadata": {},
     "output_type": "execute_result"
    }
   ],
   "source": [
    "### CODE HERE ###\n",
    "movies_df.rename(columns={\"Runtime (Minutes)\" : \"Runtime\", \"Revenue (Millions)\" : \"Revenue_millions\"})\n",
    "#df= df.rename(columns=str.lower)\n",
    "#df.columns= df.columns.str.lower()"
   ]
  },
  {
   "cell_type": "code",
   "execution_count": 45,
   "metadata": {},
   "outputs": [
    {
     "ename": "AttributeError",
     "evalue": "'Index' object has no attribute 'columns'",
     "output_type": "error",
     "traceback": [
      "\u001b[0;31m---------------------------------------------------------------------------\u001b[0m",
      "\u001b[0;31mAttributeError\u001b[0m                            Traceback (most recent call last)",
      "\u001b[0;32m/var/folders/mq/545q4wvs7qv1ykzg9rcc02380000gn/T/ipykernel_3393/3516323121.py\u001b[0m in \u001b[0;36m<module>\u001b[0;34m\u001b[0m\n\u001b[0;32m----> 1\u001b[0;31m \u001b[0mmovies_df\u001b[0m\u001b[0;34m.\u001b[0m\u001b[0mcolumns\u001b[0m\u001b[0;34m.\u001b[0m\u001b[0mstr\u001b[0m\u001b[0;34m.\u001b[0m\u001b[0mlower\u001b[0m\u001b[0;34m(\u001b[0m\u001b[0;34m)\u001b[0m\u001b[0;34m\u001b[0m\u001b[0;34m\u001b[0m\u001b[0m\n\u001b[0m",
      "\u001b[0;31mAttributeError\u001b[0m: 'Index' object has no attribute 'columns'"
     ]
    }
   ],
   "source": [
    "movies_df.columns.str.lower()\n"
   ]
  },
  {
   "cell_type": "markdown",
   "metadata": {},
   "source": [
    "Es ist eine gute Idee Kleinbuchstaben zu verwenden, Sonderzeichen zu entfernen und Leerzeichen durch Unterstriche zu ersetzen. Das ist gerade sinnvoll, wenn Ihr eine Zeit lang mit einem Datensatz arbeiten werdet."
   ]
  },
  {
   "cell_type": "markdown",
   "metadata": {},
   "source": [
    "### 4.4 Umgang mit fehlenden Werten (NULL-Values)"
   ]
  },
  {
   "cell_type": "markdown",
   "metadata": {},
   "source": [
    "Wenn wir Daten untersuchen, werden wir höchstwahrscheinlich auf fehlende oder Null-Werte stoßen, die im Wesentlichen Platzhalter für nicht vorhandene Werte sind. Am häufigsten werden Sie Pythons `None` oder NumPys `np.nan` sehen, die beide in einigen Situationen unterschiedlich behandelt werden.\n",
    "\n",
    "Wir lernen später mehr, was die Möglichkeiten sind mit fehlenden Werten umzugehen und was dies für Implikationen auf die Datenanalyse hat.\n",
    "\n",
    "Lass uns zuerst einmal die **Gesamtzahl der NULL-Values** in jeder Spalte unseres Datensatzes feststellen. Der erste Schritt besteht darin zu prüfen, welche Zellen in unserem DataFrame null sind:"
   ]
  },
  {
   "cell_type": "code",
   "execution_count": 41,
   "metadata": {},
   "outputs": [
    {
     "data": {
      "text/plain": [
       "array([False, False, False, False, False, False, False, False, False,\n",
       "       False, False])"
      ]
     },
     "execution_count": 41,
     "metadata": {},
     "output_type": "execute_result"
    }
   ],
   "source": [
    "# 'isnull()' gibt ein DataFrame wieder, mit False True Werten, wenn Daten fehlen\n",
    "movies_df.isnull()"
   ]
  },
  {
   "cell_type": "markdown",
   "metadata": {},
   "source": [
    "**Dokumentation:** [`.isnull()`](https://pandas.pydata.org/pandas-docs/stable/reference/api/pandas.DataFrame.isnull.html)\n",
    "\n",
    "Um die Anzahl der Nullen in jeder Spalte zu zählen, verwenden wir eine Aggregatfunktion zum Summieren:"
   ]
  },
  {
   "cell_type": "code",
   "execution_count": 42,
   "metadata": {},
   "outputs": [
    {
     "data": {
      "text/plain": [
       "0"
      ]
     },
     "execution_count": 42,
     "metadata": {},
     "output_type": "execute_result"
    }
   ],
   "source": [
    "movies_df.isnull().sum()"
   ]
  },
  {
   "cell_type": "markdown",
   "metadata": {},
   "source": [
    "Wir können nun sehen, dass unsere Daten **128** fehlende Werte für `revenue_millions` und **64** fehlende Werte für `metascore` haben."
   ]
  },
  {
   "cell_type": "markdown",
   "metadata": {},
   "source": [
    "Datenanalysten stehen regelmäßig vor dem Dilemma, **Nullwerte zu entfernen oder zu imputieren**, und es ist eine Entscheidung, die eine genaue Kenntnis Eurer Daten und deren Kontext erfordert. Insgesamt wird das Entfernen von Nulldaten nur dann empfohlen, wenn Ihr eine **geringe Menge an fehlenden Daten** haben.\n",
    "\n",
    "Das Entfernen von Zeilen mit **Nullwerten** ist ziemlich einfach mit der Funktion [`.dopna()`](https://pandas.pydata.org/pandas-docs/stable/reference/api/pandas.DataFrame.dropna.html):"
   ]
  },
  {
   "cell_type": "code",
   "execution_count": 43,
   "metadata": {
    "scrolled": true
   },
   "outputs": [
    {
     "data": {
      "text/plain": [
       "Index(['rank', 'genre', 'description', 'director', 'actors', 'year',\n",
       "       'runtime (minutes)', 'rating', 'votes', 'revenue (millions)',\n",
       "       'metascore'],\n",
       "      dtype='object')"
      ]
     },
     "execution_count": 43,
     "metadata": {},
     "output_type": "execute_result"
    }
   ],
   "source": [
    "movies_df.dropna()"
   ]
  },
  {
   "cell_type": "markdown",
   "metadata": {},
   "source": [
    "Wir Ihr germerkt habt, werden **alle Zeilen gelöscht, die mindestens ein NULL-Value aufweisen**. Die Methode gibt einen neuen DataFrame als Return-Statement zurück. "
   ]
  },
  {
   "cell_type": "markdown",
   "metadata": {},
   "source": [
    "**Aufgabe 4**: \n",
    "- Welchen Parameter müssten wir setzen, um den DataFrame direkt anzupassen?\n",
    "- Welchen Parameter müssten wir anpassen, wenn wir nicht Zeilen sondern Spalten löschen wollen?"
   ]
  },
  {
   "cell_type": "markdown",
   "metadata": {},
   "source": [
    "**`BEGRÜNDUNG HERE`**"
   ]
  },
  {
   "cell_type": "markdown",
   "metadata": {},
   "source": [
    "**Grundsätzlich:** Das Entfernen von 162 Zeilen scheint eine Verschwendung zu sein, weil die Informationen in all den anderen Spalten grundsätzlich okay ist. Es geht eher darum, wie wir die Daten \"imputieren\" können."
   ]
  },
  {
   "cell_type": "markdown",
   "metadata": {},
   "source": [
    "### Imputieren von Werten\n",
    "\n",
    "Imputation ist eine herkömmliche Technik von Feature Engineering, um Daten mit Nullwerten zu erhalten. \n",
    "\n",
    "Es kann Fälle geben, in denen das Löschen jeder Zeile mit einem Nullwert einen zu großen Teil Ihres Datensatzes entfernt, so dass wir stattdessen diesen Nullwert mit einem anderen Wert imputieren können, normalerweise mit...\n",
    "... dem **Mittelwert** oder\n",
    "... dem **Median** dieser Spalte. \n",
    "\n",
    "Schauen wir uns nun die fehlenden Werte in der Spalte `revenue_millions` an. Zuerst extrahieren wir diese Spalte in eine eigene Variable:"
   ]
  },
  {
   "cell_type": "code",
   "execution_count": 44,
   "metadata": {},
   "outputs": [
    {
     "ename": "IndexError",
     "evalue": "only integers, slices (`:`), ellipsis (`...`), numpy.newaxis (`None`) and integer or boolean arrays are valid indices",
     "output_type": "error",
     "traceback": [
      "\u001b[0;31m---------------------------------------------------------------------------\u001b[0m",
      "\u001b[0;31mIndexError\u001b[0m                                Traceback (most recent call last)",
      "\u001b[0;32m/var/folders/mq/545q4wvs7qv1ykzg9rcc02380000gn/T/ipykernel_3393/2069704779.py\u001b[0m in \u001b[0;36m<module>\u001b[0;34m\u001b[0m\n\u001b[0;32m----> 1\u001b[0;31m \u001b[0mrevenue\u001b[0m \u001b[0;34m=\u001b[0m \u001b[0mmovies_df\u001b[0m\u001b[0;34m[\u001b[0m\u001b[0;34m\"revenue_millions\"\u001b[0m\u001b[0;34m]\u001b[0m\u001b[0;34m\u001b[0m\u001b[0;34m\u001b[0m\u001b[0m\n\u001b[0m\u001b[1;32m      2\u001b[0m \u001b[0mprint\u001b[0m\u001b[0;34m(\u001b[0m\u001b[0mrevenue\u001b[0m\u001b[0;34m)\u001b[0m\u001b[0;34m\u001b[0m\u001b[0;34m\u001b[0m\u001b[0m\n",
      "\u001b[0;32m~/opt/anaconda3/lib/python3.9/site-packages/pandas/core/indexes/base.py\u001b[0m in \u001b[0;36m__getitem__\u001b[0;34m(self, key)\u001b[0m\n\u001b[1;32m   4602\u001b[0m         \u001b[0;32mif\u001b[0m \u001b[0mis_scalar\u001b[0m\u001b[0;34m(\u001b[0m\u001b[0mkey\u001b[0m\u001b[0;34m)\u001b[0m\u001b[0;34m:\u001b[0m\u001b[0;34m\u001b[0m\u001b[0;34m\u001b[0m\u001b[0m\n\u001b[1;32m   4603\u001b[0m             \u001b[0mkey\u001b[0m \u001b[0;34m=\u001b[0m \u001b[0mcom\u001b[0m\u001b[0;34m.\u001b[0m\u001b[0mcast_scalar_indexer\u001b[0m\u001b[0;34m(\u001b[0m\u001b[0mkey\u001b[0m\u001b[0;34m,\u001b[0m \u001b[0mwarn_float\u001b[0m\u001b[0;34m=\u001b[0m\u001b[0;32mTrue\u001b[0m\u001b[0;34m)\u001b[0m\u001b[0;34m\u001b[0m\u001b[0;34m\u001b[0m\u001b[0m\n\u001b[0;32m-> 4604\u001b[0;31m             \u001b[0;32mreturn\u001b[0m \u001b[0mgetitem\u001b[0m\u001b[0;34m(\u001b[0m\u001b[0mkey\u001b[0m\u001b[0;34m)\u001b[0m\u001b[0;34m\u001b[0m\u001b[0;34m\u001b[0m\u001b[0m\n\u001b[0m\u001b[1;32m   4605\u001b[0m \u001b[0;34m\u001b[0m\u001b[0m\n\u001b[1;32m   4606\u001b[0m         \u001b[0;32mif\u001b[0m \u001b[0misinstance\u001b[0m\u001b[0;34m(\u001b[0m\u001b[0mkey\u001b[0m\u001b[0;34m,\u001b[0m \u001b[0mslice\u001b[0m\u001b[0;34m)\u001b[0m\u001b[0;34m:\u001b[0m\u001b[0;34m\u001b[0m\u001b[0;34m\u001b[0m\u001b[0m\n",
      "\u001b[0;31mIndexError\u001b[0m: only integers, slices (`:`), ellipsis (`...`), numpy.newaxis (`None`) and integer or boolean arrays are valid indices"
     ]
    }
   ],
   "source": [
    "revenue = movies_df[\"revenue_millions\"]\n",
    "print(revenue)"
   ]
  },
  {
   "cell_type": "markdown",
   "metadata": {},
   "source": [
    "Die Verwendung von eckigen Klammern ist die allgemeine Art, wie wir Spalten in einem DataFrame auswählen. Das geschieht sehr ähnlich zum Kontext und Umgang mit Python Dictionaries. Der Spaltenname ist hier der Key, ähnlich wie bei der Kreierung des DataFrames.\n",
    "\n",
    "**Frage:** Was ist der Pandas Datentyp von der Variable `revenue`?"
   ]
  },
  {
   "cell_type": "markdown",
   "metadata": {},
   "source": [
    "**Aufgabe 5:**\n",
    "- Berechne den Mittelwert des `revenue` und befülle die Werte direkt in den DataFrame\n",
    "- Nutze hierfür `fillna` als Funktion im Package Pandas"
   ]
  },
  {
   "cell_type": "code",
   "execution_count": 32,
   "metadata": {},
   "outputs": [],
   "source": [
    "### CODE HERE ###"
   ]
  },
  {
   "cell_type": "markdown",
   "metadata": {},
   "source": [
    "Eine ganze Spalte mit demselben Wert zu imputieren, ist ein einfaches Beispiel. Es wäre eine bessere Idee, eine granularere Imputation nach Genre oder Regisseur zu versuchen. \n",
    "\n",
    "Sie würden z. B. den Mittelwert der Einnahmen eines jeden Genres generieren und die Nullen in jedem Genre mit dem Mittelwert dieses Genres imputieren.\n",
    "\n",
    "Sehen wir uns nun weitere Möglichkeiten an, den Datensatz zu untersuchen und zu verstehen."
   ]
  },
  {
   "cell_type": "markdown",
   "metadata": {},
   "source": [
    "**Aufgabe 6 (Zusatzaufgabe):**\n",
    "- Generiert den Mittelwert Revenue_Millions pro Genre\n",
    "- Identifiziert die NAN-Values in Revenue_Millions\n",
    "- Ersetzt die Werte mit dem durschschnittlichen Genre\n",
    "\n",
    "**Tipps:**\n",
    "- Schneidet die Genres erst einmal nicht, sondern nutzt jede Kombination\n",
    "- Wenn es für ein Genre kein Mittelwert gibt, nutzt den übergreifenden Mittelwert"
   ]
  },
  {
   "cell_type": "code",
   "execution_count": 34,
   "metadata": {},
   "outputs": [],
   "source": [
    "### CODE HERE ###"
   ]
  },
  {
   "cell_type": "markdown",
   "metadata": {},
   "source": [
    "### 4.5 Verstehen von Variablen"
   ]
  },
  {
   "cell_type": "markdown",
   "metadata": {},
   "source": [
    "Mit `.describe()` aufhalten wir eine vollständige Zusammenfassung der Verteilung von **kontinuierlichen Variablen**. Darüber hinaus ist es hilfreich zu wissen welchen Spalten kontinuierlich sind, da die Form der Visualisierung später davon auch mit abhängig ist."
   ]
  },
  {
   "cell_type": "code",
   "execution_count": 36,
   "metadata": {},
   "outputs": [
    {
     "data": {
      "text/html": [
       "<div>\n",
       "<style scoped>\n",
       "    .dataframe tbody tr th:only-of-type {\n",
       "        vertical-align: middle;\n",
       "    }\n",
       "\n",
       "    .dataframe tbody tr th {\n",
       "        vertical-align: top;\n",
       "    }\n",
       "\n",
       "    .dataframe thead th {\n",
       "        text-align: right;\n",
       "    }\n",
       "</style>\n",
       "<table border=\"1\" class=\"dataframe\">\n",
       "  <thead>\n",
       "    <tr style=\"text-align: right;\">\n",
       "      <th></th>\n",
       "      <th>rank</th>\n",
       "      <th>year</th>\n",
       "      <th>runtime</th>\n",
       "      <th>rating</th>\n",
       "      <th>votes</th>\n",
       "      <th>revenue_millions</th>\n",
       "      <th>metascore</th>\n",
       "    </tr>\n",
       "  </thead>\n",
       "  <tbody>\n",
       "    <tr>\n",
       "      <th>count</th>\n",
       "      <td>1000.000000</td>\n",
       "      <td>1000.000000</td>\n",
       "      <td>1000.000000</td>\n",
       "      <td>1000.000000</td>\n",
       "      <td>1.000000e+03</td>\n",
       "      <td>1000.000000</td>\n",
       "      <td>936.000000</td>\n",
       "    </tr>\n",
       "    <tr>\n",
       "      <th>mean</th>\n",
       "      <td>500.500000</td>\n",
       "      <td>2012.783000</td>\n",
       "      <td>113.172000</td>\n",
       "      <td>6.723200</td>\n",
       "      <td>1.698083e+05</td>\n",
       "      <td>82.956376</td>\n",
       "      <td>58.985043</td>\n",
       "    </tr>\n",
       "    <tr>\n",
       "      <th>std</th>\n",
       "      <td>288.819436</td>\n",
       "      <td>3.205962</td>\n",
       "      <td>18.810908</td>\n",
       "      <td>0.945429</td>\n",
       "      <td>1.887626e+05</td>\n",
       "      <td>96.412043</td>\n",
       "      <td>17.194757</td>\n",
       "    </tr>\n",
       "    <tr>\n",
       "      <th>min</th>\n",
       "      <td>1.000000</td>\n",
       "      <td>2006.000000</td>\n",
       "      <td>66.000000</td>\n",
       "      <td>1.900000</td>\n",
       "      <td>6.100000e+01</td>\n",
       "      <td>0.000000</td>\n",
       "      <td>11.000000</td>\n",
       "    </tr>\n",
       "    <tr>\n",
       "      <th>25%</th>\n",
       "      <td>250.750000</td>\n",
       "      <td>2010.000000</td>\n",
       "      <td>100.000000</td>\n",
       "      <td>6.200000</td>\n",
       "      <td>3.630900e+04</td>\n",
       "      <td>17.442500</td>\n",
       "      <td>47.000000</td>\n",
       "    </tr>\n",
       "    <tr>\n",
       "      <th>50%</th>\n",
       "      <td>500.500000</td>\n",
       "      <td>2014.000000</td>\n",
       "      <td>111.000000</td>\n",
       "      <td>6.800000</td>\n",
       "      <td>1.107990e+05</td>\n",
       "      <td>60.375000</td>\n",
       "      <td>59.500000</td>\n",
       "    </tr>\n",
       "    <tr>\n",
       "      <th>75%</th>\n",
       "      <td>750.250000</td>\n",
       "      <td>2016.000000</td>\n",
       "      <td>123.000000</td>\n",
       "      <td>7.400000</td>\n",
       "      <td>2.399098e+05</td>\n",
       "      <td>99.177500</td>\n",
       "      <td>72.000000</td>\n",
       "    </tr>\n",
       "    <tr>\n",
       "      <th>max</th>\n",
       "      <td>1000.000000</td>\n",
       "      <td>2016.000000</td>\n",
       "      <td>191.000000</td>\n",
       "      <td>9.000000</td>\n",
       "      <td>1.791916e+06</td>\n",
       "      <td>936.630000</td>\n",
       "      <td>100.000000</td>\n",
       "    </tr>\n",
       "  </tbody>\n",
       "</table>\n",
       "</div>"
      ],
      "text/plain": [
       "              rank         year      runtime       rating         votes  \\\n",
       "count  1000.000000  1000.000000  1000.000000  1000.000000  1.000000e+03   \n",
       "mean    500.500000  2012.783000   113.172000     6.723200  1.698083e+05   \n",
       "std     288.819436     3.205962    18.810908     0.945429  1.887626e+05   \n",
       "min       1.000000  2006.000000    66.000000     1.900000  6.100000e+01   \n",
       "25%     250.750000  2010.000000   100.000000     6.200000  3.630900e+04   \n",
       "50%     500.500000  2014.000000   111.000000     6.800000  1.107990e+05   \n",
       "75%     750.250000  2016.000000   123.000000     7.400000  2.399098e+05   \n",
       "max    1000.000000  2016.000000   191.000000     9.000000  1.791916e+06   \n",
       "\n",
       "       revenue_millions   metascore  \n",
       "count       1000.000000  936.000000  \n",
       "mean          82.956376   58.985043  \n",
       "std           96.412043   17.194757  \n",
       "min            0.000000   11.000000  \n",
       "25%           17.442500   47.000000  \n",
       "50%           60.375000   59.500000  \n",
       "75%           99.177500   72.000000  \n",
       "max          936.630000  100.000000  "
      ]
     },
     "execution_count": 36,
     "metadata": {},
     "output_type": "execute_result"
    }
   ],
   "source": [
    "movies_df.describe()"
   ]
  },
  {
   "cell_type": "markdown",
   "metadata": {},
   "source": [
    "Die Funktion `.describe()` kann auch auf eine kategorische Variable angewendet werden, um die Anzahl der Zeilen, die eindeutige Anzahl der Kategorien, die häufigste Kategorie und die Häufigkeit der obersten Kategorie zu ermitteln:"
   ]
  },
  {
   "cell_type": "code",
   "execution_count": 37,
   "metadata": {},
   "outputs": [
    {
     "data": {
      "text/plain": [
       "count                        1000\n",
       "unique                        207\n",
       "top       Action,Adventure,Sci-Fi\n",
       "freq                           50\n",
       "Name: genre, dtype: object"
      ]
     },
     "execution_count": 37,
     "metadata": {},
     "output_type": "execute_result"
    }
   ],
   "source": [
    "movies_df[\"genre\"].describe()"
   ]
  },
  {
   "cell_type": "markdown",
   "metadata": {},
   "source": [
    "`.value_counts()` veranschaulicht die Häufigkeit der Werte für eine kategorische Spalte:"
   ]
  },
  {
   "cell_type": "code",
   "execution_count": 38,
   "metadata": {},
   "outputs": [
    {
     "data": {
      "text/plain": [
       "Action,Adventure,Sci-Fi       50\n",
       "Drama                         48\n",
       "Comedy,Drama,Romance          35\n",
       "Comedy                        32\n",
       "Drama,Romance                 31\n",
       "Animation,Adventure,Comedy    27\n",
       "Action,Adventure,Fantasy      27\n",
       "Comedy,Drama                  27\n",
       "Comedy,Romance                26\n",
       "Crime,Drama,Thriller          24\n",
       "Name: genre, dtype: int64"
      ]
     },
     "execution_count": 38,
     "metadata": {},
     "output_type": "execute_result"
    }
   ],
   "source": [
    "movies_df[\"genre\"].value_counts().head(10)"
   ]
  },
  {
   "cell_type": "markdown",
   "metadata": {},
   "source": [
    "### 4.6 Veranschaulich von Beziehungen zwischen Variablen"
   ]
  },
  {
   "cell_type": "markdown",
   "metadata": {},
   "source": [
    "Durch die Verwendung der Korrelationsmethode `.corr()` können wir die **Korrelation** zwischen den einzelnen kontinuierlichen Variablen erzeugen:"
   ]
  },
  {
   "cell_type": "code",
   "execution_count": 39,
   "metadata": {},
   "outputs": [
    {
     "data": {
      "text/html": [
       "<div>\n",
       "<style scoped>\n",
       "    .dataframe tbody tr th:only-of-type {\n",
       "        vertical-align: middle;\n",
       "    }\n",
       "\n",
       "    .dataframe tbody tr th {\n",
       "        vertical-align: top;\n",
       "    }\n",
       "\n",
       "    .dataframe thead th {\n",
       "        text-align: right;\n",
       "    }\n",
       "</style>\n",
       "<table border=\"1\" class=\"dataframe\">\n",
       "  <thead>\n",
       "    <tr style=\"text-align: right;\">\n",
       "      <th></th>\n",
       "      <th>rank</th>\n",
       "      <th>year</th>\n",
       "      <th>runtime</th>\n",
       "      <th>rating</th>\n",
       "      <th>votes</th>\n",
       "      <th>revenue_millions</th>\n",
       "      <th>metascore</th>\n",
       "    </tr>\n",
       "  </thead>\n",
       "  <tbody>\n",
       "    <tr>\n",
       "      <th>rank</th>\n",
       "      <td>1.000000</td>\n",
       "      <td>-0.261605</td>\n",
       "      <td>-0.221739</td>\n",
       "      <td>-0.219555</td>\n",
       "      <td>-0.283876</td>\n",
       "      <td>-0.252996</td>\n",
       "      <td>-0.191869</td>\n",
       "    </tr>\n",
       "    <tr>\n",
       "      <th>year</th>\n",
       "      <td>-0.261605</td>\n",
       "      <td>1.000000</td>\n",
       "      <td>-0.164900</td>\n",
       "      <td>-0.211219</td>\n",
       "      <td>-0.411904</td>\n",
       "      <td>-0.117562</td>\n",
       "      <td>-0.079305</td>\n",
       "    </tr>\n",
       "    <tr>\n",
       "      <th>runtime</th>\n",
       "      <td>-0.221739</td>\n",
       "      <td>-0.164900</td>\n",
       "      <td>1.000000</td>\n",
       "      <td>0.392214</td>\n",
       "      <td>0.407062</td>\n",
       "      <td>0.247834</td>\n",
       "      <td>0.211978</td>\n",
       "    </tr>\n",
       "    <tr>\n",
       "      <th>rating</th>\n",
       "      <td>-0.219555</td>\n",
       "      <td>-0.211219</td>\n",
       "      <td>0.392214</td>\n",
       "      <td>1.000000</td>\n",
       "      <td>0.511537</td>\n",
       "      <td>0.189527</td>\n",
       "      <td>0.631897</td>\n",
       "    </tr>\n",
       "    <tr>\n",
       "      <th>votes</th>\n",
       "      <td>-0.283876</td>\n",
       "      <td>-0.411904</td>\n",
       "      <td>0.407062</td>\n",
       "      <td>0.511537</td>\n",
       "      <td>1.000000</td>\n",
       "      <td>0.607941</td>\n",
       "      <td>0.325684</td>\n",
       "    </tr>\n",
       "    <tr>\n",
       "      <th>revenue_millions</th>\n",
       "      <td>-0.252996</td>\n",
       "      <td>-0.117562</td>\n",
       "      <td>0.247834</td>\n",
       "      <td>0.189527</td>\n",
       "      <td>0.607941</td>\n",
       "      <td>1.000000</td>\n",
       "      <td>0.133328</td>\n",
       "    </tr>\n",
       "    <tr>\n",
       "      <th>metascore</th>\n",
       "      <td>-0.191869</td>\n",
       "      <td>-0.079305</td>\n",
       "      <td>0.211978</td>\n",
       "      <td>0.631897</td>\n",
       "      <td>0.325684</td>\n",
       "      <td>0.133328</td>\n",
       "      <td>1.000000</td>\n",
       "    </tr>\n",
       "  </tbody>\n",
       "</table>\n",
       "</div>"
      ],
      "text/plain": [
       "                      rank      year   runtime    rating     votes  \\\n",
       "rank              1.000000 -0.261605 -0.221739 -0.219555 -0.283876   \n",
       "year             -0.261605  1.000000 -0.164900 -0.211219 -0.411904   \n",
       "runtime          -0.221739 -0.164900  1.000000  0.392214  0.407062   \n",
       "rating           -0.219555 -0.211219  0.392214  1.000000  0.511537   \n",
       "votes            -0.283876 -0.411904  0.407062  0.511537  1.000000   \n",
       "revenue_millions -0.252996 -0.117562  0.247834  0.189527  0.607941   \n",
       "metascore        -0.191869 -0.079305  0.211978  0.631897  0.325684   \n",
       "\n",
       "                  revenue_millions  metascore  \n",
       "rank                     -0.252996  -0.191869  \n",
       "year                     -0.117562  -0.079305  \n",
       "runtime                   0.247834   0.211978  \n",
       "rating                    0.189527   0.631897  \n",
       "votes                     0.607941   0.325684  \n",
       "revenue_millions          1.000000   0.133328  \n",
       "metascore                 0.133328   1.000000  "
      ]
     },
     "execution_count": 39,
     "metadata": {},
     "output_type": "execute_result"
    }
   ],
   "source": [
    "movies_df.corr()"
   ]
  },
  {
   "cell_type": "markdown",
   "metadata": {},
   "source": [
    "Korrelationstabellen sind eine numerische Darstellung der bivariaten Beziehungen im Datensatz.\n",
    "\n",
    "Positive Werte bedeuten eine positive Korrelation - der eine Wert steigt, die andere steigt - und negative Zahlen stehen für eine umgekehrte Korrelation - ein Wert steigt, die andere sinkt. 1,0 zeigt eine perfekte Korrelation an. \n",
    "\n",
    "Es gibt anscheinend eine realtiv hohe Korrelation zwischen `votes` and `revenue_millions`. **Frage:** Woran kann das liegen?\n",
    "\n",
    "Die Untersuchung bivariater Beziehungen ist nützlich, wenn Sie ein Ergebnis oder eine abhängige Variable im Auge haben und die Merkmale sehen möchten, die am stärksten mit der Zunahme oder Abnahme des Ergebnisses korrelieren.\n",
    "\n",
    "**Dokumentation:** [`.corr()`](https://pandas.pydata.org/pandas-docs/stable/reference/api/pandas.DataFrame.corr.html)"
   ]
  },
  {
   "cell_type": "markdown",
   "metadata": {},
   "source": [
    "![purple-divider](https://user-images.githubusercontent.com/7065401/52071927-c1cd7100-2562-11e9-908a-dde91ba14e59.png)"
   ]
  },
  {
   "cell_type": "markdown",
   "metadata": {},
   "source": [
    "## 5. DataFrame *slicing, selecting, extracting*\n",
    "\n",
    "Bis jetzt haben wir uns auf einige grundlegende Übersichten und Zusammenfassungen unserer Daten konzentriert. Im Folgenden konzentrieren wir uns auf das Zerlegen, Auswählen und Extrahieren.\n",
    "\n",
    "Es ist zu beachten, dass obwohl viele Methoden gleich sind, DataFrames und Serien unterschiedliche Funktionen haben. Geht also sicher, dass Ihr wisst welche Operation Ihr worauf anwendet."
   ]
  },
  {
   "cell_type": "markdown",
   "metadata": {},
   "source": [
    "#### Auswählen einer Spalte"
   ]
  },
  {
   "cell_type": "code",
   "execution_count": 40,
   "metadata": {},
   "outputs": [
    {
     "data": {
      "text/plain": [
       "pandas.core.series.Series"
      ]
     },
     "execution_count": 40,
     "metadata": {},
     "output_type": "execute_result"
    }
   ],
   "source": [
    "genre_col = movies_df[\"genre\"]\n",
    "# Ausgabe des Datentyps\n",
    "type(genre_col)"
   ]
  },
  {
   "cell_type": "markdown",
   "metadata": {},
   "source": [
    "Dies gibt eine *Serie* zurück. Um eine Spalte als **DataFrame** zu extrahieren, müssen wir eine Liste von Spaltennamen übergeben. In unserem Fall ist das nur eine einzelne Spalte:"
   ]
  },
  {
   "cell_type": "code",
   "execution_count": 41,
   "metadata": {},
   "outputs": [
    {
     "data": {
      "text/plain": [
       "pandas.core.frame.DataFrame"
      ]
     },
     "execution_count": 41,
     "metadata": {},
     "output_type": "execute_result"
    }
   ],
   "source": [
    "genre_col = movies_df[[\"genre\"]]\n",
    "type(genre_col)"
   ]
  },
  {
   "cell_type": "markdown",
   "metadata": {},
   "source": [
    "Da es sich nur um eine Liste handelt, ist das Hinzufügen eines weiteren Spaltennamens einfach:"
   ]
  },
  {
   "cell_type": "code",
   "execution_count": 42,
   "metadata": {},
   "outputs": [
    {
     "data": {
      "text/html": [
       "<div>\n",
       "<style scoped>\n",
       "    .dataframe tbody tr th:only-of-type {\n",
       "        vertical-align: middle;\n",
       "    }\n",
       "\n",
       "    .dataframe tbody tr th {\n",
       "        vertical-align: top;\n",
       "    }\n",
       "\n",
       "    .dataframe thead th {\n",
       "        text-align: right;\n",
       "    }\n",
       "</style>\n",
       "<table border=\"1\" class=\"dataframe\">\n",
       "  <thead>\n",
       "    <tr style=\"text-align: right;\">\n",
       "      <th></th>\n",
       "      <th>genre</th>\n",
       "      <th>rating</th>\n",
       "    </tr>\n",
       "    <tr>\n",
       "      <th>Title</th>\n",
       "      <th></th>\n",
       "      <th></th>\n",
       "    </tr>\n",
       "  </thead>\n",
       "  <tbody>\n",
       "    <tr>\n",
       "      <th>Guardians of the Galaxy</th>\n",
       "      <td>Action,Adventure,Sci-Fi</td>\n",
       "      <td>8.1</td>\n",
       "    </tr>\n",
       "    <tr>\n",
       "      <th>Prometheus</th>\n",
       "      <td>Adventure,Mystery,Sci-Fi</td>\n",
       "      <td>7.0</td>\n",
       "    </tr>\n",
       "    <tr>\n",
       "      <th>Split</th>\n",
       "      <td>Horror,Thriller</td>\n",
       "      <td>7.3</td>\n",
       "    </tr>\n",
       "    <tr>\n",
       "      <th>Sing</th>\n",
       "      <td>Animation,Comedy,Family</td>\n",
       "      <td>7.2</td>\n",
       "    </tr>\n",
       "    <tr>\n",
       "      <th>Suicide Squad</th>\n",
       "      <td>Action,Adventure,Fantasy</td>\n",
       "      <td>6.2</td>\n",
       "    </tr>\n",
       "  </tbody>\n",
       "</table>\n",
       "</div>"
      ],
      "text/plain": [
       "                                            genre  rating\n",
       "Title                                                    \n",
       "Guardians of the Galaxy   Action,Adventure,Sci-Fi     8.1\n",
       "Prometheus               Adventure,Mystery,Sci-Fi     7.0\n",
       "Split                             Horror,Thriller     7.3\n",
       "Sing                      Animation,Comedy,Family     7.2\n",
       "Suicide Squad            Action,Adventure,Fantasy     6.2"
      ]
     },
     "execution_count": 42,
     "metadata": {},
     "output_type": "execute_result"
    }
   ],
   "source": [
    "subset = movies_df[[\"genre\", \"rating\"]]\n",
    "subset.head()"
   ]
  },
  {
   "cell_type": "markdown",
   "metadata": {},
   "source": [
    "Des weiteren gibt es auch die Möglichkeit **Zeilen** bei *Name* und bei *Index* zu selektieren. Hierfür bietet das Element DataFrame zwei unterschiedliche Funktionen:"
   ]
  },
  {
   "cell_type": "markdown",
   "metadata": {},
   "source": [
    "- `.loc` - **loc**ates in Bezug auf den Name der Spalte\n",
    "- `.iloc`- **loc**ates in Bezug auf den Numerischen **I**ndex der Zeile\n",
    "\n",
    "Erinnert Euch, dass wir die Tabelle indexiert haben nach dem Titel. Wenn wir `.loc` verwenden, wird es einen Filmtitel benötigen."
   ]
  },
  {
   "cell_type": "code",
   "execution_count": 43,
   "metadata": {},
   "outputs": [
    {
     "data": {
      "text/plain": [
       "rank                                                                2\n",
       "genre                                        Adventure,Mystery,Sci-Fi\n",
       "description         Following clues to the origin of mankind, a te...\n",
       "director                                                 Ridley Scott\n",
       "actors              Noomi Rapace, Logan Marshall-Green, Michael Fa...\n",
       "year                                                             2012\n",
       "runtime                                                           124\n",
       "rating                                                            7.0\n",
       "votes                                                          485820\n",
       "revenue_millions                                               126.46\n",
       "metascore                                                        65.0\n",
       "Name: Prometheus, dtype: object"
      ]
     },
     "execution_count": 43,
     "metadata": {},
     "output_type": "execute_result"
    }
   ],
   "source": [
    "prom = movies_df.loc[\"Prometheus\"]\n",
    "prom"
   ]
  },
  {
   "cell_type": "markdown",
   "metadata": {},
   "source": [
    "Andererseits können wir über `.iloc` eine bestimmte Zeile auf Basis des numerischen Wertes auswählen."
   ]
  },
  {
   "cell_type": "code",
   "execution_count": 44,
   "metadata": {},
   "outputs": [
    {
     "data": {
      "text/plain": [
       "rank                                                                2\n",
       "genre                                        Adventure,Mystery,Sci-Fi\n",
       "description         Following clues to the origin of mankind, a te...\n",
       "director                                                 Ridley Scott\n",
       "actors              Noomi Rapace, Logan Marshall-Green, Michael Fa...\n",
       "year                                                             2012\n",
       "runtime                                                           124\n",
       "rating                                                            7.0\n",
       "votes                                                          485820\n",
       "revenue_millions                                               126.46\n",
       "metascore                                                        65.0\n",
       "Name: Prometheus, dtype: object"
      ]
     },
     "execution_count": 44,
     "metadata": {},
     "output_type": "execute_result"
    }
   ],
   "source": [
    "prom = movies_df.iloc[1]\n",
    "\n",
    "prom"
   ]
  },
  {
   "cell_type": "markdown",
   "metadata": {},
   "source": [
    "`loc` und `iloc` können im weitesten Sinne ähnlich verwendet werden wie das `list slicing` in Python.\n",
    "\n",
    "**Aufgabe 7:**\n",
    "- Selektiere mit `loc` die Titel `Prometheus` bis `Sing`\n",
    "- Selektiere mit `iloc` die Reihen `1 bis 4`\n",
    "- Selektiere mit `iloc` die Reihen 1 und 2, aber als DataFrame und nicht als Serie\n",
    "\n",
    "**Dokumentation:**\n",
    "- [`iloc`](https://pandas.pydata.org/pandas-docs/stable/reference/api/pandas.DataFrame.iloc.html)\n",
    "- [`loc`](https://pandas.pydata.org/pandas-docs/stable/reference/api/pandas.DataFrame.loc.html)\n",
    "- [`isin`](https://pandas.pydata.org/docs/reference/api/pandas.DataFrame.isin.html)"
   ]
  },
  {
   "cell_type": "code",
   "execution_count": 45,
   "metadata": {},
   "outputs": [],
   "source": [
    "### CODE HERE 7.1###"
   ]
  },
  {
   "cell_type": "code",
   "execution_count": 47,
   "metadata": {},
   "outputs": [],
   "source": [
    "### CODE HERE 7.2###"
   ]
  },
  {
   "cell_type": "code",
   "execution_count": 49,
   "metadata": {},
   "outputs": [],
   "source": [
    "### CODE HERE 7.3###"
   ]
  },
  {
   "cell_type": "markdown",
   "metadata": {},
   "source": [
    "**Aufgabe 8 (Zusatzaufgabe):**\n",
    "- Selektiere alle Reihen mit `loc`, die das Genre `Horror` oder `Comedy` haben\n",
    "- Filtere auf `Genre == Comedy` bzw. `Horror` und selektiere die Spalten `director`, `year`, `rating`, `rating_millions` mit Hilfe von `iloc` oder `loc`"
   ]
  },
  {
   "cell_type": "code",
   "execution_count": 51,
   "metadata": {},
   "outputs": [],
   "source": [
    "### CODE HERE 8.1###"
   ]
  },
  {
   "cell_type": "code",
   "execution_count": 53,
   "metadata": {},
   "outputs": [],
   "source": [
    "### CODE HERE 8.2###"
   ]
  },
  {
   "cell_type": "markdown",
   "metadata": {},
   "source": [
    "#### Bedingte Selektionen\n",
    "\n",
    "In der letzten Fragestellung der vorangegangenen Aufgabe haben wir ja bereits erste bedingte Selektionen vorgenommen. Das können wir noch etwas weiter führen. Was wäre zum Beispiel, wenn wir unseren `movies_df` so filtern , dass nur Filme von `Ridley Scott` angezeigt werden? "
   ]
  },
  {
   "cell_type": "code",
   "execution_count": 55,
   "metadata": {
    "scrolled": true
   },
   "outputs": [
    {
     "data": {
      "text/plain": [
       "Title\n",
       "Guardians of the Galaxy    False\n",
       "Prometheus                  True\n",
       "Split                      False\n",
       "Sing                       False\n",
       "Suicide Squad              False\n",
       "Name: director, dtype: bool"
      ]
     },
     "execution_count": 55,
     "metadata": {},
     "output_type": "execute_result"
    }
   ],
   "source": [
    "condition = movies_df[\"director\"] == \"Ridley Scott\"\n",
    "condition.head()"
   ]
  },
  {
   "cell_type": "markdown",
   "metadata": {},
   "source": [
    "Ähnlich zu `.isnull()`, gibt der Aufruf ene Serie mit `True` und `False` Werten zurück. \n",
    "\n",
    "Nun möchten wir nur die Zeilen selektieren, die tatsächlch Ridley Scott als Direktor des Filmes hatten. Dazu müssen wir die Kondition (==True) in dem DataFrame mit aufnehmen. Übersetzt heißt die Selektion nicht anderes als: \n",
    "> Select movies_df where movies_df director equals Ridley Scott"
   ]
  },
  {
   "cell_type": "code",
   "execution_count": 56,
   "metadata": {},
   "outputs": [
    {
     "data": {
      "text/html": [
       "<div>\n",
       "<style scoped>\n",
       "    .dataframe tbody tr th:only-of-type {\n",
       "        vertical-align: middle;\n",
       "    }\n",
       "\n",
       "    .dataframe tbody tr th {\n",
       "        vertical-align: top;\n",
       "    }\n",
       "\n",
       "    .dataframe thead th {\n",
       "        text-align: right;\n",
       "    }\n",
       "</style>\n",
       "<table border=\"1\" class=\"dataframe\">\n",
       "  <thead>\n",
       "    <tr style=\"text-align: right;\">\n",
       "      <th></th>\n",
       "      <th>rank</th>\n",
       "      <th>genre</th>\n",
       "      <th>description</th>\n",
       "      <th>director</th>\n",
       "      <th>actors</th>\n",
       "      <th>year</th>\n",
       "      <th>runtime</th>\n",
       "      <th>rating</th>\n",
       "      <th>votes</th>\n",
       "      <th>revenue_millions</th>\n",
       "      <th>metascore</th>\n",
       "    </tr>\n",
       "    <tr>\n",
       "      <th>Title</th>\n",
       "      <th></th>\n",
       "      <th></th>\n",
       "      <th></th>\n",
       "      <th></th>\n",
       "      <th></th>\n",
       "      <th></th>\n",
       "      <th></th>\n",
       "      <th></th>\n",
       "      <th></th>\n",
       "      <th></th>\n",
       "      <th></th>\n",
       "    </tr>\n",
       "  </thead>\n",
       "  <tbody>\n",
       "    <tr>\n",
       "      <th>Prometheus</th>\n",
       "      <td>2</td>\n",
       "      <td>Adventure,Mystery,Sci-Fi</td>\n",
       "      <td>Following clues to the origin of mankind, a te...</td>\n",
       "      <td>Ridley Scott</td>\n",
       "      <td>Noomi Rapace, Logan Marshall-Green, Michael Fa...</td>\n",
       "      <td>2012</td>\n",
       "      <td>124</td>\n",
       "      <td>7.0</td>\n",
       "      <td>485820</td>\n",
       "      <td>126.46</td>\n",
       "      <td>65.0</td>\n",
       "    </tr>\n",
       "    <tr>\n",
       "      <th>The Martian</th>\n",
       "      <td>103</td>\n",
       "      <td>Adventure,Drama,Sci-Fi</td>\n",
       "      <td>An astronaut becomes stranded on Mars after hi...</td>\n",
       "      <td>Ridley Scott</td>\n",
       "      <td>Matt Damon, Jessica Chastain, Kristen Wiig, Ka...</td>\n",
       "      <td>2015</td>\n",
       "      <td>144</td>\n",
       "      <td>8.0</td>\n",
       "      <td>556097</td>\n",
       "      <td>228.43</td>\n",
       "      <td>80.0</td>\n",
       "    </tr>\n",
       "    <tr>\n",
       "      <th>Robin Hood</th>\n",
       "      <td>388</td>\n",
       "      <td>Action,Adventure,Drama</td>\n",
       "      <td>In 12th century England, Robin and his band of...</td>\n",
       "      <td>Ridley Scott</td>\n",
       "      <td>Russell Crowe, Cate Blanchett, Matthew Macfady...</td>\n",
       "      <td>2010</td>\n",
       "      <td>140</td>\n",
       "      <td>6.7</td>\n",
       "      <td>221117</td>\n",
       "      <td>105.22</td>\n",
       "      <td>53.0</td>\n",
       "    </tr>\n",
       "    <tr>\n",
       "      <th>American Gangster</th>\n",
       "      <td>471</td>\n",
       "      <td>Biography,Crime,Drama</td>\n",
       "      <td>In 1970s America, a detective works to bring d...</td>\n",
       "      <td>Ridley Scott</td>\n",
       "      <td>Denzel Washington, Russell Crowe, Chiwetel Eji...</td>\n",
       "      <td>2007</td>\n",
       "      <td>157</td>\n",
       "      <td>7.8</td>\n",
       "      <td>337835</td>\n",
       "      <td>130.13</td>\n",
       "      <td>76.0</td>\n",
       "    </tr>\n",
       "    <tr>\n",
       "      <th>Exodus: Gods and Kings</th>\n",
       "      <td>517</td>\n",
       "      <td>Action,Adventure,Drama</td>\n",
       "      <td>The defiant leader Moses rises up against the ...</td>\n",
       "      <td>Ridley Scott</td>\n",
       "      <td>Christian Bale, Joel Edgerton, Ben Kingsley, S...</td>\n",
       "      <td>2014</td>\n",
       "      <td>150</td>\n",
       "      <td>6.0</td>\n",
       "      <td>137299</td>\n",
       "      <td>65.01</td>\n",
       "      <td>52.0</td>\n",
       "    </tr>\n",
       "    <tr>\n",
       "      <th>The Counselor</th>\n",
       "      <td>522</td>\n",
       "      <td>Crime,Drama,Thriller</td>\n",
       "      <td>A lawyer finds himself in over his head when h...</td>\n",
       "      <td>Ridley Scott</td>\n",
       "      <td>Michael Fassbender, Penélope Cruz, Cameron Dia...</td>\n",
       "      <td>2013</td>\n",
       "      <td>117</td>\n",
       "      <td>5.3</td>\n",
       "      <td>84927</td>\n",
       "      <td>16.97</td>\n",
       "      <td>48.0</td>\n",
       "    </tr>\n",
       "    <tr>\n",
       "      <th>A Good Year</th>\n",
       "      <td>531</td>\n",
       "      <td>Comedy,Drama,Romance</td>\n",
       "      <td>A British investment broker inherits his uncle...</td>\n",
       "      <td>Ridley Scott</td>\n",
       "      <td>Russell Crowe, Abbie Cornish, Albert Finney, M...</td>\n",
       "      <td>2006</td>\n",
       "      <td>117</td>\n",
       "      <td>6.9</td>\n",
       "      <td>74674</td>\n",
       "      <td>7.46</td>\n",
       "      <td>47.0</td>\n",
       "    </tr>\n",
       "    <tr>\n",
       "      <th>Body of Lies</th>\n",
       "      <td>738</td>\n",
       "      <td>Action,Drama,Romance</td>\n",
       "      <td>A CIA agent on the ground in Jordan hunts down...</td>\n",
       "      <td>Ridley Scott</td>\n",
       "      <td>Leonardo DiCaprio, Russell Crowe, Mark Strong,...</td>\n",
       "      <td>2008</td>\n",
       "      <td>128</td>\n",
       "      <td>7.1</td>\n",
       "      <td>182305</td>\n",
       "      <td>39.38</td>\n",
       "      <td>57.0</td>\n",
       "    </tr>\n",
       "  </tbody>\n",
       "</table>\n",
       "</div>"
      ],
      "text/plain": [
       "                        rank                     genre  \\\n",
       "Title                                                    \n",
       "Prometheus                 2  Adventure,Mystery,Sci-Fi   \n",
       "The Martian              103    Adventure,Drama,Sci-Fi   \n",
       "Robin Hood               388    Action,Adventure,Drama   \n",
       "American Gangster        471     Biography,Crime,Drama   \n",
       "Exodus: Gods and Kings   517    Action,Adventure,Drama   \n",
       "The Counselor            522      Crime,Drama,Thriller   \n",
       "A Good Year              531      Comedy,Drama,Romance   \n",
       "Body of Lies             738      Action,Drama,Romance   \n",
       "\n",
       "                                                              description  \\\n",
       "Title                                                                       \n",
       "Prometheus              Following clues to the origin of mankind, a te...   \n",
       "The Martian             An astronaut becomes stranded on Mars after hi...   \n",
       "Robin Hood              In 12th century England, Robin and his band of...   \n",
       "American Gangster       In 1970s America, a detective works to bring d...   \n",
       "Exodus: Gods and Kings  The defiant leader Moses rises up against the ...   \n",
       "The Counselor           A lawyer finds himself in over his head when h...   \n",
       "A Good Year             A British investment broker inherits his uncle...   \n",
       "Body of Lies            A CIA agent on the ground in Jordan hunts down...   \n",
       "\n",
       "                            director  \\\n",
       "Title                                  \n",
       "Prometheus              Ridley Scott   \n",
       "The Martian             Ridley Scott   \n",
       "Robin Hood              Ridley Scott   \n",
       "American Gangster       Ridley Scott   \n",
       "Exodus: Gods and Kings  Ridley Scott   \n",
       "The Counselor           Ridley Scott   \n",
       "A Good Year             Ridley Scott   \n",
       "Body of Lies            Ridley Scott   \n",
       "\n",
       "                                                                   actors  \\\n",
       "Title                                                                       \n",
       "Prometheus              Noomi Rapace, Logan Marshall-Green, Michael Fa...   \n",
       "The Martian             Matt Damon, Jessica Chastain, Kristen Wiig, Ka...   \n",
       "Robin Hood              Russell Crowe, Cate Blanchett, Matthew Macfady...   \n",
       "American Gangster       Denzel Washington, Russell Crowe, Chiwetel Eji...   \n",
       "Exodus: Gods and Kings  Christian Bale, Joel Edgerton, Ben Kingsley, S...   \n",
       "The Counselor           Michael Fassbender, Penélope Cruz, Cameron Dia...   \n",
       "A Good Year             Russell Crowe, Abbie Cornish, Albert Finney, M...   \n",
       "Body of Lies            Leonardo DiCaprio, Russell Crowe, Mark Strong,...   \n",
       "\n",
       "                        year  runtime  rating   votes  revenue_millions  \\\n",
       "Title                                                                     \n",
       "Prometheus              2012      124     7.0  485820            126.46   \n",
       "The Martian             2015      144     8.0  556097            228.43   \n",
       "Robin Hood              2010      140     6.7  221117            105.22   \n",
       "American Gangster       2007      157     7.8  337835            130.13   \n",
       "Exodus: Gods and Kings  2014      150     6.0  137299             65.01   \n",
       "The Counselor           2013      117     5.3   84927             16.97   \n",
       "A Good Year             2006      117     6.9   74674              7.46   \n",
       "Body of Lies            2008      128     7.1  182305             39.38   \n",
       "\n",
       "                        metascore  \n",
       "Title                              \n",
       "Prometheus                   65.0  \n",
       "The Martian                  80.0  \n",
       "Robin Hood                   53.0  \n",
       "American Gangster            76.0  \n",
       "Exodus: Gods and Kings       52.0  \n",
       "The Counselor                48.0  \n",
       "A Good Year                  47.0  \n",
       "Body of Lies                 57.0  "
      ]
     },
     "execution_count": 56,
     "metadata": {},
     "output_type": "execute_result"
    }
   ],
   "source": [
    "movies_df[movies_df[\"director\"] == \"Ridley Scott\"]"
   ]
  },
  {
   "cell_type": "markdown",
   "metadata": {},
   "source": [
    "**Aufgabe 9:** \n",
    "- Wie sehe eine Selektion aus, die nur Filme aufnimmt, dessen **Rating** größer bzw. gleich **8.5** sind?\n",
    "- Welche Filme haben dabei einen Umsatz von mehr als **200 Millionen US-Dollar** gemacht?\n",
    "- Da es anscheinend einige sehr erfolgreiche Direktoren gab, gebe einmal alle Filme aus, die entweder **Christopher Nolan oder Ridley Scott** gemacht haben?\n",
    "- **Zusatzaufgabe:** Was sind die Filme, die **zwischen 2005 und 2010** veröffentlicht wurden, ein **Rating >= 8** haben und dabei in den kleinsten 25% (25th Percentile) sind in Bezug auf die gemachten Umsätze?"
   ]
  },
  {
   "cell_type": "code",
   "execution_count": 57,
   "metadata": {},
   "outputs": [],
   "source": [
    "### CODE HERE 9.1###"
   ]
  },
  {
   "cell_type": "code",
   "execution_count": 59,
   "metadata": {},
   "outputs": [],
   "source": [
    "### CODE HERE 9.2###"
   ]
  },
  {
   "cell_type": "code",
   "execution_count": 61,
   "metadata": {},
   "outputs": [],
   "source": [
    "### CODE HERE 9.3###"
   ]
  },
  {
   "cell_type": "code",
   "execution_count": 63,
   "metadata": {},
   "outputs": [],
   "source": [
    "### CODE HERE 9.4###"
   ]
  },
  {
   "cell_type": "markdown",
   "metadata": {},
   "source": [
    "**Ergebnis:** Die letzte Selektion sollte 4 Filme beinhalten."
   ]
  },
  {
   "cell_type": "markdown",
   "metadata": {},
   "source": [
    "![purple-divider](https://user-images.githubusercontent.com/7065401/52071927-c1cd7100-2562-11e9-908a-dde91ba14e59.png)"
   ]
  },
  {
   "cell_type": "markdown",
   "metadata": {},
   "source": [
    "## 6. Anwendung von Funktionen auf das Datenset\n",
    "\n",
    "Es ist möglich bei Iterationen über DataFrame und Serien Funktionen anzuwenden. Dabei sollten performante Funktionen gewählt werden. Über große Datenmengen Schleifen, If-Statements, ect. zu verwenden ist sehr langsam.\n",
    "\n",
    "Hierfür gibt es alternative, effiziente Funktionen - zum Beispiel die Funktion `apply()`. Lasst und diese Funktion einmal in der Dokumentation ansehen und anschließend dafür ein Beispiel definieren.\n",
    "\n",
    "**Dokumentation**: https://pandas.pydata.org/pandas-docs/stable/reference/api/pandas.DataFrame.apply.html"
   ]
  },
  {
   "cell_type": "markdown",
   "metadata": {},
   "source": [
    "```python\n",
    "# pandas.DataFrame.apply\n",
    "DataFrame.apply(func, axis=0, raw=False, result_type=None, args=(), **kwds)\n",
    "```"
   ]
  },
  {
   "cell_type": "markdown",
   "metadata": {},
   "source": [
    "- `func` erlaubt eine Funktion für den DataFrame zu übergeben\n",
    "- `axis` gibt an, ob die Funktion auf Spalte oder auf Zeilen angewendet werden soll\n",
    "- `raw` erlaubt es die Zeilen nicht als `Series` zu übergeben, sondern als `ndarray objects`\n",
    "- ..."
   ]
  },
  {
   "cell_type": "markdown",
   "metadata": {},
   "source": [
    "\n",
    "**Beispiel:** Wir würden gerne eine Funktion schreiben, um die Kategorie der Ratings weiter abstrahieren in gute und schlechte Filme."
   ]
  },
  {
   "cell_type": "code",
   "execution_count": 65,
   "metadata": {},
   "outputs": [],
   "source": [
    "def rating_function(x):\n",
    "    if x >= 8.0:\n",
    "        return \"1\"\n",
    "    else:\n",
    "        return \"0\""
   ]
  },
  {
   "cell_type": "markdown",
   "metadata": {},
   "source": [
    "Nun wollen wir die gesamte Bewertungsspalte durch diese Funktion schicken, was durch `apply()` geschieht:"
   ]
  },
  {
   "cell_type": "code",
   "execution_count": 66,
   "metadata": {
    "tags": []
   },
   "outputs": [
    {
     "data": {
      "text/html": [
       "<div>\n",
       "<style scoped>\n",
       "    .dataframe tbody tr th:only-of-type {\n",
       "        vertical-align: middle;\n",
       "    }\n",
       "\n",
       "    .dataframe tbody tr th {\n",
       "        vertical-align: top;\n",
       "    }\n",
       "\n",
       "    .dataframe thead th {\n",
       "        text-align: right;\n",
       "    }\n",
       "</style>\n",
       "<table border=\"1\" class=\"dataframe\">\n",
       "  <thead>\n",
       "    <tr style=\"text-align: right;\">\n",
       "      <th></th>\n",
       "      <th>rank</th>\n",
       "      <th>genre</th>\n",
       "      <th>description</th>\n",
       "      <th>director</th>\n",
       "      <th>actors</th>\n",
       "      <th>year</th>\n",
       "      <th>runtime</th>\n",
       "      <th>rating</th>\n",
       "      <th>votes</th>\n",
       "      <th>revenue_millions</th>\n",
       "      <th>metascore</th>\n",
       "      <th>rating_category</th>\n",
       "    </tr>\n",
       "    <tr>\n",
       "      <th>Title</th>\n",
       "      <th></th>\n",
       "      <th></th>\n",
       "      <th></th>\n",
       "      <th></th>\n",
       "      <th></th>\n",
       "      <th></th>\n",
       "      <th></th>\n",
       "      <th></th>\n",
       "      <th></th>\n",
       "      <th></th>\n",
       "      <th></th>\n",
       "      <th></th>\n",
       "    </tr>\n",
       "  </thead>\n",
       "  <tbody>\n",
       "    <tr>\n",
       "      <th>Guardians of the Galaxy</th>\n",
       "      <td>1</td>\n",
       "      <td>Action,Adventure,Sci-Fi</td>\n",
       "      <td>A group of intergalactic criminals are forced ...</td>\n",
       "      <td>James Gunn</td>\n",
       "      <td>Chris Pratt, Vin Diesel, Bradley Cooper, Zoe S...</td>\n",
       "      <td>2014</td>\n",
       "      <td>121</td>\n",
       "      <td>8.1</td>\n",
       "      <td>757074</td>\n",
       "      <td>333.13</td>\n",
       "      <td>76.0</td>\n",
       "      <td>1</td>\n",
       "    </tr>\n",
       "    <tr>\n",
       "      <th>Prometheus</th>\n",
       "      <td>2</td>\n",
       "      <td>Adventure,Mystery,Sci-Fi</td>\n",
       "      <td>Following clues to the origin of mankind, a te...</td>\n",
       "      <td>Ridley Scott</td>\n",
       "      <td>Noomi Rapace, Logan Marshall-Green, Michael Fa...</td>\n",
       "      <td>2012</td>\n",
       "      <td>124</td>\n",
       "      <td>7.0</td>\n",
       "      <td>485820</td>\n",
       "      <td>126.46</td>\n",
       "      <td>65.0</td>\n",
       "      <td>0</td>\n",
       "    </tr>\n",
       "    <tr>\n",
       "      <th>Split</th>\n",
       "      <td>3</td>\n",
       "      <td>Horror,Thriller</td>\n",
       "      <td>Three girls are kidnapped by a man with a diag...</td>\n",
       "      <td>M. Night Shyamalan</td>\n",
       "      <td>James McAvoy, Anya Taylor-Joy, Haley Lu Richar...</td>\n",
       "      <td>2016</td>\n",
       "      <td>117</td>\n",
       "      <td>7.3</td>\n",
       "      <td>157606</td>\n",
       "      <td>138.12</td>\n",
       "      <td>62.0</td>\n",
       "      <td>0</td>\n",
       "    </tr>\n",
       "    <tr>\n",
       "      <th>Sing</th>\n",
       "      <td>4</td>\n",
       "      <td>Animation,Comedy,Family</td>\n",
       "      <td>In a city of humanoid animals, a hustling thea...</td>\n",
       "      <td>Christophe Lourdelet</td>\n",
       "      <td>Matthew McConaughey,Reese Witherspoon, Seth Ma...</td>\n",
       "      <td>2016</td>\n",
       "      <td>108</td>\n",
       "      <td>7.2</td>\n",
       "      <td>60545</td>\n",
       "      <td>270.32</td>\n",
       "      <td>59.0</td>\n",
       "      <td>0</td>\n",
       "    </tr>\n",
       "    <tr>\n",
       "      <th>Suicide Squad</th>\n",
       "      <td>5</td>\n",
       "      <td>Action,Adventure,Fantasy</td>\n",
       "      <td>A secret government agency recruits some of th...</td>\n",
       "      <td>David Ayer</td>\n",
       "      <td>Will Smith, Jared Leto, Margot Robbie, Viola D...</td>\n",
       "      <td>2016</td>\n",
       "      <td>123</td>\n",
       "      <td>6.2</td>\n",
       "      <td>393727</td>\n",
       "      <td>325.02</td>\n",
       "      <td>40.0</td>\n",
       "      <td>0</td>\n",
       "    </tr>\n",
       "  </tbody>\n",
       "</table>\n",
       "</div>"
      ],
      "text/plain": [
       "                         rank                     genre  \\\n",
       "Title                                                     \n",
       "Guardians of the Galaxy     1   Action,Adventure,Sci-Fi   \n",
       "Prometheus                  2  Adventure,Mystery,Sci-Fi   \n",
       "Split                       3           Horror,Thriller   \n",
       "Sing                        4   Animation,Comedy,Family   \n",
       "Suicide Squad               5  Action,Adventure,Fantasy   \n",
       "\n",
       "                                                               description  \\\n",
       "Title                                                                        \n",
       "Guardians of the Galaxy  A group of intergalactic criminals are forced ...   \n",
       "Prometheus               Following clues to the origin of mankind, a te...   \n",
       "Split                    Three girls are kidnapped by a man with a diag...   \n",
       "Sing                     In a city of humanoid animals, a hustling thea...   \n",
       "Suicide Squad            A secret government agency recruits some of th...   \n",
       "\n",
       "                                     director  \\\n",
       "Title                                           \n",
       "Guardians of the Galaxy            James Gunn   \n",
       "Prometheus                       Ridley Scott   \n",
       "Split                      M. Night Shyamalan   \n",
       "Sing                     Christophe Lourdelet   \n",
       "Suicide Squad                      David Ayer   \n",
       "\n",
       "                                                                    actors  \\\n",
       "Title                                                                        \n",
       "Guardians of the Galaxy  Chris Pratt, Vin Diesel, Bradley Cooper, Zoe S...   \n",
       "Prometheus               Noomi Rapace, Logan Marshall-Green, Michael Fa...   \n",
       "Split                    James McAvoy, Anya Taylor-Joy, Haley Lu Richar...   \n",
       "Sing                     Matthew McConaughey,Reese Witherspoon, Seth Ma...   \n",
       "Suicide Squad            Will Smith, Jared Leto, Margot Robbie, Viola D...   \n",
       "\n",
       "                         year  runtime  rating   votes  revenue_millions  \\\n",
       "Title                                                                      \n",
       "Guardians of the Galaxy  2014      121     8.1  757074            333.13   \n",
       "Prometheus               2012      124     7.0  485820            126.46   \n",
       "Split                    2016      117     7.3  157606            138.12   \n",
       "Sing                     2016      108     7.2   60545            270.32   \n",
       "Suicide Squad            2016      123     6.2  393727            325.02   \n",
       "\n",
       "                         metascore rating_category  \n",
       "Title                                               \n",
       "Guardians of the Galaxy       76.0               1  \n",
       "Prometheus                    65.0               0  \n",
       "Split                         62.0               0  \n",
       "Sing                          59.0               0  \n",
       "Suicide Squad                 40.0               0  "
      ]
     },
     "execution_count": 66,
     "metadata": {},
     "output_type": "execute_result"
    }
   ],
   "source": [
    "movies_df[\"rating_category\"] = movies_df[\"rating\"].apply(rating_function)\n",
    "movies_df.head(5)"
   ]
  },
  {
   "cell_type": "markdown",
   "metadata": {},
   "source": [
    "Die Methode `.apply()` übergibt jeden Wert in der Spalte `Rating` durch die `rating_function` und gibt dann eine neue Serie zurück. Diese Serie wird dann einer neuen Spalte namens \"rating_category\" zugewiesen.\n",
    "\n",
    "Ihr könnt auch [anonyme / lambda Funktionen](https://www.programiz.com/python-programming/anonymous-function) verwenden. Diese Lambda-Funktion erzielt das gleiche Ergebnis wie `rating_function`:"
   ]
  },
  {
   "cell_type": "code",
   "execution_count": 67,
   "metadata": {},
   "outputs": [
    {
     "data": {
      "text/html": [
       "<div>\n",
       "<style scoped>\n",
       "    .dataframe tbody tr th:only-of-type {\n",
       "        vertical-align: middle;\n",
       "    }\n",
       "\n",
       "    .dataframe tbody tr th {\n",
       "        vertical-align: top;\n",
       "    }\n",
       "\n",
       "    .dataframe thead th {\n",
       "        text-align: right;\n",
       "    }\n",
       "</style>\n",
       "<table border=\"1\" class=\"dataframe\">\n",
       "  <thead>\n",
       "    <tr style=\"text-align: right;\">\n",
       "      <th></th>\n",
       "      <th>rank</th>\n",
       "      <th>genre</th>\n",
       "      <th>description</th>\n",
       "      <th>director</th>\n",
       "      <th>actors</th>\n",
       "      <th>year</th>\n",
       "      <th>runtime</th>\n",
       "      <th>rating</th>\n",
       "      <th>votes</th>\n",
       "      <th>revenue_millions</th>\n",
       "      <th>metascore</th>\n",
       "      <th>rating_category</th>\n",
       "    </tr>\n",
       "    <tr>\n",
       "      <th>Title</th>\n",
       "      <th></th>\n",
       "      <th></th>\n",
       "      <th></th>\n",
       "      <th></th>\n",
       "      <th></th>\n",
       "      <th></th>\n",
       "      <th></th>\n",
       "      <th></th>\n",
       "      <th></th>\n",
       "      <th></th>\n",
       "      <th></th>\n",
       "      <th></th>\n",
       "    </tr>\n",
       "  </thead>\n",
       "  <tbody>\n",
       "    <tr>\n",
       "      <th>Guardians of the Galaxy</th>\n",
       "      <td>1</td>\n",
       "      <td>Action,Adventure,Sci-Fi</td>\n",
       "      <td>A group of intergalactic criminals are forced ...</td>\n",
       "      <td>James Gunn</td>\n",
       "      <td>Chris Pratt, Vin Diesel, Bradley Cooper, Zoe S...</td>\n",
       "      <td>2014</td>\n",
       "      <td>121</td>\n",
       "      <td>8.1</td>\n",
       "      <td>757074</td>\n",
       "      <td>333.13</td>\n",
       "      <td>76.0</td>\n",
       "      <td>good</td>\n",
       "    </tr>\n",
       "    <tr>\n",
       "      <th>Prometheus</th>\n",
       "      <td>2</td>\n",
       "      <td>Adventure,Mystery,Sci-Fi</td>\n",
       "      <td>Following clues to the origin of mankind, a te...</td>\n",
       "      <td>Ridley Scott</td>\n",
       "      <td>Noomi Rapace, Logan Marshall-Green, Michael Fa...</td>\n",
       "      <td>2012</td>\n",
       "      <td>124</td>\n",
       "      <td>7.0</td>\n",
       "      <td>485820</td>\n",
       "      <td>126.46</td>\n",
       "      <td>65.0</td>\n",
       "      <td>bad</td>\n",
       "    </tr>\n",
       "  </tbody>\n",
       "</table>\n",
       "</div>"
      ],
      "text/plain": [
       "                         rank                     genre  \\\n",
       "Title                                                     \n",
       "Guardians of the Galaxy     1   Action,Adventure,Sci-Fi   \n",
       "Prometheus                  2  Adventure,Mystery,Sci-Fi   \n",
       "\n",
       "                                                               description  \\\n",
       "Title                                                                        \n",
       "Guardians of the Galaxy  A group of intergalactic criminals are forced ...   \n",
       "Prometheus               Following clues to the origin of mankind, a te...   \n",
       "\n",
       "                             director  \\\n",
       "Title                                   \n",
       "Guardians of the Galaxy    James Gunn   \n",
       "Prometheus               Ridley Scott   \n",
       "\n",
       "                                                                    actors  \\\n",
       "Title                                                                        \n",
       "Guardians of the Galaxy  Chris Pratt, Vin Diesel, Bradley Cooper, Zoe S...   \n",
       "Prometheus               Noomi Rapace, Logan Marshall-Green, Michael Fa...   \n",
       "\n",
       "                         year  runtime  rating   votes  revenue_millions  \\\n",
       "Title                                                                      \n",
       "Guardians of the Galaxy  2014      121     8.1  757074            333.13   \n",
       "Prometheus               2012      124     7.0  485820            126.46   \n",
       "\n",
       "                         metascore rating_category  \n",
       "Title                                               \n",
       "Guardians of the Galaxy       76.0            good  \n",
       "Prometheus                    65.0             bad  "
      ]
     },
     "execution_count": 67,
     "metadata": {},
     "output_type": "execute_result"
    }
   ],
   "source": [
    "movies_df[\"rating_category\"] = movies_df[\"rating\"].apply(\n",
    "    lambda x: \"good\" if x >= 8.0 else \"bad\"\n",
    ")\n",
    "movies_df.head(2)"
   ]
  },
  {
   "cell_type": "markdown",
   "metadata": {},
   "source": [
    "**Wir können auch Funktionen anwenden, die weitere Argumente aufnimmt:**"
   ]
  },
  {
   "cell_type": "code",
   "execution_count": 68,
   "metadata": {},
   "outputs": [],
   "source": [
    "def between_range(x, lower, higher):\n",
    "    return lower <= x <= higher"
   ]
  },
  {
   "cell_type": "markdown",
   "metadata": {},
   "source": [
    "**Alle Filme zwischen 2010 und 2020:**"
   ]
  },
  {
   "cell_type": "code",
   "execution_count": 69,
   "metadata": {
    "tags": []
   },
   "outputs": [
    {
     "data": {
      "text/html": [
       "<div>\n",
       "<style scoped>\n",
       "    .dataframe tbody tr th:only-of-type {\n",
       "        vertical-align: middle;\n",
       "    }\n",
       "\n",
       "    .dataframe tbody tr th {\n",
       "        vertical-align: top;\n",
       "    }\n",
       "\n",
       "    .dataframe thead th {\n",
       "        text-align: right;\n",
       "    }\n",
       "</style>\n",
       "<table border=\"1\" class=\"dataframe\">\n",
       "  <thead>\n",
       "    <tr style=\"text-align: right;\">\n",
       "      <th></th>\n",
       "      <th>rank</th>\n",
       "      <th>genre</th>\n",
       "      <th>description</th>\n",
       "      <th>director</th>\n",
       "      <th>actors</th>\n",
       "      <th>year</th>\n",
       "      <th>runtime</th>\n",
       "      <th>rating</th>\n",
       "      <th>votes</th>\n",
       "      <th>revenue_millions</th>\n",
       "      <th>metascore</th>\n",
       "      <th>rating_category</th>\n",
       "      <th>in_range</th>\n",
       "    </tr>\n",
       "    <tr>\n",
       "      <th>Title</th>\n",
       "      <th></th>\n",
       "      <th></th>\n",
       "      <th></th>\n",
       "      <th></th>\n",
       "      <th></th>\n",
       "      <th></th>\n",
       "      <th></th>\n",
       "      <th></th>\n",
       "      <th></th>\n",
       "      <th></th>\n",
       "      <th></th>\n",
       "      <th></th>\n",
       "      <th></th>\n",
       "    </tr>\n",
       "  </thead>\n",
       "  <tbody>\n",
       "    <tr>\n",
       "      <th>Guardians of the Galaxy</th>\n",
       "      <td>1</td>\n",
       "      <td>Action,Adventure,Sci-Fi</td>\n",
       "      <td>A group of intergalactic criminals are forced ...</td>\n",
       "      <td>James Gunn</td>\n",
       "      <td>Chris Pratt, Vin Diesel, Bradley Cooper, Zoe S...</td>\n",
       "      <td>2014</td>\n",
       "      <td>121</td>\n",
       "      <td>8.1</td>\n",
       "      <td>757074</td>\n",
       "      <td>333.130000</td>\n",
       "      <td>76.0</td>\n",
       "      <td>good</td>\n",
       "      <td>False</td>\n",
       "    </tr>\n",
       "    <tr>\n",
       "      <th>Prometheus</th>\n",
       "      <td>2</td>\n",
       "      <td>Adventure,Mystery,Sci-Fi</td>\n",
       "      <td>Following clues to the origin of mankind, a te...</td>\n",
       "      <td>Ridley Scott</td>\n",
       "      <td>Noomi Rapace, Logan Marshall-Green, Michael Fa...</td>\n",
       "      <td>2012</td>\n",
       "      <td>124</td>\n",
       "      <td>7.0</td>\n",
       "      <td>485820</td>\n",
       "      <td>126.460000</td>\n",
       "      <td>65.0</td>\n",
       "      <td>bad</td>\n",
       "      <td>False</td>\n",
       "    </tr>\n",
       "    <tr>\n",
       "      <th>Split</th>\n",
       "      <td>3</td>\n",
       "      <td>Horror,Thriller</td>\n",
       "      <td>Three girls are kidnapped by a man with a diag...</td>\n",
       "      <td>M. Night Shyamalan</td>\n",
       "      <td>James McAvoy, Anya Taylor-Joy, Haley Lu Richar...</td>\n",
       "      <td>2016</td>\n",
       "      <td>117</td>\n",
       "      <td>7.3</td>\n",
       "      <td>157606</td>\n",
       "      <td>138.120000</td>\n",
       "      <td>62.0</td>\n",
       "      <td>bad</td>\n",
       "      <td>True</td>\n",
       "    </tr>\n",
       "    <tr>\n",
       "      <th>Sing</th>\n",
       "      <td>4</td>\n",
       "      <td>Animation,Comedy,Family</td>\n",
       "      <td>In a city of humanoid animals, a hustling thea...</td>\n",
       "      <td>Christophe Lourdelet</td>\n",
       "      <td>Matthew McConaughey,Reese Witherspoon, Seth Ma...</td>\n",
       "      <td>2016</td>\n",
       "      <td>108</td>\n",
       "      <td>7.2</td>\n",
       "      <td>60545</td>\n",
       "      <td>270.320000</td>\n",
       "      <td>59.0</td>\n",
       "      <td>bad</td>\n",
       "      <td>True</td>\n",
       "    </tr>\n",
       "    <tr>\n",
       "      <th>Suicide Squad</th>\n",
       "      <td>5</td>\n",
       "      <td>Action,Adventure,Fantasy</td>\n",
       "      <td>A secret government agency recruits some of th...</td>\n",
       "      <td>David Ayer</td>\n",
       "      <td>Will Smith, Jared Leto, Margot Robbie, Viola D...</td>\n",
       "      <td>2016</td>\n",
       "      <td>123</td>\n",
       "      <td>6.2</td>\n",
       "      <td>393727</td>\n",
       "      <td>325.020000</td>\n",
       "      <td>40.0</td>\n",
       "      <td>bad</td>\n",
       "      <td>True</td>\n",
       "    </tr>\n",
       "    <tr>\n",
       "      <th>The Great Wall</th>\n",
       "      <td>6</td>\n",
       "      <td>Action,Adventure,Fantasy</td>\n",
       "      <td>European mercenaries searching for black powde...</td>\n",
       "      <td>Yimou Zhang</td>\n",
       "      <td>Matt Damon, Tian Jing, Willem Dafoe, Andy Lau</td>\n",
       "      <td>2016</td>\n",
       "      <td>103</td>\n",
       "      <td>6.1</td>\n",
       "      <td>56036</td>\n",
       "      <td>45.130000</td>\n",
       "      <td>42.0</td>\n",
       "      <td>bad</td>\n",
       "      <td>True</td>\n",
       "    </tr>\n",
       "    <tr>\n",
       "      <th>La La Land</th>\n",
       "      <td>7</td>\n",
       "      <td>Comedy,Drama,Music</td>\n",
       "      <td>A jazz pianist falls for an aspiring actress i...</td>\n",
       "      <td>Damien Chazelle</td>\n",
       "      <td>Ryan Gosling, Emma Stone, Rosemarie DeWitt, J....</td>\n",
       "      <td>2016</td>\n",
       "      <td>128</td>\n",
       "      <td>8.3</td>\n",
       "      <td>258682</td>\n",
       "      <td>151.060000</td>\n",
       "      <td>93.0</td>\n",
       "      <td>good</td>\n",
       "      <td>True</td>\n",
       "    </tr>\n",
       "    <tr>\n",
       "      <th>Mindhorn</th>\n",
       "      <td>8</td>\n",
       "      <td>Comedy</td>\n",
       "      <td>A has-been actor best known for playing the ti...</td>\n",
       "      <td>Sean Foley</td>\n",
       "      <td>Essie Davis, Andrea Riseborough, Julian Barrat...</td>\n",
       "      <td>2016</td>\n",
       "      <td>89</td>\n",
       "      <td>6.4</td>\n",
       "      <td>2490</td>\n",
       "      <td>82.956376</td>\n",
       "      <td>71.0</td>\n",
       "      <td>bad</td>\n",
       "      <td>True</td>\n",
       "    </tr>\n",
       "    <tr>\n",
       "      <th>The Lost City of Z</th>\n",
       "      <td>9</td>\n",
       "      <td>Action,Adventure,Biography</td>\n",
       "      <td>A true-life drama, centering on British explor...</td>\n",
       "      <td>James Gray</td>\n",
       "      <td>Charlie Hunnam, Robert Pattinson, Sienna Mille...</td>\n",
       "      <td>2016</td>\n",
       "      <td>141</td>\n",
       "      <td>7.1</td>\n",
       "      <td>7188</td>\n",
       "      <td>8.010000</td>\n",
       "      <td>78.0</td>\n",
       "      <td>bad</td>\n",
       "      <td>True</td>\n",
       "    </tr>\n",
       "    <tr>\n",
       "      <th>Passengers</th>\n",
       "      <td>10</td>\n",
       "      <td>Adventure,Drama,Romance</td>\n",
       "      <td>A spacecraft traveling to a distant colony pla...</td>\n",
       "      <td>Morten Tyldum</td>\n",
       "      <td>Jennifer Lawrence, Chris Pratt, Michael Sheen,...</td>\n",
       "      <td>2016</td>\n",
       "      <td>116</td>\n",
       "      <td>7.0</td>\n",
       "      <td>192177</td>\n",
       "      <td>100.010000</td>\n",
       "      <td>41.0</td>\n",
       "      <td>bad</td>\n",
       "      <td>True</td>\n",
       "    </tr>\n",
       "  </tbody>\n",
       "</table>\n",
       "</div>"
      ],
      "text/plain": [
       "                         rank                       genre  \\\n",
       "Title                                                       \n",
       "Guardians of the Galaxy     1     Action,Adventure,Sci-Fi   \n",
       "Prometheus                  2    Adventure,Mystery,Sci-Fi   \n",
       "Split                       3             Horror,Thriller   \n",
       "Sing                        4     Animation,Comedy,Family   \n",
       "Suicide Squad               5    Action,Adventure,Fantasy   \n",
       "The Great Wall              6    Action,Adventure,Fantasy   \n",
       "La La Land                  7          Comedy,Drama,Music   \n",
       "Mindhorn                    8                      Comedy   \n",
       "The Lost City of Z          9  Action,Adventure,Biography   \n",
       "Passengers                 10     Adventure,Drama,Romance   \n",
       "\n",
       "                                                               description  \\\n",
       "Title                                                                        \n",
       "Guardians of the Galaxy  A group of intergalactic criminals are forced ...   \n",
       "Prometheus               Following clues to the origin of mankind, a te...   \n",
       "Split                    Three girls are kidnapped by a man with a diag...   \n",
       "Sing                     In a city of humanoid animals, a hustling thea...   \n",
       "Suicide Squad            A secret government agency recruits some of th...   \n",
       "The Great Wall           European mercenaries searching for black powde...   \n",
       "La La Land               A jazz pianist falls for an aspiring actress i...   \n",
       "Mindhorn                 A has-been actor best known for playing the ti...   \n",
       "The Lost City of Z       A true-life drama, centering on British explor...   \n",
       "Passengers               A spacecraft traveling to a distant colony pla...   \n",
       "\n",
       "                                     director  \\\n",
       "Title                                           \n",
       "Guardians of the Galaxy            James Gunn   \n",
       "Prometheus                       Ridley Scott   \n",
       "Split                      M. Night Shyamalan   \n",
       "Sing                     Christophe Lourdelet   \n",
       "Suicide Squad                      David Ayer   \n",
       "The Great Wall                    Yimou Zhang   \n",
       "La La Land                    Damien Chazelle   \n",
       "Mindhorn                           Sean Foley   \n",
       "The Lost City of Z                 James Gray   \n",
       "Passengers                      Morten Tyldum   \n",
       "\n",
       "                                                                    actors  \\\n",
       "Title                                                                        \n",
       "Guardians of the Galaxy  Chris Pratt, Vin Diesel, Bradley Cooper, Zoe S...   \n",
       "Prometheus               Noomi Rapace, Logan Marshall-Green, Michael Fa...   \n",
       "Split                    James McAvoy, Anya Taylor-Joy, Haley Lu Richar...   \n",
       "Sing                     Matthew McConaughey,Reese Witherspoon, Seth Ma...   \n",
       "Suicide Squad            Will Smith, Jared Leto, Margot Robbie, Viola D...   \n",
       "The Great Wall               Matt Damon, Tian Jing, Willem Dafoe, Andy Lau   \n",
       "La La Land               Ryan Gosling, Emma Stone, Rosemarie DeWitt, J....   \n",
       "Mindhorn                 Essie Davis, Andrea Riseborough, Julian Barrat...   \n",
       "The Lost City of Z       Charlie Hunnam, Robert Pattinson, Sienna Mille...   \n",
       "Passengers               Jennifer Lawrence, Chris Pratt, Michael Sheen,...   \n",
       "\n",
       "                         year  runtime  rating   votes  revenue_millions  \\\n",
       "Title                                                                      \n",
       "Guardians of the Galaxy  2014      121     8.1  757074        333.130000   \n",
       "Prometheus               2012      124     7.0  485820        126.460000   \n",
       "Split                    2016      117     7.3  157606        138.120000   \n",
       "Sing                     2016      108     7.2   60545        270.320000   \n",
       "Suicide Squad            2016      123     6.2  393727        325.020000   \n",
       "The Great Wall           2016      103     6.1   56036         45.130000   \n",
       "La La Land               2016      128     8.3  258682        151.060000   \n",
       "Mindhorn                 2016       89     6.4    2490         82.956376   \n",
       "The Lost City of Z       2016      141     7.1    7188          8.010000   \n",
       "Passengers               2016      116     7.0  192177        100.010000   \n",
       "\n",
       "                         metascore rating_category  in_range  \n",
       "Title                                                         \n",
       "Guardians of the Galaxy       76.0            good     False  \n",
       "Prometheus                    65.0             bad     False  \n",
       "Split                         62.0             bad      True  \n",
       "Sing                          59.0             bad      True  \n",
       "Suicide Squad                 40.0             bad      True  \n",
       "The Great Wall                42.0             bad      True  \n",
       "La La Land                    93.0            good      True  \n",
       "Mindhorn                      71.0             bad      True  \n",
       "The Lost City of Z            78.0             bad      True  \n",
       "Passengers                    41.0             bad      True  "
      ]
     },
     "execution_count": 69,
     "metadata": {},
     "output_type": "execute_result"
    }
   ],
   "source": [
    "movies_df[\"in_range\"] = movies_df[\"year\"].apply(between_range, args=(2015, 2020))\n",
    "movies_df.head(10)"
   ]
  },
  {
   "cell_type": "markdown",
   "metadata": {},
   "source": [
    "Ihr solltet immer versuchen Funktionen wie `.apply()` zu verwenden, weil Pandas hier Elemente von Numpy und Vector-Operationen nutzt.\n",
    "\n",
    "> Vektorisierung: Eine Art der Computerprogrammierung, bei der Operationen auf ganze Arrays statt auf einzelne Elemente angewendet werden — [Array Programming](https://en.wikipedia.org/wiki/Array_programming)"
   ]
  },
  {
   "cell_type": "markdown",
   "metadata": {},
   "source": [
    "![purple-divider](https://user-images.githubusercontent.com/7065401/52071927-c1cd7100-2562-11e9-908a-dde91ba14e59.png)"
   ]
  },
  {
   "cell_type": "markdown",
   "metadata": {},
   "source": [
    "## 7. Über ein Datenset iterieren"
   ]
  },
  {
   "cell_type": "markdown",
   "metadata": {},
   "source": [
    "Es gibt auch einige Möglichkeiten über Datensets zu iterieren, welche aber etwas langsamer sind als Vektoroperationen wie z. B. `.apply()`."
   ]
  },
  {
   "cell_type": "markdown",
   "metadata": {},
   "source": [
    "Die erste Methode, um über einen DataFrame zu iterieren, ist die Verwendung von Pandas [`.iterrows()`](https://pandas.pydata.org/docs/reference/api/pandas.DataFrame.iterrows.html), die über den DataFrame mit Hilfe von **Index + Zeile** iteriert.\n",
    "\n",
    "Nach dem Aufruf von **.iterrows()** auf dem DataFrame erhalten wir Zugriff auf den Index, der  Bezeichnung der Zeile und auf die Zeile selbst, die dann als `Series` zur Verfügung gestellt wird."
   ]
  },
  {
   "cell_type": "code",
   "execution_count": 70,
   "metadata": {},
   "outputs": [
    {
     "name": "stdout",
     "output_type": "stream",
     "text": [
      "Index: Prometheus, Genre: Adventure,Mystery,Sci-Fi\n",
      "Index: Split, Genre: Horror,Thriller\n",
      "Index: Sing, Genre: Animation,Comedy,Family\n",
      "Index: Suicide Squad, Genre: Action,Adventure,Fantasy\n"
     ]
    }
   ],
   "source": [
    "for index, row in movies_df[1:5].iterrows():\n",
    "    print(f'Index: {index}, Genre: {row[\"genre\"]}')"
   ]
  },
  {
   "cell_type": "markdown",
   "metadata": {},
   "source": [
    "Eine weitere Möglichkeit ist `DataFrame.itertuples()`, welches ein Tuple mit Name und die Werte der jeweiligen Zeile wiedergibt. \n",
    "\n",
    "**Dokumentation:** https://pandas.pydata.org/docs/reference/api/pandas.DataFrame.itertuples.html"
   ]
  },
  {
   "cell_type": "code",
   "execution_count": 71,
   "metadata": {},
   "outputs": [
    {
     "name": "stdout",
     "output_type": "stream",
     "text": [
      "(Film, Genre): Prometheus - Adventure,Mystery,Sci-Fi\n",
      "(Film, Genre): Split - Horror,Thriller\n",
      "(Film, Genre): Sing - Animation,Comedy,Family\n",
      "(Film, Genre): Suicide Squad - Action,Adventure,Fantasy\n"
     ]
    }
   ],
   "source": [
    "for row in movies_df[1:5].itertuples():\n",
    "    print(f\"(Film, Genre): {row[0]} - {row.genre}\")"
   ]
  },
  {
   "cell_type": "markdown",
   "metadata": {},
   "source": [
    "![purple-divider](https://user-images.githubusercontent.com/7065401/52071927-c1cd7100-2562-11e9-908a-dde91ba14e59.png)"
   ]
  },
  {
   "cell_type": "markdown",
   "metadata": {},
   "source": [
    "## 8. Weitere spalten-orientierte Operationen"
   ]
  },
  {
   "cell_type": "markdown",
   "metadata": {},
   "source": [
    "In gewissen Situationen kann es hilfreich sein, wenn das Datenset nach einer **bestimmten Spalte sortiert** wird. Das kann mit `.sort_values()` erreicht werden.\n",
    "\n",
    "Der erste Parameter der Funktion ist die Spalte des Dataframes, nach der sortiert werden soll. Standardmäßig ist der Parameter `ascending` auf True gesetzt, daher muss dieser nur angeben werden, wenn die Sortierung in absteigender Reihenfolge gewünscht ist.\n",
    "\n",
    "Die Sortierung kan auch mit mehr als einer Spalte vollzugen werden. Hier die **[Dokumentation](https://pandas.pydata.org/pandas-docs/stable/reference/api/pandas.DataFrame.sort_values.html)**. Es gibt noch einige weitere Operationen, die die Sortierung spezifizieren `na_position` oder `kind`."
   ]
  },
  {
   "cell_type": "code",
   "execution_count": 72,
   "metadata": {
    "scrolled": true
   },
   "outputs": [
    {
     "data": {
      "text/html": [
       "<div>\n",
       "<style scoped>\n",
       "    .dataframe tbody tr th:only-of-type {\n",
       "        vertical-align: middle;\n",
       "    }\n",
       "\n",
       "    .dataframe tbody tr th {\n",
       "        vertical-align: top;\n",
       "    }\n",
       "\n",
       "    .dataframe thead th {\n",
       "        text-align: right;\n",
       "    }\n",
       "</style>\n",
       "<table border=\"1\" class=\"dataframe\">\n",
       "  <thead>\n",
       "    <tr style=\"text-align: right;\">\n",
       "      <th></th>\n",
       "      <th>rank</th>\n",
       "      <th>genre</th>\n",
       "      <th>description</th>\n",
       "      <th>director</th>\n",
       "      <th>actors</th>\n",
       "      <th>year</th>\n",
       "      <th>runtime</th>\n",
       "      <th>rating</th>\n",
       "      <th>votes</th>\n",
       "      <th>revenue_millions</th>\n",
       "      <th>metascore</th>\n",
       "      <th>rating_category</th>\n",
       "      <th>in_range</th>\n",
       "    </tr>\n",
       "    <tr>\n",
       "      <th>Title</th>\n",
       "      <th></th>\n",
       "      <th></th>\n",
       "      <th></th>\n",
       "      <th></th>\n",
       "      <th></th>\n",
       "      <th></th>\n",
       "      <th></th>\n",
       "      <th></th>\n",
       "      <th></th>\n",
       "      <th></th>\n",
       "      <th></th>\n",
       "      <th></th>\n",
       "      <th></th>\n",
       "    </tr>\n",
       "  </thead>\n",
       "  <tbody>\n",
       "    <tr>\n",
       "      <th>Rogue One</th>\n",
       "      <td>13</td>\n",
       "      <td>Action,Adventure,Sci-Fi</td>\n",
       "      <td>The Rebel Alliance makes a risky move to steal...</td>\n",
       "      <td>Gareth Edwards</td>\n",
       "      <td>Felicity Jones, Diego Luna, Alan Tudyk, Donnie...</td>\n",
       "      <td>2016</td>\n",
       "      <td>133</td>\n",
       "      <td>7.9</td>\n",
       "      <td>323118</td>\n",
       "      <td>532.17</td>\n",
       "      <td>65.0</td>\n",
       "      <td>bad</td>\n",
       "      <td>True</td>\n",
       "    </tr>\n",
       "    <tr>\n",
       "      <th>Finding Dory</th>\n",
       "      <td>120</td>\n",
       "      <td>Animation,Adventure,Comedy</td>\n",
       "      <td>The friendly but forgetful blue tang fish, Dor...</td>\n",
       "      <td>Andrew Stanton</td>\n",
       "      <td>Ellen DeGeneres, Albert Brooks,Ed O'Neill, Kai...</td>\n",
       "      <td>2016</td>\n",
       "      <td>97</td>\n",
       "      <td>7.4</td>\n",
       "      <td>157026</td>\n",
       "      <td>486.29</td>\n",
       "      <td>77.0</td>\n",
       "      <td>bad</td>\n",
       "      <td>True</td>\n",
       "    </tr>\n",
       "    <tr>\n",
       "      <th>Captain America: Civil War</th>\n",
       "      <td>36</td>\n",
       "      <td>Action,Adventure,Sci-Fi</td>\n",
       "      <td>Political interference in the Avengers' activi...</td>\n",
       "      <td>Anthony Russo</td>\n",
       "      <td>Chris Evans, Robert Downey Jr.,Scarlett Johans...</td>\n",
       "      <td>2016</td>\n",
       "      <td>147</td>\n",
       "      <td>7.9</td>\n",
       "      <td>411656</td>\n",
       "      <td>408.08</td>\n",
       "      <td>75.0</td>\n",
       "      <td>bad</td>\n",
       "      <td>True</td>\n",
       "    </tr>\n",
       "    <tr>\n",
       "      <th>The Secret Life of Pets</th>\n",
       "      <td>16</td>\n",
       "      <td>Animation,Adventure,Comedy</td>\n",
       "      <td>The quiet life of a terrier named Max is upend...</td>\n",
       "      <td>Chris Renaud</td>\n",
       "      <td>Louis C.K., Eric Stonestreet, Kevin Hart, Lake...</td>\n",
       "      <td>2016</td>\n",
       "      <td>87</td>\n",
       "      <td>6.6</td>\n",
       "      <td>120259</td>\n",
       "      <td>368.31</td>\n",
       "      <td>61.0</td>\n",
       "      <td>bad</td>\n",
       "      <td>True</td>\n",
       "    </tr>\n",
       "    <tr>\n",
       "      <th>The Jungle Book</th>\n",
       "      <td>126</td>\n",
       "      <td>Adventure,Drama,Family</td>\n",
       "      <td>After a threat from the tiger Shere Khan force...</td>\n",
       "      <td>Jon Favreau</td>\n",
       "      <td>Neel Sethi, Bill Murray, Ben Kingsley, Idris Elba</td>\n",
       "      <td>2016</td>\n",
       "      <td>106</td>\n",
       "      <td>7.5</td>\n",
       "      <td>198243</td>\n",
       "      <td>364.00</td>\n",
       "      <td>77.0</td>\n",
       "      <td>bad</td>\n",
       "      <td>True</td>\n",
       "    </tr>\n",
       "    <tr>\n",
       "      <th>...</th>\n",
       "      <td>...</td>\n",
       "      <td>...</td>\n",
       "      <td>...</td>\n",
       "      <td>...</td>\n",
       "      <td>...</td>\n",
       "      <td>...</td>\n",
       "      <td>...</td>\n",
       "      <td>...</td>\n",
       "      <td>...</td>\n",
       "      <td>...</td>\n",
       "      <td>...</td>\n",
       "      <td>...</td>\n",
       "      <td>...</td>\n",
       "    </tr>\n",
       "    <tr>\n",
       "      <th>She's the Man</th>\n",
       "      <td>594</td>\n",
       "      <td>Comedy,Romance,Sport</td>\n",
       "      <td>When her brother decides to ditch for a couple...</td>\n",
       "      <td>Andy Fickman</td>\n",
       "      <td>Amanda Bynes, Laura Ramsey, Channing Tatum,Vin...</td>\n",
       "      <td>2006</td>\n",
       "      <td>105</td>\n",
       "      <td>6.4</td>\n",
       "      <td>122864</td>\n",
       "      <td>2.34</td>\n",
       "      <td>45.0</td>\n",
       "      <td>bad</td>\n",
       "      <td>False</td>\n",
       "    </tr>\n",
       "    <tr>\n",
       "      <th>The Fall</th>\n",
       "      <td>898</td>\n",
       "      <td>Adventure,Comedy,Drama</td>\n",
       "      <td>In a hospital on the outskirts of 1920s Los An...</td>\n",
       "      <td>Tarsem Singh</td>\n",
       "      <td>Lee Pace, Catinca Untaru, Justine Waddell, Kim...</td>\n",
       "      <td>2006</td>\n",
       "      <td>117</td>\n",
       "      <td>7.9</td>\n",
       "      <td>93036</td>\n",
       "      <td>2.28</td>\n",
       "      <td>64.0</td>\n",
       "      <td>bad</td>\n",
       "      <td>False</td>\n",
       "    </tr>\n",
       "    <tr>\n",
       "      <th>Perfume: The Story of a Murderer</th>\n",
       "      <td>919</td>\n",
       "      <td>Crime,Drama,Fantasy</td>\n",
       "      <td>Jean-Baptiste Grenouille, born with a superior...</td>\n",
       "      <td>Tom Tykwer</td>\n",
       "      <td>Ben Whishaw, Dustin Hoffman, Alan Rickman,Fran...</td>\n",
       "      <td>2006</td>\n",
       "      <td>147</td>\n",
       "      <td>7.5</td>\n",
       "      <td>199387</td>\n",
       "      <td>2.21</td>\n",
       "      <td>56.0</td>\n",
       "      <td>bad</td>\n",
       "      <td>False</td>\n",
       "    </tr>\n",
       "    <tr>\n",
       "      <th>The Host</th>\n",
       "      <td>633</td>\n",
       "      <td>Comedy,Drama,Horror</td>\n",
       "      <td>A monster emerges from Seoul's Han River and f...</td>\n",
       "      <td>Bong Joon Ho</td>\n",
       "      <td>Kang-ho Song, Hee-Bong Byun, Hae-il Park, Doon...</td>\n",
       "      <td>2006</td>\n",
       "      <td>120</td>\n",
       "      <td>7.0</td>\n",
       "      <td>73491</td>\n",
       "      <td>2.20</td>\n",
       "      <td>85.0</td>\n",
       "      <td>bad</td>\n",
       "      <td>False</td>\n",
       "    </tr>\n",
       "    <tr>\n",
       "      <th>Idiocracy</th>\n",
       "      <td>560</td>\n",
       "      <td>Adventure,Comedy,Sci-Fi</td>\n",
       "      <td>Private Joe Bauers, the definition of \"average...</td>\n",
       "      <td>Mike Judge</td>\n",
       "      <td>Luke Wilson, Maya Rudolph, Dax Shepard, Terry ...</td>\n",
       "      <td>2006</td>\n",
       "      <td>84</td>\n",
       "      <td>6.6</td>\n",
       "      <td>115355</td>\n",
       "      <td>0.44</td>\n",
       "      <td>66.0</td>\n",
       "      <td>bad</td>\n",
       "      <td>False</td>\n",
       "    </tr>\n",
       "  </tbody>\n",
       "</table>\n",
       "<p>1000 rows × 13 columns</p>\n",
       "</div>"
      ],
      "text/plain": [
       "                                  rank                       genre  \\\n",
       "Title                                                                \n",
       "Rogue One                           13     Action,Adventure,Sci-Fi   \n",
       "Finding Dory                       120  Animation,Adventure,Comedy   \n",
       "Captain America: Civil War          36     Action,Adventure,Sci-Fi   \n",
       "The Secret Life of Pets             16  Animation,Adventure,Comedy   \n",
       "The Jungle Book                    126      Adventure,Drama,Family   \n",
       "...                                ...                         ...   \n",
       "She's the Man                      594        Comedy,Romance,Sport   \n",
       "The Fall                           898      Adventure,Comedy,Drama   \n",
       "Perfume: The Story of a Murderer   919         Crime,Drama,Fantasy   \n",
       "The Host                           633         Comedy,Drama,Horror   \n",
       "Idiocracy                          560     Adventure,Comedy,Sci-Fi   \n",
       "\n",
       "                                                                        description  \\\n",
       "Title                                                                                 \n",
       "Rogue One                         The Rebel Alliance makes a risky move to steal...   \n",
       "Finding Dory                      The friendly but forgetful blue tang fish, Dor...   \n",
       "Captain America: Civil War        Political interference in the Avengers' activi...   \n",
       "The Secret Life of Pets           The quiet life of a terrier named Max is upend...   \n",
       "The Jungle Book                   After a threat from the tiger Shere Khan force...   \n",
       "...                                                                             ...   \n",
       "She's the Man                     When her brother decides to ditch for a couple...   \n",
       "The Fall                          In a hospital on the outskirts of 1920s Los An...   \n",
       "Perfume: The Story of a Murderer  Jean-Baptiste Grenouille, born with a superior...   \n",
       "The Host                          A monster emerges from Seoul's Han River and f...   \n",
       "Idiocracy                         Private Joe Bauers, the definition of \"average...   \n",
       "\n",
       "                                        director  \\\n",
       "Title                                              \n",
       "Rogue One                         Gareth Edwards   \n",
       "Finding Dory                      Andrew Stanton   \n",
       "Captain America: Civil War         Anthony Russo   \n",
       "The Secret Life of Pets             Chris Renaud   \n",
       "The Jungle Book                      Jon Favreau   \n",
       "...                                          ...   \n",
       "She's the Man                       Andy Fickman   \n",
       "The Fall                            Tarsem Singh   \n",
       "Perfume: The Story of a Murderer      Tom Tykwer   \n",
       "The Host                            Bong Joon Ho   \n",
       "Idiocracy                             Mike Judge   \n",
       "\n",
       "                                                                             actors  \\\n",
       "Title                                                                                 \n",
       "Rogue One                         Felicity Jones, Diego Luna, Alan Tudyk, Donnie...   \n",
       "Finding Dory                      Ellen DeGeneres, Albert Brooks,Ed O'Neill, Kai...   \n",
       "Captain America: Civil War        Chris Evans, Robert Downey Jr.,Scarlett Johans...   \n",
       "The Secret Life of Pets           Louis C.K., Eric Stonestreet, Kevin Hart, Lake...   \n",
       "The Jungle Book                   Neel Sethi, Bill Murray, Ben Kingsley, Idris Elba   \n",
       "...                                                                             ...   \n",
       "She's the Man                     Amanda Bynes, Laura Ramsey, Channing Tatum,Vin...   \n",
       "The Fall                          Lee Pace, Catinca Untaru, Justine Waddell, Kim...   \n",
       "Perfume: The Story of a Murderer  Ben Whishaw, Dustin Hoffman, Alan Rickman,Fran...   \n",
       "The Host                          Kang-ho Song, Hee-Bong Byun, Hae-il Park, Doon...   \n",
       "Idiocracy                         Luke Wilson, Maya Rudolph, Dax Shepard, Terry ...   \n",
       "\n",
       "                                  year  runtime  rating   votes  \\\n",
       "Title                                                             \n",
       "Rogue One                         2016      133     7.9  323118   \n",
       "Finding Dory                      2016       97     7.4  157026   \n",
       "Captain America: Civil War        2016      147     7.9  411656   \n",
       "The Secret Life of Pets           2016       87     6.6  120259   \n",
       "The Jungle Book                   2016      106     7.5  198243   \n",
       "...                                ...      ...     ...     ...   \n",
       "She's the Man                     2006      105     6.4  122864   \n",
       "The Fall                          2006      117     7.9   93036   \n",
       "Perfume: The Story of a Murderer  2006      147     7.5  199387   \n",
       "The Host                          2006      120     7.0   73491   \n",
       "Idiocracy                         2006       84     6.6  115355   \n",
       "\n",
       "                                  revenue_millions  metascore rating_category  \\\n",
       "Title                                                                           \n",
       "Rogue One                                   532.17       65.0             bad   \n",
       "Finding Dory                                486.29       77.0             bad   \n",
       "Captain America: Civil War                  408.08       75.0             bad   \n",
       "The Secret Life of Pets                     368.31       61.0             bad   \n",
       "The Jungle Book                             364.00       77.0             bad   \n",
       "...                                            ...        ...             ...   \n",
       "She's the Man                                 2.34       45.0             bad   \n",
       "The Fall                                      2.28       64.0             bad   \n",
       "Perfume: The Story of a Murderer              2.21       56.0             bad   \n",
       "The Host                                      2.20       85.0             bad   \n",
       "Idiocracy                                     0.44       66.0             bad   \n",
       "\n",
       "                                  in_range  \n",
       "Title                                       \n",
       "Rogue One                             True  \n",
       "Finding Dory                          True  \n",
       "Captain America: Civil War            True  \n",
       "The Secret Life of Pets               True  \n",
       "The Jungle Book                       True  \n",
       "...                                    ...  \n",
       "She's the Man                        False  \n",
       "The Fall                             False  \n",
       "Perfume: The Story of a Murderer     False  \n",
       "The Host                             False  \n",
       "Idiocracy                            False  \n",
       "\n",
       "[1000 rows x 13 columns]"
      ]
     },
     "execution_count": 72,
     "metadata": {},
     "output_type": "execute_result"
    }
   ],
   "source": [
    "movies_df.sort_values(by=[\"year\", \"revenue_millions\"], ascending=[False, False])"
   ]
  },
  {
   "cell_type": "markdown",
   "metadata": {},
   "source": [
    "Wenn Du möchtest, kannst Du im Dataset auch bestimmte Spalten **[droppen](https://pandas.pydata.org/pandas-docs/stable/reference/api/pandas.DataFrame.drop.html)**, wenn diese für die weitere Analyse nicht mehr benötigt werden. "
   ]
  },
  {
   "cell_type": "code",
   "execution_count": 73,
   "metadata": {},
   "outputs": [],
   "source": [
    "movies_df.drop(\"in_range\", axis=1, inplace=True)"
   ]
  },
  {
   "cell_type": "code",
   "execution_count": 74,
   "metadata": {},
   "outputs": [
    {
     "data": {
      "text/plain": [
       "Index(['rank', 'genre', 'description', 'director', 'actors', 'year', 'runtime',\n",
       "       'rating', 'votes', 'revenue_millions', 'metascore', 'rating_category'],\n",
       "      dtype='object')"
      ]
     },
     "execution_count": 74,
     "metadata": {},
     "output_type": "execute_result"
    }
   ],
   "source": [
    "movies_df.columns"
   ]
  },
  {
   "cell_type": "markdown",
   "metadata": {},
   "source": [
    "Es kann auch interessant sein, den Durchschnitt der Ratings und die Summe der Umsätze von Filmen über die jeweiligen Jahre auszugeben. Hierfür müssen wir erst einmal auf das jeweilige Jahr aggregieren und anschließend die Funktion `agg` verwenden, um die **Summe** und den **Durchschnitt** zu berechnen. Hier die [Dokumentation](https://pandas.pydata.org/pandas-docs/stable/reference/api/pandas.DataFrame.agg.html) "
   ]
  },
  {
   "cell_type": "code",
   "execution_count": 75,
   "metadata": {},
   "outputs": [
    {
     "data": {
      "text/html": [
       "<div>\n",
       "<style scoped>\n",
       "    .dataframe tbody tr th:only-of-type {\n",
       "        vertical-align: middle;\n",
       "    }\n",
       "\n",
       "    .dataframe tbody tr th {\n",
       "        vertical-align: top;\n",
       "    }\n",
       "\n",
       "    .dataframe thead tr th {\n",
       "        text-align: left;\n",
       "    }\n",
       "\n",
       "    .dataframe thead tr:last-of-type th {\n",
       "        text-align: right;\n",
       "    }\n",
       "</style>\n",
       "<table border=\"1\" class=\"dataframe\">\n",
       "  <thead>\n",
       "    <tr>\n",
       "      <th></th>\n",
       "      <th colspan=\"2\" halign=\"left\">revenue_millions</th>\n",
       "    </tr>\n",
       "    <tr>\n",
       "      <th></th>\n",
       "      <th>sum</th>\n",
       "      <th>mean</th>\n",
       "    </tr>\n",
       "    <tr>\n",
       "      <th>year</th>\n",
       "      <th></th>\n",
       "      <th></th>\n",
       "    </tr>\n",
       "  </thead>\n",
       "  <tbody>\n",
       "    <tr>\n",
       "      <th>2006</th>\n",
       "      <td>3790.372752</td>\n",
       "      <td>86.144835</td>\n",
       "    </tr>\n",
       "    <tr>\n",
       "      <th>2007</th>\n",
       "      <td>4638.055505</td>\n",
       "      <td>87.510481</td>\n",
       "    </tr>\n",
       "    <tr>\n",
       "      <th>2008</th>\n",
       "      <td>5136.176376</td>\n",
       "      <td>98.772623</td>\n",
       "    </tr>\n",
       "    <tr>\n",
       "      <th>2009</th>\n",
       "      <td>5624.085505</td>\n",
       "      <td>110.276186</td>\n",
       "    </tr>\n",
       "    <tr>\n",
       "      <th>2010</th>\n",
       "      <td>6238.519128</td>\n",
       "      <td>103.975319</td>\n",
       "    </tr>\n",
       "    <tr>\n",
       "      <th>2011</th>\n",
       "      <td>5514.916376</td>\n",
       "      <td>87.538355</td>\n",
       "    </tr>\n",
       "    <tr>\n",
       "      <th>2012</th>\n",
       "      <td>6910.290000</td>\n",
       "      <td>107.973281</td>\n",
       "    </tr>\n",
       "    <tr>\n",
       "      <th>2013</th>\n",
       "      <td>7915.589128</td>\n",
       "      <td>86.984496</td>\n",
       "    </tr>\n",
       "    <tr>\n",
       "      <th>2014</th>\n",
       "      <td>8329.225505</td>\n",
       "      <td>84.992097</td>\n",
       "    </tr>\n",
       "    <tr>\n",
       "      <th>2015</th>\n",
       "      <td>10015.509266</td>\n",
       "      <td>78.862278</td>\n",
       "    </tr>\n",
       "    <tr>\n",
       "      <th>2016</th>\n",
       "      <td>18843.636606</td>\n",
       "      <td>63.446588</td>\n",
       "    </tr>\n",
       "  </tbody>\n",
       "</table>\n",
       "</div>"
      ],
      "text/plain": [
       "     revenue_millions            \n",
       "                  sum        mean\n",
       "year                             \n",
       "2006      3790.372752   86.144835\n",
       "2007      4638.055505   87.510481\n",
       "2008      5136.176376   98.772623\n",
       "2009      5624.085505  110.276186\n",
       "2010      6238.519128  103.975319\n",
       "2011      5514.916376   87.538355\n",
       "2012      6910.290000  107.973281\n",
       "2013      7915.589128   86.984496\n",
       "2014      8329.225505   84.992097\n",
       "2015     10015.509266   78.862278\n",
       "2016     18843.636606   63.446588"
      ]
     },
     "execution_count": 75,
     "metadata": {},
     "output_type": "execute_result"
    }
   ],
   "source": [
    "movies_df[[\"year\", \"revenue_millions\"]].groupby([\"year\"]).agg([\"sum\", \"mean\"])"
   ]
  },
  {
   "cell_type": "markdown",
   "metadata": {},
   "source": [
    "Das ist nur eine **Einführung in Pandas** - hier auch noch einmal weitere Materialien für das weitere Selbststudium. Die Ressourcen sind aber hier endlos, da dieses Package so weit verbreitet ist:"
   ]
  },
  {
   "cell_type": "markdown",
   "metadata": {},
   "source": [
    "- [Community Tutorials auf Basis der offiziellen Pandas Dokumentation](https://pandas.pydata.org/pandas-docs/stable/getting_started/tutorials.html)\n",
    "- [Community Tutorials, Notebooks und Analysen von Kaggle](https://www.kaggle.com/code?searchQuery=Pandas)\n",
    "- [3 Methods to Create Conditional Columns with Python Pandas and Numpy](https://towardsdatascience.com/all-probability-distributions-explained-in-six-minutes-fe57b1d49600)\n",
    "- [Filtering Data in Pandas](https://levelup.gitconnected.com/filtering-data-in-pandas-c7b60d1e1301)"
   ]
  },
  {
   "cell_type": "markdown",
   "metadata": {},
   "source": [
    "**Aufgabe 10 (Zusatzaufgabe)**: Separiere die Komma-separierte Genre-Spalte und kreiere eine Spalte pro Genre, für welche die jweilige Zeile bei angegebenen Genres den Wert 1 ausgibt. Für nicht enthaltene Genres gibt es den Wert 0 aus.  "
   ]
  },
  {
   "cell_type": "code",
   "execution_count": 76,
   "metadata": {},
   "outputs": [],
   "source": [
    "### CODE HERE ###"
   ]
  }
 ],
 "metadata": {
  "kernelspec": {
   "display_name": "Python 3 (ipykernel)",
   "language": "python",
   "name": "python3"
  },
  "language_info": {
   "codemirror_mode": {
    "name": "ipython",
    "version": 3
   },
   "file_extension": ".py",
   "mimetype": "text/x-python",
   "name": "python",
   "nbconvert_exporter": "python",
   "pygments_lexer": "ipython3",
   "version": "3.9.7"
  }
 },
 "nbformat": 4,
 "nbformat_minor": 4
}
