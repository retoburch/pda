{
 "cells": [
  {
   "cell_type": "markdown",
   "metadata": {},
   "source": [
    "# Erstes einfaches Beispiel einer Datenanalyse zur Veranschaulichung"
   ]
  },
  {
   "cell_type": "markdown",
   "metadata": {},
   "source": [
    "In der ersten Übung würde ich Euch gerne ein Beispiel zeigen, wie eine Datenanalyse entlang der wesentlichen Schritte aussieht. Wichtig ist, dass dies eine starke Vereinfachung ist und kein Anspruch hat alle Aspekte aufzugreifen."
   ]
  },
  {
   "cell_type": "markdown",
   "metadata": {},
   "source": [
    "![purple-divider](https://user-images.githubusercontent.com/7065401/52071927-c1cd7100-2562-11e9-908a-dde91ba14e59.png)"
   ]
  },
  {
   "cell_type": "markdown",
   "metadata": {},
   "source": [
    "![Data-Analysis-Process](https://blogs.sas.com/content/sgf/files/2019/05/AnylticsProcesModal.png)"
   ]
  },
  {
   "cell_type": "markdown",
   "metadata": {},
   "source": [
    "<div>\n",
    "<img src=\"./src/CRISPDM.png\" width=\"700\"/>\n",
    "</div>"
   ]
  },
  {
   "cell_type": "markdown",
   "metadata": {},
   "source": [
    "![purple-divider](https://user-images.githubusercontent.com/7065401/52071927-c1cd7100-2562-11e9-908a-dde91ba14e59.png)"
   ]
  },
  {
   "cell_type": "markdown",
   "metadata": {},
   "source": [
    "Anbei eine Übersicht, der die wesentlichen Schritte des Datenanalyseprozesses noch einmal darlegt. Wichtig ist, dass der Prozess sich immer **leicht unterscheidet** und es nicht **den einen Datenanalyseprozess** gibt. Es sind aber in der ein oder anderen Form immer die gleichen Elemente/Schritte enthalten."
   ]
  },
  {
   "cell_type": "markdown",
   "metadata": {},
   "source": [
    "# General Setup how to structure a Notebook\n",
    "\n",
    "1. Import packages\n",
    "1. Hypothesis \n",
    "    1. Welche Fragen möchte ich beantworten\n",
    "    1. Zielvariablen benennen\n",
    "1. Gathering Data\n",
    "1. Assess Data\n",
    "    1. Results/Findings\n",
    "1. Clean Data\n",
    "    1. First Flaw\n",
    "        1. Define\n",
    "        1. Code\n",
    "        1. Test\n",
    "    1. Second Flaw\n",
    "        1. Define\n",
    "        1. Code\n",
    "        1. Test\n",
    "1. Storing the Data\n",
    "1. Exploratory Data Analysis\n",
    "1. Trainingsset vorbereiten\n",
    "1. Performance Metricen überlegen\n",
    "1. Feature Engineering\n",
    "1. Modelling\n",
    "    1. Model1\n",
    "        1. Model1 definieren\n",
    "        1. Model1 training\n",
    "        1. Model1 Performance Assessment\n",
    "    1. Modelx\n",
    "        1. Modelx definieren\n",
    "        1. Modelx training\n",
    "        1. Modelx Performance Assessment\n",
    "1. Hyperparameter tuning\n",
    "1. Visualizing your Findings\n",
    "1. Interpretation"
   ]
  },
  {
   "cell_type": "markdown",
   "metadata": {},
   "source": [
    "# Datenset und zu lösende Herausforderung"
   ]
  },
  {
   "cell_type": "markdown",
   "metadata": {},
   "source": [
    "Dieser Datensatz stammt ursprünglich vom **National Institute of Diabetes and Digestive and Kidney Diseases**. Das Ziel des Datensatzes ist die diagnostische Vorhersage, ob ein Patient Diabetes hat oder nicht, basierend auf bestimmten diagnostischen Messungen, die im Datensatz enthalten sind."
   ]
  },
  {
   "cell_type": "markdown",
   "metadata": {},
   "source": [
    "Link zur Quelle: [Datenset von Kaggle](https://www.kaggle.com/uciml/pima-indians-diabetes-database)"
   ]
  },
  {
   "cell_type": "markdown",
   "metadata": {},
   "source": [
    "![purple-divider](https://user-images.githubusercontent.com/7065401/52071927-c1cd7100-2562-11e9-908a-dde91ba14e59.png)"
   ]
  },
  {
   "cell_type": "markdown",
   "metadata": {},
   "source": [
    "# Beispiel Notebook"
   ]
  },
  {
   "cell_type": "markdown",
   "metadata": {},
   "source": [
    "## Import der benötigten Packages"
   ]
  },
  {
   "cell_type": "code",
   "execution_count": 12,
   "metadata": {
    "tags": []
   },
   "outputs": [
    {
     "name": "stdout",
     "output_type": "stream",
     "text": [
      "Requirement already satisfied: pandas_profiling in /Users/burchr/opt/anaconda3/lib/python3.9/site-packages (3.2.0)\n",
      "Requirement already satisfied: multimethod>=1.4 in /Users/burchr/opt/anaconda3/lib/python3.9/site-packages (from pandas_profiling) (1.8)\n",
      "Requirement already satisfied: PyYAML>=5.0.0 in /Users/burchr/opt/anaconda3/lib/python3.9/site-packages (from pandas_profiling) (6.0)\n",
      "Requirement already satisfied: markupsafe~=2.1.1 in /Users/burchr/opt/anaconda3/lib/python3.9/site-packages (from pandas_profiling) (2.1.1)\n",
      "Requirement already satisfied: seaborn>=0.10.1 in /Users/burchr/opt/anaconda3/lib/python3.9/site-packages (from pandas_profiling) (0.11.2)\n",
      "Requirement already satisfied: visions[type_image_path]==0.7.4 in /Users/burchr/opt/anaconda3/lib/python3.9/site-packages (from pandas_profiling) (0.7.4)\n",
      "Requirement already satisfied: pandas!=1.0.0,!=1.0.1,!=1.0.2,!=1.1.0,>=0.25.3 in /Users/burchr/opt/anaconda3/lib/python3.9/site-packages (from pandas_profiling) (1.3.4)\n",
      "Requirement already satisfied: scipy>=1.4.1 in /Users/burchr/opt/anaconda3/lib/python3.9/site-packages (from pandas_profiling) (1.7.1)\n",
      "Requirement already satisfied: missingno>=0.4.2 in /Users/burchr/opt/anaconda3/lib/python3.9/site-packages (from pandas_profiling) (0.5.1)\n",
      "Requirement already satisfied: tqdm>=4.48.2 in /Users/burchr/opt/anaconda3/lib/python3.9/site-packages (from pandas_profiling) (4.62.3)\n",
      "Requirement already satisfied: numpy>=1.16.0 in /Users/burchr/opt/anaconda3/lib/python3.9/site-packages (from pandas_profiling) (1.20.3)\n",
      "Requirement already satisfied: matplotlib>=3.2.0 in /Users/burchr/opt/anaconda3/lib/python3.9/site-packages (from pandas_profiling) (3.4.3)\n",
      "Requirement already satisfied: requests>=2.24.0 in /Users/burchr/opt/anaconda3/lib/python3.9/site-packages (from pandas_profiling) (2.26.0)\n",
      "Requirement already satisfied: phik>=0.11.1 in /Users/burchr/opt/anaconda3/lib/python3.9/site-packages (from pandas_profiling) (0.12.2)\n",
      "Requirement already satisfied: htmlmin>=0.1.12 in /Users/burchr/opt/anaconda3/lib/python3.9/site-packages (from pandas_profiling) (0.1.12)\n",
      "Requirement already satisfied: tangled-up-in-unicode==0.2.0 in /Users/burchr/opt/anaconda3/lib/python3.9/site-packages (from pandas_profiling) (0.2.0)\n",
      "Requirement already satisfied: jinja2>=2.11.1 in /Users/burchr/opt/anaconda3/lib/python3.9/site-packages (from pandas_profiling) (2.11.3)\n",
      "Requirement already satisfied: joblib~=1.1.0 in /Users/burchr/opt/anaconda3/lib/python3.9/site-packages (from pandas_profiling) (1.1.0)\n",
      "Requirement already satisfied: pydantic>=1.8.1 in /Users/burchr/opt/anaconda3/lib/python3.9/site-packages (from pandas_profiling) (1.9.1)\n",
      "Requirement already satisfied: networkx>=2.4 in /Users/burchr/opt/anaconda3/lib/python3.9/site-packages (from visions[type_image_path]==0.7.4->pandas_profiling) (2.6.3)\n",
      "Requirement already satisfied: attrs>=19.3.0 in /Users/burchr/opt/anaconda3/lib/python3.9/site-packages (from visions[type_image_path]==0.7.4->pandas_profiling) (21.2.0)\n",
      "Requirement already satisfied: imagehash in /Users/burchr/opt/anaconda3/lib/python3.9/site-packages (from visions[type_image_path]==0.7.4->pandas_profiling) (4.2.1)\n",
      "Requirement already satisfied: Pillow in /Users/burchr/opt/anaconda3/lib/python3.9/site-packages (from visions[type_image_path]==0.7.4->pandas_profiling) (8.4.0)\n",
      "Requirement already satisfied: cycler>=0.10 in /Users/burchr/opt/anaconda3/lib/python3.9/site-packages (from matplotlib>=3.2.0->pandas_profiling) (0.10.0)\n",
      "Requirement already satisfied: python-dateutil>=2.7 in /Users/burchr/opt/anaconda3/lib/python3.9/site-packages (from matplotlib>=3.2.0->pandas_profiling) (2.8.2)\n",
      "Requirement already satisfied: kiwisolver>=1.0.1 in /Users/burchr/opt/anaconda3/lib/python3.9/site-packages (from matplotlib>=3.2.0->pandas_profiling) (1.3.1)\n",
      "Requirement already satisfied: pyparsing>=2.2.1 in /Users/burchr/opt/anaconda3/lib/python3.9/site-packages (from matplotlib>=3.2.0->pandas_profiling) (3.0.4)\n",
      "Requirement already satisfied: six in /Users/burchr/opt/anaconda3/lib/python3.9/site-packages (from cycler>=0.10->matplotlib>=3.2.0->pandas_profiling) (1.16.0)\n",
      "Requirement already satisfied: pytz>=2017.3 in /Users/burchr/opt/anaconda3/lib/python3.9/site-packages (from pandas!=1.0.0,!=1.0.1,!=1.0.2,!=1.1.0,>=0.25.3->pandas_profiling) (2021.3)\n",
      "Requirement already satisfied: typing-extensions>=3.7.4.3 in /Users/burchr/opt/anaconda3/lib/python3.9/site-packages (from pydantic>=1.8.1->pandas_profiling) (3.10.0.2)\n",
      "Requirement already satisfied: certifi>=2017.4.17 in /Users/burchr/opt/anaconda3/lib/python3.9/site-packages (from requests>=2.24.0->pandas_profiling) (2021.10.8)\n",
      "Requirement already satisfied: charset-normalizer~=2.0.0 in /Users/burchr/opt/anaconda3/lib/python3.9/site-packages (from requests>=2.24.0->pandas_profiling) (2.0.4)\n",
      "Requirement already satisfied: urllib3<1.27,>=1.21.1 in /Users/burchr/opt/anaconda3/lib/python3.9/site-packages (from requests>=2.24.0->pandas_profiling) (1.26.7)\n",
      "Requirement already satisfied: idna<4,>=2.5 in /Users/burchr/opt/anaconda3/lib/python3.9/site-packages (from requests>=2.24.0->pandas_profiling) (3.2)\n",
      "Requirement already satisfied: PyWavelets in /Users/burchr/opt/anaconda3/lib/python3.9/site-packages (from imagehash->visions[type_image_path]==0.7.4->pandas_profiling) (1.1.1)\n"
     ]
    }
   ],
   "source": [
    "!pip install pandas_profiling"
   ]
  },
  {
   "cell_type": "code",
   "execution_count": 13,
   "metadata": {},
   "outputs": [
    {
     "ename": "ModuleNotFoundError",
     "evalue": "No module named 'pandas_profiling'",
     "output_type": "error",
     "traceback": [
      "\u001b[0;31m---------------------------------------------------------------------------\u001b[0m",
      "\u001b[0;31mModuleNotFoundError\u001b[0m                       Traceback (most recent call last)",
      "Input \u001b[0;32mIn [13]\u001b[0m, in \u001b[0;36m<cell line: 2>\u001b[0;34m()\u001b[0m\n\u001b[1;32m      1\u001b[0m \u001b[38;5;28;01mimport\u001b[39;00m \u001b[38;5;21;01mpandas\u001b[39;00m \u001b[38;5;28;01mas\u001b[39;00m \u001b[38;5;21;01mpd\u001b[39;00m\n\u001b[0;32m----> 2\u001b[0m \u001b[38;5;28;01mimport\u001b[39;00m \u001b[38;5;21;01mpandas_profiling\u001b[39;00m \u001b[38;5;28;01mas\u001b[39;00m \u001b[38;5;21;01mpp\u001b[39;00m\n\u001b[1;32m      3\u001b[0m \u001b[38;5;28;01mimport\u001b[39;00m \u001b[38;5;21;01mnumpy\u001b[39;00m \u001b[38;5;28;01mas\u001b[39;00m \u001b[38;5;21;01mnp\u001b[39;00m\n\u001b[1;32m      4\u001b[0m \u001b[38;5;28;01mimport\u001b[39;00m \u001b[38;5;21;01mseaborn\u001b[39;00m \u001b[38;5;28;01mas\u001b[39;00m \u001b[38;5;21;01msns\u001b[39;00m\n",
      "\u001b[0;31mModuleNotFoundError\u001b[0m: No module named 'pandas_profiling'"
     ]
    }
   ],
   "source": [
    "import pandas as pd\n",
    "import pandas_profiling as pp\n",
    "import numpy as np\n",
    "import seaborn as sns\n",
    "import matplotlib.pyplot as plt\n",
    "\n",
    "%matplotlib inline\n",
    "\n",
    "from IPython.core.interactiveshell import InteractiveShell\n",
    "InteractiveShell.ast_node_interactivity = \"last_expr\""
   ]
  },
  {
   "cell_type": "markdown",
   "metadata": {},
   "source": [
    "## Hypothesen & Zielvariablen\n",
    "- Welches Verhalten haben Schwangerschaften auf Diabetes\n",
    "- Welchen Einfluss hat das Alter auf Diabetes\n",
    "- ..."
   ]
  },
  {
   "cell_type": "markdown",
   "metadata": {
    "tags": []
   },
   "source": [
    "## Gather Data"
   ]
  },
  {
   "cell_type": "markdown",
   "metadata": {},
   "source": [
    "Panda bietet vorgefertigte Funktionen, die das Laden eines Datensets vereinfachen. Hier verwenden wir die Funktion\n",
    "```python\n",
    "pandas.read_csv\n",
    "```\n",
    "Lasst uns gemeinsam einen Blick auf die Dokumentation werfen: https://pandas.pydata.org/pandas-docs/stable/reference/api/pandas.read_csv.html"
   ]
  },
  {
   "cell_type": "code",
   "execution_count": 14,
   "metadata": {},
   "outputs": [],
   "source": [
    "diabetes_df = pd.read_csv('./src/diabetes.csv')"
   ]
  },
  {
   "cell_type": "markdown",
   "metadata": {},
   "source": [
    "Der erste Schritt ist ein Überblick über das Datenset zu erhalten, auch hier gibt es einfache Funktionen, die Ihr heranziehen könnt. Hier verwenden wir die Funktion:\n",
    "```python\n",
    "pandas.DataFrame.head\n",
    "```\n",
    "Hier auch noch einmal der Blick auf die Dokumentation: https://pandas.pydata.org/docs/reference/api/pandas.DataFrame.head.html"
   ]
  },
  {
   "cell_type": "markdown",
   "metadata": {},
   "source": [
    "## Assess Data"
   ]
  },
  {
   "cell_type": "code",
   "execution_count": 15,
   "metadata": {},
   "outputs": [
    {
     "data": {
      "text/html": [
       "<div>\n",
       "<style scoped>\n",
       "    .dataframe tbody tr th:only-of-type {\n",
       "        vertical-align: middle;\n",
       "    }\n",
       "\n",
       "    .dataframe tbody tr th {\n",
       "        vertical-align: top;\n",
       "    }\n",
       "\n",
       "    .dataframe thead th {\n",
       "        text-align: right;\n",
       "    }\n",
       "</style>\n",
       "<table border=\"1\" class=\"dataframe\">\n",
       "  <thead>\n",
       "    <tr style=\"text-align: right;\">\n",
       "      <th></th>\n",
       "      <th>Pregnancies</th>\n",
       "      <th>Glucose</th>\n",
       "      <th>BloodPressure</th>\n",
       "      <th>SkinThickness</th>\n",
       "      <th>Insulin</th>\n",
       "      <th>BMI</th>\n",
       "      <th>DiabetesPedigreeFunction</th>\n",
       "      <th>Age</th>\n",
       "      <th>Outcome</th>\n",
       "    </tr>\n",
       "  </thead>\n",
       "  <tbody>\n",
       "    <tr>\n",
       "      <th>0</th>\n",
       "      <td>6</td>\n",
       "      <td>148</td>\n",
       "      <td>72</td>\n",
       "      <td>35</td>\n",
       "      <td>0</td>\n",
       "      <td>33.6</td>\n",
       "      <td>0.627</td>\n",
       "      <td>50</td>\n",
       "      <td>1</td>\n",
       "    </tr>\n",
       "    <tr>\n",
       "      <th>1</th>\n",
       "      <td>1</td>\n",
       "      <td>85</td>\n",
       "      <td>66</td>\n",
       "      <td>29</td>\n",
       "      <td>0</td>\n",
       "      <td>26.6</td>\n",
       "      <td>0.351</td>\n",
       "      <td>31</td>\n",
       "      <td>0</td>\n",
       "    </tr>\n",
       "    <tr>\n",
       "      <th>2</th>\n",
       "      <td>8</td>\n",
       "      <td>183</td>\n",
       "      <td>64</td>\n",
       "      <td>0</td>\n",
       "      <td>0</td>\n",
       "      <td>23.3</td>\n",
       "      <td>0.672</td>\n",
       "      <td>32</td>\n",
       "      <td>1</td>\n",
       "    </tr>\n",
       "    <tr>\n",
       "      <th>3</th>\n",
       "      <td>1</td>\n",
       "      <td>89</td>\n",
       "      <td>66</td>\n",
       "      <td>23</td>\n",
       "      <td>94</td>\n",
       "      <td>28.1</td>\n",
       "      <td>0.167</td>\n",
       "      <td>21</td>\n",
       "      <td>0</td>\n",
       "    </tr>\n",
       "    <tr>\n",
       "      <th>4</th>\n",
       "      <td>0</td>\n",
       "      <td>137</td>\n",
       "      <td>40</td>\n",
       "      <td>35</td>\n",
       "      <td>168</td>\n",
       "      <td>43.1</td>\n",
       "      <td>2.288</td>\n",
       "      <td>33</td>\n",
       "      <td>1</td>\n",
       "    </tr>\n",
       "  </tbody>\n",
       "</table>\n",
       "</div>"
      ],
      "text/plain": [
       "   Pregnancies  Glucose  BloodPressure  SkinThickness  Insulin   BMI  \\\n",
       "0            6      148             72             35        0  33.6   \n",
       "1            1       85             66             29        0  26.6   \n",
       "2            8      183             64              0        0  23.3   \n",
       "3            1       89             66             23       94  28.1   \n",
       "4            0      137             40             35      168  43.1   \n",
       "\n",
       "   DiabetesPedigreeFunction  Age  Outcome  \n",
       "0                     0.627   50        1  \n",
       "1                     0.351   31        0  \n",
       "2                     0.672   32        1  \n",
       "3                     0.167   21        0  \n",
       "4                     2.288   33        1  "
      ]
     },
     "execution_count": 15,
     "metadata": {},
     "output_type": "execute_result"
    }
   ],
   "source": [
    "diabetes_df.head()"
   ]
  },
  {
   "cell_type": "markdown",
   "metadata": {},
   "source": [
    "**Wichtig**: Ihr müsst ein gutes fachliches Verständnis der Spalten haben. Wie bereits am Anfang des Kurses erwähnt, könnt Ihr nur Kontext geben, wenn Ihr die Daten nachvollziehen könnt. Hier einmal eine Übersicht der Spalten, die ich aus der Dokumentation gezogen habe."
   ]
  },
  {
   "cell_type": "markdown",
   "metadata": {},
   "source": [
    "- **Pregnancies**: Anzahl der Schwangerschaften\n",
    "- **Glucose**: Glukoselevel der Patienten\n",
    "- **Blood Pressure**: Blutdruck\n",
    "- **SkinThickness**: Dicke der Haut des Patienten in mm\n",
    "- **Insulin**: Insulin-Level der Patienten (Zeitraum 2 Stunden)\n",
    "- **BMI**: Body-Mass-Index (Gewicht in kg / Größe in m)^2\n",
    "- **DiabetesPedigreeFunction**: Vorgeschichte von Diabetes mellitus in der Verwandtschaft\n",
    "- **Age**: Alter des Patienten\n",
    "- **Outcome**: Ob ein Patient Diabetes hat oder nicht"
   ]
  },
  {
   "cell_type": "markdown",
   "metadata": {},
   "source": [
    "**Hinweis**: Die Dokumentation kann auch noch ausführlicher sein\n",
    "\n",
    "Um noch ein wenig besseres Verständnis über das Datenset zu erhalten, lassen wir uns erst einmal **Histogramme** ausgeben. Auch hier bietet Pandas eine Standardfunktionalität.\n",
    "\n",
    "```python\n",
    "pandas.DataFrame.hist\n",
    "```\n",
    "\n",
    "Hier die Dokumentation: https://pandas.pydata.org/pandas-docs/stable/reference/api/pandas.DataFrame.hist.html"
   ]
  },
  {
   "cell_type": "code",
   "execution_count": 16,
   "metadata": {},
   "outputs": [
    {
     "data": {
      "text/plain": [
       "array([[<AxesSubplot:title={'center':'Pregnancies'}>,\n",
       "        <AxesSubplot:title={'center':'Glucose'}>,\n",
       "        <AxesSubplot:title={'center':'BloodPressure'}>],\n",
       "       [<AxesSubplot:title={'center':'SkinThickness'}>,\n",
       "        <AxesSubplot:title={'center':'Insulin'}>,\n",
       "        <AxesSubplot:title={'center':'BMI'}>],\n",
       "       [<AxesSubplot:title={'center':'DiabetesPedigreeFunction'}>,\n",
       "        <AxesSubplot:title={'center':'Age'}>,\n",
       "        <AxesSubplot:title={'center':'Outcome'}>]], dtype=object)"
      ]
     },
     "execution_count": 16,
     "metadata": {},
     "output_type": "execute_result"
    },
    {
     "data": {
      "image/png": "[encoded data removed]",
      "text/plain": [
       "<Figure size 1080x720 with 9 Axes>"
      ]
     },
     "metadata": {
      "needs_background": "light"
     },
     "output_type": "display_data"
    }
   ],
   "source": [
    "diabetes_df.hist(bins=30, figsize=(15,10))"
   ]
  },
  {
   "cell_type": "markdown",
   "metadata": {},
   "source": [
    "**Was sind Eure Beobachtungen habt Ihr bereits bei der Sichtung der Daten?**"
   ]
  },
  {
   "cell_type": "markdown",
   "metadata": {},
   "source": [
    " Bei der Auswahl dieses Datensets aus einer größeren Datenbank wurden mehrere Einschränkungen gemacht. Insbesondere sind alle Patienten hier  mindestens 21 Jahre alt. Was nicht ersichtlich ist, dass Sie alle weiblich sind und von Pima-Indianern abstammen.\n",
    " \n",
    "Ein weiter Punkt ist, dass wir direkt identfizieren, was **Numerisch** und **Kategorisch** ist. Hier werden wir im weiteren Kursverlauf weiter eingehen.\n",
    "\n",
    "Des Weiteren gibt es viele weitere Funktionen, einen ersten Einblick auf das Datenset zu erhalten. Ich würde Euch gerne noch eine Übersicht vorstellen, die Euch einige allgemeine statistische Informationen über den Datensatz zur Verfügung stellt. Dieser **simplifiziert die Erstanalyse massiv** und erstellt wesentliche Erkentnisse **\"Out-of-the-Box\"**:"
   ]
  },
  {
   "cell_type": "code",
   "execution_count": 17,
   "metadata": {},
   "outputs": [
    {
     "name": "stdout",
     "output_type": "stream",
     "text": [
      "<class 'pandas.core.frame.DataFrame'>\n",
      "RangeIndex: 768 entries, 0 to 767\n",
      "Data columns (total 9 columns):\n",
      " #   Column                    Non-Null Count  Dtype  \n",
      "---  ------                    --------------  -----  \n",
      " 0   Pregnancies               768 non-null    int64  \n",
      " 1   Glucose                   768 non-null    int64  \n",
      " 2   BloodPressure             768 non-null    int64  \n",
      " 3   SkinThickness             768 non-null    int64  \n",
      " 4   Insulin                   768 non-null    int64  \n",
      " 5   BMI                       768 non-null    float64\n",
      " 6   DiabetesPedigreeFunction  768 non-null    float64\n",
      " 7   Age                       768 non-null    int64  \n",
      " 8   Outcome                   768 non-null    int64  \n",
      "dtypes: float64(2), int64(7)\n",
      "memory usage: 54.1 KB\n"
     ]
    }
   ],
   "source": [
    "diabetes_df.info()"
   ]
  },
  {
   "cell_type": "code",
   "execution_count": 18,
   "metadata": {},
   "outputs": [
    {
     "data": {
      "text/html": [
       "<div>\n",
       "<style scoped>\n",
       "    .dataframe tbody tr th:only-of-type {\n",
       "        vertical-align: middle;\n",
       "    }\n",
       "\n",
       "    .dataframe tbody tr th {\n",
       "        vertical-align: top;\n",
       "    }\n",
       "\n",
       "    .dataframe thead th {\n",
       "        text-align: right;\n",
       "    }\n",
       "</style>\n",
       "<table border=\"1\" class=\"dataframe\">\n",
       "  <thead>\n",
       "    <tr style=\"text-align: right;\">\n",
       "      <th></th>\n",
       "      <th>Pregnancies</th>\n",
       "      <th>Glucose</th>\n",
       "      <th>BloodPressure</th>\n",
       "      <th>SkinThickness</th>\n",
       "      <th>Insulin</th>\n",
       "      <th>BMI</th>\n",
       "      <th>DiabetesPedigreeFunction</th>\n",
       "      <th>Age</th>\n",
       "      <th>Outcome</th>\n",
       "    </tr>\n",
       "  </thead>\n",
       "  <tbody>\n",
       "    <tr>\n",
       "      <th>count</th>\n",
       "      <td>768.000000</td>\n",
       "      <td>768.000000</td>\n",
       "      <td>768.000000</td>\n",
       "      <td>768.000000</td>\n",
       "      <td>768.000000</td>\n",
       "      <td>768.000000</td>\n",
       "      <td>768.000000</td>\n",
       "      <td>768.000000</td>\n",
       "      <td>768.000000</td>\n",
       "    </tr>\n",
       "    <tr>\n",
       "      <th>mean</th>\n",
       "      <td>3.845052</td>\n",
       "      <td>120.894531</td>\n",
       "      <td>69.105469</td>\n",
       "      <td>20.536458</td>\n",
       "      <td>79.799479</td>\n",
       "      <td>31.992578</td>\n",
       "      <td>0.471876</td>\n",
       "      <td>33.240885</td>\n",
       "      <td>0.348958</td>\n",
       "    </tr>\n",
       "    <tr>\n",
       "      <th>std</th>\n",
       "      <td>3.369578</td>\n",
       "      <td>31.972618</td>\n",
       "      <td>19.355807</td>\n",
       "      <td>15.952218</td>\n",
       "      <td>115.244002</td>\n",
       "      <td>7.884160</td>\n",
       "      <td>0.331329</td>\n",
       "      <td>11.760232</td>\n",
       "      <td>0.476951</td>\n",
       "    </tr>\n",
       "    <tr>\n",
       "      <th>min</th>\n",
       "      <td>0.000000</td>\n",
       "      <td>0.000000</td>\n",
       "      <td>0.000000</td>\n",
       "      <td>0.000000</td>\n",
       "      <td>0.000000</td>\n",
       "      <td>0.000000</td>\n",
       "      <td>0.078000</td>\n",
       "      <td>21.000000</td>\n",
       "      <td>0.000000</td>\n",
       "    </tr>\n",
       "    <tr>\n",
       "      <th>25%</th>\n",
       "      <td>1.000000</td>\n",
       "      <td>99.000000</td>\n",
       "      <td>62.000000</td>\n",
       "      <td>0.000000</td>\n",
       "      <td>0.000000</td>\n",
       "      <td>27.300000</td>\n",
       "      <td>0.243750</td>\n",
       "      <td>24.000000</td>\n",
       "      <td>0.000000</td>\n",
       "    </tr>\n",
       "    <tr>\n",
       "      <th>50%</th>\n",
       "      <td>3.000000</td>\n",
       "      <td>117.000000</td>\n",
       "      <td>72.000000</td>\n",
       "      <td>23.000000</td>\n",
       "      <td>30.500000</td>\n",
       "      <td>32.000000</td>\n",
       "      <td>0.372500</td>\n",
       "      <td>29.000000</td>\n",
       "      <td>0.000000</td>\n",
       "    </tr>\n",
       "    <tr>\n",
       "      <th>75%</th>\n",
       "      <td>6.000000</td>\n",
       "      <td>140.250000</td>\n",
       "      <td>80.000000</td>\n",
       "      <td>32.000000</td>\n",
       "      <td>127.250000</td>\n",
       "      <td>36.600000</td>\n",
       "      <td>0.626250</td>\n",
       "      <td>41.000000</td>\n",
       "      <td>1.000000</td>\n",
       "    </tr>\n",
       "    <tr>\n",
       "      <th>max</th>\n",
       "      <td>17.000000</td>\n",
       "      <td>199.000000</td>\n",
       "      <td>122.000000</td>\n",
       "      <td>99.000000</td>\n",
       "      <td>846.000000</td>\n",
       "      <td>67.100000</td>\n",
       "      <td>2.420000</td>\n",
       "      <td>81.000000</td>\n",
       "      <td>1.000000</td>\n",
       "    </tr>\n",
       "  </tbody>\n",
       "</table>\n",
       "</div>"
      ],
      "text/plain": [
       "       Pregnancies     Glucose  BloodPressure  SkinThickness     Insulin  \\\n",
       "count   768.000000  768.000000     768.000000     768.000000  768.000000   \n",
       "mean      3.845052  120.894531      69.105469      20.536458   79.799479   \n",
       "std       3.369578   31.972618      19.355807      15.952218  115.244002   \n",
       "min       0.000000    0.000000       0.000000       0.000000    0.000000   \n",
       "25%       1.000000   99.000000      62.000000       0.000000    0.000000   \n",
       "50%       3.000000  117.000000      72.000000      23.000000   30.500000   \n",
       "75%       6.000000  140.250000      80.000000      32.000000  127.250000   \n",
       "max      17.000000  199.000000     122.000000      99.000000  846.000000   \n",
       "\n",
       "              BMI  DiabetesPedigreeFunction         Age     Outcome  \n",
       "count  768.000000                768.000000  768.000000  768.000000  \n",
       "mean    31.992578                  0.471876   33.240885    0.348958  \n",
       "std      7.884160                  0.331329   11.760232    0.476951  \n",
       "min      0.000000                  0.078000   21.000000    0.000000  \n",
       "25%     27.300000                  0.243750   24.000000    0.000000  \n",
       "50%     32.000000                  0.372500   29.000000    0.000000  \n",
       "75%     36.600000                  0.626250   41.000000    1.000000  \n",
       "max     67.100000                  2.420000   81.000000    1.000000  "
      ]
     },
     "execution_count": 18,
     "metadata": {},
     "output_type": "execute_result"
    }
   ],
   "source": [
    "#Gibt die wichtigsten Kennzahlen pro Spalte wieder\n",
    "diabetes_df.describe()"
   ]
  },
  {
   "cell_type": "code",
   "execution_count": 19,
   "metadata": {},
   "outputs": [
    {
     "ename": "NameError",
     "evalue": "name 'pp' is not defined",
     "output_type": "error",
     "traceback": [
      "\u001b[0;31m---------------------------------------------------------------------------\u001b[0m",
      "\u001b[0;31mNameError\u001b[0m                                 Traceback (most recent call last)",
      "Input \u001b[0;32mIn [19]\u001b[0m, in \u001b[0;36m<cell line: 2>\u001b[0;34m()\u001b[0m\n\u001b[1;32m      1\u001b[0m \u001b[38;5;66;03m# Gibt ein sehr ausführlichen Report über die Daten wieder\u001b[39;00m\n\u001b[0;32m----> 2\u001b[0m \u001b[43mpp\u001b[49m\u001b[38;5;241m.\u001b[39mProfileReport(diabetes_df, minimal\u001b[38;5;241m=\u001b[39m\u001b[38;5;28;01mTrue\u001b[39;00m)\n",
      "\u001b[0;31mNameError\u001b[0m: name 'pp' is not defined"
     ]
    }
   ],
   "source": [
    "# Gibt ein sehr ausführlichen Report über die Daten wieder\n",
    "pp.ProfileReport(diabetes_df, minimal=True)"
   ]
  },
  {
   "cell_type": "code",
   "execution_count": 20,
   "metadata": {},
   "outputs": [
    {
     "name": "stdout",
     "output_type": "stream",
     "text": [
      "Check, ob doppelte Zeilen im DataFrame vorhanden sind:\n"
     ]
    },
    {
     "data": {
      "text/html": [
       "<div>\n",
       "<style scoped>\n",
       "    .dataframe tbody tr th:only-of-type {\n",
       "        vertical-align: middle;\n",
       "    }\n",
       "\n",
       "    .dataframe tbody tr th {\n",
       "        vertical-align: top;\n",
       "    }\n",
       "\n",
       "    .dataframe thead th {\n",
       "        text-align: right;\n",
       "    }\n",
       "</style>\n",
       "<table border=\"1\" class=\"dataframe\">\n",
       "  <thead>\n",
       "    <tr style=\"text-align: right;\">\n",
       "      <th></th>\n",
       "      <th>Pregnancies</th>\n",
       "      <th>Glucose</th>\n",
       "      <th>BloodPressure</th>\n",
       "      <th>SkinThickness</th>\n",
       "      <th>Insulin</th>\n",
       "      <th>BMI</th>\n",
       "      <th>DiabetesPedigreeFunction</th>\n",
       "      <th>Age</th>\n",
       "      <th>Outcome</th>\n",
       "    </tr>\n",
       "  </thead>\n",
       "  <tbody>\n",
       "  </tbody>\n",
       "</table>\n",
       "</div>"
      ],
      "text/plain": [
       "Empty DataFrame\n",
       "Columns: [Pregnancies, Glucose, BloodPressure, SkinThickness, Insulin, BMI, DiabetesPedigreeFunction, Age, Outcome]\n",
       "Index: []"
      ]
     },
     "execution_count": 20,
     "metadata": {},
     "output_type": "execute_result"
    }
   ],
   "source": [
    "duplicate = diabetes_df[diabetes_df.duplicated()]\n",
    "print(\"Check, ob doppelte Zeilen im DataFrame vorhanden sind:\")\n",
    "duplicate"
   ]
  },
  {
   "cell_type": "markdown",
   "metadata": {},
   "source": [
    "### Results/Findings\n",
    "**Wichtige Erkenntnisse:**\n",
    "- Keine **fehlenden** oder **doppelten Zeilen** im DataFrame\n",
    "- Summe der Nullwerte in Spalte \"Pregnancies\" ist ziemlich gering (nur 14,5 %). **Über 80 % der Patienten** im Datensatz einfach oder mehrfach schwanger waren\n",
    "- ...\n",
    "\n",
    "**Fazit**: Da es keine fehlenden oder doppelten Zeilen im Datenrahmen gibt, wie oben gesehen, müssen wir keine zusätzliche Datenbereinigung durchführen."
   ]
  },
  {
   "cell_type": "markdown",
   "metadata": {},
   "source": [
    "### Anmerkung\n",
    "\n",
    "Wir merken, dass die Daten bereits gut vorbereitet sind. Das ist im \"realen Leben\" nicht immer der Fall. Hier eine kleine Anekdote, die Euch im weiteren Verlauf des Kurses begleiten wird."
   ]
  },
  {
   "cell_type": "markdown",
   "metadata": {},
   "source": [
    "<div>\n",
    "<img src=\"./src/real_data.png\" width=\"500\"/>\n",
    "</div>"
   ]
  },
  {
   "cell_type": "markdown",
   "metadata": {},
   "source": [
    "## Clean Data"
   ]
  },
  {
   "cell_type": "markdown",
   "metadata": {
    "tags": []
   },
   "source": [
    "### Erster Fehler: Zum Beispiel NULL Werte in Schwangerschaft mit Mittelwert ersetzen"
   ]
  },
  {
   "cell_type": "code",
   "execution_count": 25,
   "metadata": {},
   "outputs": [],
   "source": [
    "diabetes_df.fillna(diabetes_df.mean().round(1), inplace=True)\n",
    "### Code um Null Werte in den Zeilen mit dem Mittelwert zu ersetzen"
   ]
  },
  {
   "cell_type": "code",
   "execution_count": 26,
   "metadata": {},
   "outputs": [
    {
     "name": "stdout",
     "output_type": "stream",
     "text": [
      "<class 'pandas.core.frame.DataFrame'>\n",
      "RangeIndex: 768 entries, 0 to 767\n",
      "Data columns (total 9 columns):\n",
      " #   Column                    Non-Null Count  Dtype  \n",
      "---  ------                    --------------  -----  \n",
      " 0   Pregnancies               768 non-null    int64  \n",
      " 1   Glucose                   768 non-null    int64  \n",
      " 2   BloodPressure             768 non-null    int64  \n",
      " 3   SkinThickness             768 non-null    int64  \n",
      " 4   Insulin                   768 non-null    int64  \n",
      " 5   BMI                       768 non-null    float64\n",
      " 6   DiabetesPedigreeFunction  768 non-null    float64\n",
      " 7   Age                       768 non-null    int64  \n",
      " 8   Outcome                   768 non-null    int64  \n",
      "dtypes: float64(2), int64(7)\n",
      "memory usage: 54.1 KB\n"
     ]
    }
   ],
   "source": [
    "### Test ob die Null Werte behoben sind mit \n",
    "diabetes_df.info()"
   ]
  },
  {
   "cell_type": "markdown",
   "metadata": {
    "tags": []
   },
   "source": [
    "### Zweiter Fehler: Zum Beispiel NULL Werte in Insulin Zeile löschen"
   ]
  },
  {
   "cell_type": "code",
   "execution_count": null,
   "metadata": {},
   "outputs": [],
   "source": [
    "### Code\n",
    "### Code um Zeilen aus einem dataframe zu löschen"
   ]
  },
  {
   "cell_type": "code",
   "execution_count": 22,
   "metadata": {},
   "outputs": [
    {
     "name": "stdout",
     "output_type": "stream",
     "text": [
      "<class 'pandas.core.frame.DataFrame'>\n",
      "RangeIndex: 768 entries, 0 to 767\n",
      "Data columns (total 9 columns):\n",
      " #   Column                    Non-Null Count  Dtype  \n",
      "---  ------                    --------------  -----  \n",
      " 0   Pregnancies               768 non-null    int64  \n",
      " 1   Glucose                   768 non-null    int64  \n",
      " 2   BloodPressure             768 non-null    int64  \n",
      " 3   SkinThickness             768 non-null    int64  \n",
      " 4   Insulin                   768 non-null    int64  \n",
      " 5   BMI                       768 non-null    float64\n",
      " 6   DiabetesPedigreeFunction  768 non-null    float64\n",
      " 7   Age                       768 non-null    int64  \n",
      " 8   Outcome                   768 non-null    int64  \n",
      "dtypes: float64(2), int64(7)\n",
      "memory usage: 54.1 KB\n"
     ]
    }
   ],
   "source": [
    "### Test ob die Null Werte behoben sind mit \n",
    "diabetes_df.info()"
   ]
  },
  {
   "cell_type": "markdown",
   "metadata": {},
   "source": [
    "## Store the Data"
   ]
  },
  {
   "cell_type": "markdown",
   "metadata": {},
   "source": [
    "Meistens wollen wir mit dem gesäuberten Dataframe weiterabeiten, damit wir sicher sich, dass dieses auch gespeichert wird, persistieren wir dieses, bevor wir mit der Analyse weitermachen"
   ]
  },
  {
   "cell_type": "code",
   "execution_count": 27,
   "metadata": {},
   "outputs": [],
   "source": [
    "df_diabetes_clean = diabetes_df.copy()\n",
    "df_diabetes_clean.to_csv('src/diabetes_clean.csv', index=False)"
   ]
  },
  {
   "cell_type": "markdown",
   "metadata": {},
   "source": [
    "## Exploratory Data Analysis\n",
    "Hier werden dann die variablen genauer untersucht. Welche Variablen sind wirklich wichtig, wo findet man Korrelationen etc."
   ]
  },
  {
   "cell_type": "markdown",
   "metadata": {},
   "source": [
    "Gucken wir uns noch einmal die Korrelation der Variablen an - hier werden erste Zusammenhänge bereits sehr ersichtlich. Hierzu verwenden wir wieder eine Methode aus dem Pandas Package.\n",
    "\n",
    "```python\n",
    "pandas.DataFrame.corr\n",
    "```\n",
    "\n",
    "Hier zur Dokumentation: https://pandas.pydata.org/pandas-docs/stable/reference/api/pandas.DataFrame.corr.html\n",
    "\n",
    "Als Varible verwenden wir den Standard Korrelationskoeffizient, auch Pearson correlation coefficient genannt. Diese Methode ist ein mögliches Maß zur Maß zur Darlegung des linearen Zusammenhangs zwischen zwei Merkmalen.\n",
    "\n",
    "Um die zurückgegebene Matrix mit den Korrelationen lesbarer zu machen, färben wir die Werte ein."
   ]
  },
  {
   "cell_type": "code",
   "execution_count": 28,
   "metadata": {},
   "outputs": [
    {
     "data": {
      "text/html": [
       "<style type=\"text/css\">\n",
       "#T_59123_row0_col0, #T_59123_row1_col1, #T_59123_row2_col2, #T_59123_row3_col3, #T_59123_row4_col4, #T_59123_row5_col5, #T_59123_row6_col6, #T_59123_row7_col7, #T_59123_row8_col8 {\n",
       "  background-color: #08306b;\n",
       "  color: #f1f1f1;\n",
       "}\n",
       "#T_59123_row0_col1 {\n",
       "  background-color: #e8f1fa;\n",
       "  color: #000000;\n",
       "}\n",
       "#T_59123_row0_col2 {\n",
       "  background-color: #e3eef8;\n",
       "  color: #000000;\n",
       "}\n",
       "#T_59123_row0_col3, #T_59123_row7_col4 {\n",
       "  background-color: #f2f7fd;\n",
       "  color: #000000;\n",
       "}\n",
       "#T_59123_row0_col4, #T_59123_row0_col5, #T_59123_row0_col6, #T_59123_row2_col8, #T_59123_row3_col0, #T_59123_row3_col1, #T_59123_row3_col7, #T_59123_row6_col2, #T_59123_row7_col3 {\n",
       "  background-color: #f7fbff;\n",
       "  color: #000000;\n",
       "}\n",
       "#T_59123_row0_col7 {\n",
       "  background-color: #4d99ca;\n",
       "  color: #f1f1f1;\n",
       "}\n",
       "#T_59123_row0_col8, #T_59123_row1_col6 {\n",
       "  background-color: #d6e6f4;\n",
       "  color: #000000;\n",
       "}\n",
       "#T_59123_row1_col0 {\n",
       "  background-color: #d1e2f3;\n",
       "  color: #000000;\n",
       "}\n",
       "#T_59123_row1_col2, #T_59123_row6_col8 {\n",
       "  background-color: #e0ecf8;\n",
       "  color: #000000;\n",
       "}\n",
       "#T_59123_row1_col3 {\n",
       "  background-color: #d9e7f5;\n",
       "  color: #000000;\n",
       "}\n",
       "#T_59123_row1_col4 {\n",
       "  background-color: #9dcae1;\n",
       "  color: #000000;\n",
       "}\n",
       "#T_59123_row1_col5, #T_59123_row3_col6 {\n",
       "  background-color: #cee0f2;\n",
       "  color: #000000;\n",
       "}\n",
       "#T_59123_row1_col7 {\n",
       "  background-color: #aacfe5;\n",
       "  color: #000000;\n",
       "}\n",
       "#T_59123_row1_col8 {\n",
       "  background-color: #89bedc;\n",
       "  color: #000000;\n",
       "}\n",
       "#T_59123_row2_col0, #T_59123_row7_col2 {\n",
       "  background-color: #cfe1f2;\n",
       "  color: #000000;\n",
       "}\n",
       "#T_59123_row2_col1 {\n",
       "  background-color: #e3eef9;\n",
       "  color: #000000;\n",
       "}\n",
       "#T_59123_row2_col3 {\n",
       "  background-color: #bad6eb;\n",
       "  color: #000000;\n",
       "}\n",
       "#T_59123_row2_col4 {\n",
       "  background-color: #d9e8f5;\n",
       "  color: #000000;\n",
       "}\n",
       "#T_59123_row2_col5, #T_59123_row6_col3 {\n",
       "  background-color: #c1d9ed;\n",
       "  color: #000000;\n",
       "}\n",
       "#T_59123_row2_col6 {\n",
       "  background-color: #e9f2fa;\n",
       "  color: #000000;\n",
       "}\n",
       "#T_59123_row2_col7 {\n",
       "  background-color: #b0d2e7;\n",
       "  color: #000000;\n",
       "}\n",
       "#T_59123_row3_col2, #T_59123_row5_col1 {\n",
       "  background-color: #d5e5f4;\n",
       "  color: #000000;\n",
       "}\n",
       "#T_59123_row3_col4 {\n",
       "  background-color: #75b4d8;\n",
       "  color: #000000;\n",
       "}\n",
       "#T_59123_row3_col5 {\n",
       "  background-color: #9cc9e1;\n",
       "  color: #000000;\n",
       "}\n",
       "#T_59123_row3_col8 {\n",
       "  background-color: #f5fafe;\n",
       "  color: #000000;\n",
       "}\n",
       "#T_59123_row4_col0 {\n",
       "  background-color: #f6faff;\n",
       "  color: #000000;\n",
       "}\n",
       "#T_59123_row4_col1 {\n",
       "  background-color: #b9d6ea;\n",
       "  color: #000000;\n",
       "}\n",
       "#T_59123_row4_col2, #T_59123_row6_col0 {\n",
       "  background-color: #eef5fc;\n",
       "  color: #000000;\n",
       "}\n",
       "#T_59123_row4_col3 {\n",
       "  background-color: #6dafd7;\n",
       "  color: #f1f1f1;\n",
       "}\n",
       "#T_59123_row4_col5 {\n",
       "  background-color: #d3e4f3;\n",
       "  color: #000000;\n",
       "}\n",
       "#T_59123_row4_col6 {\n",
       "  background-color: #cde0f1;\n",
       "  color: #000000;\n",
       "}\n",
       "#T_59123_row4_col7, #T_59123_row7_col6 {\n",
       "  background-color: #eaf3fb;\n",
       "  color: #000000;\n",
       "}\n",
       "#T_59123_row4_col8 {\n",
       "  background-color: #eaf2fb;\n",
       "  color: #000000;\n",
       "}\n",
       "#T_59123_row5_col0 {\n",
       "  background-color: #e5eff9;\n",
       "  color: #000000;\n",
       "}\n",
       "#T_59123_row5_col2, #T_59123_row5_col4 {\n",
       "  background-color: #c6dbef;\n",
       "  color: #000000;\n",
       "}\n",
       "#T_59123_row5_col3 {\n",
       "  background-color: #7db8da;\n",
       "  color: #000000;\n",
       "}\n",
       "#T_59123_row5_col6, #T_59123_row8_col3 {\n",
       "  background-color: #d6e5f4;\n",
       "  color: #000000;\n",
       "}\n",
       "#T_59123_row5_col7 {\n",
       "  background-color: #dceaf6;\n",
       "  color: #000000;\n",
       "}\n",
       "#T_59123_row5_col8 {\n",
       "  background-color: #c7dcef;\n",
       "  color: #000000;\n",
       "}\n",
       "#T_59123_row6_col1 {\n",
       "  background-color: #e7f0fa;\n",
       "  color: #000000;\n",
       "}\n",
       "#T_59123_row6_col4 {\n",
       "  background-color: #c8dcf0;\n",
       "  color: #000000;\n",
       "}\n",
       "#T_59123_row6_col5 {\n",
       "  background-color: #deebf7;\n",
       "  color: #000000;\n",
       "}\n",
       "#T_59123_row6_col7 {\n",
       "  background-color: #ddeaf7;\n",
       "  color: #000000;\n",
       "}\n",
       "#T_59123_row7_col0 {\n",
       "  background-color: #519ccc;\n",
       "  color: #f1f1f1;\n",
       "}\n",
       "#T_59123_row7_col1 {\n",
       "  background-color: #cddff1;\n",
       "  color: #000000;\n",
       "}\n",
       "#T_59123_row7_col5 {\n",
       "  background-color: #f4f9fe;\n",
       "  color: #000000;\n",
       "}\n",
       "#T_59123_row7_col8 {\n",
       "  background-color: #d3e3f3;\n",
       "  color: #000000;\n",
       "}\n",
       "#T_59123_row8_col0, #T_59123_row8_col5 {\n",
       "  background-color: #bdd7ec;\n",
       "  color: #000000;\n",
       "}\n",
       "#T_59123_row8_col1 {\n",
       "  background-color: #85bcdc;\n",
       "  color: #000000;\n",
       "}\n",
       "#T_59123_row8_col2 {\n",
       "  background-color: #f2f8fd;\n",
       "  color: #000000;\n",
       "}\n",
       "#T_59123_row8_col4 {\n",
       "  background-color: #d2e3f3;\n",
       "  color: #000000;\n",
       "}\n",
       "#T_59123_row8_col6 {\n",
       "  background-color: #d0e1f2;\n",
       "  color: #000000;\n",
       "}\n",
       "#T_59123_row8_col7 {\n",
       "  background-color: #b2d2e8;\n",
       "  color: #000000;\n",
       "}\n",
       "</style>\n",
       "<table id=\"T_59123\">\n",
       "  <thead>\n",
       "    <tr>\n",
       "      <th class=\"blank level0\" >&nbsp;</th>\n",
       "      <th id=\"T_59123_level0_col0\" class=\"col_heading level0 col0\" >Pregnancies</th>\n",
       "      <th id=\"T_59123_level0_col1\" class=\"col_heading level0 col1\" >Glucose</th>\n",
       "      <th id=\"T_59123_level0_col2\" class=\"col_heading level0 col2\" >BloodPressure</th>\n",
       "      <th id=\"T_59123_level0_col3\" class=\"col_heading level0 col3\" >SkinThickness</th>\n",
       "      <th id=\"T_59123_level0_col4\" class=\"col_heading level0 col4\" >Insulin</th>\n",
       "      <th id=\"T_59123_level0_col5\" class=\"col_heading level0 col5\" >BMI</th>\n",
       "      <th id=\"T_59123_level0_col6\" class=\"col_heading level0 col6\" >DiabetesPedigreeFunction</th>\n",
       "      <th id=\"T_59123_level0_col7\" class=\"col_heading level0 col7\" >Age</th>\n",
       "      <th id=\"T_59123_level0_col8\" class=\"col_heading level0 col8\" >Outcome</th>\n",
       "    </tr>\n",
       "  </thead>\n",
       "  <tbody>\n",
       "    <tr>\n",
       "      <th id=\"T_59123_level0_row0\" class=\"row_heading level0 row0\" >Pregnancies</th>\n",
       "      <td id=\"T_59123_row0_col0\" class=\"data row0 col0\" >1.000000</td>\n",
       "      <td id=\"T_59123_row0_col1\" class=\"data row0 col1\" >0.129459</td>\n",
       "      <td id=\"T_59123_row0_col2\" class=\"data row0 col2\" >0.141282</td>\n",
       "      <td id=\"T_59123_row0_col3\" class=\"data row0 col3\" >-0.081672</td>\n",
       "      <td id=\"T_59123_row0_col4\" class=\"data row0 col4\" >-0.073535</td>\n",
       "      <td id=\"T_59123_row0_col5\" class=\"data row0 col5\" >0.017683</td>\n",
       "      <td id=\"T_59123_row0_col6\" class=\"data row0 col6\" >-0.033523</td>\n",
       "      <td id=\"T_59123_row0_col7\" class=\"data row0 col7\" >0.544341</td>\n",
       "      <td id=\"T_59123_row0_col8\" class=\"data row0 col8\" >0.221898</td>\n",
       "    </tr>\n",
       "    <tr>\n",
       "      <th id=\"T_59123_level0_row1\" class=\"row_heading level0 row1\" >Glucose</th>\n",
       "      <td id=\"T_59123_row1_col0\" class=\"data row1 col0\" >0.129459</td>\n",
       "      <td id=\"T_59123_row1_col1\" class=\"data row1 col1\" >1.000000</td>\n",
       "      <td id=\"T_59123_row1_col2\" class=\"data row1 col2\" >0.152590</td>\n",
       "      <td id=\"T_59123_row1_col3\" class=\"data row1 col3\" >0.057328</td>\n",
       "      <td id=\"T_59123_row1_col4\" class=\"data row1 col4\" >0.331357</td>\n",
       "      <td id=\"T_59123_row1_col5\" class=\"data row1 col5\" >0.221071</td>\n",
       "      <td id=\"T_59123_row1_col6\" class=\"data row1 col6\" >0.137337</td>\n",
       "      <td id=\"T_59123_row1_col7\" class=\"data row1 col7\" >0.263514</td>\n",
       "      <td id=\"T_59123_row1_col8\" class=\"data row1 col8\" >0.466581</td>\n",
       "    </tr>\n",
       "    <tr>\n",
       "      <th id=\"T_59123_level0_row2\" class=\"row_heading level0 row2\" >BloodPressure</th>\n",
       "      <td id=\"T_59123_row2_col0\" class=\"data row2 col0\" >0.141282</td>\n",
       "      <td id=\"T_59123_row2_col1\" class=\"data row2 col1\" >0.152590</td>\n",
       "      <td id=\"T_59123_row2_col2\" class=\"data row2 col2\" >1.000000</td>\n",
       "      <td id=\"T_59123_row2_col3\" class=\"data row2 col3\" >0.207371</td>\n",
       "      <td id=\"T_59123_row2_col4\" class=\"data row2 col4\" >0.088933</td>\n",
       "      <td id=\"T_59123_row2_col5\" class=\"data row2 col5\" >0.281805</td>\n",
       "      <td id=\"T_59123_row2_col6\" class=\"data row2 col6\" >0.041265</td>\n",
       "      <td id=\"T_59123_row2_col7\" class=\"data row2 col7\" >0.239528</td>\n",
       "      <td id=\"T_59123_row2_col8\" class=\"data row2 col8\" >0.065068</td>\n",
       "    </tr>\n",
       "    <tr>\n",
       "      <th id=\"T_59123_level0_row3\" class=\"row_heading level0 row3\" >SkinThickness</th>\n",
       "      <td id=\"T_59123_row3_col0\" class=\"data row3 col0\" >-0.081672</td>\n",
       "      <td id=\"T_59123_row3_col1\" class=\"data row3 col1\" >0.057328</td>\n",
       "      <td id=\"T_59123_row3_col2\" class=\"data row3 col2\" >0.207371</td>\n",
       "      <td id=\"T_59123_row3_col3\" class=\"data row3 col3\" >1.000000</td>\n",
       "      <td id=\"T_59123_row3_col4\" class=\"data row3 col4\" >0.436783</td>\n",
       "      <td id=\"T_59123_row3_col5\" class=\"data row3 col5\" >0.392573</td>\n",
       "      <td id=\"T_59123_row3_col6\" class=\"data row3 col6\" >0.183928</td>\n",
       "      <td id=\"T_59123_row3_col7\" class=\"data row3 col7\" >-0.113970</td>\n",
       "      <td id=\"T_59123_row3_col8\" class=\"data row3 col8\" >0.074752</td>\n",
       "    </tr>\n",
       "    <tr>\n",
       "      <th id=\"T_59123_level0_row4\" class=\"row_heading level0 row4\" >Insulin</th>\n",
       "      <td id=\"T_59123_row4_col0\" class=\"data row4 col0\" >-0.073535</td>\n",
       "      <td id=\"T_59123_row4_col1\" class=\"data row4 col1\" >0.331357</td>\n",
       "      <td id=\"T_59123_row4_col2\" class=\"data row4 col2\" >0.088933</td>\n",
       "      <td id=\"T_59123_row4_col3\" class=\"data row4 col3\" >0.436783</td>\n",
       "      <td id=\"T_59123_row4_col4\" class=\"data row4 col4\" >1.000000</td>\n",
       "      <td id=\"T_59123_row4_col5\" class=\"data row4 col5\" >0.197859</td>\n",
       "      <td id=\"T_59123_row4_col6\" class=\"data row4 col6\" >0.185071</td>\n",
       "      <td id=\"T_59123_row4_col7\" class=\"data row4 col7\" >-0.042163</td>\n",
       "      <td id=\"T_59123_row4_col8\" class=\"data row4 col8\" >0.130548</td>\n",
       "    </tr>\n",
       "    <tr>\n",
       "      <th id=\"T_59123_level0_row5\" class=\"row_heading level0 row5\" >BMI</th>\n",
       "      <td id=\"T_59123_row5_col0\" class=\"data row5 col0\" >0.017683</td>\n",
       "      <td id=\"T_59123_row5_col1\" class=\"data row5 col1\" >0.221071</td>\n",
       "      <td id=\"T_59123_row5_col2\" class=\"data row5 col2\" >0.281805</td>\n",
       "      <td id=\"T_59123_row5_col3\" class=\"data row5 col3\" >0.392573</td>\n",
       "      <td id=\"T_59123_row5_col4\" class=\"data row5 col4\" >0.197859</td>\n",
       "      <td id=\"T_59123_row5_col5\" class=\"data row5 col5\" >1.000000</td>\n",
       "      <td id=\"T_59123_row5_col6\" class=\"data row5 col6\" >0.140647</td>\n",
       "      <td id=\"T_59123_row5_col7\" class=\"data row5 col7\" >0.036242</td>\n",
       "      <td id=\"T_59123_row5_col8\" class=\"data row5 col8\" >0.292695</td>\n",
       "    </tr>\n",
       "    <tr>\n",
       "      <th id=\"T_59123_level0_row6\" class=\"row_heading level0 row6\" >DiabetesPedigreeFunction</th>\n",
       "      <td id=\"T_59123_row6_col0\" class=\"data row6 col0\" >-0.033523</td>\n",
       "      <td id=\"T_59123_row6_col1\" class=\"data row6 col1\" >0.137337</td>\n",
       "      <td id=\"T_59123_row6_col2\" class=\"data row6 col2\" >0.041265</td>\n",
       "      <td id=\"T_59123_row6_col3\" class=\"data row6 col3\" >0.183928</td>\n",
       "      <td id=\"T_59123_row6_col4\" class=\"data row6 col4\" >0.185071</td>\n",
       "      <td id=\"T_59123_row6_col5\" class=\"data row6 col5\" >0.140647</td>\n",
       "      <td id=\"T_59123_row6_col6\" class=\"data row6 col6\" >1.000000</td>\n",
       "      <td id=\"T_59123_row6_col7\" class=\"data row6 col7\" >0.033561</td>\n",
       "      <td id=\"T_59123_row6_col8\" class=\"data row6 col8\" >0.173844</td>\n",
       "    </tr>\n",
       "    <tr>\n",
       "      <th id=\"T_59123_level0_row7\" class=\"row_heading level0 row7\" >Age</th>\n",
       "      <td id=\"T_59123_row7_col0\" class=\"data row7 col0\" >0.544341</td>\n",
       "      <td id=\"T_59123_row7_col1\" class=\"data row7 col1\" >0.263514</td>\n",
       "      <td id=\"T_59123_row7_col2\" class=\"data row7 col2\" >0.239528</td>\n",
       "      <td id=\"T_59123_row7_col3\" class=\"data row7 col3\" >-0.113970</td>\n",
       "      <td id=\"T_59123_row7_col4\" class=\"data row7 col4\" >-0.042163</td>\n",
       "      <td id=\"T_59123_row7_col5\" class=\"data row7 col5\" >0.036242</td>\n",
       "      <td id=\"T_59123_row7_col6\" class=\"data row7 col6\" >0.033561</td>\n",
       "      <td id=\"T_59123_row7_col7\" class=\"data row7 col7\" >1.000000</td>\n",
       "      <td id=\"T_59123_row7_col8\" class=\"data row7 col8\" >0.238356</td>\n",
       "    </tr>\n",
       "    <tr>\n",
       "      <th id=\"T_59123_level0_row8\" class=\"row_heading level0 row8\" >Outcome</th>\n",
       "      <td id=\"T_59123_row8_col0\" class=\"data row8 col0\" >0.221898</td>\n",
       "      <td id=\"T_59123_row8_col1\" class=\"data row8 col1\" >0.466581</td>\n",
       "      <td id=\"T_59123_row8_col2\" class=\"data row8 col2\" >0.065068</td>\n",
       "      <td id=\"T_59123_row8_col3\" class=\"data row8 col3\" >0.074752</td>\n",
       "      <td id=\"T_59123_row8_col4\" class=\"data row8 col4\" >0.130548</td>\n",
       "      <td id=\"T_59123_row8_col5\" class=\"data row8 col5\" >0.292695</td>\n",
       "      <td id=\"T_59123_row8_col6\" class=\"data row8 col6\" >0.173844</td>\n",
       "      <td id=\"T_59123_row8_col7\" class=\"data row8 col7\" >0.238356</td>\n",
       "      <td id=\"T_59123_row8_col8\" class=\"data row8 col8\" >1.000000</td>\n",
       "    </tr>\n",
       "  </tbody>\n",
       "</table>\n"
      ],
      "text/plain": [
       "<pandas.io.formats.style.Styler at 0x7f77cd4f1e70>"
      ]
     },
     "execution_count": 28,
     "metadata": {},
     "output_type": "execute_result"
    }
   ],
   "source": [
    "diabetes_corr = diabetes_df.corr(method='pearson')\n",
    "diabetes_corr.style.background_gradient(cmap='Blues')"
   ]
  },
  {
   "cell_type": "markdown",
   "metadata": {},
   "source": [
    "Eine *positive Korrelation* ist zwischen folgenden Variablen zu beobachten:\n",
    "- Alter und Schwangere\n",
    "- Glukose und Outcome\n",
    "- Hautdicke und Insulin\n",
    "\n",
    "Was könnte hier die *Interpretation* sein?"
   ]
  },
  {
   "cell_type": "markdown",
   "metadata": {},
   "source": [
    "![purple-divider](https://user-images.githubusercontent.com/7065401/52071927-c1cd7100-2562-11e9-908a-dde91ba14e59.png)"
   ]
  },
  {
   "cell_type": "markdown",
   "metadata": {},
   "source": [
    "## Maschine Learning Teil"
   ]
  },
  {
   "cell_type": "markdown",
   "metadata": {},
   "source": [
    "Für die weitere Analyse würden wir nun die Daten in Test und Train aufteilen, weitere Analysen durchführen und uns für eine Modell entscheiden, welches bestmöglich vorhersagt, ob eine Person Diabetes hat oder nicht.\n",
    "\n",
    "1. Trainingsset vorbereiten\n",
    "1. Performance Metricen überlegen\n",
    "1. Feature Engineering\n",
    "1. Modelling\n",
    "    1. Model1\n",
    "        1. Model1 definieren\n",
    "        1. Model1 training\n",
    "        1. Model1 Performance Assessment\n",
    "    1. Modelx\n",
    "        1. Modelx definieren\n",
    "        1. Modelx training\n",
    "        1. Modelx Performance Assessment\n",
    "1. Hyperparameter tuning\n",
    "\n",
    "Das würden wir uns in einem folgenden Kurse genauer ansehen. Nun werden wir uns erst einmal auf erste Analysen stürzen.\n"
   ]
  },
  {
   "cell_type": "markdown",
   "metadata": {},
   "source": [
    "![purple-divider](https://user-images.githubusercontent.com/7065401/52071927-c1cd7100-2562-11e9-908a-dde91ba14e59.png)"
   ]
  },
  {
   "cell_type": "markdown",
   "metadata": {},
   "source": [
    "## Ergebnisse kommunizieren / visualisieren"
   ]
  },
  {
   "cell_type": "markdown",
   "metadata": {},
   "source": [
    "**Lasst uns gerne noch einmal die Korrelation zwischen Glukose und Insulin darstellen**"
   ]
  },
  {
   "cell_type": "code",
   "execution_count": 29,
   "metadata": {},
   "outputs": [
    {
     "ename": "NameError",
     "evalue": "name 'plt' is not defined",
     "output_type": "error",
     "traceback": [
      "\u001b[0;31m---------------------------------------------------------------------------\u001b[0m",
      "\u001b[0;31mNameError\u001b[0m                                 Traceback (most recent call last)",
      "Input \u001b[0;32mIn [29]\u001b[0m, in \u001b[0;36m<cell line: 2>\u001b[0;34m()\u001b[0m\n\u001b[1;32m      1\u001b[0m \u001b[38;5;66;03m# Streudiagramm mit matplotlib, wobei x = Glucose und y = Insulin und alpha = 0,5 (Transparent)\u001b[39;00m\n\u001b[0;32m----> 2\u001b[0m \u001b[43mplt\u001b[49m\u001b[38;5;241m.\u001b[39mscatter(x\u001b[38;5;241m=\u001b[39mdiabetes_df[\u001b[38;5;124m'\u001b[39m\u001b[38;5;124mGlucose\u001b[39m\u001b[38;5;124m'\u001b[39m], y\u001b[38;5;241m=\u001b[39mdiabetes_df[\u001b[38;5;124m'\u001b[39m\u001b[38;5;124mInsulin\u001b[39m\u001b[38;5;124m'\u001b[39m], alpha\u001b[38;5;241m=\u001b[39m\u001b[38;5;241m0.5\u001b[39m)\n\u001b[1;32m      3\u001b[0m \u001b[38;5;66;03m# Benenne die X-Achse Glucose\u001b[39;00m\n\u001b[1;32m      4\u001b[0m plt\u001b[38;5;241m.\u001b[39mxlabel(\u001b[38;5;124m\"\u001b[39m\u001b[38;5;124mGlucose\u001b[39m\u001b[38;5;124m\"\u001b[39m)\n",
      "\u001b[0;31mNameError\u001b[0m: name 'plt' is not defined"
     ]
    }
   ],
   "source": [
    "# Streudiagramm mit matplotlib, wobei x = Glucose und y = Insulin und alpha = 0,5 (Transparent)\n",
    "plt.scatter(x=diabetes_df['Glucose'], y=diabetes_df['Insulin'], alpha=0.5)\n",
    "# Benenne die X-Achse Glucose\n",
    "plt.xlabel(\"Glucose\")\n",
    "# Benenne die Y-Achste Insulin\n",
    "plt.ylabel(\"Insulin\")\n",
    "# Plotte das Diagramm\n",
    "plt.show()"
   ]
  },
  {
   "cell_type": "markdown",
   "metadata": {},
   "source": [
    "Es besteht eine positive Korrelation zwischen den Variablen Glukose und Insulin. Das ist einfach zu interpretieren, da eine Person mit höheren Glukosespiegeln erwartet würde, dass sie mehr Insulin einnimmt."
   ]
  },
  {
   "cell_type": "markdown",
   "metadata": {},
   "source": [
    "**Nun wollen wir die Variablen Ergebnis und Alter visualisieren. Dazu erstellen wir einen Boxplot mit folgendem Code:**"
   ]
  },
  {
   "cell_type": "code",
   "execution_count": 30,
   "metadata": {},
   "outputs": [
    {
     "data": {
      "text/plain": [
       "Age    AxesSubplot(0.1,0.15;0.8x0.75)\n",
       "dtype: object"
      ]
     },
     "execution_count": 30,
     "metadata": {},
     "output_type": "execute_result"
    },
    {
     "data": {
      "image/png": "[encoded data removed]",
      "text/plain": [
       "<Figure size 2880x720 with 1 Axes>"
      ]
     },
     "metadata": {
      "needs_background": "light"
     },
     "output_type": "display_data"
    }
   ],
   "source": [
    "diabetes_df.boxplot(column='Age', by=diabetes_df['Outcome'], figsize= (40, 10), fontsize=20, return_type='axes')"
   ]
  },
  {
   "cell_type": "markdown",
   "metadata": {},
   "source": [
    "Aus der obigen Grafik kann gesehen werden, dass ältere Menschen mit größerer Wahrscheinlichkeit an Diabetes erkrankt sind. Das Medianalter für Erwachsene mit Diabetes liegt bei etwa 35 Jahren, während es bei Menschen ohne Diabetes niedriger ist.\n"
   ]
  },
  {
   "cell_type": "markdown",
   "metadata": {},
   "source": [
    "**Es können viele weitere Interpreationen gewählt weden - wichtig ist ein entsprechenden Fazit.**"
   ]
  },
  {
   "cell_type": "markdown",
   "metadata": {},
   "source": [
    "## Interpretation / Kurze Zusammenfassung"
   ]
  },
  {
   "cell_type": "markdown",
   "metadata": {},
   "source": [
    "Menschen mit Diabetes sind mit hoher Wahrscheinlichkeit älter als Menschen, die keinen Diabetes haben. Sie haben auch eher höhere Glukosespiegel im Blut. Menschen mit höheren Glukosewerten neigen auch dazu, mehr Insulin zu nehmen, und diese positive Korrelation deutet darauf hin, dass Patienten mit Diabetes auch höhere Insulinwerte haben könnten (diese Korrelation kann durch Erstellen eines Streudiagramms überprüft werden).\n",
    "\n",
    "**In der abschließenden Projektarbeit würde ich etwas mehr erwarten als das dargestellte.**"
   ]
  },
  {
   "cell_type": "markdown",
   "metadata": {},
   "source": [
    "![purple-divider](https://user-images.githubusercontent.com/7065401/52071927-c1cd7100-2562-11e9-908a-dde91ba14e59.png)"
   ]
  },
  {
   "cell_type": "markdown",
   "metadata": {},
   "source": [
    "## Gibt es noch Fragen?"
   ]
  },
  {
   "cell_type": "code",
   "execution_count": null,
   "metadata": {},
   "outputs": [],
   "source": []
  }
 ],
 "metadata": {
  "kernelspec": {
   "display_name": "Python 3 (ipykernel)",
   "language": "python",
   "name": "python3"
  },
  "language_info": {
   "codemirror_mode": {
    "name": "ipython",
    "version": 3
   },
   "file_extension": ".py",
   "mimetype": "text/x-python",
   "name": "python",
   "nbconvert_exporter": "python",
   "pygments_lexer": "ipython3",
   "version": "3.10.4"
  }
 },
 "nbformat": 4,
 "nbformat_minor": 4
}
