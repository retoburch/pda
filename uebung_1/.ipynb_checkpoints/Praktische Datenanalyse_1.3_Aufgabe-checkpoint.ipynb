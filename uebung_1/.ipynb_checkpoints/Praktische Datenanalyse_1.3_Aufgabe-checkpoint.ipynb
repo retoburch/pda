{
 "cells": [
  {
   "cell_type": "markdown",
   "metadata": {},
   "source": [
    "# Übung SQL"
   ]
  },
  {
   "cell_type": "markdown",
   "metadata": {},
   "source": [
    "![purple-divider](https://user-images.githubusercontent.com/7065401/52071927-c1cd7100-2562-11e9-908a-dde91ba14e59.png)\n"
   ]
  },
  {
   "cell_type": "code",
   "execution_count": 1,
   "metadata": {},
   "outputs": [],
   "source": [
    "from IPython.display import Image"
   ]
  },
  {
   "cell_type": "markdown",
   "metadata": {},
   "source": [
    "## 1. Setup für SQL"
   ]
  },
  {
   "cell_type": "markdown",
   "metadata": {},
   "source": [
    "Die **IPython SQL magix extension** ermöglicht es, SQL-Abfragen direkt in Code-Zellen zu schreiben sowie die Ergebnisse direkt in **Pandas DataFrames** (was das heißt lernen wir noch) zu lesen. Dies funktioniert sowohl für die traditionellen Notebooks als auch für die modernen Jupyter Labs. Um sicherzugehen, dass alles funktioniert führt Ihr bitte folgenden Code aus:"
   ]
  },
  {
   "cell_type": "code",
   "execution_count": 2,
   "metadata": {
    "scrolled": true
   },
   "outputs": [
    {
     "name": "stdout",
     "output_type": "stream",
     "text": [
      "Requirement already satisfied: ipython-sql in /Users/burchr/opt/anaconda3/lib/python3.9/site-packages (0.4.1)\n",
      "Requirement already satisfied: six in /Users/burchr/opt/anaconda3/lib/python3.9/site-packages (from ipython-sql) (1.16.0)\n",
      "Requirement already satisfied: sqlalchemy>=0.6.7 in /Users/burchr/opt/anaconda3/lib/python3.9/site-packages (from ipython-sql) (1.4.22)\n",
      "Requirement already satisfied: ipython>=1.0 in /Users/burchr/opt/anaconda3/lib/python3.9/site-packages (from ipython-sql) (7.29.0)\n",
      "Requirement already satisfied: prettytable<1 in /Users/burchr/opt/anaconda3/lib/python3.9/site-packages (from ipython-sql) (0.7.2)\n",
      "Requirement already satisfied: ipython-genutils>=0.1.0 in /Users/burchr/opt/anaconda3/lib/python3.9/site-packages (from ipython-sql) (0.2.0)\n",
      "Requirement already satisfied: sqlparse in /Users/burchr/opt/anaconda3/lib/python3.9/site-packages (from ipython-sql) (0.4.2)\n",
      "Requirement already satisfied: matplotlib-inline in /Users/burchr/opt/anaconda3/lib/python3.9/site-packages (from ipython>=1.0->ipython-sql) (0.1.2)\n",
      "Requirement already satisfied: appnope in /Users/burchr/opt/anaconda3/lib/python3.9/site-packages (from ipython>=1.0->ipython-sql) (0.1.2)\n",
      "Requirement already satisfied: setuptools>=18.5 in /Users/burchr/opt/anaconda3/lib/python3.9/site-packages (from ipython>=1.0->ipython-sql) (58.0.4)\n",
      "Requirement already satisfied: prompt-toolkit!=3.0.0,!=3.0.1,<3.1.0,>=2.0.0 in /Users/burchr/opt/anaconda3/lib/python3.9/site-packages (from ipython>=1.0->ipython-sql) (3.0.20)\n",
      "Requirement already satisfied: backcall in /Users/burchr/opt/anaconda3/lib/python3.9/site-packages (from ipython>=1.0->ipython-sql) (0.2.0)\n",
      "Requirement already satisfied: pygments in /Users/burchr/opt/anaconda3/lib/python3.9/site-packages (from ipython>=1.0->ipython-sql) (2.10.0)\n",
      "Requirement already satisfied: decorator in /Users/burchr/opt/anaconda3/lib/python3.9/site-packages (from ipython>=1.0->ipython-sql) (5.1.0)\n",
      "Requirement already satisfied: jedi>=0.16 in /Users/burchr/opt/anaconda3/lib/python3.9/site-packages (from ipython>=1.0->ipython-sql) (0.18.0)\n",
      "Requirement already satisfied: pexpect>4.3 in /Users/burchr/opt/anaconda3/lib/python3.9/site-packages (from ipython>=1.0->ipython-sql) (4.8.0)\n",
      "Requirement already satisfied: traitlets>=4.2 in /Users/burchr/opt/anaconda3/lib/python3.9/site-packages (from ipython>=1.0->ipython-sql) (5.1.0)\n",
      "Requirement already satisfied: pickleshare in /Users/burchr/opt/anaconda3/lib/python3.9/site-packages (from ipython>=1.0->ipython-sql) (0.7.5)\n",
      "Requirement already satisfied: parso<0.9.0,>=0.8.0 in /Users/burchr/opt/anaconda3/lib/python3.9/site-packages (from jedi>=0.16->ipython>=1.0->ipython-sql) (0.8.2)\n",
      "Requirement already satisfied: ptyprocess>=0.5 in /Users/burchr/opt/anaconda3/lib/python3.9/site-packages (from pexpect>4.3->ipython>=1.0->ipython-sql) (0.7.0)\n",
      "Requirement already satisfied: wcwidth in /Users/burchr/opt/anaconda3/lib/python3.9/site-packages (from prompt-toolkit!=3.0.0,!=3.0.1,<3.1.0,>=2.0.0->ipython>=1.0->ipython-sql) (0.2.5)\n",
      "Requirement already satisfied: greenlet!=0.4.17 in /Users/burchr/opt/anaconda3/lib/python3.9/site-packages (from sqlalchemy>=0.6.7->ipython-sql) (1.1.1)\n"
     ]
    }
   ],
   "source": [
    "!pip install ipython-sql"
   ]
  },
  {
   "cell_type": "markdown",
   "metadata": {},
   "source": [
    "Wenn Ihr mehr Informationen haben wollt, könnt Ihr gerne mal auf das GitHub Repository von **IPython SQL magic extension** schauen: https://github.com/catherinedevlin/ipython-sql"
   ]
  },
  {
   "cell_type": "markdown",
   "metadata": {},
   "source": [
    "Als nächstes müsst Ihr das SQL-Modul laden:"
   ]
  },
  {
   "cell_type": "code",
   "execution_count": 5,
   "metadata": {},
   "outputs": [
    {
     "ename": "ModuleNotFoundError",
     "evalue": "No module named 'sql'",
     "output_type": "error",
     "traceback": [
      "\u001b[0;31m---------------------------------------------------------------------------\u001b[0m",
      "\u001b[0;31mModuleNotFoundError\u001b[0m                       Traceback (most recent call last)",
      "Input \u001b[0;32mIn [5]\u001b[0m, in \u001b[0;36m<cell line: 1>\u001b[0;34m()\u001b[0m\n\u001b[0;32m----> 1\u001b[0m \u001b[43mget_ipython\u001b[49m\u001b[43m(\u001b[49m\u001b[43m)\u001b[49m\u001b[38;5;241;43m.\u001b[39;49m\u001b[43mrun_line_magic\u001b[49m\u001b[43m(\u001b[49m\u001b[38;5;124;43m'\u001b[39;49m\u001b[38;5;124;43mload_ext\u001b[39;49m\u001b[38;5;124;43m'\u001b[39;49m\u001b[43m,\u001b[49m\u001b[43m \u001b[49m\u001b[38;5;124;43m'\u001b[39;49m\u001b[38;5;124;43msql\u001b[39;49m\u001b[38;5;124;43m'\u001b[39;49m\u001b[43m)\u001b[49m\n",
      "File \u001b[0;32m~/.conda/envs/PyCharm_Übungen/lib/python3.10/site-packages/IPython/core/interactiveshell.py:2304\u001b[0m, in \u001b[0;36mInteractiveShell.run_line_magic\u001b[0;34m(self, magic_name, line, _stack_depth)\u001b[0m\n\u001b[1;32m   2302\u001b[0m     kwargs[\u001b[38;5;124m'\u001b[39m\u001b[38;5;124mlocal_ns\u001b[39m\u001b[38;5;124m'\u001b[39m] \u001b[38;5;241m=\u001b[39m \u001b[38;5;28mself\u001b[39m\u001b[38;5;241m.\u001b[39mget_local_scope(stack_depth)\n\u001b[1;32m   2303\u001b[0m \u001b[38;5;28;01mwith\u001b[39;00m \u001b[38;5;28mself\u001b[39m\u001b[38;5;241m.\u001b[39mbuiltin_trap:\n\u001b[0;32m-> 2304\u001b[0m     result \u001b[38;5;241m=\u001b[39m \u001b[43mfn\u001b[49m\u001b[43m(\u001b[49m\u001b[38;5;241;43m*\u001b[39;49m\u001b[43margs\u001b[49m\u001b[43m,\u001b[49m\u001b[43m \u001b[49m\u001b[38;5;241;43m*\u001b[39;49m\u001b[38;5;241;43m*\u001b[39;49m\u001b[43mkwargs\u001b[49m\u001b[43m)\u001b[49m\n\u001b[1;32m   2305\u001b[0m \u001b[38;5;28;01mreturn\u001b[39;00m result\n",
      "File \u001b[0;32m~/.conda/envs/PyCharm_Übungen/lib/python3.10/site-packages/IPython/core/magics/extension.py:33\u001b[0m, in \u001b[0;36mExtensionMagics.load_ext\u001b[0;34m(self, module_str)\u001b[0m\n\u001b[1;32m     31\u001b[0m \u001b[38;5;28;01mif\u001b[39;00m \u001b[38;5;129;01mnot\u001b[39;00m module_str:\n\u001b[1;32m     32\u001b[0m     \u001b[38;5;28;01mraise\u001b[39;00m UsageError(\u001b[38;5;124m'\u001b[39m\u001b[38;5;124mMissing module name.\u001b[39m\u001b[38;5;124m'\u001b[39m)\n\u001b[0;32m---> 33\u001b[0m res \u001b[38;5;241m=\u001b[39m \u001b[38;5;28;43mself\u001b[39;49m\u001b[38;5;241;43m.\u001b[39;49m\u001b[43mshell\u001b[49m\u001b[38;5;241;43m.\u001b[39;49m\u001b[43mextension_manager\u001b[49m\u001b[38;5;241;43m.\u001b[39;49m\u001b[43mload_extension\u001b[49m\u001b[43m(\u001b[49m\u001b[43mmodule_str\u001b[49m\u001b[43m)\u001b[49m\n\u001b[1;32m     35\u001b[0m \u001b[38;5;28;01mif\u001b[39;00m res \u001b[38;5;241m==\u001b[39m \u001b[38;5;124m'\u001b[39m\u001b[38;5;124malready loaded\u001b[39m\u001b[38;5;124m'\u001b[39m:\n\u001b[1;32m     36\u001b[0m     \u001b[38;5;28mprint\u001b[39m(\u001b[38;5;124m\"\u001b[39m\u001b[38;5;124mThe \u001b[39m\u001b[38;5;132;01m%s\u001b[39;00m\u001b[38;5;124m extension is already loaded. To reload it, use:\u001b[39m\u001b[38;5;124m\"\u001b[39m \u001b[38;5;241m%\u001b[39m module_str)\n",
      "File \u001b[0;32m~/.conda/envs/PyCharm_Übungen/lib/python3.10/site-packages/IPython/core/extensions.py:76\u001b[0m, in \u001b[0;36mExtensionManager.load_extension\u001b[0;34m(self, module_str)\u001b[0m\n\u001b[1;32m     69\u001b[0m \u001b[38;5;124;03m\"\"\"Load an IPython extension by its module name.\u001b[39;00m\n\u001b[1;32m     70\u001b[0m \n\u001b[1;32m     71\u001b[0m \u001b[38;5;124;03mReturns the string \"already loaded\" if the extension is already loaded,\u001b[39;00m\n\u001b[1;32m     72\u001b[0m \u001b[38;5;124;03m\"no load function\" if the module doesn't have a load_ipython_extension\u001b[39;00m\n\u001b[1;32m     73\u001b[0m \u001b[38;5;124;03mfunction, or None if it succeeded.\u001b[39;00m\n\u001b[1;32m     74\u001b[0m \u001b[38;5;124;03m\"\"\"\u001b[39;00m\n\u001b[1;32m     75\u001b[0m \u001b[38;5;28;01mtry\u001b[39;00m:\n\u001b[0;32m---> 76\u001b[0m     \u001b[38;5;28;01mreturn\u001b[39;00m \u001b[38;5;28;43mself\u001b[39;49m\u001b[38;5;241;43m.\u001b[39;49m\u001b[43m_load_extension\u001b[49m\u001b[43m(\u001b[49m\u001b[43mmodule_str\u001b[49m\u001b[43m)\u001b[49m\n\u001b[1;32m     77\u001b[0m \u001b[38;5;28;01mexcept\u001b[39;00m \u001b[38;5;167;01mModuleNotFoundError\u001b[39;00m:\n\u001b[1;32m     78\u001b[0m     \u001b[38;5;28;01mif\u001b[39;00m module_str \u001b[38;5;129;01min\u001b[39;00m BUILTINS_EXTS:\n",
      "File \u001b[0;32m~/.conda/envs/PyCharm_Übungen/lib/python3.10/site-packages/IPython/core/extensions.py:92\u001b[0m, in \u001b[0;36mExtensionManager._load_extension\u001b[0;34m(self, module_str)\u001b[0m\n\u001b[1;32m     90\u001b[0m \u001b[38;5;28;01mif\u001b[39;00m module_str \u001b[38;5;129;01mnot\u001b[39;00m \u001b[38;5;129;01min\u001b[39;00m sys\u001b[38;5;241m.\u001b[39mmodules:\n\u001b[1;32m     91\u001b[0m     \u001b[38;5;28;01mwith\u001b[39;00m prepended_to_syspath(\u001b[38;5;28mself\u001b[39m\u001b[38;5;241m.\u001b[39mipython_extension_dir):\n\u001b[0;32m---> 92\u001b[0m         mod \u001b[38;5;241m=\u001b[39m \u001b[43mimport_module\u001b[49m\u001b[43m(\u001b[49m\u001b[43mmodule_str\u001b[49m\u001b[43m)\u001b[49m\n\u001b[1;32m     93\u001b[0m         \u001b[38;5;28;01mif\u001b[39;00m mod\u001b[38;5;241m.\u001b[39m\u001b[38;5;18m__file__\u001b[39m\u001b[38;5;241m.\u001b[39mstartswith(\u001b[38;5;28mself\u001b[39m\u001b[38;5;241m.\u001b[39mipython_extension_dir):\n\u001b[1;32m     94\u001b[0m             \u001b[38;5;28mprint\u001b[39m((\u001b[38;5;124m\"\u001b[39m\u001b[38;5;124mLoading extensions from \u001b[39m\u001b[38;5;132;01m{dir}\u001b[39;00m\u001b[38;5;124m is deprecated. \u001b[39m\u001b[38;5;124m\"\u001b[39m\n\u001b[1;32m     95\u001b[0m                    \u001b[38;5;124m\"\u001b[39m\u001b[38;5;124mWe recommend managing extensions like any \u001b[39m\u001b[38;5;124m\"\u001b[39m\n\u001b[1;32m     96\u001b[0m                    \u001b[38;5;124m\"\u001b[39m\u001b[38;5;124mother Python packages, in site-packages.\u001b[39m\u001b[38;5;124m\"\u001b[39m)\u001b[38;5;241m.\u001b[39mformat(\n\u001b[1;32m     97\u001b[0m                   \u001b[38;5;28mdir\u001b[39m\u001b[38;5;241m=\u001b[39mcompress_user(\u001b[38;5;28mself\u001b[39m\u001b[38;5;241m.\u001b[39mipython_extension_dir)))\n",
      "File \u001b[0;32m~/.conda/envs/PyCharm_Übungen/lib/python3.10/importlib/__init__.py:126\u001b[0m, in \u001b[0;36mimport_module\u001b[0;34m(name, package)\u001b[0m\n\u001b[1;32m    124\u001b[0m             \u001b[38;5;28;01mbreak\u001b[39;00m\n\u001b[1;32m    125\u001b[0m         level \u001b[38;5;241m+\u001b[39m\u001b[38;5;241m=\u001b[39m \u001b[38;5;241m1\u001b[39m\n\u001b[0;32m--> 126\u001b[0m \u001b[38;5;28;01mreturn\u001b[39;00m \u001b[43m_bootstrap\u001b[49m\u001b[38;5;241;43m.\u001b[39;49m\u001b[43m_gcd_import\u001b[49m\u001b[43m(\u001b[49m\u001b[43mname\u001b[49m\u001b[43m[\u001b[49m\u001b[43mlevel\u001b[49m\u001b[43m:\u001b[49m\u001b[43m]\u001b[49m\u001b[43m,\u001b[49m\u001b[43m \u001b[49m\u001b[43mpackage\u001b[49m\u001b[43m,\u001b[49m\u001b[43m \u001b[49m\u001b[43mlevel\u001b[49m\u001b[43m)\u001b[49m\n",
      "File \u001b[0;32m<frozen importlib._bootstrap>:1050\u001b[0m, in \u001b[0;36m_gcd_import\u001b[0;34m(name, package, level)\u001b[0m\n",
      "File \u001b[0;32m<frozen importlib._bootstrap>:1027\u001b[0m, in \u001b[0;36m_find_and_load\u001b[0;34m(name, import_)\u001b[0m\n",
      "File \u001b[0;32m<frozen importlib._bootstrap>:1004\u001b[0m, in \u001b[0;36m_find_and_load_unlocked\u001b[0;34m(name, import_)\u001b[0m\n",
      "\u001b[0;31mModuleNotFoundError\u001b[0m: No module named 'sql'"
     ]
    }
   ],
   "source": [
    "%load_ext sql"
   ]
  },
  {
   "cell_type": "markdown",
   "metadata": {},
   "source": [
    "Der obige **Magic Command** lädt die ipython-sql-extension. Nun können wir eine Verbindung mit jeder Datenbank herstellen, die von **SQLAlchemy** unterstützt wird. In unserem Beispiel werden wir uns mit einer SQLite-Datenbank verbinden. Geben Sie den folgenden Befehl in die Codezelle ein:"
   ]
  },
  {
   "cell_type": "code",
   "execution_count": 4,
   "metadata": {},
   "outputs": [
    {
     "name": "stderr",
     "output_type": "stream",
     "text": [
      "UsageError: Line magic function `%sql` not found.\n"
     ]
    }
   ],
   "source": [
    "%sql sqlite://"
   ]
  },
  {
   "cell_type": "markdown",
   "metadata": {},
   "source": [
    "**Aber warte, was ist ein Magic Command**?"
   ]
  },
  {
   "cell_type": "markdown",
   "metadata": {},
   "source": [
    "**Magic Commands** sind eine Reihe von praktischen Funktionen in Jupyter Notebooks, die einige der häufigsten Probleme bei der Standard-Datenanalyse lösen sollen. Sie können alle verfügbaren Magics mit Hilfe von **%lsmagic** sehen."
   ]
  },
  {
   "cell_type": "code",
   "execution_count": null,
   "metadata": {},
   "outputs": [],
   "source": [
    "%lsmagic"
   ]
  },
  {
   "cell_type": "markdown",
   "metadata": {},
   "source": [
    "**Aber warte, was ist SQLAlchemy?**"
   ]
  },
  {
   "cell_type": "markdown",
   "metadata": {},
   "source": [
    "SQLAlchemy ist das Python-SQL-Toolkit und Object Relational Mapper, das Anwendungsentwicklern die volle Leistungsfähigkeit und Flexibilität von SQL bietet. Es ist eine vollständige Suite bekannter Persitence Pattern, die für einen effizienten und hochperformanten Datenbankzugriff entwickelt wurden, angepasst an eine einfache Python Domain Language: https://www.sqlalchemy.org/"
   ]
  },
  {
   "cell_type": "markdown",
   "metadata": {},
   "source": [
    "![purple-divider](https://user-images.githubusercontent.com/7065401/52071927-c1cd7100-2562-11e9-908a-dde91ba14e59.png)"
   ]
  },
  {
   "cell_type": "markdown",
   "metadata": {},
   "source": [
    "## 2. Erstellung einer eigenen Datenbank / Tabelle"
   ]
  },
  {
   "cell_type": "markdown",
   "metadata": {},
   "source": [
    "Das erste was wir in unserer neuen Datenbank brauchen ist eine Tabelle - Tabellen erstellen wir mit einem **CREATE** Operand für welches wir auch das DB-Schema angeben müssen. Danach nutzen wir **INSERT**, damit wir zwei Einträge / Zustände hinzufügen können."
   ]
  },
  {
   "cell_type": "code",
   "execution_count": null,
   "metadata": {},
   "outputs": [],
   "source": [
    "%%sql sqlite://\n",
    "CREATE TABLE IF NOT EXISTS EMPLOYEE (\n",
    "    employee_id integer PRIMARY KEY,\n",
    "    firstname varchar(50) NOT NULL,\n",
    "    lastname varchar(50) NOT NULL);"
   ]
  },
  {
   "cell_type": "markdown",
   "metadata": {},
   "source": [
    "Nun gucken wir uns an, ob diese Tabelle wirklich angelegt wurde."
   ]
  },
  {
   "cell_type": "code",
   "execution_count": null,
   "metadata": {},
   "outputs": [],
   "source": [
    "%%sql sqlite://\n",
    "SELECT \n",
    "    name\n",
    "FROM \n",
    "    sqlite_schema\n",
    "WHERE \n",
    "    type ='table' AND \n",
    "    name NOT LIKE 'sqlite_%';"
   ]
  },
  {
   "cell_type": "markdown",
   "metadata": {},
   "source": [
    "Lasst uns gemeinsam einen Blick auf die **[offizielle Dokumentation](https://www.sqlitetutorial.net/sqlite-create-table/)** werfen."
   ]
  },
  {
   "cell_type": "code",
   "execution_count": null,
   "metadata": {},
   "outputs": [],
   "source": [
    "%%sql\n",
    "INSERT INTO EMPLOYEE VALUES(1, 'Pelle','John');  \n",
    "INSERT INTO EMPLOYEE VALUES(2, 'Kai','Neubauer');"
   ]
  },
  {
   "cell_type": "markdown",
   "metadata": {},
   "source": [
    "Hier auch noch einmal die offizielle Einführung für **[INSERT](https://www.sqlitetutorial.net/sqlite-insert/)**"
   ]
  },
  {
   "cell_type": "markdown",
   "metadata": {},
   "source": [
    "Als nächstes sollten wir einmal prüfen, ob die Daten wirklich in den Tabellen vorhanden sind. Lasst uns den Output der Einträge ansehen...."
   ]
  },
  {
   "cell_type": "code",
   "execution_count": null,
   "metadata": {},
   "outputs": [],
   "source": [
    "%%sql sqlite://\n",
    "SELECT * FROM EMPLOYEE"
   ]
  },
  {
   "cell_type": "markdown",
   "metadata": {},
   "source": [
    "Dokumentation für **[SELECT](https://www.sqlitetutorial.net/sqlite-select/)**"
   ]
  },
  {
   "cell_type": "markdown",
   "metadata": {},
   "source": [
    "Mit dem folgenden Befehl löschen wir die Tabelle wieder"
   ]
  },
  {
   "cell_type": "code",
   "execution_count": null,
   "metadata": {},
   "outputs": [],
   "source": [
    "%sql DROP TABLE EMPLOYEE"
   ]
  },
  {
   "cell_type": "code",
   "execution_count": null,
   "metadata": {},
   "outputs": [],
   "source": [
    "%sql sqlite://  SELECT name FROM sqlite_schema WHERE type ='table' AND name NOT LIKE 'sqlite_%';"
   ]
  },
  {
   "cell_type": "markdown",
   "metadata": {},
   "source": [
    "![purple-divider](https://user-images.githubusercontent.com/7065401/52071927-c1cd7100-2562-11e9-908a-dde91ba14e59.png)"
   ]
  },
  {
   "cell_type": "markdown",
   "metadata": {},
   "source": [
    "## 3. Laden und erste Analyse einer existierenden Datenbasis"
   ]
  },
  {
   "cell_type": "markdown",
   "metadata": {},
   "source": [
    "Für die folgende Übung verwenden wir **SQL_SAFI-Datenbank (Studying African Farmer-led Irrigation (SAFI) database)**. Das SAFI-Projekt ist ein Forschungsprojekt, das sich mit den Bewässerungsmethoden der Bauern in Tansania und Mosambik beschäftigt. Dieser Datensatz besteht aus Umfragedaten, die sich auf Haushalte und Landwirtschaft beziehen."
   ]
  },
  {
   "cell_type": "code",
   "execution_count": null,
   "metadata": {},
   "outputs": [],
   "source": [
    "#Spezifizierung des Datepfades zum Laden der Datenbank\n",
    "%sql sqlite:///src/SQL_SAFI.sqlite"
   ]
  },
  {
   "cell_type": "markdown",
   "metadata": {},
   "source": [
    "Als ersten Schritt sollten wir uns einen Überblick der Tabellen verschaffen"
   ]
  },
  {
   "cell_type": "code",
   "execution_count": null,
   "metadata": {},
   "outputs": [],
   "source": [
    "%sql SELECT name FROM sqlite_master WHERE type ='table'; "
   ]
  },
  {
   "cell_type": "markdown",
   "metadata": {},
   "source": [
    "**AUFGABE**: Lasst und einen genaueren Blick auf die **Crops** Tabelle werfen und nur Zeilen auswählen, für welche **D_curr_crop** den Wert \"maize\" haben und die **ID kleiner, gleich 3** ist."
   ]
  },
  {
   "cell_type": "code",
   "execution_count": null,
   "metadata": {},
   "outputs": [],
   "source": [
    "%%sql \n",
    "SELECT * from Crops \n",
    "WHERE \n",
    "    D_curr_crop = \"maize\" AND ID <= 3;"
   ]
  },
  {
   "cell_type": "markdown",
   "metadata": {},
   "source": [
    "**Ausblick:** Du kannst die selectierten Daten als Resultat speichern und anschließend in einen DataFrame für Deine weiteren Analysen und Visualisierungen übernehmen. "
   ]
  },
  {
   "cell_type": "code",
   "execution_count": null,
   "metadata": {},
   "outputs": [],
   "source": [
    "result = %sql SELECT * from Crops where ID <= 3;\n",
    "crop_selection_df = result.DataFrame()\n",
    "crop_selection_df.head()"
   ]
  },
  {
   "cell_type": "markdown",
   "metadata": {},
   "source": [
    "![purple-divider](https://user-images.githubusercontent.com/7065401/52071927-c1cd7100-2562-11e9-908a-dde91ba14e59.png)"
   ]
  },
  {
   "cell_type": "markdown",
   "metadata": {},
   "source": [
    "## 4. Komplexere Joins über mehrere Tabellen"
   ]
  },
  {
   "cell_type": "markdown",
   "metadata": {},
   "source": [
    "Wenn Ihr SQL zum ersten Mal anwendet, ist es üblich, dass Ihr mit Daten in einer einzigen Tabelle arbeiten. In der realen Welt haben Datenbanken in der Regel Daten in mehr als einer Tabelle. Wenn wir mit diesen Daten arbeiten wollen, müssen wir mehrere Tabellen in einer Abfrage kombinieren."
   ]
  },
  {
   "cell_type": "code",
   "execution_count": null,
   "metadata": {},
   "outputs": [],
   "source": [
    "#Spezifizierung des Datepfades zum Laden der Datenbank\n",
    "%sql sqlite:///src/factbook.db"
   ]
  },
  {
   "cell_type": "markdown",
   "metadata": {},
   "source": [
    "Wir werden eine Version der **Datenbank des CIA World Factbook (Factbook)** verwenden, die zwei Tabellen hat. Die erste Tabelle heißt **facts**, und jede Zeile steht für ein Land aus dem Factbook. Hier sind die ersten 5 Zeilen der **facts** Tabelle:"
   ]
  },
  {
   "cell_type": "code",
   "execution_count": null,
   "metadata": {},
   "outputs": [],
   "source": [
    "%sql SELECT * FROM facts LIMIT 10;"
   ]
  },
  {
   "cell_type": "markdown",
   "metadata": {},
   "source": [
    "Zusätzlich zur Faktentabelle gibt es eine zweite Tabelle mit dem Namen **cities**, die Informationen über die größten städtischen Gebiete der Länder im Factbook enthält. Werfen wir einen Blick auf die ersten Zeilen dieser Tabelle und eine Beschreibung dessen, was jede Spalte darstellt:"
   ]
  },
  {
   "cell_type": "code",
   "execution_count": null,
   "metadata": {},
   "outputs": [],
   "source": [
    "%sql SELECT * FROM cities LIMIT 5;"
   ]
  },
  {
   "cell_type": "markdown",
   "metadata": {},
   "source": [
    "Die letzte Spalte ist für uns von besonderem Interesse, da es sich um eine Spalte handelt, die auch in unserer ursprünglichen **facts** Tabelle existiert. Diese Verknüpfung zwischen den Tabellen ist wichtig, da sie verwendet wird, um die Daten in unseren Abfragen zu kombinieren. Unten sehen Sie ein Schemadiagramm, das die beiden Tabellen in unserer Datenbank, die Spalten darin und die Verknüpfung der beiden zeigt. Die Darstellung im Schemadiagramm zeigt deutlich die Verbindung zwischen der **Spalte id in der Tabelle facts** und der **Spalte facts_id in der Tabelle cities**."
   ]
  },
  {
   "cell_type": "markdown",
   "metadata": {},
   "source": [
    "![DB-Schema](./src/factsbook_db_schema.PNG)"
   ]
  },
  {
   "cell_type": "markdown",
   "metadata": {},
   "source": [
    "Die häufigste Art, Daten mit SQL zu verknüpfen, ist ein **Inner Join**. Die Syntax für eine innere Verknüpfung lautet:\n",
    "- **INNER JOIN**, der der SQL-Engine den Namen der Tabelle mitteilt, die Sie in Ihrer Abfrage verbinden möchten, und dass Sie eine innere Verknüpfung verwenden möchten\n",
    "- **ON**, der der SQL-Engine mitteilt, welche Spalten für die Verknüpfung der beiden Tabellen verwendet werden sollen."
   ]
  },
  {
   "cell_type": "markdown",
   "metadata": {},
   "source": [
    "```sql\n",
    "SELECT [column_names] FROM [table_name_one]\n",
    "INNER JOIN [table_name_two] ON [join_constraint];\n",
    "```\n"
   ]
  },
  {
   "cell_type": "code",
   "execution_count": null,
   "metadata": {},
   "outputs": [],
   "source": [
    "%%sql\n",
    "SELECT * FROM facts\n",
    "/* Teilt SQL-Engine mit, dass Tabelle \"cities\" über Inner Join mit unserer Abfrage verbindet */\n",
    "INNER JOIN cities\n",
    "/* Das die Spalten cities.facts_id und facts.id das verbindende Element der Daten ist */\n",
    "ON cities.facts_id = facts.id\n",
    "LIMIT 5;"
   ]
  },
  {
   "cell_type": "markdown",
   "metadata": {},
   "source": [
    "------------------\n",
    "**Beispiel für United Arab Emirates**"
   ]
  },
  {
   "cell_type": "code",
   "execution_count": null,
   "metadata": {},
   "outputs": [],
   "source": [
    "%%sql\n",
    "SELECT * FROM facts\n",
    "Where facts.id = 184;"
   ]
  },
  {
   "cell_type": "markdown",
   "metadata": {},
   "source": [
    "Wir sehen, dass es lediglich eine Zeile für das Land United Arab Emirates gibt"
   ]
  },
  {
   "cell_type": "code",
   "execution_count": null,
   "metadata": {},
   "outputs": [],
   "source": [
    "%%sql\n",
    "SELECT * FROM cities\n",
    "Where cities.facts_id = 184;"
   ]
  },
  {
   "cell_type": "markdown",
   "metadata": {},
   "source": [
    "Wir sehen es gibt in der Tabelle cities 3 Städte: Abu Dhabi, Dubai und Sharjah"
   ]
  },
  {
   "cell_type": "code",
   "execution_count": null,
   "metadata": {},
   "outputs": [],
   "source": [
    "%%sql\n",
    "SELECT * FROM facts\n",
    "INNER JOIN cities\n",
    "ON cities.facts_id = facts.id\n",
    "Where facts.id = 184\n",
    "LIMIT 5;"
   ]
  },
  {
   "cell_type": "markdown",
   "metadata": {},
   "source": [
    "Bei einem inner Join werden nun die drei Zeilen aus der cities genommen und die Informationen aus der Facts Tabelle für diese 3 Cities aufgeschrieben."
   ]
  },
  {
   "cell_type": "markdown",
   "metadata": {},
   "source": [
    "------------------"
   ]
  },
  {
   "cell_type": "markdown",
   "metadata": {},
   "source": [
    "Eine innere Verknüpfung funktioniert, indem nur Zeilen aus jeder Tabelle einbezogen werden, die eine Übereinstimmung aufweisen, wie mit der ON-Klausel angegeben. Schauen wir uns in einem Diagramm an, wie unsere Verknüpfung aus dem vorherigen Bild funktioniert. Wir haben eine Auswahl von Zeilen eingefügt, die die Verknüpfung am besten veranschaulichen:"
   ]
  },
  {
   "cell_type": "markdown",
   "metadata": {},
   "source": [
    "**Inner Join**\n",
    "<div>\n",
    "<img src=\"./src/inner-join.png\" width=\"200\"/>\n",
    "</div>\n"
   ]
  },
  {
   "cell_type": "markdown",
   "metadata": {},
   "source": [
    "![Inner_Join](./src/factsbook_db_innerjoin.PNG)"
   ]
  },
  {
   "cell_type": "markdown",
   "metadata": {},
   "source": [
    "**Frage: Welche Zeilen werden durch den Inner Join nicht mit aufgenommen?**"
   ]
  },
  {
   "cell_type": "markdown",
   "metadata": {},
   "source": [
    "Die Schreibweise kann auch noch etwas vereinfacht werden durch **[aliases](https://www.tutorialspoint.com/sqlite/sqlite_alias_syntax.htm)**"
   ]
  },
  {
   "cell_type": "code",
   "execution_count": null,
   "metadata": {},
   "outputs": [],
   "source": [
    "%%sql\n",
    "SELECT * FROM facts AS f\n",
    "INNER JOIN cities AS c ON c.facts_id = f.id\n",
    "LIMIT 5;"
   ]
  },
  {
   "cell_type": "code",
   "execution_count": null,
   "metadata": {},
   "outputs": [],
   "source": [
    "%%sql\n",
    "SELECT\n",
    "/* SQL-Engine saves the aliases, so can select all columns from table c (cities) - declared a little later */\n",
    "    c.*,\n",
    "/* Select the name column of facts table and rename it to country name */\n",
    "    f.name country_name\n",
    "FROM facts f\n",
    "INNER JOIN cities c ON c.facts_id = f.id\n",
    "LIMIT 5;"
   ]
  },
  {
   "cell_type": "markdown",
   "metadata": {},
   "source": [
    "Wie bereits erwähnt, **schließt eine innere Verknüpfung keine Zeilen ein, für die es keine gegenseitige Übereinstimmung aus beiden Tabellen gibt**. Das bedeutet, dass es Informationen geben könnte, die wir in unserer Abfrage nicht sehen, wenn Zeilen nicht übereinstimmen. Lasst uns das einmal versuchen nachzuvollziehen:"
   ]
  },
  {
   "cell_type": "code",
   "execution_count": null,
   "metadata": {},
   "outputs": [],
   "source": [
    "%sql SELECT COUNT(DISTINCT(name)) FROM facts;"
   ]
  },
  {
   "cell_type": "code",
   "execution_count": null,
   "metadata": {},
   "outputs": [],
   "source": [
    "%sql SELECT COUNT(DISTINCT(facts_id)) FROM cities;"
   ]
  },
  {
   "cell_type": "markdown",
   "metadata": {},
   "source": [
    "Wenn wir diese beiden Abfragen ausführen, können wir sehen, dass es einige Länder in der Faktentabelle gibt, die keine entsprechenden Städte in der Städtetabelle haben, was darauf hindeutet, dass wir möglicherweise unvollständige Daten haben.\n",
    "\n",
    "Schauen wir uns an, wie wir eine Abfrage erstellen können, um die fehlenden Daten zu untersuchen, indem wir einen neuen Typ von Join verwenden - den linken Join.\n",
    "\n",
    "Ein **linker Join umfasst alle Zeilen, die ein innerer Join auswählt, plus alle Zeilen aus der ersten (oder linken) Tabelle, die keine Übereinstimmung in der zweiten Tabelle haben**. Wir können dies als Venn-Diagramm darstellen."
   ]
  },
  {
   "cell_type": "markdown",
   "metadata": {},
   "source": [
    "**Left Join**\n",
    "<div>\n",
    "<img src=\"./src/left-join.png\" width=\"200\"/>\n",
    "</div>\n"
   ]
  },
  {
   "cell_type": "markdown",
   "metadata": {},
   "source": [
    "![Left_Join](./src/factsbook_db_leftjoin.PNG)'"
   ]
  },
  {
   "cell_type": "code",
   "execution_count": null,
   "metadata": {},
   "outputs": [],
   "source": [
    "%%sql \n",
    "SELECT * FROM facts\n",
    "LEFT JOIN cities ON cities.facts_id = facts.id\n",
    "LIMIT 50;"
   ]
  },
  {
   "cell_type": "markdown",
   "metadata": {},
   "source": [
    "**Frage: Was würdet Ihr jetzt in der Tabelle erwarten?**"
   ]
  },
  {
   "cell_type": "code",
   "execution_count": null,
   "metadata": {
    "scrolled": true
   },
   "outputs": [],
   "source": [
    "%%sql \n",
    "SELECT\n",
    "    f.id,\n",
    "    f.name country,\n",
    "    f.population,\n",
    "    c.name\n",
    "FROM facts f\n",
    "LEFT JOIN cities c ON c.facts_id = f.id\n",
    "WHERE c.name IS NULL;"
   ]
  },
  {
   "cell_type": "code",
   "execution_count": null,
   "metadata": {},
   "outputs": [],
   "source": [
    "%%sql\n",
    "/* \n",
    "Hat der Kosovo keine Größen Städte oder fehlen dort einfach Daten in der cities Tabelle?\n",
    "*/\n",
    "\n",
    "SELECT *\n",
    "FROM cities\n",
    "WHERE facts_id = 92"
   ]
  },
  {
   "cell_type": "markdown",
   "metadata": {},
   "source": [
    "Wenn wir uns die Ergebnisse der Abfrage ansehen, können wir eine Reihe von **verschiedenen Gründen** erkennen, warum Länder keine entsprechenden Werte in Städten haben:\n",
    "\n",
    "- Länder mit kleiner Bevölkerung und/oder ohne größere städtische Gebiete (die als Länder mit einer Bevölkerung von mehr als 750.000 Einwohnern definiert sind), z. B. San Marino, Kosovo und Nauru.\n",
    "- Stadtstaaten, z. B. Monaco und Singapur.\n",
    "- Territorien, die selbst keine Länder sind, z. B. Hongkong, Gibraltar und die Cookinseln.\n",
    "- Regionen und Ozeane, die keine Länder sind, wie z. B. die Europäische Union und der Pazifische Ozean.\n",
    "- Echte Fälle fehlender Daten, wie z. B. Taiwan."
   ]
  },
  {
   "cell_type": "markdown",
   "metadata": {},
   "source": [
    "### RIGHT JOIN und OUTER JOIN"
   ]
  },
  {
   "cell_type": "markdown",
   "metadata": {},
   "source": [
    "Es gibt zwei weniger gebräuchliche Join-Typen, die von SQLite nicht unterstützt werden. Der erste ist ein **RIGHT JOIN**. Ein **RIGHT JOIN** ist, wie der Name schon sagt, genau das Gegenteil eines **LEFT JOIN** . Während der **LEFT JOIN**  alle Zeilen in der Tabelle vor der JOIN-Klausel einschließt, schließt der rechte Join alle Zeilen in der neuen Tabelle in der JOIN-Klausel ein."
   ]
  },
  {
   "cell_type": "code",
   "execution_count": null,
   "metadata": {},
   "outputs": [],
   "source": [
    "%%sql\n",
    "SELECT f.name country, c.name city\n",
    "FROM cities c\n",
    "RIGHT JOIN facts f ON f.id = c.facts_id\n",
    "LIMIT 5;"
   ]
  },
  {
   "cell_type": "markdown",
   "metadata": {},
   "source": [
    "Der andere Join-Typ, der von SQLite nicht unterstützt wird, ist ein **FULL OUTER JOIN**. Ein Full Outer Join schließt alle Zeilen aus den Tabellen auf beiden Seiten des Joins ein."
   ]
  },
  {
   "cell_type": "code",
   "execution_count": null,
   "metadata": {},
   "outputs": [],
   "source": [
    "%%sql\n",
    "SELECT f.name country, c.name city\n",
    "FROM cities c\n",
    "FULL OUTER JOIN facts f ON f.id = c.facts_id\n",
    "LIMIT 5;"
   ]
  },
  {
   "cell_type": "markdown",
   "metadata": {},
   "source": [
    "![Venn_Join](./src/factsbook_db_venn_joins.PNG)'"
   ]
  },
  {
   "cell_type": "markdown",
   "metadata": {},
   "source": [
    "Zuletzt kannst Du natürlich die Ergebnisse einer SQL-Abfrage in einer **neuen Tabelle speichern**, wenn Du viele weitere Abfragen darauf aufbauen möchtest. **Frage**: Wann kann das sinnvoll sein Redundante Daten zu haben?"
   ]
  },
  {
   "cell_type": "code",
   "execution_count": null,
   "metadata": {},
   "outputs": [],
   "source": [
    "%%sql\n",
    "CREATE TABLE special_country \n",
    "AS SELECT\n",
    "    f.name country,\n",
    "    f.population\n",
    "FROM facts f\n",
    "LEFT JOIN cities c ON c.facts_id = f.id\n",
    "WHERE c.name IS NULL;"
   ]
  },
  {
   "cell_type": "code",
   "execution_count": null,
   "metadata": {},
   "outputs": [],
   "source": [
    "%sql SELECT name FROM sqlite_master WHERE type ='table'; "
   ]
  },
  {
   "cell_type": "code",
   "execution_count": null,
   "metadata": {},
   "outputs": [],
   "source": [
    "%sql SELECT * FROM special_country LIMIT 10;"
   ]
  },
  {
   "cell_type": "markdown",
   "metadata": {},
   "source": [
    "![purple-divider](https://user-images.githubusercontent.com/7065401/52071927-c1cd7100-2562-11e9-908a-dde91ba14e59.png)"
   ]
  },
  {
   "cell_type": "markdown",
   "metadata": {},
   "source": [
    "## 5. Aufgaben zum Üben"
   ]
  },
  {
   "cell_type": "code",
   "execution_count": null,
   "metadata": {},
   "outputs": [],
   "source": [
    "import IPython.display"
   ]
  },
  {
   "cell_type": "markdown",
   "metadata": {},
   "source": [
    "**1. Erstelle eine Abfrage mit Ländern und ihren Hauptstädten aus unserer Datenbank. Tipp: Unser erster Schritt ist, darüber nachzudenken, welche Spalten wir in unserer endgültigen Abfrage benötigen.**"
   ]
  },
  {
   "cell_type": "code",
   "execution_count": null,
   "metadata": {},
   "outputs": [],
   "source": []
  },
  {
   "cell_type": "markdown",
   "metadata": {},
   "source": [
    "**2. Erstelle eine Abfrage, um die Hauptstädte und deren korrespondierenden Länder mit der größten Population zu identifizieren (ersten 10). Tipp: Für dieses Vorgehen brauchst Du zum einen JOIN, eine WHERE-Klausel und nach der Identifikation der richtigen Spalten den Operand [ORDER BY](https://www.sqlitetutorial.net/sqlite-order-by/)**"
   ]
  },
  {
   "cell_type": "code",
   "execution_count": null,
   "metadata": {},
   "outputs": [],
   "source": []
  },
  {
   "cell_type": "markdown",
   "metadata": {},
   "source": [
    "**3. Erstelle eine geordnete Liste von Ländern die die höchste Einwohner_pro_qm rate haben und zeige das Land, die Einwohneranzahl, die Fläche des Landes und die Einwohner_pro_qm**"
   ]
  },
  {
   "cell_type": "code",
   "execution_count": null,
   "metadata": {},
   "outputs": [],
   "source": []
  },
  {
   "cell_type": "markdown",
   "metadata": {},
   "source": [
    "**4. Berechne den Anteil der Einwohneranzahl der größten Städte pro land an der Gesamtbevölkerung**"
   ]
  },
  {
   "cell_type": "code",
   "execution_count": null,
   "metadata": {},
   "outputs": [],
   "source": []
  },
  {
   "cell_type": "markdown",
   "metadata": {},
   "source": [
    "**(OPTIONAL) 5. Erstelle eine Abfrage mit Nicht-Hauptstädte mit mehr als 10 Millionen Einwohnern inklusive der Länderinformationen. Diese Aufgabe erfordert das Problem, ähnlich einem Algorithmus erst einmal in mehrere Schritte zun unterteilen und mit [SUBQUERIES](https://www.tutorialspoint.com/sql/sql-sub-queries.htm) zu arbeiten.**"
   ]
  },
  {
   "cell_type": "code",
   "execution_count": null,
   "metadata": {},
   "outputs": [],
   "source": []
  },
  {
   "cell_type": "markdown",
   "metadata": {},
   "source": [
    "**Wenn Ihr Lust habt noch weiter einzusteigen, kann ich Euch z. B. diese Websiten / Artikel empfehlen:**\n",
    "- [Tutorial SQPoint](https://www.tutorialspoint.com/sqlite/)\n",
    "- [A Complete Guide to SQL for Data Science](https://pub.towardsai.net/a-complete-guide-to-sql-for-data-science-35743e73fd)\n",
    "\n",
    "Dies sind aber nur einige wenige von vielen Möglichkeiten, die Euch dabei helfen können zum SQL-Experten zu werden."
   ]
  }
 ],
 "metadata": {
  "kernelspec": {
   "display_name": "Python 3 (ipykernel)",
   "language": "python",
   "name": "python3"
  },
  "language_info": {
   "codemirror_mode": {
    "name": "ipython",
    "version": 3
   },
   "file_extension": ".py",
   "mimetype": "text/x-python",
   "name": "python",
   "nbconvert_exporter": "python",
   "pygments_lexer": "ipython3",
   "version": "3.10.4"
  }
 },
 "nbformat": 4,
 "nbformat_minor": 4
}
